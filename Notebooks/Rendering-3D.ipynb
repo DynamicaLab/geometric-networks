{
 "cells": [
  {
   "cell_type": "code",
   "execution_count": null,
   "id": "043f2483-ebe8-4e4d-a329-1d62a8637c3b",
   "metadata": {},
   "outputs": [],
   "source": [
    "import numpy as np\n",
    "from mayavi import mlab\n",
    "from scipy.ndimage import gaussian_filter\n",
    "from scipy.sparse import load_npz\n",
    "from tifffile import imread, imwrite\n",
    "from tvtk.util import ctf\n",
    "from matplotlib.pyplot import cm\n",
    "from tvtk.util.ctf import ColorTransferFunction, PiecewiseFunction"
   ]
  },
  {
   "cell_type": "markdown",
   "id": "f45b997a-c075-4e84-a43e-5666cbbaedc2",
   "metadata": {},
   "source": [
    "# 3D rendering using Mayavi"
   ]
  },
  {
   "cell_type": "markdown",
   "id": "5b27c2b5-10a4-4af6-b8ce-5b5185a965ac",
   "metadata": {},
   "source": [
    "This notebook is used to generate 3D images: the tectum mask rendering in Fig. 6**e** and the stacked imaging planes in Fig. 6**b**."
   ]
  },
  {
   "cell_type": "markdown",
   "id": "c22db9e9-ad9c-40e6-b01a-9188edd3480b",
   "metadata": {},
   "source": [
    "# 1. Rendering tectum mask"
   ]
  },
  {
   "cell_type": "markdown",
   "id": "e2ac6e12-deb4-4ea2-aa92-9382a0f3559f",
   "metadata": {},
   "source": [
    "#### Loading relevant data"
   ]
  },
  {
   "cell_type": "code",
   "execution_count": null,
   "id": "0e3a6d77-f56c-4379-b26e-f02a2b5503d6",
   "metadata": {},
   "outputs": [],
   "source": [
    "stack = imread('/home/anleg84/Documents/Atlas/Mapzebrain/H2B-GCaMP6s.tif')\n",
    "centroids = np.load('../Files/nodes_tectum_right_sampled.npy')\n",
    "masks = load_npz('/home/anleg84/Documents/Atlas/Mapzebrain/' + 'region_masks.npz')\n",
    "\n",
    "region_id = 22\n",
    "mask_full = np.flip(np.reshape(masks[:, region_id].toarray(), [359, 974, 597], order='C'), axis=0)\n",
    "mask_right = np.copy(mask_full)\n",
    "mask_right[:, :, :284] = 0\n",
    "mask = (mask_left > 0).astype('float')\n",
    "\n",
    "mask_wholebrain = imread('/home/anleg84/GitHub/Legare-2024-zebrafish-brain-networks/Data/mask_atlas.tif')\n",
    "mask_wholebrain = (mask_wholebrain > 0).astype('float')"
   ]
  },
  {
   "cell_type": "markdown",
   "id": "ef480b9b-6d1f-41e0-9156-b76f3cd77b19",
   "metadata": {},
   "source": [
    "mask_wholebrain_filtered = gaussian_filter(mask_wholebrain, (5, 5, 5))\n",
    "mask_wholebrain_ = (mask_wholebrain_filtered > 0.49).astype('float')"
   ]
  },
  {
   "cell_type": "markdown",
   "id": "81df9b51-8ed4-42aa-a4ac-ebfe4bfe1cd9",
   "metadata": {},
   "source": [
    "#### Swapping stack axes to get proper projection angle"
   ]
  },
  {
   "cell_type": "code",
   "execution_count": null,
   "id": "a51fae45-b72d-49ef-b50e-6cfc2b0478d6",
   "metadata": {},
   "outputs": [],
   "source": [
    "stack = np.swapaxes(stack, 0, 2)\n",
    "stack = np.flip(stack, axis=2)\n",
    "\n",
    "mask_wholebrain = np.swapaxes(mask_wholebrain, 0, 2)\n",
    "mask_wholebrain = np.flip(mask_wholebrain, axis=2)\n",
    "\n",
    "mask = np.swapaxes(mask, 0, 2)\n",
    "mask = np.flip(mask, axis=2)"
   ]
  },
  {
   "cell_type": "markdown",
   "id": "035559a2-2a7f-4580-986a-adaae17a2b93",
   "metadata": {},
   "source": [
    "#### Rendering scene"
   ]
  },
  {
   "cell_type": "code",
   "execution_count": null,
   "id": "24380ad9-033a-4e5c-9b3d-45a729bce5a3",
   "metadata": {},
   "outputs": [],
   "source": [
    "mlab.options.offscreen = False\n",
    "\n",
    "mlab.figure(bgcolor=(1, 1, 1), size=(1000, 1000))\n",
    "\n",
    "# Whole-brain mask\n",
    "contour_out = mlab.contour3d(mask_wholebrain, contours=[1.0], opacity=0.2, color=(1,1,1))\n",
    "\n",
    "# Tectum mask\n",
    "contour = mlab.contour3d(mask, contours=[1.0], opacity=0.5, color=(1,0,0))\n",
    "\n",
    "# Tectum nodes\n",
    "mlab.points3d(centroids[:, 0], centroids[:, 1], 359 - centroids[:, 2],\n",
    "                  scale_factor=7,\n",
    "                  color=(1, 0, 0),  # Red color for spheres\n",
    "                  mode='sphere',\n",
    "                  opacity=1.0)  # Adjust opacity for spheres\n",
    "\n",
    "# Stack in background\n",
    "cmap = 'binary'\n",
    "vmin = 50\n",
    "vmax = 255\n",
    "src = mlab.pipeline.scalar_field(stack)\n",
    "volume = mlab.pipeline.volume(src, vmin=vmin, vmax=vmax)\n",
    "\n",
    "# Adjusting stack colormap\n",
    "ctf = ColorTransferFunction()\n",
    "values_array = np.linspace(vmin, vmax, 128)\n",
    "values_cmap = np.linspace(0., 1, 128)\n",
    "color_mapping = np.append(np.expand_dims(values_array, axis=1), cm.get_cmap(cmap)(values_cmap)[:, :3], axis=1)\n",
    "for c in color_mapping:\n",
    "    ctf.add_rgb_point(c[0], c[1], c[2], c[3])\n",
    "volume._volume_property.set_color(ctf)\n",
    "volume._ctf = ctf\n",
    "\n",
    "# Adjusting stack opacity\n",
    "otf = PiecewiseFunction()\n",
    "otf.add_point(0, 0)\n",
    "otf.add_point(vmin-1, 0)\n",
    "otf.add_point(vmin, 0.01)\n",
    "otf.add_point(vmax, 0.01)\n",
    "volume._volume_property.set_scalar_opacity(otf)\n",
    "volume.update_ctf = True\n",
    "\n",
    "# Adjusting projection angle\n",
    "mlab.view(azimuth=-135, elevation=60, distance=2000)\n",
    "\n",
    "# Saving\n",
    "mlab.savefig(\"../Figures/rendering_tectum.png\", size=(2000, 2000))  \n",
    "mlab.show()"
   ]
  },
  {
   "cell_type": "markdown",
   "id": "79c408a3-ea7e-4a32-91b5-c956ade5df98",
   "metadata": {},
   "source": [
    "# 2. Rendering piezo imaging planes"
   ]
  },
  {
   "cell_type": "code",
   "execution_count": null,
   "id": "67863a46-750b-4975-892b-8e8bdfd0d980",
   "metadata": {},
   "outputs": [],
   "source": [
    "image_stack = np.load('../Results/figure6_imaging_planes.npy')"
   ]
  },
  {
   "cell_type": "markdown",
   "id": "2676b277-e75b-4365-ba25-b9d3ef9b2d7f",
   "metadata": {},
   "source": [
    "Interactive view"
   ]
  },
  {
   "cell_type": "code",
   "execution_count": null,
   "id": "64ab6914-ce02-48bb-a8bd-8ca9b38677aa",
   "metadata": {},
   "outputs": [],
   "source": [
    "mlab.options.offscreen = False\n",
    "\n",
    "mlab.figure(bgcolor=(1, 1, 1), size=(1000, 1000))\n",
    "\n",
    "opacities = [0.25] * (image_stack.shape[0])\n",
    "opacities[5] = 1\n",
    "\n",
    "for z, image in enumerate(image_stack):\n",
    "    x, y = np.meshgrid(np.arange(image.shape[1]), np.arange(image.shape[0]))\n",
    "    mesh = mlab.mesh(x, y, np.ones_like(image) * 100 * -z, scalars=image, colormap=\"gray\", opacity=opacities[z])\n",
    "\n",
    "    vmin, vmax = 0, 15000\n",
    "    mesh.module_manager.scalar_lut_manager.data_range = (vmin, vmax)\n",
    "\n",
    "mlab.view(azimuth=45, elevation=60, distance=4000)\n",
    "\n",
    "mlab.show()"
   ]
  },
  {
   "cell_type": "markdown",
   "id": "a2ea5367-a342-44f2-b3e3-4e8adfb2e62d",
   "metadata": {},
   "source": [
    "Saving image"
   ]
  },
  {
   "cell_type": "code",
   "execution_count": null,
   "id": "801ce925-2599-4c90-896d-07afddc8d7fd",
   "metadata": {},
   "outputs": [],
   "source": [
    "mlab.options.offscreen = True\n",
    "\n",
    "mlab.figure(bgcolor=(1, 1, 1), size=(1000, 1000))\n",
    "\n",
    "opacities = [0.25] * (image_stack.shape[0])\n",
    "opacities[5] = 1\n",
    "\n",
    "for z, image in enumerate(image_stack):\n",
    "    x, y = np.meshgrid(np.arange(image.shape[1]), np.arange(image.shape[0]))\n",
    "    mesh = mlab.mesh(x, y, np.ones_like(image) * 100 * -z, scalars=image, colormap=\"gray\", opacity=opacities[z])\n",
    "\n",
    "    vmin, vmax = 0, 15000\n",
    "    mesh.module_manager.scalar_lut_manager.data_range = (vmin, vmax)\n",
    "\n",
    "mlab.view(azimuth=45, elevation=60, distance=4000)\n",
    "\n",
    "mlab.savefig(\"../Figures/rendering_planes.png\", size=(2000, 2000))  "
   ]
  },
  {
   "cell_type": "code",
   "execution_count": null,
   "id": "46fdeb76-ca71-4a8d-938a-9cda05b8ff6c",
   "metadata": {},
   "outputs": [],
   "source": []
  }
 ],
 "metadata": {
  "kernelspec": {
   "display_name": "Python 3 (ipykernel)",
   "language": "python",
   "name": "python3"
  },
  "language_info": {
   "codemirror_mode": {
    "name": "ipython",
    "version": 3
   },
   "file_extension": ".py",
   "mimetype": "text/x-python",
   "name": "python",
   "nbconvert_exporter": "python",
   "pygments_lexer": "ipython3",
   "version": "3.9.19"
  }
 },
 "nbformat": 4,
 "nbformat_minor": 5
}
