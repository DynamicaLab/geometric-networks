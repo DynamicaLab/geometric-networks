{
 "cells": [
  {
   "cell_type": "markdown",
   "id": "ae09e219-b3f4-4449-8403-5d555e793352",
   "metadata": {},
   "source": [
    "# Supplementary - Mode variograms"
   ]
  },
  {
   "cell_type": "markdown",
   "id": "9430157d-e317-42ba-b082-bd30bf6a2a14",
   "metadata": {},
   "source": [
    "Related to Supplementary Figure S5."
   ]
  },
  {
   "cell_type": "code",
   "execution_count": null,
   "id": "2628f09d-e092-4eef-9950-9601167a094b",
   "metadata": {},
   "outputs": [],
   "source": [
    "import sys\n",
    "sys.path.append(\"..\")\n",
    "\n",
    "from main import *\n",
    "from visualization import *"
   ]
  },
  {
   "cell_type": "markdown",
   "id": "02d6cbe2-968d-44af-a393-023a6eaead4c",
   "metadata": {},
   "source": [
    "# Loading data"
   ]
  },
  {
   "cell_type": "markdown",
   "id": "5feee735-0d73-462e-8eed-dcec019be42d",
   "metadata": {},
   "source": [
    "Variograms were computed prior in the `Figure3-Analysis.ipynb` notebook."
   ]
  },
  {
   "cell_type": "code",
   "execution_count": null,
   "id": "c3421c0f-e6f1-45ea-8b99-8f9007624938",
   "metadata": {},
   "outputs": [],
   "source": [
    "variograms = np.load('../Results/mode_variograms.npy') \n",
    "wavelengths = np.load('../Results/mode_wavelengths.npy')"
   ]
  },
  {
   "cell_type": "code",
   "execution_count": null,
   "id": "40189ceb-44ff-40ea-94b7-7adb53ac408a",
   "metadata": {},
   "outputs": [],
   "source": [
    "vertices = np.load('../Files/vertices_ellipse.npy').astype('float')\n",
    "eigenmodes = np.load('../Files/eigenmodes_ellipse.npy')\n",
    "\n",
    "geometry = Geometry(vertices, eigenmodes)\n",
    "geometry.vertices -= np.mean(geometry.vertices, axis=0)\n",
    "vertices = geometry.vertices\n",
    "eigenmodes = geometry.eigenmodes\n",
    "#vertices = geometry.vertices"
   ]
  },
  {
   "cell_type": "markdown",
   "id": "afcf2c8c-4ed6-4a2f-a589-81e667e60055",
   "metadata": {},
   "source": [
    "Generating RGB arrays of the 3D scatter plots for easier handling in the multipanel figure below."
   ]
  },
  {
   "cell_type": "code",
   "execution_count": null,
   "id": "836169ee-0276-47df-b81d-aa0a051053f1",
   "metadata": {},
   "outputs": [],
   "source": [
    "figs_ellipse_eigenmodes = []\n",
    "for i in range(10):\n",
    "    fig, ax = plt.subplots(subplot_kw={\"projection\": \"3d\"}, figsize=(5, 5), dpi=300)\n",
    "    ax.scatter(vertices[:, 0], vertices[:, 1], vertices[:, 2], c=eigenmodes[i+1], alpha=0.5, cmap='coolwarm', edgecolor='None')\n",
    "    ax.set_xlim([-0.5, 0.5])\n",
    "    ax.set_ylim([-0.5, 0.5])\n",
    "    ax.set_zlim([-0.5, 0.5])\n",
    "    ax.set_axis_off()\n",
    "    plt.tight_layout(pad=0)\n",
    "    figs_ellipse_eigenmodes.append(figure_to_array(fig))\n",
    "    plt.close()"
   ]
  },
  {
   "cell_type": "code",
   "execution_count": null,
   "id": "2f554757-1e70-4549-9edc-948bccd9f765",
   "metadata": {},
   "outputs": [],
   "source": [
    "plt.imshow(figs_ellipse_eigenmodes[0])"
   ]
  },
  {
   "cell_type": "markdown",
   "id": "8089dc39-0bca-4e4d-98b6-625cb4f710b9",
   "metadata": {},
   "source": [
    "# Generating supplementary figure"
   ]
  },
  {
   "cell_type": "code",
   "execution_count": null,
   "id": "c9a769ba-5a20-44b9-adeb-1cb62b6af1d9",
   "metadata": {},
   "outputs": [],
   "source": [
    "def zoom_crop(array, factor=2, x_offset=0, y_offset=0):\n",
    "    if factor != 1:\n",
    "        L = array.shape[0]\n",
    "        delta = int((1 - (1 / factor)) * L / 2)\n",
    "        return array[delta+y_offset:-delta+y_offset, delta+x_offset:-delta+x_offset, :]\n",
    "    else:\n",
    "        return array"
   ]
  },
  {
   "cell_type": "code",
   "execution_count": null,
   "id": "9d57918d-901c-4f57-adec-8c1104d98eca",
   "metadata": {},
   "outputs": [],
   "source": [
    "x = np.linspace(0, 1, 60, endpoint=True)\n",
    "x = x[:-1] + (x[1] - x[0]) / 2"
   ]
  },
  {
   "cell_type": "code",
   "execution_count": null,
   "id": "2569769a-ce06-4595-90f7-ec37497a6508",
   "metadata": {},
   "outputs": [],
   "source": [
    "fig = PaperFigure(figsize=(7, 5))\n",
    "\n",
    "fig.set_tick_length(2)\n",
    "fig.set_font_size(6)\n",
    "fig.add_background()\n",
    "\n",
    "w = 1\n",
    "pad = (7 - 5 * w) / 4\n",
    "for i in range(5):\n",
    "    fig.add_axes('mode{}'.format(i), (i * (w + pad), 0), w, w)\n",
    "    fig.add_axes('variogram{}'.format(i), (i * (w + pad), w), w, 0.6 * w)\n",
    "    fig.add_axes('mode{}'.format(i+5), (i * (w + pad), 2*w + pad/2), w, w)\n",
    "    fig.add_axes('variogram{}'.format(i+5), (i * (w + pad), 3*w + pad/2), w, 0.6 * w)\n",
    "\n",
    "fig.set_line_thickness(0.6)\n",
    "\n",
    "# --------------------------------------------------------------------------------------------------\n",
    "\n",
    "\n",
    "for i in range(10):\n",
    "\n",
    "    ax = fig.axes[f'mode{i}']\n",
    "    ax.imshow(zoom_crop(figs_ellipse_eigenmodes[i], factor=1.75))\n",
    "    ax.axis('off')\n",
    "\n",
    "    ax = fig.axes[f'variogram{i}']\n",
    "    #ax.plot(x, variograms[i+1] / np.nanmax(variograms[i+1]), color='black', linewidth=0.75)\n",
    "    ax.fill_between(x, 0, variograms[i+1] / np.nanmax(variograms[i+1]), color='gray', linewidth=0.75, edgecolor='None')\n",
    "    ax.axvline(wavelengths[i+1] / 2, color='red', linewidth=0.75)\n",
    "    ax.set_xlim([0, 1])\n",
    "    ax.set_ylim([0, 1])\n",
    "    ax.set_yticks([0, 1])\n",
    "    ax.spines[['top', 'right']].set_visible(False)\n",
    "\n",
    "fig.show()"
   ]
  },
  {
   "cell_type": "code",
   "execution_count": null,
   "id": "46602a25-a024-4ca9-a538-07ffc39b4b35",
   "metadata": {},
   "outputs": [],
   "source": [
    "fig.save('../Figures/supp_variograms_incomplete.svg')"
   ]
  },
  {
   "cell_type": "markdown",
   "id": "e01e25a6-1284-4a0c-b373-82ed706cb86c",
   "metadata": {},
   "source": [
    "#### Manually annotating the wavelengths"
   ]
  },
  {
   "cell_type": "code",
   "execution_count": null,
   "id": "a7bd826c-44aa-4829-aec3-d452872ec625",
   "metadata": {},
   "outputs": [],
   "source": [
    "print(wavelengths)"
   ]
  },
  {
   "cell_type": "code",
   "execution_count": null,
   "id": "63cca706-4077-4e97-aaef-bdba7e4d2102",
   "metadata": {},
   "outputs": [],
   "source": []
  }
 ],
 "metadata": {
  "kernelspec": {
   "display_name": "Python 3 (ipykernel)",
   "language": "python",
   "name": "python3"
  },
  "language_info": {
   "codemirror_mode": {
    "name": "ipython",
    "version": 3
   },
   "file_extension": ".py",
   "mimetype": "text/x-python",
   "name": "python",
   "nbconvert_exporter": "python",
   "pygments_lexer": "ipython3",
   "version": "3.9.19"
  }
 },
 "nbformat": 4,
 "nbformat_minor": 5
}
