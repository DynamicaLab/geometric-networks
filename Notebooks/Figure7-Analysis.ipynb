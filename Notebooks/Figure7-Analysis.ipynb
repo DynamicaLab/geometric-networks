{
 "cells": [
  {
   "cell_type": "markdown",
   "id": "9e74b9dd-349e-4205-b339-546e0b8648cb",
   "metadata": {},
   "source": [
    "# Figure 7 - Analysis"
   ]
  },
  {
   "cell_type": "code",
   "execution_count": null,
   "id": "ffabd445-1332-48a9-ad5c-9885e7b8c431",
   "metadata": {},
   "outputs": [],
   "source": [
    "import sys\n",
    "sys.path.append(\"..\")\n",
    "\n",
    "from main import *\n",
    "from zebrafish import *\n",
    "from visualization import *\n",
    "\n",
    "from scipy.stats import zscore"
   ]
  },
  {
   "cell_type": "markdown",
   "id": "0638bd76-6d13-45c5-828c-425c53a285bd",
   "metadata": {},
   "source": [
    "# Computing geometric mapping cutoff point"
   ]
  },
  {
   "cell_type": "markdown",
   "id": "f1002089-7b96-4ba2-a941-e17fb5719c8d",
   "metadata": {},
   "source": [
    "#### Computing mode wavelengths using their variograms"
   ]
  },
  {
   "cell_type": "code",
   "execution_count": null,
   "id": "9802efaf-7653-4908-b2f0-e19188bf93b6",
   "metadata": {},
   "outputs": [],
   "source": [
    "vertices = np.load('../Files/tectum_vertices_right.npy') * 40 # Rescaling the coordinates\n",
    "vertices = np.stack([vertices[:, 2], vertices[:, 1], vertices[:, 0]], axis=1)\n",
    "eigenmodes = np.load('../Files/tectum_eigenmodes_right.npy')[1:]"
   ]
  },
  {
   "cell_type": "code",
   "execution_count": null,
   "id": "3d4185b9-7f9c-417a-bedf-ee0b8333df37",
   "metadata": {},
   "outputs": [],
   "source": [
    "compute = False\n",
    "\n",
    "if compute:\n",
    "    bins = np.linspace(0, 300, 60, endpoint=True)\n",
    "    wavelengths, variograms = [], []\n",
    "    for i in tqdm(range(eigenmodes.shape[0])):\n",
    "        variogram = compute_variogram(vertices, zscore(eigenmodes[i]), bins=bins, subsample=2500)\n",
    "        variograms.append(variogram)\n",
    "        wavelengths.append(get_wavelength(variogram, bins))\n",
    "    np.save('../Results/wavelengths_tectum.npy', wavelengths)\n",
    "else:\n",
    "    wavelengths = np.load('../Results/wavelengths_tectum.npy')"
   ]
  },
  {
   "cell_type": "code",
   "execution_count": null,
   "id": "fb7b0f0e-888b-446b-b8b9-b20c9b4fc06e",
   "metadata": {},
   "outputs": [],
   "source": [
    "half_wavelengths = np.array(wavelengths) / 2"
   ]
  },
  {
   "cell_type": "markdown",
   "id": "04c4a24c-12b1-47eb-a2b0-330917c88da7",
   "metadata": {},
   "source": [
    "#### Evaluating cutoff point in mode correlations"
   ]
  },
  {
   "cell_type": "code",
   "execution_count": null,
   "id": "c95bdba1-437f-466c-a98f-555b2946e465",
   "metadata": {},
   "outputs": [],
   "source": [
    "from scipy.optimize import curve_fit\n",
    "\n",
    "def compute_r_squared(y_data, y_model):\n",
    "    ss_res = np.sum((y_data - y_model) ** 2)  # Residual sum of squares\n",
    "    ss_tot = np.sum((y_data - np.mean(y_data)) ** 2)  # Total sum of squares\n",
    "    r_squared = 1 - (ss_res / ss_tot)\n",
    "    return r_squared\n",
    "\n",
    "def piecewise_linear(x, x_break, slope, intercept):\n",
    "    y1 = slope * (x - x_break) + intercept\n",
    "    y2 = intercept\n",
    "    return np.where(x < x_break, y1, y2)"
   ]
  },
  {
   "cell_type": "markdown",
   "id": "470300ec-71fd-4ea0-aeae-775a783eef78",
   "metadata": {},
   "source": [
    "#### Fitting a piecewise linear function to estimate cutoff point"
   ]
  },
  {
   "cell_type": "code",
   "execution_count": null,
   "id": "dd055a70-cebb-4730-b8fa-5a64a14570d8",
   "metadata": {},
   "outputs": [],
   "source": [
    "mode_similarity = np.load('../Results/figure7_similarity_matrix_50.npy')"
   ]
  },
  {
   "cell_type": "code",
   "execution_count": null,
   "id": "4ef811ad-8681-49a2-8015-2defe51c3eea",
   "metadata": {},
   "outputs": [],
   "source": [
    "diagonal = np.diag(np.abs(mode_similarity))"
   ]
  },
  {
   "cell_type": "code",
   "execution_count": null,
   "id": "a2e8c6cb-3231-4209-bacd-bb87defdd9e6",
   "metadata": {},
   "outputs": [],
   "source": [
    "x = np.arange(len(diagonal))\n",
    "y = diagonal"
   ]
  },
  {
   "cell_type": "code",
   "execution_count": null,
   "id": "7e20cf22-11ea-4643-8526-25e2daa7053f",
   "metadata": {},
   "outputs": [],
   "source": [
    "initial_guess = [30, -1, 0]\n",
    "params, _ = curve_fit(piecewise_linear, x, y, p0=initial_guess)"
   ]
  },
  {
   "cell_type": "code",
   "execution_count": null,
   "id": "cf804485-9225-46b1-aba1-4032c0534758",
   "metadata": {},
   "outputs": [],
   "source": [
    "print(params)"
   ]
  },
  {
   "cell_type": "code",
   "execution_count": null,
   "id": "08494365-c77d-4b9c-86ea-d538ee86e798",
   "metadata": {},
   "outputs": [],
   "source": [
    "plt.plot(x, y)\n",
    "plt.plot(x, piecewise_linear(x, params[0], params[1], params[2]))"
   ]
  },
  {
   "cell_type": "code",
   "execution_count": null,
   "id": "abfa415a-e1c5-418e-82df-5c0044f8d4fd",
   "metadata": {},
   "outputs": [],
   "source": [
    "rsquared_piecewise = compute_r_squared(diagonal, piecewise_linear(x, params[0], params[1], params[2]))"
   ]
  },
  {
   "cell_type": "code",
   "execution_count": null,
   "id": "9f6f17d9-5fc6-43f9-96f3-7cf873583992",
   "metadata": {},
   "outputs": [],
   "source": [
    "np.save('../Results/figure7_diagonal_correlations.npy', diagonal)\n",
    "np.save('../Results/figure7_piecewise_fit.npy', piecewise_linear(x, params[0], params[1], params[2]))"
   ]
  },
  {
   "cell_type": "markdown",
   "id": "32fe2e62-3fda-4aa6-ab42-034e8a474e41",
   "metadata": {},
   "source": [
    "# Analyzing single-cell morphologies"
   ]
  },
  {
   "cell_type": "code",
   "execution_count": null,
   "id": "74311813-8e84-4da5-a197-21174d50b06b",
   "metadata": {},
   "outputs": [],
   "source": [
    "def values_to_colormap(values, cmap='viridis'):\n",
    "    norm = plt.Normalize(vmin=np.min(values), vmax=np.max(values))\n",
    "    colormap = plt.get_cmap(cmap)\n",
    "    colors = [colormap(norm(value))[:3] for value in values]\n",
    "    return colors"
   ]
  },
  {
   "cell_type": "code",
   "execution_count": null,
   "id": "ef77cb0a-b76a-4874-a7c5-cdf1069d958e",
   "metadata": {},
   "outputs": [],
   "source": [
    "atlas_path = '/home/anleg84/Documents/Atlas/Mapzebrain/'\n",
    "atlas = Mapzebrain(atlas_path)\n",
    "\n",
    "neurons = Neurons(atlas) # Class that loads all neuron morphologies"
   ]
  },
  {
   "cell_type": "code",
   "execution_count": null,
   "id": "a094394e-0c6b-47f6-9f1f-b14cb2ec9a9f",
   "metadata": {},
   "outputs": [],
   "source": [
    "somas = atlas.trim_centroids(neurons.somas) # Make sure the coordinates are within the atlas XYZ field of view\n",
    "somas = np.round(somas).astype('int')"
   ]
  },
  {
   "cell_type": "code",
   "execution_count": null,
   "id": "7dd45da4-2cd7-4a20-b8cc-d044edfcaeb2",
   "metadata": {},
   "outputs": [],
   "source": [
    "mask_tectum = atlas.get_region_mask(22)\n",
    "mask_neuropil = atlas.get_region_mask(17)"
   ]
  },
  {
   "cell_type": "code",
   "execution_count": null,
   "id": "cfd52832-13e1-44d2-91fa-c83c842321d1",
   "metadata": {},
   "outputs": [],
   "source": [
    "neurons_in_tectum = np.where(mask_tectum[somas[:, 2], somas[:, 1], somas[:, 0]] > 0)[0]"
   ]
  },
  {
   "cell_type": "markdown",
   "id": "71a5fea9-5d5f-429b-bdd4-8cfbfe89114f",
   "metadata": {},
   "source": [
    "Plotting tectal neuron morphologies"
   ]
  },
  {
   "cell_type": "code",
   "execution_count": null,
   "id": "d385b43a-093d-4e3a-a2cb-cbbe900434ff",
   "metadata": {},
   "outputs": [],
   "source": [
    "#colors = generate_n_colors(10) * 1000\n",
    "colors = values_to_colormap(somas[neurons_in_tectum, 1], cmap='rainbow') # Coloring neurons based on their antero-posterior location\n",
    "\n",
    "fig, ax = plt.subplots(figsize=(10, 7))\n",
    "\n",
    "ax.imshow(atlas.XYprojection, cmap='gray', alpha=0)\n",
    "ax.axis('off')\n",
    "for j, i in enumerate(neurons_in_tectum):\n",
    "    neurons.plot_top(ax, i, color=colors[j], alpha=0.5, soma_size=5)\n",
    "\n",
    "#ax.set_xlim([70, 500])\n",
    "#ax.set_ylim([500, 250])\n",
    "plt.tight_layout(pad=0)\n",
    "plt.show()"
   ]
  },
  {
   "cell_type": "code",
   "execution_count": null,
   "id": "993e5798-cd77-4113-a62c-877731b589ab",
   "metadata": {},
   "outputs": [],
   "source": [
    "#colors = generate_n_colors(10) * 1000\n",
    "colors = values_to_colormap(somas[neurons_in_tectum, 1], cmap='rainbow')\n",
    "\n",
    "fig, ax = plt.subplots(figsize=(10, 7))\n",
    "\n",
    "ax.imshow(atlas.XYprojection, cmap='gray', alpha=0)\n",
    "ax.axis('off')\n",
    "for j, i in enumerate(neurons_in_tectum):\n",
    "    neurons.plot_top(ax, i, color=colors[j], alpha=0.5, soma_size=50)\n",
    "\n",
    "ax.set_xlim([70, 500])\n",
    "ax.set_ylim([500, 250])\n",
    "plt.tight_layout(pad=0)\n",
    "plt.show()"
   ]
  },
  {
   "cell_type": "markdown",
   "id": "d99f020e-c87e-48dc-b74e-87b0d4fca660",
   "metadata": {},
   "source": [
    "# Comparing morphologies with cutoff point"
   ]
  },
  {
   "cell_type": "markdown",
   "id": "1fbff798-f767-481e-968e-463f5af22f57",
   "metadata": {},
   "source": [
    "#### Loading linear fit data from tectal simulations and predicting connectivity radius"
   ]
  },
  {
   "cell_type": "code",
   "execution_count": null,
   "id": "5d6e28d3-9c89-4a0b-87a7-7e08d9ff3269",
   "metadata": {},
   "outputs": [],
   "source": [
    "x = np.load('../Results/supp_tectum_cutoff_x2.npy')\n",
    "y = np.load('../Results/supp_tectum_cutoff_y2.npy')"
   ]
  },
  {
   "cell_type": "code",
   "execution_count": null,
   "id": "fe4a2f75-353d-43ba-ad20-8bc4649921ea",
   "metadata": {},
   "outputs": [],
   "source": [
    "(a, b), CI_a, CI_b = linear_regression_with_confidence_interval(x, y, n_iter=100000)"
   ]
  },
  {
   "cell_type": "code",
   "execution_count": null,
   "id": "867d56a7-2e64-40ef-8967-a3737b8340f6",
   "metadata": {},
   "outputs": [],
   "source": [
    "cutoff_wavelength = wavelengths[cutoff]"
   ]
  },
  {
   "cell_type": "code",
   "execution_count": null,
   "id": "82743554-f530-43c3-adc4-6b52e6770520",
   "metadata": {},
   "outputs": [],
   "source": [
    "print(cutoff_wavelength)"
   ]
  },
  {
   "cell_type": "code",
   "execution_count": null,
   "id": "0294bbe9-1612-485c-8968-121b9f7aaa26",
   "metadata": {},
   "outputs": [],
   "source": [
    "predicted_radius = (cutoff_wavelength - b) / a\n",
    "print(predicted_radius)"
   ]
  },
  {
   "cell_type": "code",
   "execution_count": null,
   "id": "ccbcb7a5-0555-429a-ad4f-54eaf181af6b",
   "metadata": {},
   "outputs": [],
   "source": [
    "radius_upper = (cutoff_wavelength - CI_b[0]) / CI_a[0]\n",
    "radius_lower = (cutoff_wavelength - CI_b[1]) / CI_a[1]"
   ]
  },
  {
   "cell_type": "code",
   "execution_count": null,
   "id": "afafe8ff-5c42-4001-b149-dce856029d95",
   "metadata": {},
   "outputs": [],
   "source": [
    "print(radius_lower)"
   ]
  },
  {
   "cell_type": "code",
   "execution_count": null,
   "id": "d085cc6e-c82b-479b-ab62-666c69168c4d",
   "metadata": {},
   "outputs": [],
   "source": [
    "print(radius_upper)"
   ]
  },
  {
   "cell_type": "markdown",
   "id": "52a22329-2c36-4fc6-a1a1-b0fc1a5f3b71",
   "metadata": {},
   "source": [
    "#### Method #1: Measuring arborescence radius"
   ]
  },
  {
   "cell_type": "code",
   "execution_count": null,
   "id": "98cce1aa-7c1b-4746-9e7e-00de481f531b",
   "metadata": {},
   "outputs": [],
   "source": [
    "d = np.random.uniform(0, 1, (50, 3))"
   ]
  },
  {
   "cell_type": "code",
   "execution_count": null,
   "id": "af398052-01d0-4fd9-ba9c-5aaca742e9e2",
   "metadata": {},
   "outputs": [],
   "source": [
    "radii = []\n",
    "for i in tqdm(neurons_in_tectum):\n",
    "    terminals = neurons.terminals[neurons.ids_terminals == i]\n",
    "    c = np.round(terminals).astype('int')\n",
    "    terminals_in_neuropil = np.where(mask_neuropil[c[:, 2], c[:, 1], c[:, 0]] > 0)[0]\n",
    "    if np.any(terminals_in_neuropil):\n",
    "        centroids = c[terminals_in_neuropil]\n",
    "        center_of_mass = np.mean(centroids, axis=0)\n",
    "        distances = np.sqrt(np.sum((centroids - center_of_mass) ** 2, axis=1))\n",
    "        radius = np.percentile(distances, 95)\n",
    "        radii.append(radius)\n",
    "    else:\n",
    "        radii.append(0)\n",
    "\n",
    "radii = np.array(radii)[np.array(radii) >= 2]"
   ]
  },
  {
   "cell_type": "code",
   "execution_count": null,
   "id": "0bc1c2f8-a6c5-4a24-aa81-69591ba04190",
   "metadata": {},
   "outputs": [],
   "source": [
    "print(np.median(np.array(radii) * 2))"
   ]
  },
  {
   "cell_type": "markdown",
   "id": "826d1170-6075-44b3-8877-cb151c78691e",
   "metadata": {},
   "source": [
    "Plotting radius distribution along with predicted radius"
   ]
  },
  {
   "cell_type": "code",
   "execution_count": null,
   "id": "6aea275f-ffc2-4bc8-bb2c-a9a1db8bb5ec",
   "metadata": {},
   "outputs": [],
   "source": [
    "fig, ax = plt.subplots(figsize=(4, 2), dpi=150)\n",
    "plt.hist(np.array(radii) * 2, bins=50, density=True, color='black')\n",
    "ax.axvline(predicted_radius, color='red')\n",
    "ax.spines[['top', 'right']].set_visible(False)\n",
    "ax.set_xlabel('Connectivity radius (microns)')\n",
    "ax.set_ylabel('Density')\n",
    "ax.set_xlim([0, 300])\n",
    "plt.show()"
   ]
  },
  {
   "cell_type": "code",
   "execution_count": null,
   "id": "31814a07-7333-47e7-af20-767da31a83e2",
   "metadata": {},
   "outputs": [],
   "source": [
    "np.save('../Results/figure7_predicted_radius.npy', predicted_radius)\n",
    "np.save('../Results/figure7_predicted_radius_interval.npy', [radius_lower, radius_upper])\n",
    "np.save('../Results/figure7_connectivity_radii_method1.npy', np.array(radii) * 2)"
   ]
  },
  {
   "cell_type": "markdown",
   "id": "8f49191b-472e-49e5-a61c-91634c7ca34f",
   "metadata": {},
   "source": [
    "#### Method #2: Pseudo-synaptic partners"
   ]
  },
  {
   "cell_type": "code",
   "execution_count": null,
   "id": "84c0b330-46f5-4b80-94ba-88f96632508f",
   "metadata": {},
   "outputs": [],
   "source": [
    "N = len(neurons_in_tectum)"
   ]
  },
  {
   "cell_type": "code",
   "execution_count": null,
   "id": "58c97878-7001-410a-9ef5-4eecb290cdca",
   "metadata": {},
   "outputs": [],
   "source": [
    "connected = np.zeros((N, N))\n",
    "for i, n1 in tqdm(enumerate(neurons_in_tectum)):\n",
    "    for j, n2 in enumerate(neurons_in_tectum):\n",
    "        if i != j:\n",
    "            t1 = np.round(neurons.terminals[neurons.ids_terminals == n1]).astype('int')\n",
    "            t2 = np.round(neurons.terminals[neurons.ids_terminals == n2]).astype('int')\n",
    "            distances = compute_distances(t1, t2)\n",
    "            if np.any(distances <= 5):\n",
    "                connected[i, j] = 1"
   ]
  },
  {
   "cell_type": "code",
   "execution_count": null,
   "id": "30d70c51-4be7-4f91-9a12-80b71995627b",
   "metadata": {},
   "outputs": [],
   "source": [
    "somas = neurons.somas[neurons_in_tectum]"
   ]
  },
  {
   "cell_type": "code",
   "execution_count": null,
   "id": "7ee948a5-cd41-4400-9b1c-2f6ba63e0c2c",
   "metadata": {},
   "outputs": [],
   "source": [
    "distances = compute_distances(somas, somas)"
   ]
  },
  {
   "cell_type": "code",
   "execution_count": null,
   "id": "48f2e4c5-945a-43b4-a8a7-99162dad4f7c",
   "metadata": {},
   "outputs": [],
   "source": [
    "triangle = np.triu_indices(N, 1)\n",
    "\n",
    "connected_distances = distances[triangle][connected[triangle] > 0]"
   ]
  },
  {
   "cell_type": "code",
   "execution_count": null,
   "id": "8f4d54a4-343d-4dd1-ab09-3289b405b866",
   "metadata": {},
   "outputs": [],
   "source": [
    "fig, ax = plt.subplots(figsize=(4, 2), dpi=150)\n",
    "plt.hist(connected_distances, bins=50, density=True, color='black')\n",
    "ax.axvline(predicted_radius, color='red')\n",
    "ax.spines[['top', 'right']].set_visible(False)\n",
    "ax.set_xlabel('Connectivity radius (microns)')\n",
    "ax.set_ylabel('Density')\n",
    "plt.show()"
   ]
  },
  {
   "cell_type": "code",
   "execution_count": null,
   "id": "d0787ea5-e633-48e5-94fe-5a0deb61558f",
   "metadata": {},
   "outputs": [],
   "source": [
    "C = connected * distances"
   ]
  },
  {
   "cell_type": "code",
   "execution_count": null,
   "id": "30a3912a-1f98-4447-ba4c-03a53baf3cf3",
   "metadata": {},
   "outputs": [],
   "source": [
    "connected_radii = np.percentile(C, 95, axis=1)\n",
    "connected_radii = connected_radii[connected_radii > 0]"
   ]
  },
  {
   "cell_type": "code",
   "execution_count": null,
   "id": "9ad3fa96-1752-4533-8693-3cc958480f9f",
   "metadata": {},
   "outputs": [],
   "source": [
    "np.mean(connected_radii)"
   ]
  },
  {
   "cell_type": "code",
   "execution_count": null,
   "id": "a16589bf-532a-45c6-a41b-ccca319ed636",
   "metadata": {},
   "outputs": [],
   "source": [
    "fig, ax = plt.subplots(figsize=(4, 2), dpi=150)\n",
    "plt.hist(connected_radii, bins=20, density=True, color='black')\n",
    "ax.axvline(predicted_radius, color='red')\n",
    "ax.spines[['top', 'right']].set_visible(False)\n",
    "ax.set_xlabel('Connectivity radius (microns)')\n",
    "ax.set_ylabel('Density')\n",
    "ax.set_ylim([0, 0.02])\n",
    "ax.set_xlim([0, 300])\n",
    "plt.show()"
   ]
  },
  {
   "cell_type": "code",
   "execution_count": null,
   "id": "df616fa1-f0a1-4edc-a0fc-5aab1b74c063",
   "metadata": {},
   "outputs": [],
   "source": [
    "np.save('../Results/figure7_connectivity_radii_method2.npy', connected_radii)"
   ]
  },
  {
   "cell_type": "code",
   "execution_count": null,
   "id": "d90841bb-42f2-4b4d-bb2d-b83f9696e304",
   "metadata": {},
   "outputs": [],
   "source": []
  }
 ],
 "metadata": {
  "kernelspec": {
   "display_name": "Python 3 (ipykernel)",
   "language": "python",
   "name": "python3"
  },
  "language_info": {
   "codemirror_mode": {
    "name": "ipython",
    "version": 3
   },
   "file_extension": ".py",
   "mimetype": "text/x-python",
   "name": "python",
   "nbconvert_exporter": "python",
   "pygments_lexer": "ipython3",
   "version": "3.9.19"
  }
 },
 "nbformat": 4,
 "nbformat_minor": 5
}
