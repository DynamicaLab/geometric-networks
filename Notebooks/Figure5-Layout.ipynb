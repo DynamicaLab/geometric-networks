{
 "cells": [
  {
   "cell_type": "markdown",
   "id": "663f14b5-f886-4d6c-857d-a51fe83d0bc9",
   "metadata": {},
   "source": [
    "# Figure 5 - Layout"
   ]
  },
  {
   "cell_type": "code",
   "execution_count": null,
   "id": "7ee7c1e2-acae-4b6c-aa16-14a1cbb1c90f",
   "metadata": {},
   "outputs": [],
   "source": [
    "import sys\n",
    "sys.path.append(\"..\")\n",
    "\n",
    "from main import *\n",
    "from visualization import *\n",
    "\n",
    "from scipy.stats import zscore\n",
    "from scipy.ndimage import gaussian_filter1d"
   ]
  },
  {
   "cell_type": "markdown",
   "id": "6bab425a-4d75-40ee-89e3-b3b45600e244",
   "metadata": {},
   "source": [
    "# Loading data"
   ]
  },
  {
   "cell_type": "code",
   "execution_count": null,
   "id": "211cbc3f-413b-4f03-9086-5635c908c1ea",
   "metadata": {},
   "outputs": [],
   "source": [
    "timeseries, correlations = [], []\n",
    "for i in range(4):\n",
    "    timeseries.append(np.load(f'../Results/figure5_timeseries{i+1}.npy'))\n",
    "    correlations.append(np.load(f'../Results/figure5_correlations{i+1}.npy'))\n",
    "\n",
    "corrs = np.load('../ComputeCanada/filtering/mode_correlations_h_and_sigma.npy')\n",
    "grid = np.zeros((20, 20))\n",
    "for i in range(grid.shape[0]):\n",
    "    for j in range(grid.shape[1]):\n",
    "        values = []\n",
    "        for k in range(10):\n",
    "            diag = np.diag(corrs[i, j, k])\n",
    "            values.append(np.mean(np.abs(diag)[:20]))\n",
    "        grid[i, j] = np.mean(values)\n",
    "\n",
    "mode_similarity = []\n",
    "for i in range(3):\n",
    "    mode_similarity.append(np.load(f'../Results/figure5_mode_similarity{i+1}.npy'))"
   ]
  },
  {
   "cell_type": "markdown",
   "id": "77c67d50-1cf7-466d-bfe1-8ea9a0d1eaaa",
   "metadata": {},
   "source": [
    "# Rendering figure"
   ]
  },
  {
   "cell_type": "code",
   "execution_count": null,
   "id": "135390c8-7815-41c9-915c-873646c0816d",
   "metadata": {},
   "outputs": [],
   "source": [
    "fig = PaperFigure(figsize=(7, 5))\n",
    "\n",
    "fig.set_tick_length(2)\n",
    "fig.set_font_size(6)\n",
    "fig.add_background()\n",
    "\n",
    "# Setting up axes -------------------------------------------------------------------------------------------------\n",
    "\n",
    "w = 1.65\n",
    "pad = (7 - 4 * w) / 3\n",
    "for i in range(4):\n",
    "    fig.add_axes(f'timeseries{i}', (i * (w + pad), 0), w, 1)\n",
    "\n",
    "for i in range(4):\n",
    "    fig.add_axes(f'correlations{i}', (i * (w + pad), 1.5), 1, 1)\n",
    "\n",
    "fig.add_axes('grid', (0, 3), w, w)\n",
    "fig.add_axes('curves', (w + 0.5, 3 + (0.25 * w)), w, w * 0.75)\n",
    "\n",
    "w2 = 0.8\n",
    "fig.add_axes('mode_similarity1', (7 - 3 * w2, 3 + w - w2), w2, w2)\n",
    "fig.add_axes('mode_similarity2', (7 - 2 * w2, 3 + w - w2), w2, w2)\n",
    "fig.add_axes('mode_similarity3', (7 - 1 * w2, 3 + w - w2), w2, w2)\n",
    "\n",
    "fig.set_line_thickness(0.6)\n",
    "\n",
    "# Filling content --------------------------------------------------------------------------------------------------\n",
    "\n",
    "for i in range(4):\n",
    "    ax = fig.axes[f'timeseries{i}']\n",
    "    ax.imshow(zscore(timeseries[i][:, :1000], axis=1), cmap='binary', vmin=-0.5, vmax=1.5, aspect='auto')\n",
    "    ax.set_xticks([])\n",
    "    ax.set_yticks([])\n",
    "\n",
    "for i in range(4):\n",
    "    ax = fig.axes[f'correlations{i}']\n",
    "    ax.imshow(correlations[i], cmap='Reds', vmin=np.percentile(correlations[i], 5), vmax=np.percentile(correlations[i], 95), aspect='auto')\n",
    "    ax.set_xticks([])\n",
    "    ax.set_yticks([])\n",
    "    print(np.percentile(correlations[i], 5), np.percentile(correlations[i], 95))\n",
    "\n",
    "ax = fig.axes['grid']\n",
    "ax.imshow(grid, cmap='Reds')\n",
    "\n",
    "ax = fig.axes['curves']\n",
    "ax.spines[['top', 'right']].set_visible(False)\n",
    "red = plt.get_cmap('Reds')(175)[:3]\n",
    "beige = plt.get_cmap('Reds')(50)[:3]\n",
    "colors = color_gradient(red, beige, 20)\n",
    "x = np.linspace(0, 0.1, 20, endpoint=True)\n",
    "for i in range(20):\n",
    "    ax.plot(x, gaussian_filter1d(grid[i, :], 1), color=colors[i])\n",
    "ax.set_xticks([0, 0.05, 0.1])\n",
    "ax.set_xlim([0, 0.1])\n",
    "\n",
    "for i in range(3):\n",
    "    ax = fig.axes[f'mode_similarity{i+1}']\n",
    "    ax.imshow(mode_similarity[i], cmap='Reds', vmin=0, vmax=1)\n",
    "    ax.set_xticks([])\n",
    "    ax.set_yticks([])\n",
    "\n",
    "fig.show()"
   ]
  },
  {
   "cell_type": "code",
   "execution_count": null,
   "id": "a63740c3-7e5a-47b8-a6a6-ad4a690a38d8",
   "metadata": {},
   "outputs": [],
   "source": [
    "fig.save('../Figures/figure5_incomplete.svg')"
   ]
  },
  {
   "cell_type": "code",
   "execution_count": null,
   "id": "5067f036-5aa8-4842-abbf-021bbfcb0f61",
   "metadata": {},
   "outputs": [],
   "source": []
  }
 ],
 "metadata": {
  "kernelspec": {
   "display_name": "Python 3 (ipykernel)",
   "language": "python",
   "name": "python3"
  },
  "language_info": {
   "codemirror_mode": {
    "name": "ipython",
    "version": 3
   },
   "file_extension": ".py",
   "mimetype": "text/x-python",
   "name": "python",
   "nbconvert_exporter": "python",
   "pygments_lexer": "ipython3",
   "version": "3.9.19"
  }
 },
 "nbformat": 4,
 "nbformat_minor": 5
}
