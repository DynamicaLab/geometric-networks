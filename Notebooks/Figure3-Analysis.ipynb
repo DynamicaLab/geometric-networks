{
 "cells": [
  {
   "cell_type": "markdown",
   "id": "691927fd-22b2-4e53-880f-6faff7cbf606",
   "metadata": {},
   "source": [
    "# Figure 3 - Analysis"
   ]
  },
  {
   "cell_type": "code",
   "execution_count": null,
   "id": "73e511dd-19bc-4b8f-98c1-75160297550a",
   "metadata": {},
   "outputs": [],
   "source": [
    "import sys\n",
    "sys.path.append(\"..\")\n",
    "\n",
    "from main import *\n",
    "\n",
    "import matplotlib.pyplot as plt\n",
    "from scipy.stats import pearsonr, spearmanr\n",
    "\n",
    "plt.rcParams['font.size'] = 6\n",
    "\n",
    "if torch.cuda.is_available():  \n",
    "    device = \"cuda:0\" \n",
    "else:  \n",
    "    device = \"cpu\" \n",
    "print(device)"
   ]
  },
  {
   "cell_type": "code",
   "execution_count": null,
   "id": "d37c4f97-38e6-40e1-908b-ee715aafcd95",
   "metadata": {},
   "outputs": [],
   "source": [
    "vertices = np.load('../Files/vertices_ellipse.npy').astype('float')\n",
    "order = np.argsort(vertices[:, 2])\n",
    "vertices = vertices[order]\n",
    "eigenmodes = np.load('../Files/eigenmodes_ellipse.npy')[order]"
   ]
  },
  {
   "cell_type": "markdown",
   "id": "35a6d513-56e4-49da-a686-0cc09e21c029",
   "metadata": {},
   "source": [
    "# Individual eigenmode-gradient correlations vs connectivity radius $h$"
   ]
  },
  {
   "cell_type": "markdown",
   "id": "b61a4c80-5733-43f6-a8b0-bf7ebc99d7eb",
   "metadata": {},
   "source": [
    "Simulations were conducted externally on a computer cluster (`Compute Canada`) and the results are loaded here for analysis. See the script in the `ComputeCanada/kernel_size/` folder for a code example."
   ]
  },
  {
   "cell_type": "code",
   "execution_count": null,
   "id": "28a7a08b-9cf2-4b1b-96bb-2b6eaa077552",
   "metadata": {},
   "outputs": [],
   "source": [
    "correlations = np.load('../ComputeCanada/kernel_size/mode_correlations_per_h_2500_zoom.npy')"
   ]
  },
  {
   "cell_type": "code",
   "execution_count": null,
   "id": "2ff772f3-3922-4707-9620-0a078b5e6762",
   "metadata": {},
   "outputs": [],
   "source": [
    "avg_correlations = np.mean(np.abs(correlations), axis=1)"
   ]
  },
  {
   "cell_type": "markdown",
   "id": "bcb47843-2860-43af-9daf-ca0480668e83",
   "metadata": {},
   "source": [
    "for i, a in enumerate(avg_correlations):\n",
    "    plt.imshow(a, cmap='Reds', vmin=0, vmax=1)\n",
    "    plt.xticks([])\n",
    "    plt.yticks([])\n",
    "    #plt.savefig('Matrices/correlations_{}.png'.format(i+1))\n",
    "    plt.show()"
   ]
  },
  {
   "cell_type": "code",
   "execution_count": null,
   "id": "0fd6e314-0d31-4efa-9b02-4e45d7c3911f",
   "metadata": {},
   "outputs": [],
   "source": [
    "diagonals = []\n",
    "for a in avg_correlations:\n",
    "    diagonals.append(np.diag(a))"
   ]
  },
  {
   "cell_type": "code",
   "execution_count": null,
   "id": "f0baa1d2-b578-450e-83cb-a71917a1c1ae",
   "metadata": {},
   "outputs": [],
   "source": [
    "diagonals_kernelsize = np.stack(diagonals, axis=1)"
   ]
  },
  {
   "cell_type": "code",
   "execution_count": null,
   "id": "29f8d982-603b-4909-a603-902b03017ca4",
   "metadata": {},
   "outputs": [],
   "source": [
    "plt.figure(figsize=(2, 2), dpi=300)\n",
    "plt.imshow(diagonals_kernelsize, vmin=0, vmax=1, cmap='Reds', aspect='auto')\n",
    "cbar = plt.colorbar()\n",
    "cbar.ax.set_ylabel('Mode correspondence $|r|$', rotation=270, ha='center', va='center')\n",
    "\n",
    "plt.xlabel('Neighborhood size $h$')\n",
    "plt.ylabel('Mode #')\n",
    "plt.yticks([0, 49], [1, 50])"
   ]
  },
  {
   "cell_type": "markdown",
   "id": "ed967be6-a27d-4b32-aa39-cdd59d717543",
   "metadata": {},
   "source": [
    "# Computing variograms to estimate eigenmode wavelengths"
   ]
  },
  {
   "cell_type": "code",
   "execution_count": null,
   "id": "abf18a58-7705-4469-bb8b-cd81426f8aa2",
   "metadata": {},
   "outputs": [],
   "source": [
    "from scipy.signal import find_peaks\n",
    "from scipy.stats import zscore"
   ]
  },
  {
   "cell_type": "code",
   "execution_count": null,
   "id": "1589daeb-d839-40c8-b6b1-a345e4375927",
   "metadata": {},
   "outputs": [],
   "source": [
    "def compute_pairwise_distances(points):\n",
    "    diff = points[:, np.newaxis, :] - points[np.newaxis, :, :]\n",
    "    distances = np.sqrt(np.sum(diff**2, axis=-1))\n",
    "    return distances\n",
    "\n",
    "def compute_variogram(coordinates, values, bins=np.linspace(0, 1, 30), subsample=1000, iters=10):\n",
    "    variograms = []\n",
    "    for _ in range(iters):\n",
    "        random_ids = np.arange(coordinates.shape[0])\n",
    "        np.random.shuffle(random_ids)\n",
    "        random_ids = np.sort(random_ids[:subsample])\n",
    "        d = compute_pairwise_distances(coordinates[random_ids])\n",
    "        sub_values = values[random_ids]\n",
    "        variances = (sub_values[np.newaxis, :] - sub_values[:, np.newaxis]) ** 2\n",
    "        variogram = np.zeros((len(bins) - 1, ))\n",
    "        for i in range(len(variogram)):\n",
    "            variogram[i] = np.mean(variances[(d >= bins[i]) & (d < bins[i + 1])])\n",
    "        variograms.append(variogram)\n",
    "    return np.mean(np.stack(variograms, axis=0), axis=0)\n",
    "\n",
    "def get_wavelength(variogram, bins):\n",
    "    result = find_peaks(variogram)\n",
    "    if any(result[0]):\n",
    "        wavelength = 2 * (bins[find_peaks(variogram)[0][0]] + ((bins[1] - bins[0]) / 2))\n",
    "        return wavelength\n",
    "    else:\n",
    "        return 2 * bins[-1]"
   ]
  },
  {
   "cell_type": "code",
   "execution_count": null,
   "id": "9dd51400-cf0e-447b-9e91-55950be04e18",
   "metadata": {},
   "outputs": [],
   "source": [
    "bins = np.linspace(0, 1, 60, endpoint=True)"
   ]
  },
  {
   "cell_type": "code",
   "execution_count": null,
   "id": "5a59287f-d6ce-4e14-a3ed-e14e8dd9e6e2",
   "metadata": {},
   "outputs": [],
   "source": [
    "compute = False\n",
    "if compute:\n",
    "    wavelengths, variograms = [], []\n",
    "    for i in tqdm(range(eigenmodes.shape[1])):\n",
    "        variogram = compute_variogram(vertices, zscore(eigenmodes[:, i]), bins=bins, subsample=2500)\n",
    "        variograms.append(variogram)\n",
    "        wavelengths.append(get_wavelength(variogram, bins))\n",
    "    np.save('../Results/mode_variograms.npy', variograms)\n",
    "    np.save('../Results/mode_wavelengths.npy', wavelengths)\n",
    "else:\n",
    "    variograms = np.load('../Results/mode_variograms.npy')\n",
    "    wavelengths = np.load('../Results/mode_wavelengths.npy')"
   ]
  },
  {
   "cell_type": "markdown",
   "id": "efb34bff-678a-4aac-a711-8f4524fc0169",
   "metadata": {},
   "source": [
    "# Identifying eigenmode cutoff points"
   ]
  },
  {
   "cell_type": "code",
   "execution_count": null,
   "id": "ddb388a2-581a-4923-b2bd-3ba28610293e",
   "metadata": {},
   "outputs": [],
   "source": [
    "from scipy.ndimage import gaussian_filter1d\n",
    "\n",
    "def filter_matrix_rows(matrix, sigma=1):\n",
    "    if sigma != 0:\n",
    "        filtered = np.copy(matrix)\n",
    "        for i in range(filtered.shape[0]):\n",
    "            filtered[i] = gaussian_filter1d(filtered[i], sigma=sigma)\n",
    "        return filtered\n",
    "    else:\n",
    "        return matrix\n",
    "\n",
    "def identify_mode_cutoff_points(diagonals_matrix, sigma=0):\n",
    "\n",
    "    matrix = filter_matrix_rows(diagonals_matrix, sigma=sigma)\n",
    "    \n",
    "    h_cutoff_array, r_cutoff_array = [], []    \n",
    "    for element in matrix:\n",
    "        diff_array = []\n",
    "        for i in range(1, len(matrix[0] + 1)):\n",
    "            diff = element[i] - element[i - 1]\n",
    "            diff_array.append(diff)\n",
    "        max_diff = min(diff_array)\n",
    "        cutoff_index = diff_array.index(max_diff)\n",
    "        while diff_array[cutoff_index - 1] > 0 and diff_array[cutoff_index - 1] > 0:\n",
    "            diff_array[cutoff_index] = 0\n",
    "            max_diff = min(diff_array)\n",
    "            cutoff_index = diff_array.index(max_diff)\n",
    "        h_cutoff_array.append(cutoff_index)\n",
    "        r_cutoff_array.append((element[cutoff_index] + element[cutoff_index + 1]) / 2)\n",
    "\n",
    "    return np.array(h_cutoff_array), np.array(r_cutoff_array)"
   ]
  },
  {
   "cell_type": "code",
   "execution_count": null,
   "id": "3a23c4b5-2d2c-4323-b1dd-041b5ab593e6",
   "metadata": {},
   "outputs": [],
   "source": [
    "h_values = np.linspace(0.025, 0.6, 100)"
   ]
  },
  {
   "cell_type": "code",
   "execution_count": null,
   "id": "a14c91b1-6279-47ad-9f3f-2d8aa26922e0",
   "metadata": {},
   "outputs": [],
   "source": [
    "h_cutoffs, r_cutoffs = identify_mode_cutoff_points(diagonals_kernelsize, sigma=1)\n",
    "h_cutoffs = h_values[h_cutoffs]"
   ]
  },
  {
   "cell_type": "code",
   "execution_count": null,
   "id": "1a633846-5680-4d8b-b7cd-a41f6ade83eb",
   "metadata": {},
   "outputs": [],
   "source": [
    "x = h_cutoffs[1:]\n",
    "y = np.array(wavelengths[2:51])"
   ]
  },
  {
   "cell_type": "code",
   "execution_count": null,
   "id": "0e0cefb9-b4b0-4885-87d2-ecfdd2632c1f",
   "metadata": {},
   "outputs": [],
   "source": [
    "fig, ax = plt.subplots(figsize=(2, 2), dpi=300)\n",
    "ax.scatter(x, y, s=2, color='black')\n",
    "ax.spines[['top', 'right']].set_visible(False)\n",
    "a, b = np.polyfit(x, y, deg=1)\n",
    "ax.plot(x, a * x + b, linewidth=1, color='red')\n",
    "ax.set_xlabel('$h$ cutoff')\n",
    "ax.set_ylabel('Mode wavelength')\n",
    "\n",
    "print(a, b)"
   ]
  },
  {
   "cell_type": "code",
   "execution_count": null,
   "id": "8aed73fb-ca34-4241-bf12-500bac63c5f9",
   "metadata": {},
   "outputs": [],
   "source": [
    "pearsonr(x, y)[0] ** 2"
   ]
  },
  {
   "cell_type": "code",
   "execution_count": null,
   "id": "fdb4f406-3880-4e37-be0b-edced7c8b7c8",
   "metadata": {},
   "outputs": [],
   "source": [
    "h_cutoffs_kernel = np.copy(h_cutoffs)\n",
    "r_cutoffs_kernel = np.copy(r_cutoffs)"
   ]
  },
  {
   "cell_type": "code",
   "execution_count": null,
   "id": "7b9a1c20-fc2e-4ac9-aa68-7e0f28a36b92",
   "metadata": {},
   "outputs": [],
   "source": [
    "np.save('../Results/figure3_cutoffs_kernelsize.npy', h_cutoffs_kernel)"
   ]
  },
  {
   "cell_type": "markdown",
   "id": "410027a9-c7f8-4b9a-b9cc-8e9b7377ab15",
   "metadata": {},
   "source": [
    "# Individual eigenmode-gradient correlations vs edge swaps"
   ]
  },
  {
   "cell_type": "markdown",
   "id": "091d88f3-abdf-4dfb-acfe-b66d8a1c4330",
   "metadata": {},
   "source": [
    "Simulations were conducted externally on a computer cluster (`Compute Canada`) and the results are loaded here for analysis. See the script in the `ComputeCanada/edge_swapping/` folder for a code example."
   ]
  },
  {
   "cell_type": "code",
   "execution_count": null,
   "id": "eaedc653-28b2-4072-8a35-282e8717f48e",
   "metadata": {},
   "outputs": [],
   "source": [
    "D_mean = np.load('../ComputeCanada/edge_swapping/avg_d_per_rho_swaps.npy')\n",
    "mode_similarities = np.load('../ComputeCanada/edge_swapping/mode_correlations_per_rho_swaps.npy')\n",
    "\n",
    "fractions = np.linspace(0, 0.99, 36, endpoint=True)\n",
    "\n",
    "scores = np.zeros((mode_similarities.shape[0], mode_similarities.shape[1]))\n",
    "for i in range(mode_similarities.shape[0]):\n",
    "    for j in range(mode_similarities.shape[1]):\n",
    "        scores[i, j] = np.mean(np.abs(np.diag(mode_similarities[i, j])))"
   ]
  },
  {
   "cell_type": "code",
   "execution_count": null,
   "id": "b30a3a54-eb64-42d7-8e71-fbd11b94e247",
   "metadata": {},
   "outputs": [],
   "source": [
    "avg_correlations = np.mean(np.abs(mode_similarities), axis=1)"
   ]
  },
  {
   "cell_type": "markdown",
   "id": "b3f6e271-9e6d-4e6c-bd36-005414355764",
   "metadata": {},
   "source": [
    "for i, a in enumerate(avg_correlations):\n",
    "    plt.imshow(a, cmap='Blues', vmin=0, vmax=1)\n",
    "    plt.xticks([])\n",
    "    plt.yticks([])\n",
    "    #plt.savefig('correlations_{}.png'.format(i+1))\n",
    "    plt.show()"
   ]
  },
  {
   "cell_type": "code",
   "execution_count": null,
   "id": "68518fb8-4887-46c2-8284-14bab50bc59e",
   "metadata": {},
   "outputs": [],
   "source": [
    "diagonals = []\n",
    "for a in avg_correlations:\n",
    "    diagonals.append(np.diag(a))\n",
    "diagonals_edgeswaps = np.stack(diagonals, axis=1)"
   ]
  },
  {
   "cell_type": "code",
   "execution_count": null,
   "id": "774e9383-0f22-42b8-928e-da8abec2d56c",
   "metadata": {},
   "outputs": [],
   "source": [
    "plt.figure(figsize=(2, 2), dpi=300)\n",
    "plt.imshow(diagonals_edgeswaps, vmin=0, vmax=1, cmap='Blues', aspect='auto')\n",
    "\n",
    "cbar = plt.colorbar()\n",
    "cbar.ax.set_ylabel('Mode correspondence $|r|$', rotation=270, ha='center', va='center')\n",
    "plt.xlabel('Number of edge swaps ($10^3$)')\n",
    "plt.ylabel('Mode #')\n",
    "plt.xticks([0, 30])\n",
    "plt.yticks([0, 49], [1, 50])\n"
   ]
  },
  {
   "cell_type": "code",
   "execution_count": null,
   "id": "606836ab-e748-4bc5-a0a9-635836533d61",
   "metadata": {},
   "outputs": [],
   "source": [
    "rho_cutoffs, r_cutoffs = identify_mode_cutoff_points(diagonals_edgeswaps, sigma=1)\n",
    "rho_cutoffs = fractions[rho_cutoffs]"
   ]
  },
  {
   "cell_type": "markdown",
   "id": "e743b6ad-5e3b-4ad8-9c48-d9591e39e8d3",
   "metadata": {},
   "source": [
    "cutoffs = []\n",
    "for i, d in enumerate(diagonals_edgeswaps):\n",
    "    cutoffs.append(N_swaps[np.where(d > 0.2)[0][-1]])"
   ]
  },
  {
   "cell_type": "code",
   "execution_count": null,
   "id": "0fef6225-eba1-4a34-9445-066529cbea77",
   "metadata": {},
   "outputs": [],
   "source": [
    "x = np.array(rho_cutoffs[1:])\n",
    "y = np.array(wavelengths[2:51])"
   ]
  },
  {
   "cell_type": "code",
   "execution_count": null,
   "id": "8ea143bb-2cc9-41f0-912b-ea6f10bcf39e",
   "metadata": {},
   "outputs": [],
   "source": [
    "fig, ax = plt.subplots(figsize=(2, 2), dpi=300)\n",
    "ax.scatter(x, y, s=2, color='black')\n",
    "ax.spines[['top', 'right']].set_visible(False)\n",
    "a, b = np.polyfit(x, y, deg=1)\n",
    "ax.plot(x, a * x + b, linewidth=1, color='red')\n",
    "ax.set_xlabel('# swaps cutoff')\n",
    "ax.set_ylabel('Mode wavelength')\n",
    "\n",
    "print(a, b)"
   ]
  },
  {
   "cell_type": "code",
   "execution_count": null,
   "id": "152b9914-7512-4297-a603-cfda3970bf8d",
   "metadata": {},
   "outputs": [],
   "source": [
    "pearsonr(x, y)[0] ** 2"
   ]
  },
  {
   "cell_type": "code",
   "execution_count": null,
   "id": "407666af-ac00-42ca-99ad-2e115cc277fd",
   "metadata": {},
   "outputs": [],
   "source": [
    "rho_cutoffs_swaps = np.copy(rho_cutoffs)\n",
    "r_cutoffs_swaps = np.copy(r_cutoffs)"
   ]
  },
  {
   "cell_type": "code",
   "execution_count": null,
   "id": "9601b8cf-adc9-41f6-a295-e5499fe1af55",
   "metadata": {},
   "outputs": [],
   "source": [
    "np.save('../Results/figure3_cutoffs_swaps.npy', rho_cutoffs_swaps)"
   ]
  },
  {
   "cell_type": "markdown",
   "id": "8b60cc2a-452a-4c77-a21a-a05fb77660f6",
   "metadata": {},
   "source": [
    "# Plotting line profiles of previous arrays (Supplementary analysis)"
   ]
  },
  {
   "cell_type": "markdown",
   "id": "bdaf165a-272a-431d-8478-5e88ad91c9da",
   "metadata": {},
   "source": [
    "Normalizing and aligning the rows of the `diagonals_kernelsize` and `diagonals_edgeswaps` arrays, related to Supplementary Figure S6."
   ]
  },
  {
   "cell_type": "code",
   "execution_count": null,
   "id": "fc3db09d-c9e5-452c-8448-066e18630c0b",
   "metadata": {},
   "outputs": [],
   "source": [
    "normalized_profiles_kernelsize = []\n",
    "for d in diagonals_kernelsize:\n",
    "    normalized_profiles_kernelsize.append(normalize(gaussian_filter1d(d, 2)))\n",
    "\n",
    "midpoints_kernelsize = []\n",
    "for p in normalized_profiles_kernelsize:\n",
    "    midpoints_kernelsize.append(np.where(p[10:] < 0.5)[0][0] + 10)\n",
    "\n",
    "aligned_curves_kernelsize = []\n",
    "for i in range(len(normalized_profiles_kernelsize)):\n",
    "    m = midpoints_kernelsize[i]\n",
    "    segment_left = normalized_profiles_kernelsize[i][:m]\n",
    "    segment_right = normalized_profiles_kernelsize[i][m:]\n",
    "    aligned_curve = np.zeros((len(normalized_profiles_kernelsize[0]), ))\n",
    "    if len(segment_left) > 50:\n",
    "        aligned_curve[:50] = segment_left[-50:]\n",
    "    else:\n",
    "        aligned_curve[50 - len(segment_left):50] = segment_left\n",
    "    if len(segment_right) > 50:\n",
    "        aligned_curve[50:] = segment_right[:50]\n",
    "    else:\n",
    "        aligned_curve[50:50+len(segment_right)] = segment_right\n",
    "    max_id = np.argmax(aligned_curve)\n",
    "    aligned_curve[:max_id] = np.nan\n",
    "    aligned_curves_kernelsize.append(aligned_curve)"
   ]
  },
  {
   "cell_type": "code",
   "execution_count": null,
   "id": "091a3cd2-b819-4105-8687-3ffd8ae0a028",
   "metadata": {},
   "outputs": [],
   "source": [
    "for d in normalized_profiles_kernelsize:\n",
    "    plt.plot(d)\n",
    "plt.show()"
   ]
  },
  {
   "cell_type": "code",
   "execution_count": null,
   "id": "86fad8e8-39db-4f9c-9020-24ba64caf942",
   "metadata": {},
   "outputs": [],
   "source": [
    "for d in aligned_curves_kernelsize:\n",
    "    plt.plot(d)\n",
    "plt.show()"
   ]
  },
  {
   "cell_type": "code",
   "execution_count": null,
   "id": "c47f8259-7933-4a54-bb03-13fc9689e7c3",
   "metadata": {},
   "outputs": [],
   "source": [
    "normalized_profiles_edgeswaps = []\n",
    "for d in diagonals_edgeswaps:\n",
    "    normalized_profiles_edgeswaps.append(normalize(gaussian_filter1d(d, 2)))\n",
    "\n",
    "midpoints_edgeswaps = []\n",
    "for p in normalized_profiles_edgeswaps:\n",
    "    midpoints_edgeswaps.append(np.where(p[7:] < 0.5)[0][0] + 7)\n",
    "\n",
    "aligned_curves_edgeswaps = []\n",
    "for i in range(len(normalized_profiles_edgeswaps)):\n",
    "    m = midpoints_edgeswaps[i]\n",
    "    segment_left = normalized_profiles_edgeswaps[i][:m]\n",
    "    segment_right = normalized_profiles_edgeswaps[i][m:]\n",
    "    aligned_curve = np.zeros((len(normalized_profiles_edgeswaps[0]), ))\n",
    "    if len(segment_left) > 18:\n",
    "        aligned_curve[:18] = segment_left[-18:]\n",
    "    else:\n",
    "        aligned_curve[18 - len(segment_left):18] = segment_left\n",
    "    if len(segment_right) > 18:\n",
    "        aligned_curve[18:] = segment_right[:18]\n",
    "    else:\n",
    "        aligned_curve[18:18+len(segment_right)] = segment_right\n",
    "    max_id = np.argmax(aligned_curve)\n",
    "    aligned_curve[:max_id] = np.nan\n",
    "    aligned_curves_edgeswaps.append(aligned_curve)"
   ]
  },
  {
   "cell_type": "code",
   "execution_count": null,
   "id": "71d7846b-147d-4179-8122-2f970cc1ebff",
   "metadata": {},
   "outputs": [],
   "source": [
    "for d in diagonals_edgeswaps:\n",
    "    plt.plot(normalize(gaussian_filter1d(d, 2)))\n",
    "plt.show()"
   ]
  },
  {
   "cell_type": "code",
   "execution_count": null,
   "id": "f2b31d16-50d0-4437-bc2c-1ac5ffa21a15",
   "metadata": {},
   "outputs": [],
   "source": [
    "for d in aligned_curves_edgeswaps:\n",
    "    plt.plot(d)\n",
    "plt.show()"
   ]
  },
  {
   "cell_type": "code",
   "execution_count": null,
   "id": "439c8d22-ceda-4f17-9ddd-90dcd0d9bff5",
   "metadata": {},
   "outputs": [],
   "source": [
    "for d in aligned_curves_edgeswaps:\n",
    "    plt.plot(np.linspace(0, 1, len(d)), d, color='black')\n",
    "\n",
    "for d in aligned_curves_kernelsize:\n",
    "    plt.plot(np.linspace(0, 1, len(d)), d, color='red')\n",
    "plt.show()"
   ]
  },
  {
   "cell_type": "code",
   "execution_count": null,
   "id": "e4956fae-9d82-4576-854c-a23854d2c785",
   "metadata": {},
   "outputs": [],
   "source": [
    "np.save('../Results/figure3_profiles_kernelsize.npy', normalized_profiles_kernelsize)\n",
    "np.save('../Results/figure3_aligned_profiles_kernelsize.npy', aligned_curves_kernelsize)\n",
    "np.save('../Results/figure3_profiles_edgeswaps.npy', normalized_profiles_edgeswaps)\n",
    "np.save('../Results/figure3_aligned_profiles_edgeswaps.npy', aligned_curves_edgeswaps)"
   ]
  },
  {
   "cell_type": "code",
   "execution_count": null,
   "id": "3b636434-a7fc-40b5-adf6-dbba24062252",
   "metadata": {},
   "outputs": [],
   "source": []
  }
 ],
 "metadata": {
  "kernelspec": {
   "display_name": "Python 3 (ipykernel)",
   "language": "python",
   "name": "python3"
  },
  "language_info": {
   "codemirror_mode": {
    "name": "ipython",
    "version": 3
   },
   "file_extension": ".py",
   "mimetype": "text/x-python",
   "name": "python",
   "nbconvert_exporter": "python",
   "pygments_lexer": "ipython3",
   "version": "3.9.19"
  }
 },
 "nbformat": 4,
 "nbformat_minor": 5
}
