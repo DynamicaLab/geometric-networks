{
 "cells": [
  {
   "cell_type": "markdown",
   "id": "a11c2b57-1f8a-4522-b82e-9bdd4007c278",
   "metadata": {},
   "source": [
    "# Supplementary - Dynamics"
   ]
  },
  {
   "cell_type": "markdown",
   "id": "6bcc9ed8-c151-4c6c-a28e-fe772d8db5d3",
   "metadata": {},
   "source": [
    "Contains analyses related to Supplementary Figure S2."
   ]
  },
  {
   "cell_type": "code",
   "execution_count": null,
   "id": "7230c890-accb-4159-b972-70ae4daa462f",
   "metadata": {},
   "outputs": [],
   "source": [
    "import sys\n",
    "sys.path.append(\"..\")\n",
    "\n",
    "from main import *\n",
    "\n",
    "from scipy.stats import pearsonr, spearmanr\n",
    "from tqdm import tqdm\n",
    "import sys\n",
    "from scipy.optimize import linear_sum_assignment\n",
    "import matplotlib.pyplot as plt\n",
    "from numba import njit\n",
    "from scipy.stats import zscore\n",
    "\n",
    "plt.rcParams['font.size'] = 18\n",
    "\n",
    "if torch.cuda.is_available():  \n",
    "    device = \"cuda:0\" \n",
    "else:  \n",
    "    device = \"cpu\" \n",
    "    \n",
    "print(device)"
   ]
  },
  {
   "cell_type": "markdown",
   "id": "4ac935ff-5bc3-44e4-843c-4c5ce46a0ec7",
   "metadata": {},
   "source": [
    "# Part 1: Inspecting the different dynamics"
   ]
  },
  {
   "cell_type": "markdown",
   "id": "c036f8a1-a918-497c-a736-f635f737f235",
   "metadata": {},
   "source": [
    "Here we integrate 5 different dynamical models in the ellipsoid geometry, display some exemplay dynamics, and compute their eigenmode-gradient correlations, just for visualization purposes."
   ]
  },
  {
   "cell_type": "markdown",
   "id": "3d943d01-e36f-4a62-9e78-1d1455994b76",
   "metadata": {},
   "source": [
    "# Dynamics #1: Standard $\\tanh$ activation function"
   ]
  },
  {
   "cell_type": "code",
   "execution_count": null,
   "id": "2b34d0c8-77e0-4d64-8bcd-3922344079e4",
   "metadata": {},
   "outputs": [],
   "source": [
    "vertices = np.load('../Files/vertices_ellipse.npy').astype('float')\n",
    "eigenmodes = np.load('../Files/eigenmodes_ellipse.npy')\n",
    "\n",
    "ellipse = Geometry(vertices, eigenmodes)"
   ]
  },
  {
   "cell_type": "code",
   "execution_count": null,
   "id": "88512da7-f538-4d05-9cc6-430353739168",
   "metadata": {},
   "outputs": [],
   "source": [
    "params = {'N_neurons': 1500,\n",
    "          'h': 0.1,\n",
    "          'g': 3,\n",
    "          'tau': 3,\n",
    "          'dale': False\n",
    "          }\n",
    "\n",
    "simulator = Simulator(ellipse,\n",
    "                      ChaoticRNN,\n",
    "                      params)\n",
    "\n",
    "simulator.integrate(1000, output=False)"
   ]
  },
  {
   "cell_type": "code",
   "execution_count": null,
   "id": "db6305f9-176f-4061-8a0d-0bae3683bd19",
   "metadata": {},
   "outputs": [],
   "source": [
    "%matplotlib inline\n",
    "simulator.plot(spacing=1.5)"
   ]
  },
  {
   "cell_type": "code",
   "execution_count": null,
   "id": "c727ac80-ac42-4942-ad2e-211af551a6e6",
   "metadata": {},
   "outputs": [],
   "source": [
    "%matplotlib inline\n",
    "simulator.imshow(vmin=0, vmax=1)"
   ]
  },
  {
   "cell_type": "code",
   "execution_count": null,
   "id": "1f5a986a-6beb-4f2e-a173-66701acf0f09",
   "metadata": {},
   "outputs": [],
   "source": [
    "save = False\n",
    "if save:\n",
    "    np.save('../Results/supp_dynamics_timeseries_dynamics1.npy', simulator.timeseries)"
   ]
  },
  {
   "cell_type": "code",
   "execution_count": null,
   "id": "72cbb446-c236-48d6-8bdf-ed5f0e125ecf",
   "metadata": {},
   "outputs": [],
   "source": [
    "%matplotlib qt\n",
    "simulator.animate(alpha=0.75,\n",
    "                  cmap='hot',\n",
    "                  vmax=1.5)"
   ]
  },
  {
   "cell_type": "markdown",
   "id": "5e1393e9-269f-4f5d-b842-4cceb5f48e65",
   "metadata": {},
   "source": [
    "simulator.save_animation('Figures/Gifs/chaotic_RNN.gif', fps=50)"
   ]
  },
  {
   "cell_type": "code",
   "execution_count": null,
   "id": "47f5265d-def0-4cb2-ab1e-6502a63a8b65",
   "metadata": {},
   "outputs": [],
   "source": [
    "C = simulator.compute_average_correlations(n_iters=100, T=500)"
   ]
  },
  {
   "cell_type": "code",
   "execution_count": null,
   "id": "6b11d11a-27a3-46c7-8d27-d8d49e58ccb9",
   "metadata": {},
   "outputs": [],
   "source": [
    "%matplotlib inline\n",
    "plt.figure(figsize=(5, 5))\n",
    "plt.imshow(C, cmap='hot', vmin=0.1, vmax=0.3)"
   ]
  },
  {
   "cell_type": "code",
   "execution_count": null,
   "id": "7108f445-7059-4368-b917-a9aceb7458f4",
   "metadata": {},
   "outputs": [],
   "source": [
    "mode_similarity, mapping = simulator.compute_geometric_mapping(C, N_modes=20)"
   ]
  },
  {
   "cell_type": "code",
   "execution_count": null,
   "id": "c62a32fd-c2e1-49c1-8d3f-866a4db7073a",
   "metadata": {},
   "outputs": [],
   "source": [
    "%matplotlib inline\n",
    "fig, ax = plt.subplots(figsize=(5, 5))\n",
    "cax = plt.imshow(np.abs(mode_similarity), cmap='Reds', vmin=0, vmax=1)\n",
    "plt.xlabel('Functional modes')\n",
    "plt.ylabel('Geometric modes')\n",
    "plt.colorbar(cax, ax=ax, fraction=0.045, pad=0.02)"
   ]
  },
  {
   "cell_type": "code",
   "execution_count": null,
   "id": "20c3446e-7da3-4787-969e-44afae9c1040",
   "metadata": {},
   "outputs": [],
   "source": [
    "save = False\n",
    "if save:\n",
    "    np.save('../Results/supp_dynamics_correlations_dynamics1.npy', C)\n",
    "    np.save('../Results/supp_dynamics_modesimilarity_dynamics1.npy', mode_similarity)"
   ]
  },
  {
   "cell_type": "markdown",
   "id": "32379136-683e-45fd-bab4-3eb3c0a00fd4",
   "metadata": {},
   "source": [
    "# Model #2: Generalized `Tanh` function"
   ]
  },
  {
   "cell_type": "code",
   "execution_count": null,
   "id": "2762dfde-82c9-4df3-aa0f-f97ea6105889",
   "metadata": {},
   "outputs": [],
   "source": [
    "params = {'N_neurons': 1500,\n",
    "          'h': 0.1,\n",
    "          'g': 3,\n",
    "          'tau': 3,\n",
    "          'x_s': 0.1,\n",
    "          'dale': True,\n",
    "          'g_I': 1\n",
    "          }\n",
    "\n",
    "#np.random.seed(400)\n",
    "\n",
    "simulator = Simulator(ellipse,\n",
    "                      AdjustedChaoticRNN,\n",
    "                      params)\n",
    "\n",
    "#simulator.dynamics.W[simulator.dynamics.W < 0] *= 1.25\n",
    "\n",
    "simulator.integrate(1000, output=False)"
   ]
  },
  {
   "cell_type": "code",
   "execution_count": null,
   "id": "31cd3352-2bfd-434d-bd24-aecd82a07e06",
   "metadata": {},
   "outputs": [],
   "source": [
    "%matplotlib inline\n",
    "simulator.plot(spacing=1.5)"
   ]
  },
  {
   "cell_type": "code",
   "execution_count": null,
   "id": "e3fd8679-b8b7-4a92-8074-1653e1b5f0ff",
   "metadata": {},
   "outputs": [],
   "source": [
    "%matplotlib inline\n",
    "simulator.imshow()"
   ]
  },
  {
   "cell_type": "code",
   "execution_count": null,
   "id": "edd1202a-9704-4b7f-9e5a-82c7f7274e97",
   "metadata": {},
   "outputs": [],
   "source": [
    "save = False\n",
    "if save:\n",
    "    np.save('../Results/supp_dynamics_timeseries_dynamics2.npy', simulator.timeseries)"
   ]
  },
  {
   "cell_type": "code",
   "execution_count": null,
   "id": "f1f44f73-155f-4d49-9d4f-24c7eaa24107",
   "metadata": {},
   "outputs": [],
   "source": [
    "%matplotlib qt\n",
    "simulator.animate(alpha=0.75,\n",
    "                  cmap='hot',\n",
    "                  vmax=2.5)"
   ]
  },
  {
   "cell_type": "markdown",
   "id": "97a15ddf-d7de-469d-a4b3-38a6fb8e668b",
   "metadata": {},
   "source": [
    "simulator.save_animation('Figures/Gifs/adjusted_chaotic_RNN.gif', fps=50)"
   ]
  },
  {
   "cell_type": "code",
   "execution_count": null,
   "id": "8726af36-69e1-447a-a4b6-0dd65a9e2026",
   "metadata": {},
   "outputs": [],
   "source": [
    "C = simulator.compute_average_correlations(n_iters=100, T=500)"
   ]
  },
  {
   "cell_type": "code",
   "execution_count": null,
   "id": "356d6e65-dc51-4c3e-aa8f-a04dbe3ab6c9",
   "metadata": {},
   "outputs": [],
   "source": [
    "%matplotlib inline\n",
    "plt.figure(figsize=(5, 5))\n",
    "plt.imshow(C, cmap='hot')"
   ]
  },
  {
   "cell_type": "code",
   "execution_count": null,
   "id": "3a166f2e-fa61-4210-8209-6c3366a5d46f",
   "metadata": {},
   "outputs": [],
   "source": [
    "mode_similarity, mapping = simulator.compute_geometric_mapping(C, N_modes=20)"
   ]
  },
  {
   "cell_type": "code",
   "execution_count": null,
   "id": "85f2dec8-1418-46d9-a8f3-18245b1159ba",
   "metadata": {},
   "outputs": [],
   "source": [
    "%matplotlib inline\n",
    "fig, ax = plt.subplots(figsize=(5, 5))\n",
    "cax = plt.imshow(np.abs(mode_similarity), cmap='Reds', vmin=0, vmax=1)\n",
    "plt.xlabel('Functional modes')\n",
    "plt.ylabel('Geometric modes')\n",
    "plt.colorbar(cax, ax=ax, fraction=0.045, pad=0.02)"
   ]
  },
  {
   "cell_type": "code",
   "execution_count": null,
   "id": "a2b3ac34-69f4-4b03-a3ed-beaacac1f9df",
   "metadata": {},
   "outputs": [],
   "source": [
    "save = False\n",
    "if save:\n",
    "    np.save('../Results/supp_dynamics_correlations_dynamics2.npy', C)\n",
    "    np.save('../Results/supp_dynamics_modesimilarity_dynamics2.npy', mode_similarity)"
   ]
  },
  {
   "cell_type": "markdown",
   "id": "a8a71ca4-fbbd-47fb-82ed-69586e74b864",
   "metadata": {},
   "source": [
    "# Dynamics #3: Kuramoto-Sakaguchi model"
   ]
  },
  {
   "cell_type": "code",
   "execution_count": null,
   "id": "5b8a65a7-6310-4fd7-aa13-5be2baf4bae8",
   "metadata": {},
   "outputs": [],
   "source": [
    "params = {'N_neurons': 1500,\n",
    "          'h': 0.1,\n",
    "          'coupling': 2000,\n",
    "          'tau': 100,\n",
    "          'alpha': 50,\n",
    "          'std': 0.1\n",
    "          }\n",
    "\n",
    "np.random.seed(420)\n",
    "\n",
    "simulator = Simulator(ellipse,\n",
    "                      KuramotoSakaguchi,\n",
    "                      params)\n",
    "\n",
    "simulator.integrate(1100, output=False)"
   ]
  },
  {
   "cell_type": "code",
   "execution_count": null,
   "id": "85e64fc2-a47b-4e93-93ba-994d45c2b655",
   "metadata": {},
   "outputs": [],
   "source": [
    "%matplotlib inline\n",
    "simulator.plot(spacing=1)"
   ]
  },
  {
   "cell_type": "code",
   "execution_count": null,
   "id": "ba8080ae-dd00-467e-b9d4-10428df79086",
   "metadata": {},
   "outputs": [],
   "source": [
    "%matplotlib inline\n",
    "simulator.imshow()"
   ]
  },
  {
   "cell_type": "code",
   "execution_count": null,
   "id": "786a1fd1-9677-44a7-8ab1-330a441869b3",
   "metadata": {},
   "outputs": [],
   "source": [
    "save = False\n",
    "if save:\n",
    "    np.save('../Results/supp_dynamics_timeseries_dynamics3.npy', simulator.timeseries)"
   ]
  },
  {
   "cell_type": "code",
   "execution_count": null,
   "id": "e64d96d2-e5ed-4aa1-9ea9-0a1bf4483996",
   "metadata": {},
   "outputs": [],
   "source": [
    "%matplotlib qt\n",
    "simulator.animate(alpha=0.75,\n",
    "                  cmap='hot',\n",
    "                  vmax=1.5)"
   ]
  },
  {
   "cell_type": "markdown",
   "id": "84b7143c-760d-442b-bdd5-26f2b4ee4179",
   "metadata": {},
   "source": [
    "simulator.save_animation('Figures/Gifs/kuramoto_sakaguchi.gif', fps=50)"
   ]
  },
  {
   "cell_type": "code",
   "execution_count": null,
   "id": "b9f1ce82-7de6-4855-a4a4-0f0a82b84c47",
   "metadata": {},
   "outputs": [],
   "source": [
    "C = simulator.compute_average_correlations(n_iters=100, T=500)"
   ]
  },
  {
   "cell_type": "code",
   "execution_count": null,
   "id": "5e76ebda-1c79-4750-8dc2-0464651b863b",
   "metadata": {},
   "outputs": [],
   "source": [
    "%matplotlib inline\n",
    "plt.figure(figsize=(5, 5))\n",
    "plt.imshow(C, cmap='hot')"
   ]
  },
  {
   "cell_type": "code",
   "execution_count": null,
   "id": "d27b15ed-51af-48c8-b2dd-0f7b054c0cde",
   "metadata": {},
   "outputs": [],
   "source": [
    "mode_similarity, mapping = simulator.compute_geometric_mapping(C, N_modes=20)"
   ]
  },
  {
   "cell_type": "code",
   "execution_count": null,
   "id": "ded3ba96-d899-4ec3-9285-d9bed225595c",
   "metadata": {},
   "outputs": [],
   "source": [
    "%matplotlib inline\n",
    "fig, ax = plt.subplots(figsize=(5, 5))\n",
    "cax = plt.imshow(np.abs(mode_similarity), cmap='Reds')\n",
    "plt.xlabel('Functional modes')\n",
    "plt.ylabel('Geometric modes')\n",
    "plt.colorbar(cax, ax=ax, fraction=0.045, pad=0.02)"
   ]
  },
  {
   "cell_type": "code",
   "execution_count": null,
   "id": "8bc2f6d1-3db1-4ea0-994b-d59128bde66d",
   "metadata": {},
   "outputs": [],
   "source": [
    "save = False\n",
    "if save:\n",
    "    np.save('../Results/supp_dynamics_correlations_dynamics3.npy', C)\n",
    "    np.save('../Results/supp_dynamics_modesimilarity_dynamics3.npy', mode_similarity)"
   ]
  },
  {
   "cell_type": "markdown",
   "id": "95e02364-cd8e-40b4-a637-f3a961a2cd32",
   "metadata": {},
   "source": [
    "#### Sweeping `alpha` parameter"
   ]
  },
  {
   "cell_type": "markdown",
   "id": "e7ec441c-bc01-40f7-8ebd-0b5bf29b6cd6",
   "metadata": {},
   "source": [
    "Doing a linear sweep of the `alpha` parameter to find a regime where eigenmodes and gradients are correlated to each other."
   ]
  },
  {
   "cell_type": "code",
   "execution_count": null,
   "id": "de960235-4fea-4c1e-815f-3745d3de7d83",
   "metadata": {},
   "outputs": [],
   "source": [
    "alpha_values = np.linspace(0, 200, 40, endpoint=True)\n",
    "\n",
    "scores = []\n",
    "\n",
    "for alpha in tqdm(alpha_values):\n",
    "\n",
    "    params['alpha'] = alpha\n",
    "    \n",
    "    simulator = Simulator(ellipse,\n",
    "                      KuramotoSakaguchi,\n",
    "                      params)\n",
    "    \n",
    "    C = simulator.compute_average_correlations(n_iters=25, T=500, verbose=False)\n",
    "    mode_similarity = simulator.compute_geometric_mapping(C, N_modes=20)\n",
    "\n",
    "    scores.append(np.mean(np.abs(np.diag(mode_similarity))))"
   ]
  },
  {
   "cell_type": "code",
   "execution_count": null,
   "id": "e631e68b-0a26-4e83-b2f8-d59e6bb1d589",
   "metadata": {},
   "outputs": [],
   "source": [
    "alpha_values[np.argmax(scores)]"
   ]
  },
  {
   "cell_type": "code",
   "execution_count": null,
   "id": "86f8e4e2-69ed-4897-aa18-1318c929969a",
   "metadata": {},
   "outputs": [],
   "source": [
    "plt.plot(alpha_values, scores)"
   ]
  },
  {
   "cell_type": "markdown",
   "id": "66bc79fa-e91e-4584-847f-e5f1556ce7cf",
   "metadata": {},
   "source": [
    "#### Sweeping coupling values"
   ]
  },
  {
   "cell_type": "markdown",
   "id": "b93ee62b-dda7-4c54-bf20-553886258c11",
   "metadata": {},
   "source": [
    "Doing a linear sweep of the coupling parameter to find a regime where eigenmodes and gradients are correlated to each other."
   ]
  },
  {
   "cell_type": "code",
   "execution_count": null,
   "id": "74449d57-9fe7-4c09-bf90-b01514db09c4",
   "metadata": {},
   "outputs": [],
   "source": [
    "params['alpha'] = 50\n",
    "coupling_values = np.linspace(0, 2000, 40, endpoint=True)\n",
    "\n",
    "scores = []\n",
    "\n",
    "for coupling in tqdm(coupling_values):\n",
    "\n",
    "    params['coupling'] = coupling\n",
    "    \n",
    "    simulator = Simulator(ellipse,\n",
    "                      KuramotoSakaguchi,\n",
    "                      params)\n",
    "    \n",
    "    C = simulator.compute_average_correlations(n_iters=5, T=400, verbose=False)\n",
    "    mode_similarity = simulator.compute_geometric_mapping(C, N_modes=20)\n",
    "\n",
    "    scores.append(np.mean(np.abs(np.diag(mode_similarity))))"
   ]
  },
  {
   "cell_type": "code",
   "execution_count": null,
   "id": "dd746fd9-575d-42c5-bf06-0b82b41eb5ec",
   "metadata": {},
   "outputs": [],
   "source": [
    "plt.plot(coupling_values, scores)"
   ]
  },
  {
   "cell_type": "markdown",
   "id": "4a353c19-fad4-41b2-a163-282ffb3904e3",
   "metadata": {},
   "source": [
    "# Dynamics #4: Binary neuron cascades"
   ]
  },
  {
   "cell_type": "markdown",
   "id": "3ccab96f-c647-4029-8dd0-5802c5f67169",
   "metadata": {},
   "source": [
    "Discrete dynamical system similar to epidemic spreading.\n",
    "- `P_activation`: Probability of becoming active/infected, proportional to the number of active/infected neighbors.\n",
    "- `P_deactivation`: Probability of spontaneously becoming inactive/uninfected."
   ]
  },
  {
   "cell_type": "code",
   "execution_count": null,
   "id": "0ff53a4c-c657-4e72-a93b-e06ad7fd802c",
   "metadata": {},
   "outputs": [],
   "source": [
    "params = {'N_neurons': 1500,\n",
    "          'h': 0.1,\n",
    "          'P_activation': 0.15,\n",
    "          'P_deactivation': 0.5\n",
    "          }\n",
    "\n",
    "np.random.seed(210)\n",
    "\n",
    "simulator = Simulator(ellipse,\n",
    "                      BinaryNetwork,\n",
    "                      params)\n",
    "\n",
    "simulator.integrate(1000, output=False)"
   ]
  },
  {
   "cell_type": "code",
   "execution_count": null,
   "id": "3b36f1a1-673c-421f-ba9f-b1e9d1b7aadb",
   "metadata": {},
   "outputs": [],
   "source": [
    "%matplotlib inline\n",
    "simulator.plot(spacing=1)"
   ]
  },
  {
   "cell_type": "code",
   "execution_count": null,
   "id": "bf4504ab-0fe5-4657-8bca-ed7e0610c0ec",
   "metadata": {},
   "outputs": [],
   "source": [
    "%matplotlib inline\n",
    "simulator.imshow()"
   ]
  },
  {
   "cell_type": "markdown",
   "id": "8872897f-b3d2-441d-9ef1-0e57e73f09f6",
   "metadata": {},
   "source": [
    "np.save('Results/supp_dynamics_timeseries_dynamics4.npy', simulator.timeseries)"
   ]
  },
  {
   "cell_type": "code",
   "execution_count": null,
   "id": "90e5f2b4-aaf9-4f2f-8586-26088f1484bc",
   "metadata": {},
   "outputs": [],
   "source": [
    "%matplotlib qt\n",
    "simulator.animate(alpha=0.75,\n",
    "                  cmap='hot',\n",
    "                  vmax=1.25, fps=30)"
   ]
  },
  {
   "cell_type": "markdown",
   "id": "1488dd17-dcc9-4194-bdcc-c92d481bd2dd",
   "metadata": {},
   "source": [
    "simulator.save_animation('Figures/Gifs/binary_propagation.gif', fps=30)"
   ]
  },
  {
   "cell_type": "code",
   "execution_count": null,
   "id": "8357c8b3-e217-412b-87b6-a069ecb2172f",
   "metadata": {},
   "outputs": [],
   "source": [
    "C = simulator.compute_average_correlations(n_iters=100, T=500)"
   ]
  },
  {
   "cell_type": "code",
   "execution_count": null,
   "id": "9e3a546a-cdec-40e9-aad3-d97db6cfba94",
   "metadata": {},
   "outputs": [],
   "source": [
    "%matplotlib inline\n",
    "plt.figure(figsize=(5, 5))\n",
    "plt.imshow(C, cmap='hot')"
   ]
  },
  {
   "cell_type": "code",
   "execution_count": null,
   "id": "d369c577-1565-4fd0-9f67-21c1fa483481",
   "metadata": {},
   "outputs": [],
   "source": [
    "mode_similarity, mapping = simulator.compute_geometric_mapping(C, N_modes=20)"
   ]
  },
  {
   "cell_type": "code",
   "execution_count": null,
   "id": "c9eb151a-09eb-4bc4-9130-854368bb5d74",
   "metadata": {},
   "outputs": [],
   "source": [
    "%matplotlib inline\n",
    "fig, ax = plt.subplots(figsize=(5, 5))\n",
    "cax = plt.imshow(np.abs(mode_similarity), cmap='Reds')\n",
    "plt.xlabel('Functional modes')\n",
    "plt.ylabel('Geometric modes')\n",
    "plt.colorbar(cax, ax=ax, fraction=0.045, pad=0.02)"
   ]
  },
  {
   "cell_type": "code",
   "execution_count": null,
   "id": "6ca5226b-4f5f-4240-9896-08ece4e15020",
   "metadata": {},
   "outputs": [],
   "source": [
    "np.mean(np.abs(np.diag(mode_similarity)))"
   ]
  },
  {
   "cell_type": "code",
   "execution_count": null,
   "id": "88be68fd-df77-4d00-ad35-3dd8d161e64e",
   "metadata": {},
   "outputs": [],
   "source": [
    "np.save('../Results/supp_dynamics_correlations_dynamics4.npy', C)\n",
    "np.save('../Results/supp_dynamics_modesimilarity_dynamics4.npy', mode_similarity)"
   ]
  },
  {
   "cell_type": "markdown",
   "id": "eea8fe71-c2f8-4efd-b0a3-bff4a3207c25",
   "metadata": {},
   "source": [
    "# Dynamics #5: Spiking neural network"
   ]
  },
  {
   "cell_type": "code",
   "execution_count": null,
   "id": "cbb15198-3138-4255-89a6-195ce46cfd8c",
   "metadata": {},
   "outputs": [],
   "source": [
    "vertices = np.load('../Files/vertices_ellipse.npy').astype('float')\n",
    "eigenmodes = np.load('../Files/eigenmodes_ellipse.npy')\n",
    "\n",
    "ellipse = Geometry(vertices, eigenmodes)"
   ]
  },
  {
   "cell_type": "code",
   "execution_count": null,
   "id": "3f809f94-0307-4e7e-be98-7bfba8f77c81",
   "metadata": {},
   "outputs": [],
   "source": [
    "params = {'N_neurons': 1500,\n",
    "         'h': 0.1,\n",
    "         'g_L': 0.15,\n",
    "         'E_L': -75,\n",
    "         'E_E': -40,\n",
    "         'E_I': -90,\n",
    "         'V_thresh':-55,\n",
    "         'V_reset':-75,\n",
    "         'tau': 0.1,\n",
    "         'I_E': 5,\n",
    "         'I_I': 0,\n",
    "         'sigma_E': 0,\n",
    "         'sigma_I': 0,\n",
    "         'delta_t': 0.025\n",
    "         }\n",
    "\n",
    "simulator = Simulator(ellipse,\n",
    "                      LIFNetwork,\n",
    "                      params)\n",
    "\n",
    "simulator.integrate(1100, output=False)"
   ]
  },
  {
   "cell_type": "code",
   "execution_count": null,
   "id": "da9fce2b-0f63-4055-b6a3-c889c10a1629",
   "metadata": {},
   "outputs": [],
   "source": [
    "simulator.timeseries = gcampify(simulator.timeseries, tau=10)"
   ]
  },
  {
   "cell_type": "code",
   "execution_count": null,
   "id": "142cfa6e-0022-4b85-baf4-561f45374c0c",
   "metadata": {},
   "outputs": [],
   "source": [
    "%matplotlib inline\n",
    "simulator.plot(spacing=1.5)"
   ]
  },
  {
   "cell_type": "code",
   "execution_count": null,
   "id": "1e873d8f-f467-47c7-831b-2bfad47bad75",
   "metadata": {},
   "outputs": [],
   "source": [
    "%matplotlib inline\n",
    "simulator.imshow(vmin=0)"
   ]
  },
  {
   "cell_type": "code",
   "execution_count": null,
   "id": "80b43fb6-0533-4392-b47b-0918767901d4",
   "metadata": {},
   "outputs": [],
   "source": [
    "np.save('../Results/supp_dynamics_timeseries_dynamics5.npy', simulator.timeseries)"
   ]
  },
  {
   "cell_type": "code",
   "execution_count": null,
   "id": "ec6c48cf-df61-406a-b712-8d252d5dd99f",
   "metadata": {},
   "outputs": [],
   "source": [
    "%matplotlib qt\n",
    "simulator.animate(alpha=0.75,\n",
    "                  cmap='hot',\n",
    "                 vmax=0.15)"
   ]
  },
  {
   "cell_type": "markdown",
   "id": "f195a50d-48bf-4117-8055-444aeaf66635",
   "metadata": {},
   "source": [
    "simulator.save_animation('spiking.gif', fps=50)"
   ]
  },
  {
   "cell_type": "code",
   "execution_count": null,
   "id": "f1ddcc13-7345-41ba-90f9-e2762e05117f",
   "metadata": {},
   "outputs": [],
   "source": [
    "C = simulator.compute_average_correlations(n_iters=100, T=500, calcium=True, tau_calcium=10)"
   ]
  },
  {
   "cell_type": "code",
   "execution_count": null,
   "id": "99cb095b-30e0-4d6b-9b0f-1a50ca42eaea",
   "metadata": {},
   "outputs": [],
   "source": [
    "%matplotlib inline\n",
    "plt.figure(figsize=(5, 5))\n",
    "plt.imshow(C, cmap='hot', vmax=0.2, vmin=0.02)"
   ]
  },
  {
   "cell_type": "code",
   "execution_count": null,
   "id": "d145b6f0-c78b-4fbb-bae9-5ecda9ca23b8",
   "metadata": {},
   "outputs": [],
   "source": [
    "mode_similarity, mapping = simulator.compute_geometric_mapping(C, N_modes=20)"
   ]
  },
  {
   "cell_type": "code",
   "execution_count": null,
   "id": "f8ee0335-57c7-452c-8f03-e72ac4581b27",
   "metadata": {},
   "outputs": [],
   "source": [
    "%matplotlib inline\n",
    "fig, ax = plt.subplots(figsize=(5, 5))\n",
    "cax = plt.imshow(np.abs(mode_similarity), cmap='Reds')\n",
    "plt.xlabel('Functional modes')\n",
    "plt.ylabel('Geometric modes')\n",
    "plt.colorbar(cax, ax=ax, fraction=0.045, pad=0.02)"
   ]
  },
  {
   "cell_type": "code",
   "execution_count": null,
   "id": "52e4410d-7a9f-4d20-9de0-df716bda610d",
   "metadata": {},
   "outputs": [],
   "source": [
    "np.save('../Results/supp_dynamics_correlations_dynamics5.npy', C)\n",
    "np.save('../Results/supp_dynamics_modesimilarity_dynamics5.npy', mode_similarity)"
   ]
  },
  {
   "cell_type": "markdown",
   "id": "01e69f60-7e62-444d-9160-418fdf0846ed",
   "metadata": {},
   "source": [
    "# Part 2: Computing over many simulations"
   ]
  },
  {
   "cell_type": "markdown",
   "id": "42e27741-1a26-4869-8271-f84f98ce3ef0",
   "metadata": {},
   "source": [
    "Now, we run many simulations with each dynamical model in the optimal parameter regime to compute an average eigenmode-gradient mapping in the ellipsoid geometry."
   ]
  },
  {
   "cell_type": "markdown",
   "id": "92eda06a-492e-4730-8c85-211d703f9200",
   "metadata": {},
   "source": [
    "Loading geometry"
   ]
  },
  {
   "cell_type": "code",
   "execution_count": null,
   "id": "0f2ced3b-6feb-447d-b841-87d977c4d2aa",
   "metadata": {},
   "outputs": [],
   "source": [
    "vertices = np.load('../Files/vertices_ellipse.npy').astype('float')\n",
    "eigenmodes = np.load('../Files/eigenmodes_ellipse.npy')\n",
    "\n",
    "ellipse = Geometry(vertices, eigenmodes)"
   ]
  },
  {
   "cell_type": "markdown",
   "id": "394b78d3-7ab4-43e3-a656-730d80e4d43c",
   "metadata": {},
   "source": [
    "Setting up dynamical parameters"
   ]
  },
  {
   "cell_type": "code",
   "execution_count": null,
   "id": "641ef2b3-fd33-4908-a5bf-8ce71980062b",
   "metadata": {},
   "outputs": [],
   "source": [
    "# Chaotic RNN\n",
    "params1 = {'N_neurons': 1500,\n",
    "          'h': 0.1,\n",
    "          'g': 3,\n",
    "          'tau': 3,\n",
    "          'dale': False\n",
    "          }\n",
    "\n",
    "# Adjusted chaotic RNN + Dale's law\n",
    "params2 = {'N_neurons': 1500,\n",
    "          'h': 0.1,\n",
    "          'g': 3,\n",
    "          'g_I': 1,\n",
    "          'tau': 3,\n",
    "          'x_s': 0.1,\n",
    "          'dale': True\n",
    "          }\n",
    "\n",
    "# Kuramoto-Sakaguchi\n",
    "params3 = {'N_neurons': 1500,\n",
    "          'h': 0.1,\n",
    "          'coupling': 2000,\n",
    "          'tau': 100,\n",
    "          'alpha': 50,\n",
    "          'std': 0.1\n",
    "          }\n",
    "\n",
    "# Binary propagation\n",
    "params4 = {'N_neurons': 1500,\n",
    "          'h': 0.1,\n",
    "          'P_activation': 0.15,\n",
    "          'P_deactivation': 0.5\n",
    "          }\n",
    "\n",
    "# LIF\n",
    "params5 = {'N_neurons': 1500,\n",
    "         'h': 0.1,\n",
    "         'g_L': 0.15,\n",
    "         'E_L': -75,\n",
    "         'E_E': -40,\n",
    "         'E_I': -90,\n",
    "         'V_thresh':-55,\n",
    "         'V_reset':-75,\n",
    "         'tau': 0.1,\n",
    "         'I_E': 5,\n",
    "         'I_I': 0,\n",
    "         'sigma_E': 0,\n",
    "         'sigma_I': 0,\n",
    "         'delta_t': 0.025\n",
    "         }\n",
    "\n",
    "dynamics_list = [ChaoticRNN, AdjustedChaoticRNN, KuramotoSakaguchi, BinaryNetwork, LIFNetwork]\n",
    "params_list = [params1, params2, params3, params4, params5]\n",
    "calcium = [False, False, False, False, True]"
   ]
  },
  {
   "cell_type": "code",
   "execution_count": null,
   "id": "4969fe49-07d8-4e70-a2e1-dab599227421",
   "metadata": {},
   "outputs": [],
   "source": [
    "N_replicates = 50\n",
    "N_averages = 25\n",
    "T = 1000\n",
    "N_modes = 20\n",
    "\n",
    "mapping_matrices = [[], [], [], [], []]\n",
    "r_geometric_scores = [[], [], [], [], []]\n",
    "corrdist_curves_avg = [[], [], [], [], []]\n",
    "corrdist_curves_std = [[], [], [], [], []]\n",
    "corr_dist_correlation = [[], [], [], [], []]\n",
    "\n",
    "for _ in tqdm(range(N_replicates)):\n",
    "    for i in range(len(dynamics_list)):\n",
    "    \n",
    "        # Initializing simulator\n",
    "        simulator = Simulator(ellipse,\n",
    "                              dynamics_list[i],\n",
    "                              params_list[i])\n",
    "    \n",
    "        # Running multiple simulations to generate average correlation matrix\n",
    "        C = simulator.compute_average_correlations(n_iters=N_averages,\n",
    "                                                   T=T,\n",
    "                                                   calcium=calcium[i],\n",
    "                                                   tau_calcium=10,\n",
    "                                                   verbose=False)\n",
    "    \n",
    "        # Computing stuff from average correlation matrix C\n",
    "        mode_similarity, _ = simulator.compute_geometric_mapping(C, N_modes=N_modes)\n",
    "        r_geometric = np.mean(np.diag(np.abs(mode_similarity)))\n",
    "        curve_avg, curve_std = simulator.compute_correlation_curve(C, d_max=0.5)\n",
    "\n",
    "        d = compute_distances(simulator.coordinates, simulator.coordinates)\n",
    "        triangle = np.triu_indices(d.shape[0], 1)\n",
    "        \n",
    "\n",
    "        mapping_matrices[i].append(mode_similarity)\n",
    "        r_geometric_scores[i].append(r_geometric)\n",
    "        corrdist_curves_avg[i].append(curve_avg)\n",
    "        corrdist_curves_std[i].append(curve_std)\n",
    "        corr_dist_correlation[i].append(pearsonr(C[triangle], d[triangle])[0])"
   ]
  },
  {
   "cell_type": "code",
   "execution_count": null,
   "id": "a1ebebe9-e407-46f7-a707-f073dfc6e953",
   "metadata": {},
   "outputs": [],
   "source": [
    "np.save('../Results/supp_dynamics_matrices.npy', mapping_matrices)\n",
    "np.save('../Results/supp_dynamics_r_geometric.npy', r_geometric_scores)\n",
    "np.save('../Results/supp_dynamics_corrdist_avg.npy', corrdist_curves_avg)\n",
    "np.save('../Results/supp_dynamics_corrdist_std.npy', corrdist_curves_std)\n",
    "np.save('../Results/supp_dynamics_corrdist_relationship.npy', corr_dist_correlation)"
   ]
  },
  {
   "cell_type": "markdown",
   "id": "b417209d-9f52-4496-8202-1a5db4635443",
   "metadata": {},
   "source": [
    "# Part 3: Rendering figure"
   ]
  },
  {
   "cell_type": "markdown",
   "id": "52ec40ec-20aa-4a97-b58f-baa03599ec64",
   "metadata": {},
   "source": [
    "Now we load the results and render the supplementary figure."
   ]
  },
  {
   "cell_type": "code",
   "execution_count": null,
   "id": "11f1dbc2-6109-46cb-a3ee-04647c376dda",
   "metadata": {},
   "outputs": [],
   "source": [
    "from visualization import *\n",
    "import matplotlib.ticker as ticker"
   ]
  },
  {
   "cell_type": "code",
   "execution_count": null,
   "id": "cded646a-5d8b-48e0-b823-eda0aae5ad88",
   "metadata": {},
   "outputs": [],
   "source": [
    "timeseries, correlations, mode_similarity = [], [], []\n",
    "\n",
    "for i in range(5):\n",
    "    timeseries.append(np.load(f'../Results/supp_dynamics_timeseries_dynamics{i+1}.npy'))\n",
    "    correlations.append(np.load(f'../Results/supp_dynamics_correlations_dynamics{i+1}.npy'))\n",
    "    mode_similarity.append(np.load(f'../Results/supp_dynamics_modesimilarity_dynamics{i+1}.npy'))\n",
    "\n",
    "timeseries[2] = timeseries[2][:, 100:] # Removing dynamics onset\n",
    "timeseries[4] = timeseries[4][:, 100:] # Removing dynamics onset\n",
    "\n",
    "mapping_matrices = np.load('../Results/supp_dynamics_matrices.npy')\n",
    "r_geometric_scores = np.load('../Results/supp_dynamics_r_geometric.npy')\n",
    "corrdist_curves_avg = np.load('../Results/supp_dynamics_corrdist_avg.npy')\n",
    "corrdist_curves_std = np.load('../Results/supp_dynamics_corrdist_std.npy')\n",
    "corr_dist_correlation = np.load('../Results/supp_dynamics_corrdist_relationship.npy')"
   ]
  },
  {
   "cell_type": "code",
   "execution_count": null,
   "id": "0d54050f-7c22-4095-a86a-942059e2e743",
   "metadata": {},
   "outputs": [],
   "source": [
    "den = 300\n",
    "\n",
    "colors = [[1, 0, 0],\n",
    "         [178/den, 161/den, 255/den],\n",
    "         [44/den, 166/den, 255/den],\n",
    "         [47/den, 216/den, 180/den],\n",
    "         [255/den, 183/den, 0/den]]\n",
    "\n",
    "ylim = [[0.1, 0.30],\n",
    "       [0.05, 0.50],\n",
    "       [0.07, 0.80],\n",
    "       [0.03, 0.15],\n",
    "       [0.03, 0.4]]"
   ]
  },
  {
   "cell_type": "code",
   "execution_count": null,
   "id": "59db7eca-9785-4ff7-8c8d-f5042e64a90e",
   "metadata": {},
   "outputs": [],
   "source": [
    "cmaps = []\n",
    "for c in colors:\n",
    "    cmaps.append(make_cmap([[1, 1, 1], c], [0, 1]))"
   ]
  },
  {
   "cell_type": "code",
   "execution_count": null,
   "id": "1dd5df26-cf16-486e-b940-3e145e98ab06",
   "metadata": {},
   "outputs": [],
   "source": [
    "fig = PaperFigure(figsize=(7, 9), dpi=600)\n",
    "\n",
    "fig.set_tick_length(1)\n",
    "fig.set_font_size(6)\n",
    "fig.add_background()\n",
    "\n",
    "# Adding panels -------------------------------\n",
    "\n",
    "w = 1\n",
    "ratio = 1.75\n",
    "pad = (7 - (ratio + 3) * w) / 3\n",
    "ypad = 0.35\n",
    "\n",
    "for i in range(5):\n",
    "    fig.add_axes(f'timeseries{i}', (0, i * (w + ypad)), ratio * w, w)\n",
    "    fig.add_axes(f'correlations{i}', (ratio * w + pad, i * (w + ypad)), w, w)\n",
    "    fig.add_axes(f'mapping{i}', ((1 + ratio) * w + 2 * pad, i * (w + ypad)), w, w)\n",
    "    fig.add_axes(f'corrdist{i}', (6.2, i * (w + ypad)), w, w)\n",
    "\n",
    "fig.add_axes('barchart', (0, 5 * (w + ypad)), 2.25, 1.5 * w)\n",
    "fig.add_axes('scatter', (4, 5 * (w + ypad)), 2.25 * w, 1.5 * w)\n",
    "\n",
    "\n",
    "fig.set_line_thickness(0.6)\n",
    "\n",
    "# Content -------------------------------------\n",
    "\n",
    "for i in range(5):\n",
    "    \n",
    "    ax = fig.axes[f'timeseries{i}']\n",
    "    vmin = np.percentile(timeseries[i], 10)\n",
    "    vmax = np.percentile(timeseries[i], 95)\n",
    "    ax.imshow(timeseries[i], cmap='binary', aspect='auto', vmin=vmin, vmax=vmax, interpolation='None')\n",
    "    ax.set_xticks([])\n",
    "    ax.set_yticks([])\n",
    "\n",
    "    ax = fig.axes[f'correlations{i}']\n",
    "    vmin = np.percentile(correlations[i], 10)\n",
    "    vmax = np.percentile(correlations[i], 95)\n",
    "    ax.imshow(correlations[i], cmap='Reds', vmin=vmin, vmax=vmax)\n",
    "    ax.set_xticks([])\n",
    "    ax.set_yticks([])\n",
    "\n",
    "    ax = fig.axes[f'mapping{i}']\n",
    "    ax.imshow(np.mean(np.abs(mapping_matrices[i]), axis=0), cmap='Reds', vmin=0, vmax=1)\n",
    "    #ax.imshow(np.abs(mode_similarity[i]), cmap='Reds', vmin=0, vmax=1)\n",
    "    ax.set_xticks([])\n",
    "    ax.set_yticks([])\n",
    "\n",
    "    ax = fig.axes[f'corrdist{i}']\n",
    "    bins = np.linspace(0, 0.5, 21, endpoint=True)\n",
    "    d = bins[:-1] + (np.diff(bins) / 2)\n",
    "    d[0] = 0\n",
    "    curve_avg = np.mean(corrdist_curves_avg[i], axis=0)\n",
    "    curve_std = np.mean(corrdist_curves_std[i], axis=0)\n",
    "    ax.plot(d, curve_avg, color='black', linewidth=1)\n",
    "    #ax.fill_between(d, curve_avg - curve_std, curve_avg + curve_std, color='black', alpha=0.2, edgecolor=None)\n",
    "    ax.spines[['top', 'right']].set_visible(False)\n",
    "    ax.axvline(0.1, color='black', linewidth=0.5, linestyle='--')\n",
    "    ax.set_xlim([0, 0.4])\n",
    "    ax.set_ylim([ylim[i][0], ylim[i][1]])\n",
    "    ax.set_yticks([ylim[i][0], ylim[i][1]])\n",
    "\n",
    "ax = fig.axes['barchart']\n",
    "for i in range(5):\n",
    "    ax.scatter(np.random.uniform(i-0.1, i+0.1, len(r_geometric_scores[i])), r_geometric_scores[i], color=colors[i], edgecolor='None', s=5, alpha=0.5)\n",
    "    bp = ax.boxplot(r_geometric_scores[i], positions=[i + 0.4], patch_artist=True, widths=0.1, whis=[5, 95])\n",
    "    set_boxplot_color(bp, colors[i], marker='None', linewidth=0.75)\n",
    "ax.set_xlim([-0.5, 5])\n",
    "ax.set_ylim([0.35, 0.775])\n",
    "ax.set_xticks([])\n",
    "ax.spines[['top', 'right']].set_visible(False)\n",
    "\n",
    "ax = fig.axes['scatter']\n",
    "colors_scatter = [colors[0]] * 50 + [colors[1]] * 50 + [colors[2]] * 50 + [colors[3]] * 50 + [colors[4]] * 50\n",
    "x = np.concatenate(np.abs(corr_dist_correlation))\n",
    "y = np.concatenate(r_geometric_scores)\n",
    "a, b = np.polyfit(x, y, 1)\n",
    "ax.scatter(np.concatenate(np.abs(corr_dist_correlation)), np.concatenate(r_geometric_scores), color=colors_scatter, alpha=0.5, s=5, edgecolor='None')\n",
    "x = np.linspace(np.min(np.abs(corr_dist_correlation)), np.max(np.abs(corr_dist_correlation)), 30)\n",
    "ax.plot(x, a * x + b, color='black', linewidth=1)\n",
    "ax.spines[['top', 'right']].set_visible(False)\n",
    "#ax.set_xlim([0.125, 0.28])\n",
    "#ax.set_ylim([0.35, 0.775])\n",
    "\n",
    "# Displaying ----------------------------------\n",
    "\n",
    "fig.show()"
   ]
  },
  {
   "cell_type": "code",
   "execution_count": null,
   "id": "1f0dc3fa-091b-4657-ac28-041606575b8c",
   "metadata": {},
   "outputs": [],
   "source": [
    "fig.save('../Figures/supp_dynamics_incomplete.svg')"
   ]
  },
  {
   "cell_type": "markdown",
   "id": "3edbeb2a-92f9-4427-9e00-a37790737855",
   "metadata": {},
   "source": [
    "#### Manually written values"
   ]
  },
  {
   "cell_type": "markdown",
   "id": "275a0252-f48d-412f-833e-17ef4d515907",
   "metadata": {},
   "source": [
    "Correlation values"
   ]
  },
  {
   "cell_type": "code",
   "execution_count": null,
   "id": "919c5354-cc97-4b24-8b5f-b3b89950a44e",
   "metadata": {},
   "outputs": [],
   "source": [
    "for c in correlations:\n",
    "    vmin = np.percentile(c[i], 10)\n",
    "    vmax = np.percentile(c[i], 95)\n",
    "    print(vmin, vmax)"
   ]
  },
  {
   "cell_type": "markdown",
   "id": "c03b451a-e2df-43cb-951f-3c2cc6d74567",
   "metadata": {},
   "source": [
    "Statistical test (One-way ANOVA)"
   ]
  },
  {
   "cell_type": "code",
   "execution_count": null,
   "id": "853b5db9-c494-4186-97de-745da50de21e",
   "metadata": {},
   "outputs": [],
   "source": [
    "groups_ANOVA_Tukey(r_geometric_scores)"
   ]
  },
  {
   "cell_type": "markdown",
   "id": "3aca3fb0-e851-49ec-94a8-d0c85ce93399",
   "metadata": {},
   "source": [
    "Linear regression"
   ]
  },
  {
   "cell_type": "code",
   "execution_count": null,
   "id": "c0f2adcb-9a51-405f-b888-9f4e2edd445e",
   "metadata": {},
   "outputs": [],
   "source": [
    "x = np.concatenate(np.abs(corr_dist_correlation))\n",
    "y = np.concatenate(r_geometric_scores)\n",
    "pearsonr(x, y)"
   ]
  },
  {
   "cell_type": "code",
   "execution_count": null,
   "id": "c70b12fc-d8a0-4da8-b637-6e292e1093a3",
   "metadata": {},
   "outputs": [],
   "source": []
  }
 ],
 "metadata": {
  "kernelspec": {
   "display_name": "Python 3 (ipykernel)",
   "language": "python",
   "name": "python3"
  },
  "language_info": {
   "codemirror_mode": {
    "name": "ipython",
    "version": 3
   },
   "file_extension": ".py",
   "mimetype": "text/x-python",
   "name": "python",
   "nbconvert_exporter": "python",
   "pygments_lexer": "ipython3",
   "version": "3.9.19"
  }
 },
 "nbformat": 4,
 "nbformat_minor": 5
}
