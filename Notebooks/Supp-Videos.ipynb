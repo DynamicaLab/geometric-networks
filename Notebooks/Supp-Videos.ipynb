{
 "cells": [
  {
   "cell_type": "markdown",
   "id": "ece81af9-0221-496b-b5c5-19c3eaa02e5d",
   "metadata": {},
   "source": [
    "# Supplementary videos"
   ]
  },
  {
   "cell_type": "code",
   "execution_count": null,
   "id": "edfc51ad-bf33-44b1-a906-562b1fc52ce0",
   "metadata": {},
   "outputs": [],
   "source": [
    "import sys\n",
    "sys.path.append(\"..\")\n",
    "\n",
    "from zebrafish import *\n",
    "\n",
    "from scipy.ndimage import zoom"
   ]
  },
  {
   "cell_type": "markdown",
   "id": "8be9cceb-ef48-4073-b15a-c979ab367e3d",
   "metadata": {},
   "source": [
    "# Supplementary video 1"
   ]
  },
  {
   "cell_type": "markdown",
   "id": "9265ae73-7f70-49de-9b2f-15f81018400e",
   "metadata": {},
   "source": [
    "The gifs of neuronal activity within the ellipsoid were generated individually in the `Supp-Dynamics.ipynb` notebook, then assembled together using external software."
   ]
  },
  {
   "cell_type": "markdown",
   "id": "36c4aafd-bee9-4836-a2aa-e327c9f659a6",
   "metadata": {},
   "source": [
    "# Supplementary video 2"
   ]
  },
  {
   "cell_type": "markdown",
   "id": "f5607a44-8d0e-4c78-ace2-e929e7c2d7a2",
   "metadata": {},
   "source": [
    "Multiplane calcium imaging mosaic video."
   ]
  },
  {
   "cell_type": "code",
   "execution_count": null,
   "id": "28e9ce79-0545-4d20-840e-1f70393dc528",
   "metadata": {},
   "outputs": [],
   "source": [
    "top_directory = '/media/anleg84/KINGSTON/Datasets/Geometry/Reprocess/'\n",
    "\n",
    "folders = identify_folders(top_directory, ['920nm'])"
   ]
  },
  {
   "cell_type": "code",
   "execution_count": null,
   "id": "9b0a7999-d351-4415-a999-e9ea237177b4",
   "metadata": {},
   "outputs": [],
   "source": [
    "folder = folders[2]"
   ]
  },
  {
   "cell_type": "markdown",
   "id": "442a0b27-2d91-4dad-9971-7ee506341a7d",
   "metadata": {},
   "source": [
    "#### Saving filtered, downsampled, and mean-subtracted videos, then generating mosaic"
   ]
  },
  {
   "cell_type": "code",
   "execution_count": null,
   "id": "a738a9e6-3e97-49fa-a7bc-4b91279fb3e8",
   "metadata": {},
   "outputs": [],
   "source": [
    "for folder in folders:\n",
    "    \n",
    "    files = identify_files(folder, ['corrected_', '.tif'])\n",
    "    \n",
    "    for file in tqdm(files):\n",
    "        stack = load_stack(folder + file)\n",
    "        stack = zoom(stack, (0.5, 0.5, 0.5), order=1)\n",
    "        filtered = gaussian_filter(stack.astype('float'), (2, 1, 1))\n",
    "        avg_frame = np.mean(filtered, axis=0)\n",
    "        mean_subtracted = np.copy(filtered)\n",
    "        for i in range(filtered.shape[0]):\n",
    "            mean_subtracted[i] = filtered[i] - avg_frame\n",
    "        mean_subtracted -= zero\n",
    "        mean_subtracted[mean_subtracted < 0] = 0\n",
    "        mean_subtracted[mean_subtracted > 65535] = 65535\n",
    "        save_stack(folder + 'filtered_' + file, mean_subtracted.astype('uint16'))\n",
    "\n",
    "    frames = []\n",
    "    flag = True\n",
    "    \n",
    "    for i in tqdm(range(600), file=sys.stdout):\n",
    "    \n",
    "        volume = load_volumes(folder, [i], keywords=['filtered_', '.tif'])\n",
    "        row, rows = [], []\n",
    "        for j in range(5):\n",
    "            row.append(volume[0][j])\n",
    "        rows.append(np.concatenate(row, axis=1))\n",
    "        row = []\n",
    "        for j in range(5, 10):\n",
    "            row.append(volume[0][j])\n",
    "        rows.append(np.concatenate(row, axis=1))\n",
    "        row = []\n",
    "        for j in range(10, 15):\n",
    "            row.append(volume[0][j])\n",
    "        rows.append(np.concatenate(row, axis=1))\n",
    "        \n",
    "        frame = (255 * np.concatenate(rows, axis=0).astype('float')) / 65535\n",
    "        saturation = 50\n",
    "        frame[frame > saturation] = saturation # Adjusting contrast\n",
    "        frame *= (255 / saturation)\n",
    "        \n",
    "        if flag:\n",
    "            flag = False\n",
    "            shape = frame.shape\n",
    "            fourcc = cv2.VideoWriter_fourcc(*'MJPG')\n",
    "            writer = cv2.VideoWriter(folder + 'mosaic.avi', fourcc, 50.0, (shape[1], shape[0]), False)\n",
    "    \n",
    "        writer.write(frame.astype('uint8'))\n",
    "\n",
    "    writer.release()\n",
    "\n",
    "    files = identify_files(folder, ['filtered_', '.tif'])\n",
    "    for file in files:\n",
    "        os.remove(folder + file)"
   ]
  }
 ],
 "metadata": {
  "kernelspec": {
   "display_name": "Python 3 (ipykernel)",
   "language": "python",
   "name": "python3"
  },
  "language_info": {
   "codemirror_mode": {
    "name": "ipython",
    "version": 3
   },
   "file_extension": ".py",
   "mimetype": "text/x-python",
   "name": "python",
   "nbconvert_exporter": "python",
   "pygments_lexer": "ipython3",
   "version": "3.9.19"
  }
 },
 "nbformat": 4,
 "nbformat_minor": 5
}
