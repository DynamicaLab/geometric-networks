{
 "cells": [
  {
   "cell_type": "markdown",
   "id": "1531f016-c372-42c3-af89-ce3d23ef3a7a",
   "metadata": {},
   "source": [
    "# Figure 7 - Layout"
   ]
  },
  {
   "cell_type": "code",
   "execution_count": null,
   "id": "8cec14ba-f4db-47c7-b5d9-a7aa6ac03328",
   "metadata": {},
   "outputs": [],
   "source": [
    "import sys\n",
    "sys.path.append(\"..\")\n",
    "\n",
    "from main import *\n",
    "from zebrafish import *\n",
    "from visualization import *\n",
    "\n",
    "from scipy.stats import zscore"
   ]
  },
  {
   "cell_type": "markdown",
   "id": "bc45f5f5-a205-4b18-a32f-3bb07fa1d037",
   "metadata": {},
   "source": [
    "# Loading figure data"
   ]
  },
  {
   "cell_type": "code",
   "execution_count": null,
   "id": "2583823c-28c7-4ee3-b958-634a0947b7cc",
   "metadata": {},
   "outputs": [],
   "source": [
    "atlas_path = '/home/anleg84/Documents/Atlas/Mapzebrain/'\n",
    "atlas = Mapzebrain(atlas_path)\n",
    "\n",
    "neurons = Neurons(atlas)\n",
    "\n",
    "somas = atlas.trim_centroids(neurons.somas)\n",
    "somas = np.round(somas).astype('int')\n",
    "\n",
    "mask_tectum = atlas.get_region_mask(22)\n",
    "mask_neuropil = atlas.get_region_mask(17)\n",
    "\n",
    "neurons_in_tectum = np.where(mask_tectum[somas[:, 2], somas[:, 1], somas[:, 0]] > 0)[0]\n",
    "\n",
    "\n",
    "diagonal_values = np.load('../Results/figure7_diagonal_correlations.npy')\n",
    "piecewise_fit = np.load('../Results/figure7_piecewise_fit.npy')\n",
    "x = np.arange(50)\n",
    "\n",
    "predicted_radius = np.load('../Results/figure7_predicted_radius.npy')\n",
    "radius_lower, radius_upper = np.load('../Results/figure7_predicted_radius_interval.npy')\n",
    "radii1 = np.load('../Results/figure7_connectivity_radii_method1.npy')\n",
    "radii2 = np.load('../Results/figure7_connectivity_radii_method2.npy')"
   ]
  },
  {
   "cell_type": "markdown",
   "id": "c75f08d1-94c3-4880-8da3-0dbee89db363",
   "metadata": {},
   "source": [
    "# Inspecting single neurons"
   ]
  },
  {
   "cell_type": "markdown",
   "id": "36e1db5b-545a-4afa-8766-2ba1e2c126c7",
   "metadata": {},
   "source": [
    "Manually picking nice looking neurons"
   ]
  },
  {
   "cell_type": "code",
   "execution_count": null,
   "id": "f58c7721-d2ca-4dc0-a9c0-9db965a64580",
   "metadata": {},
   "outputs": [],
   "source": [
    "selected_ids = [35, 78, 109, 126, 148, 273, 298, 336, 342, 346, 543, 605, 706, 753, 810, 895, 913, 1001, 1016, 1043, 1088, 3284, 3324, 3496, 3617, 3618, 3815, 3830, 4177, 4212, 4216, 4246, 4253, 4277, 4289]"
   ]
  },
  {
   "cell_type": "markdown",
   "id": "58c3152b-46d9-4f13-bcaf-8c9eb8b4442e",
   "metadata": {},
   "source": [
    "for i in selected_ids:\n",
    "\n",
    "    fig, ax = plt.subplots(figsize=(5, 5))\n",
    "    color = plt.get_cmap('rainbow')(0)\n",
    "    ax.imshow(atlas.XYprojection, cmap='binary', alpha=0.25)\n",
    "    neurons.plot_top(ax, i, color=color, alpha=0.75, soma_size=2, linewidth=0.25, terminals=True, terminal_size=0.25)\n",
    "    ax.set_xlim([280, 470])\n",
    "    ax.set_ylim([500, 250])\n",
    "    plt.title(i)\n",
    "    plt.show()"
   ]
  },
  {
   "cell_type": "markdown",
   "id": "621abd95-b359-431c-a693-e23660299507",
   "metadata": {},
   "source": [
    "# Making figure layout"
   ]
  },
  {
   "cell_type": "code",
   "execution_count": null,
   "id": "f6d3a4fb-bc15-4222-a530-9398bf062056",
   "metadata": {},
   "outputs": [],
   "source": [
    "def values_to_colormap(values, cmap='viridis'):\n",
    "    norm = plt.Normalize(vmin=np.min(values), vmax=np.max(values))\n",
    "    colormap = plt.get_cmap(cmap)\n",
    "    colors = [colormap(norm(value))[:3] for value in values]\n",
    "    return colors"
   ]
  },
  {
   "cell_type": "code",
   "execution_count": null,
   "id": "863c1a3a-97db-4192-a023-a829ba1a93fa",
   "metadata": {},
   "outputs": [],
   "source": [
    "fig = PaperFigure(figsize=(7, 5))\n",
    "\n",
    "fig.set_tick_length(1)\n",
    "fig.set_font_size(6)\n",
    "fig.add_background()\n",
    "\n",
    "# Adding axes ----------------------------------------------------------------------------\n",
    "\n",
    "ratio1 = (470 - 90) / (500 - 250)\n",
    "w = 2\n",
    "fig.add_axes('tectum', (0, 0), ratio1 * w, w)\n",
    "\n",
    "N = 6\n",
    "ratio2 = (470 - 280) / (500 - 250)\n",
    "w = 2 / 3\n",
    "x = 3.5\n",
    "pad = ((7 - x) - N * (ratio2 * w)) / (N - 1)\n",
    "\n",
    "for i in range(N):\n",
    "    fig.add_axes(f'neuron{i}', (x + i * (ratio2 * w + pad), 0), ratio2 * w, w)\n",
    "    fig.add_axes(f'neuron{i+N}', (x + i * (ratio2 * w + pad), w), ratio2 * w, w)\n",
    "    fig.add_axes(f'neuron{i+int(2 * N)}', (x + i * (ratio2 * w + pad), 2*w), ratio2 * w, w)\n",
    "\n",
    "w = 1.25\n",
    "pad = (7 - 5 * w) / 4\n",
    "fig.add_axes('cutoff', (0, 2.5), w, w)\n",
    "fig.add_axes('histogram1', (2 * (w + pad), 2.5), w, w)\n",
    "fig.add_axes('histogram2', (4 * (w + pad), 2.5), w, w)\n",
    "\n",
    "\n",
    "fig.set_line_thickness(0.5)\n",
    "\n",
    "# Filling axes ---------------------------------------------------------------------------\n",
    "\n",
    "ax = fig.axes['tectum']\n",
    "colors = values_to_colormap(somas[neurons_in_tectum, 1], cmap='rainbow')\n",
    "ax.imshow(atlas.XYprojection, cmap='binary', alpha=0.25, aspect='auto')\n",
    "for j, i in enumerate(neurons_in_tectum):\n",
    "    neurons.plot_top(ax, i, color=colors[j], alpha=0.75, soma_size=2, linewidth=0.25, terminals=True, terminal_size=0.25, rasterized=True)\n",
    "ax.set_xlim([90, 470])\n",
    "ax.set_ylim([500, 250])\n",
    "ax.axis('off')\n",
    "\n",
    "order = np.argsort(somas[:, 1][selected_ids])\n",
    "uniform_ids = np.linspace(0, len(selected_ids) - 1, 3 * N, endpoint=True).astype('int')\n",
    "for i in range(3 * N):\n",
    "    ax = fig.axes[f'neuron{i}']\n",
    "    neuron_id = selected_ids[order[uniform_ids[i]]]\n",
    "    ax.imshow(atlas.XYprojection, cmap='binary', alpha=0.25, aspect='auto')\n",
    "    neurons.plot_top(ax, neuron_id, color='black', alpha=0.75, soma_size=2, linewidth=0.25, terminals=True, terminal_size=0.25, rasterized=False)\n",
    "    ax.set_xlim([280, 470])\n",
    "    ax.set_ylim([500, 250])\n",
    "    ax.axis('off')\n",
    "\n",
    "ax = fig.axes['cutoff']\n",
    "x = np.arange(50)\n",
    "ax.plot(x, diagonal_values, color='black', linewidth=0.75)\n",
    "ax.plot(x, piecewise_fit, color='red', linewidth=0.75)\n",
    "ax.set_xticks([0, 49])\n",
    "ax.spines[['top', 'right']].set_visible(False)\n",
    "\n",
    "bins = np.linspace(0, 200, 30, endpoint=True)\n",
    "ax = fig.axes['histogram1']\n",
    "ax.hist(radii1, bins=bins, color=[0.75, 0.75, 0.75])\n",
    "ax.fill_betweenx([0, 100], radius_lower, radius_upper, color='red', alpha=0.2, edgecolor='None')\n",
    "ax.axvline(np.median(radii1), color='blue', linewidth=1)\n",
    "ax.axvline(predicted_radius, color='red', linewidth=1)\n",
    "ax.spines[['top', 'right']].set_visible(False)\n",
    "ax.set_xlim([0, 150])\n",
    "ax.set_ylim([0, 90])\n",
    "\n",
    "ax = fig.axes['histogram2']\n",
    "ax.hist(radii2, bins=bins, color=[0.75, 0.75, 0.75])\n",
    "ax.fill_betweenx([0, 100], radius_lower, radius_upper, color='red', alpha=0.2, edgecolor='None')\n",
    "ax.axvline(np.median(radii2), color='blue', linewidth=1)\n",
    "ax.axvline(predicted_radius, color='red', linewidth=1)\n",
    "ax.spines[['top', 'right']].set_visible(False)\n",
    "ax.set_xlim([0, 150])\n",
    "ax.set_ylim([0, 60])\n",
    "\n",
    "fig.show()"
   ]
  },
  {
   "cell_type": "code",
   "execution_count": null,
   "id": "58d32d49-999c-4d87-ba9f-864d9fcd1b8b",
   "metadata": {},
   "outputs": [],
   "source": [
    "fig.save('../Figures/figure7_incomplete.svg')"
   ]
  },
  {
   "cell_type": "markdown",
   "id": "6846d12f-ca58-42b0-8f16-94ccc3a1adf4",
   "metadata": {},
   "source": [
    "# Manually annotated values"
   ]
  },
  {
   "cell_type": "code",
   "execution_count": null,
   "id": "be36677f-86ae-4210-a382-9c8b2b3cd592",
   "metadata": {},
   "outputs": [],
   "source": [
    "predicted_radius"
   ]
  },
  {
   "cell_type": "code",
   "execution_count": null,
   "id": "b21c03bf-2fd7-4843-9de6-0dc360b3e4ce",
   "metadata": {},
   "outputs": [],
   "source": [
    "np.median(radii1) "
   ]
  },
  {
   "cell_type": "code",
   "execution_count": null,
   "id": "49600207-496e-4d00-94ad-b6b9b589211f",
   "metadata": {},
   "outputs": [],
   "source": [
    "(np.median(radii1) - predicted_radius) / np.median(radii1)"
   ]
  },
  {
   "cell_type": "code",
   "execution_count": null,
   "id": "08ea208d-7bc1-4da7-8297-844c78db913b",
   "metadata": {},
   "outputs": [],
   "source": [
    "np.median(radii2)"
   ]
  },
  {
   "cell_type": "code",
   "execution_count": null,
   "id": "88295d85-9b70-4528-8837-c5fe64bed4a1",
   "metadata": {},
   "outputs": [],
   "source": [
    "(np.median(radii2) - predicted_radius) / np.median(radii1)"
   ]
  },
  {
   "cell_type": "code",
   "execution_count": null,
   "id": "961c2f9d-9bdc-4bae-9e7e-0e8147877ff3",
   "metadata": {},
   "outputs": [],
   "source": [
    "len(neurons_in_tectum)"
   ]
  }
 ],
 "metadata": {
  "kernelspec": {
   "display_name": "Python 3 (ipykernel)",
   "language": "python",
   "name": "python3"
  },
  "language_info": {
   "codemirror_mode": {
    "name": "ipython",
    "version": 3
   },
   "file_extension": ".py",
   "mimetype": "text/x-python",
   "name": "python",
   "nbconvert_exporter": "python",
   "pygments_lexer": "ipython3",
   "version": "3.9.19"
  }
 },
 "nbformat": 4,
 "nbformat_minor": 5
}
