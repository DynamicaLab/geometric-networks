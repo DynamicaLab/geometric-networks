{
 "cells": [
  {
   "cell_type": "markdown",
   "id": "89bc4f2f-6af5-41ed-a9ce-868835d5351c",
   "metadata": {},
   "source": [
    "# Supplementary - Geometries"
   ]
  },
  {
   "cell_type": "markdown",
   "id": "f7d79c02-6151-4b3f-8970-8d0a4d03089c",
   "metadata": {},
   "source": [
    "Contains analyses related to Supplementary Figure S1."
   ]
  },
  {
   "cell_type": "code",
   "execution_count": null,
   "id": "b5ecb2dd-342f-405e-aff9-0d7ef89c13cc",
   "metadata": {},
   "outputs": [],
   "source": [
    "import sys\n",
    "sys.path.append(\"..\")\n",
    "\n",
    "from main import *\n",
    "\n",
    "from scipy.stats import pearsonr, spearmanr\n",
    "from tqdm import tqdm\n",
    "import sys\n",
    "from scipy.optimize import linear_sum_assignment\n",
    "import matplotlib.pyplot as plt\n",
    "from numba import njit\n",
    "from scipy.stats import zscore\n",
    "\n",
    "plt.rcParams['font.size'] = 18\n",
    "\n",
    "if torch.cuda.is_available():  \n",
    "    device = \"cuda:0\" \n",
    "else:  \n",
    "    device = \"cpu\" \n",
    "    \n",
    "print(device)"
   ]
  },
  {
   "cell_type": "markdown",
   "id": "8ee70eb9-6114-4c08-8aee-d53c0c7a5c26",
   "metadata": {},
   "source": [
    "# Part 1: Inspecting single runs in geometries"
   ]
  },
  {
   "cell_type": "markdown",
   "id": "99b02357-589c-4a1e-be1a-9454f4ae3cac",
   "metadata": {},
   "source": [
    "## Geometry #1: Ellipsoid"
   ]
  },
  {
   "cell_type": "code",
   "execution_count": null,
   "id": "873a1051-0558-4140-81a9-17b23ed210b6",
   "metadata": {},
   "outputs": [],
   "source": [
    "vertices = np.load('../Files/vertices_ellipse.npy').astype('float')\n",
    "eigenmodes = np.load('../Files/eigenmodes_ellipse.npy')\n",
    "\n",
    "ellipse = Geometry(vertices, eigenmodes)"
   ]
  },
  {
   "cell_type": "code",
   "execution_count": null,
   "id": "6ed51542-053f-44be-a63d-6bb1f6fae672",
   "metadata": {},
   "outputs": [],
   "source": [
    "params = {'N_neurons': 2500,\n",
    "          'h': 0.1,\n",
    "          'g': 3,\n",
    "          'tau': 3,\n",
    "          'dale': False\n",
    "          }\n",
    "\n",
    "simulator = Simulator(ellipse,\n",
    "                      ChaoticRNN,\n",
    "                      params)\n",
    "\n",
    "simulator.integrate(1000, output=False)"
   ]
  },
  {
   "cell_type": "code",
   "execution_count": null,
   "id": "e56173ce-6bbf-4b05-8891-ffbf4adb8bdf",
   "metadata": {},
   "outputs": [],
   "source": [
    "%matplotlib inline\n",
    "simulator.plot(spacing=1.5)"
   ]
  },
  {
   "cell_type": "code",
   "execution_count": null,
   "id": "b5f9a7ad-fad0-44ae-9ac3-e57f157835fc",
   "metadata": {},
   "outputs": [],
   "source": [
    "%matplotlib inline\n",
    "simulator.imshow()"
   ]
  },
  {
   "cell_type": "code",
   "execution_count": null,
   "id": "a3b550e6-93d4-4f4a-80e3-bb84061f8fbc",
   "metadata": {},
   "outputs": [],
   "source": [
    "%matplotlib qt\n",
    "simulator.animate(alpha=0.75,\n",
    "                  cmap='hot',\n",
    "                  vmax=1.5)"
   ]
  },
  {
   "cell_type": "code",
   "execution_count": null,
   "id": "d99badee-baac-46d8-969c-329d0457532a",
   "metadata": {},
   "outputs": [],
   "source": [
    "C = simulator.compute_average_correlations(n_iters=100, T=1000)"
   ]
  },
  {
   "cell_type": "code",
   "execution_count": null,
   "id": "3f7e8646-daa4-43d0-9850-a1b18d813715",
   "metadata": {},
   "outputs": [],
   "source": [
    "%matplotlib inline\n",
    "plt.figure(figsize=(5, 5))\n",
    "plt.imshow(C, cmap='hot', vmin=0.1, vmax=0.3)"
   ]
  },
  {
   "cell_type": "code",
   "execution_count": null,
   "id": "044aa2e6-5941-4a3f-a52e-fbddcbe08848",
   "metadata": {},
   "outputs": [],
   "source": [
    "mode_similarity, mapping, gradients = simulator.compute_geometric_mapping(C, N_modes=50, return_gradients=True)"
   ]
  },
  {
   "cell_type": "code",
   "execution_count": null,
   "id": "0a387b90-bec7-4dcd-93ec-449e03a33aed",
   "metadata": {},
   "outputs": [],
   "source": [
    "%matplotlib inline\n",
    "fig, ax = plt.subplots(figsize=(5, 5))\n",
    "cax = plt.imshow(np.abs(mode_similarity), cmap='Reds')\n",
    "plt.xlabel('Functional modes')\n",
    "plt.ylabel('Geometric modes')\n",
    "plt.colorbar(cax, ax=ax, fraction=0.045, pad=0.02)"
   ]
  },
  {
   "cell_type": "code",
   "execution_count": null,
   "id": "9f32f4e2-1be1-4ab8-aaac-87ad97322cec",
   "metadata": {},
   "outputs": [],
   "source": [
    "save = True\n",
    "if save:\n",
    "    np.save('../Results/supp_geometries_coordinates_ellipse.npy', simulator.coordinates)\n",
    "    np.save('../Results/supp_geometries_matrix_ellipse.npy', mode_similarity)\n",
    "    np.save('../Results/supp_geometries_mapping_ellipse.npy', mapping)\n",
    "    np.save('../Results/supp_geometries_gradients_ellipse.npy', gradients)"
   ]
  },
  {
   "cell_type": "markdown",
   "id": "6b200bc5-42c5-475b-8c6e-1c8ea75f17cb",
   "metadata": {},
   "source": [
    "## Geometry #2: Heart"
   ]
  },
  {
   "cell_type": "code",
   "execution_count": null,
   "id": "173b38cb-0ec1-49b2-b49a-04ee137b1034",
   "metadata": {},
   "outputs": [],
   "source": [
    "vertices = np.load('../Files/vertices_heart.npy').astype('float')\n",
    "eigenmodes = np.load('../Files/eigenmodes_heart.npy')\n",
    "\n",
    "ellipse = Geometry(vertices, eigenmodes)"
   ]
  },
  {
   "cell_type": "code",
   "execution_count": null,
   "id": "f41826a4-e385-486b-b88f-b339d011c03d",
   "metadata": {},
   "outputs": [],
   "source": [
    "params = {'N_neurons': 2500,\n",
    "          'h': 0.1,\n",
    "          'g': 3,\n",
    "          'tau': 3,\n",
    "          'dale': False\n",
    "          }\n",
    "\n",
    "simulator = Simulator(ellipse,\n",
    "                      ChaoticRNN,\n",
    "                      params)\n",
    "\n",
    "simulator.integrate(1000, output=False)"
   ]
  },
  {
   "cell_type": "code",
   "execution_count": null,
   "id": "9527a621-5ee3-4571-8124-6761365ec27d",
   "metadata": {},
   "outputs": [],
   "source": [
    "%matplotlib inline\n",
    "simulator.plot(spacing=1.5)"
   ]
  },
  {
   "cell_type": "code",
   "execution_count": null,
   "id": "ca9cafea-314d-49b2-adf7-be3e4365ff05",
   "metadata": {},
   "outputs": [],
   "source": [
    "%matplotlib inline\n",
    "simulator.imshow(vmin=0, vmax=1)"
   ]
  },
  {
   "cell_type": "code",
   "execution_count": null,
   "id": "8f8b2787-21b5-40b7-9812-76aaca3ac3c3",
   "metadata": {},
   "outputs": [],
   "source": [
    "%matplotlib qt\n",
    "simulator.animate(alpha=0.75,\n",
    "                  cmap='hot',\n",
    "                  vmax=1.5,\n",
    "                  elev=10)"
   ]
  },
  {
   "cell_type": "code",
   "execution_count": null,
   "id": "51686702-e26b-408f-bfe0-8e7c5cf0af29",
   "metadata": {},
   "outputs": [],
   "source": [
    "C = simulator.compute_average_correlations(n_iters=100, T=1000)"
   ]
  },
  {
   "cell_type": "code",
   "execution_count": null,
   "id": "f9f7ee5e-979b-46c4-988b-2f88614a207e",
   "metadata": {},
   "outputs": [],
   "source": [
    "%matplotlib inline\n",
    "plt.figure(figsize=(5, 5))\n",
    "plt.imshow(C, cmap='hot', vmin=0.1, vmax=0.3)"
   ]
  },
  {
   "cell_type": "code",
   "execution_count": null,
   "id": "4568485e-1668-4a31-8dd2-3b723ccc9de2",
   "metadata": {},
   "outputs": [],
   "source": [
    "mode_similarity, mapping, gradients = simulator.compute_geometric_mapping(C, N_modes=50, return_gradients=True)"
   ]
  },
  {
   "cell_type": "code",
   "execution_count": null,
   "id": "014929b8-f637-47cf-be85-d370fdcfeb9e",
   "metadata": {},
   "outputs": [],
   "source": [
    "%matplotlib inline\n",
    "fig, ax = plt.subplots(figsize=(5, 5))\n",
    "cax = plt.imshow(np.abs(mode_similarity), cmap='Reds')\n",
    "plt.xlabel('Functional modes')\n",
    "plt.ylabel('Geometric modes')\n",
    "plt.colorbar(cax, ax=ax, fraction=0.045, pad=0.02)"
   ]
  },
  {
   "cell_type": "code",
   "execution_count": null,
   "id": "5f3be65a-a265-4d93-985b-a15c09b9a403",
   "metadata": {},
   "outputs": [],
   "source": [
    "save = True\n",
    "if save:\n",
    "    np.save('../Results/supp_geometries_coordinates_heart.npy', simulator.coordinates)\n",
    "    np.save('../Results/supp_geometries_matrix_heart.npy', mode_similarity)\n",
    "    np.save('../Results/supp_geometries_mapping_heart.npy', mapping)\n",
    "    np.save('../Results/supp_geometries_gradients_heart.npy', gradients)"
   ]
  },
  {
   "cell_type": "markdown",
   "id": "4440f899-41d7-4af0-af6d-34917b4cbd36",
   "metadata": {},
   "source": [
    "## Geometry #3: Torus"
   ]
  },
  {
   "cell_type": "code",
   "execution_count": null,
   "id": "d0893752-242d-48c4-a965-bcf994d3eaab",
   "metadata": {},
   "outputs": [],
   "source": [
    "vertices = np.load('../Files/vertices_torus.npy').astype('float')\n",
    "eigenmodes = np.load('../Files/eigenmodes_torus.npy')\n",
    "\n",
    "ellipse = Geometry(vertices, eigenmodes)"
   ]
  },
  {
   "cell_type": "code",
   "execution_count": null,
   "id": "919320da-1738-402f-a740-152ce8254c68",
   "metadata": {},
   "outputs": [],
   "source": [
    "params = {'N_neurons': 2500,\n",
    "          'h': 0.1,\n",
    "          'g': 3,\n",
    "          'tau': 3,\n",
    "          'dale': False\n",
    "          }\n",
    "\n",
    "simulator = Simulator(ellipse,\n",
    "                      ChaoticRNN,\n",
    "                      params)\n",
    "\n",
    "simulator.integrate(1000, output=False)"
   ]
  },
  {
   "cell_type": "code",
   "execution_count": null,
   "id": "817eeb24-421d-4834-8181-092b41b9a02e",
   "metadata": {},
   "outputs": [],
   "source": [
    "%matplotlib inline\n",
    "simulator.plot(spacing=1.5)"
   ]
  },
  {
   "cell_type": "code",
   "execution_count": null,
   "id": "83195367-2289-43ec-8825-37d5c0b7e857",
   "metadata": {},
   "outputs": [],
   "source": [
    "%matplotlib inline\n",
    "simulator.imshow()"
   ]
  },
  {
   "cell_type": "code",
   "execution_count": null,
   "id": "84e568d1-14df-4a03-a523-e031e4022fd8",
   "metadata": {},
   "outputs": [],
   "source": [
    "%matplotlib qt\n",
    "simulator.animate(alpha=0.75,\n",
    "                  cmap='hot',\n",
    "                  vmax=1.5)"
   ]
  },
  {
   "cell_type": "code",
   "execution_count": null,
   "id": "af09e7cc-0969-40c6-8d25-f4f779facd58",
   "metadata": {},
   "outputs": [],
   "source": [
    "C = simulator.compute_average_correlations(n_iters=100, T=1000)"
   ]
  },
  {
   "cell_type": "code",
   "execution_count": null,
   "id": "aaf10f97-1c44-4493-a804-5e11e30bf7b3",
   "metadata": {},
   "outputs": [],
   "source": [
    "%matplotlib inline\n",
    "plt.figure(figsize=(5, 5))\n",
    "plt.imshow(C, cmap='hot', vmin=0.1, vmax=0.3)"
   ]
  },
  {
   "cell_type": "code",
   "execution_count": null,
   "id": "78edf8dc-2fd8-4b82-b693-9eba7a06de28",
   "metadata": {},
   "outputs": [],
   "source": [
    "mode_similarity, mapping, gradients = simulator.compute_geometric_mapping(C, N_modes=50, return_gradients=True)"
   ]
  },
  {
   "cell_type": "code",
   "execution_count": null,
   "id": "08833d99-70e3-433c-a8f5-8985843d0267",
   "metadata": {
    "scrolled": true
   },
   "outputs": [],
   "source": [
    "%matplotlib inline\n",
    "fig, ax = plt.subplots(figsize=(5, 5))\n",
    "cax = plt.imshow(np.abs(mode_similarity), cmap='Reds')\n",
    "plt.xlabel('Functional modes')\n",
    "plt.ylabel('Geometric modes')\n",
    "plt.colorbar(cax, ax=ax, fraction=0.045, pad=0.02)"
   ]
  },
  {
   "cell_type": "code",
   "execution_count": null,
   "id": "c2705a11-85d2-4b00-8b63-017c0c1c7b4d",
   "metadata": {},
   "outputs": [],
   "source": [
    "save = True\n",
    "if save:\n",
    "    np.save('../Results/supp_geometries_coordinates_torus.npy', simulator.coordinates)\n",
    "    np.save('../Results/supp_geometries_matrix_torus.npy', mode_similarity)\n",
    "    np.save('../Results/supp_geometries_mapping_torus.npy', mapping)\n",
    "    np.save('../Results/supp_geometries_gradients_torus.npy', gradients)"
   ]
  },
  {
   "cell_type": "markdown",
   "id": "27fc2237-60fa-43d7-894f-873462c77454",
   "metadata": {},
   "source": [
    "## Geometry #4: Cow (Final boss)"
   ]
  },
  {
   "cell_type": "code",
   "execution_count": null,
   "id": "31651b56-fe74-4231-bb34-7659e5de65d9",
   "metadata": {},
   "outputs": [],
   "source": [
    "vertices = np.load('../Files/vertices_cow.npy').astype('float')\n",
    "eigenmodes = np.load('../Files/eigenmodes_cow.npy')\n",
    "\n",
    "ellipse = Geometry(vertices, eigenmodes)"
   ]
  },
  {
   "cell_type": "code",
   "execution_count": null,
   "id": "ea5669fe-b430-4f35-84af-781eab95b010",
   "metadata": {},
   "outputs": [],
   "source": [
    "params = {'N_neurons': 10000,\n",
    "          'h': 0.05,\n",
    "          'g': 5,\n",
    "          'tau': 3,\n",
    "          'dale': False\n",
    "          }\n",
    "\n",
    "simulator = Simulator(ellipse,\n",
    "                      ChaoticRNN,\n",
    "                      params)\n",
    "\n",
    "simulator.integrate(1000, output=False)"
   ]
  },
  {
   "cell_type": "code",
   "execution_count": null,
   "id": "ff14f7a6-7b6e-4a5f-82a0-a16321a9aaac",
   "metadata": {},
   "outputs": [],
   "source": [
    "%matplotlib inline\n",
    "simulator.plot(spacing=1.5)"
   ]
  },
  {
   "cell_type": "code",
   "execution_count": null,
   "id": "7f320680-6a08-430d-af05-a2a618288251",
   "metadata": {},
   "outputs": [],
   "source": [
    "%matplotlib inline\n",
    "simulator.imshow()"
   ]
  },
  {
   "cell_type": "code",
   "execution_count": null,
   "id": "527480cd-1a56-4e8d-b824-3ca30e8a348b",
   "metadata": {},
   "outputs": [],
   "source": [
    "%matplotlib qt\n",
    "simulator.animate(alpha=0.75,\n",
    "                  cmap='hot',\n",
    "                  vmax=1.5,\n",
    "                  elev=10)"
   ]
  },
  {
   "cell_type": "code",
   "execution_count": null,
   "id": "b0241814-32f9-4c34-9336-ecf2e880ff67",
   "metadata": {},
   "outputs": [],
   "source": [
    "C = simulator.compute_average_correlations(n_iters=100, T=1000)"
   ]
  },
  {
   "cell_type": "code",
   "execution_count": null,
   "id": "84384bfb-2bc5-4406-82db-06e9df6ebb78",
   "metadata": {},
   "outputs": [],
   "source": [
    "%matplotlib inline\n",
    "plt.figure(figsize=(5, 5))\n",
    "plt.imshow(C, cmap='hot', vmin=0.1, vmax=0.3)"
   ]
  },
  {
   "cell_type": "code",
   "execution_count": null,
   "id": "8c6dd8f1-450f-4bde-b88b-11848bee5e3f",
   "metadata": {},
   "outputs": [],
   "source": [
    "mode_similarity, mapping, gradients = simulator.compute_geometric_mapping(C, N_modes=50, return_gradients=True)"
   ]
  },
  {
   "cell_type": "code",
   "execution_count": null,
   "id": "7d4ec3a4-ccb3-4c51-9797-b8367b1792af",
   "metadata": {},
   "outputs": [],
   "source": [
    "%matplotlib inline\n",
    "fig, ax = plt.subplots(figsize=(5, 5))\n",
    "cax = plt.imshow(np.abs(mode_similarity), cmap='Reds')\n",
    "plt.xlabel('Functional modes')\n",
    "plt.ylabel('Geometric modes')\n",
    "plt.colorbar(cax, ax=ax, fraction=0.045, pad=0.02)"
   ]
  },
  {
   "cell_type": "code",
   "execution_count": null,
   "id": "38e28385-3404-41a2-9315-28b508ecc599",
   "metadata": {},
   "outputs": [],
   "source": [
    "save = True\n",
    "if save:\n",
    "    np.save('../Results/supp_geometries_coordinates_cow.npy', simulator.coordinates)\n",
    "    np.save('../Results/supp_geometries_matrix_cow.npy', mode_similarity)\n",
    "    np.save('../Results/supp_geometries_mapping_cow.npy', mapping)\n",
    "    np.save('../Results/supp_geometries_gradients_cow.npy', gradients)"
   ]
  },
  {
   "cell_type": "markdown",
   "id": "f01e84ca-79b4-4a99-a39c-c5facc0e1ff3",
   "metadata": {},
   "source": [
    "# Part 2: Averaging multiple runs (Compute Canada)"
   ]
  },
  {
   "cell_type": "markdown",
   "id": "e993df87-36c1-49c7-8db1-2635b7da20e5",
   "metadata": {},
   "source": [
    "This is done on a remote server (Compute Canada). See the code in the `ComputeCanada/geometries/` folder."
   ]
  },
  {
   "cell_type": "markdown",
   "id": "78ff68b7-8709-4c8f-9202-91666c82222b",
   "metadata": {},
   "source": [
    "# Part 3: Generating figure"
   ]
  },
  {
   "cell_type": "code",
   "execution_count": null,
   "id": "e1504629-b05b-4aca-a230-5cd5b6a99f4b",
   "metadata": {},
   "outputs": [],
   "source": [
    "from visualization import *"
   ]
  },
  {
   "cell_type": "code",
   "execution_count": null,
   "id": "9d531e6e-e55e-4029-8434-2d3534f0fad8",
   "metadata": {},
   "outputs": [],
   "source": [
    "coords, matrix, mapping, gradients = [], [], [], []\n",
    "\n",
    "for geo in ['ellipse', 'heart', 'torus', 'cow']:\n",
    "\n",
    "    coords.append(np.load(f'../Results/supp_geometries_coordinates_{geo}.npy'))\n",
    "    matrix.append(np.load(f'../Results/supp_geometries_matrix_{geo}.npy'))\n",
    "    mapping.append(np.load(f'../Results/supp_geometries_mapping_{geo}.npy'))\n",
    "    gradients.append(np.load(f'../Results/supp_geometries_gradients_{geo}.npy'))"
   ]
  },
  {
   "cell_type": "markdown",
   "id": "e84c67a6-d040-4895-993b-ce2527b549da",
   "metadata": {},
   "source": [
    "Averaged matrices from Compute Canada"
   ]
  },
  {
   "cell_type": "code",
   "execution_count": null,
   "id": "8043c8c4-da02-408f-bba6-0e91ffdd22d8",
   "metadata": {},
   "outputs": [],
   "source": [
    "matrices = [np.load('../ComputeCanada/geometries/mode_similarity_ellipsoid.npy'),\n",
    "            np.load('../ComputeCanada/geometries/mode_similarity_heart.npy'),\n",
    "            np.load('../ComputeCanada/geometries/mode_similarity_torus.npy'),\n",
    "            np.load('../ComputeCanada/geometries/mode_similarity_cow.npy')]"
   ]
  },
  {
   "cell_type": "markdown",
   "id": "f767ebf3-9509-4755-b81f-2d0b98398e97",
   "metadata": {},
   "source": [
    "#### Ellipse images"
   ]
  },
  {
   "cell_type": "markdown",
   "id": "ee47a5ef-e84c-47d2-9e78-75aa9c2ae8e0",
   "metadata": {},
   "source": [
    "First, we generate .png images of the 3D scatter plots of each geometry, as they are easier to work with once rendered in bitmaps."
   ]
  },
  {
   "cell_type": "code",
   "execution_count": null,
   "id": "1f2a2207-b523-4444-8ffc-9dd7d2e6c408",
   "metadata": {},
   "outputs": [],
   "source": [
    "vertices = np.load('../Files/vertices_ellipse.npy').astype('float')\n",
    "eigenmodes = np.load('../Files/eigenmodes_ellipse.npy')\n",
    "\n",
    "geometry = Geometry(vertices, eigenmodes)\n",
    "geometry.vertices -= np.mean(geometry.vertices, axis=0)"
   ]
  },
  {
   "cell_type": "code",
   "execution_count": null,
   "id": "ba5e97b4-4d17-4651-894f-d3f15f5eac0a",
   "metadata": {},
   "outputs": [],
   "source": [
    "figs_ellipse_gradients = []\n",
    "for i in range(10):\n",
    "    fig, ax = plt.subplots(subplot_kw={\"projection\": \"3d\"}, figsize=(5, 5), dpi=300)\n",
    "    ax.scatter(coords[0][:, 0] + 0.5, coords[0][:, 1] + 0.5, coords[0][:, 2] + 0.5, c=np.sign(matrix[0][i, i]) * gradients[0][mapping[0][i]], alpha=0.5, cmap='coolwarm', edgecolor='None', s=75)\n",
    "    ax.set_xlim([0, 1])\n",
    "    ax.set_ylim([0, 1])\n",
    "    ax.set_zlim([0, 1])\n",
    "    ax.set_axis_off()\n",
    "    plt.tight_layout(pad=0)\n",
    "    figs_ellipse_gradients.append(figure_to_array(fig))\n",
    "    plt.close()"
   ]
  },
  {
   "cell_type": "code",
   "execution_count": null,
   "id": "7724597c-5458-480b-b528-5d76c36a6dda",
   "metadata": {},
   "outputs": [],
   "source": [
    "plt.imshow(figs_ellipse_gradients[0])\n",
    "plt.axis('off')"
   ]
  },
  {
   "cell_type": "code",
   "execution_count": null,
   "id": "b7a44cc1-8d5b-4d44-a006-114b66ca2793",
   "metadata": {},
   "outputs": [],
   "source": [
    "figs_ellipse_eigenmodes = []\n",
    "for i in range(10):\n",
    "    fig, ax = plt.subplots(subplot_kw={\"projection\": \"3d\"}, figsize=(5, 5), dpi=300)\n",
    "    ax.scatter(vertices[:, 0], vertices[:, 1], vertices[:, 2], c=eigenmodes.T[i+1], alpha=0.5, cmap='coolwarm', edgecolor='None')\n",
    "    ax.set_xlim([0, 1])\n",
    "    ax.set_ylim([0, 1])\n",
    "    ax.set_zlim([0, 1])\n",
    "    ax.set_axis_off()\n",
    "    plt.tight_layout(pad=0)\n",
    "    figs_ellipse_eigenmodes.append(figure_to_array(fig))\n",
    "    plt.close()"
   ]
  },
  {
   "cell_type": "code",
   "execution_count": null,
   "id": "5c6dfd9b-f287-4ea2-acec-71c45ce341ea",
   "metadata": {},
   "outputs": [],
   "source": [
    "plt.imshow(figs_ellipse_eigenmodes[0])\n",
    "plt.axis('off')"
   ]
  },
  {
   "cell_type": "markdown",
   "id": "fcd0ee6e-9e76-4fbe-8fbc-728b1dfec703",
   "metadata": {},
   "source": [
    "#### Heart images"
   ]
  },
  {
   "cell_type": "code",
   "execution_count": null,
   "id": "2e58545a-1b76-4db7-8245-b3e1a5794828",
   "metadata": {},
   "outputs": [],
   "source": [
    "vertices = np.load('../Files/vertices_heart.npy').astype('float')\n",
    "eigenmodes = np.load('../Files/eigenmodes_heart.npy')\n",
    "\n",
    "geometry = Geometry(vertices, eigenmodes)\n",
    "geometry.vertices -= np.mean(geometry.vertices, axis=0)"
   ]
  },
  {
   "cell_type": "code",
   "execution_count": null,
   "id": "32a67c93-e28b-4211-9053-9149915f3f36",
   "metadata": {},
   "outputs": [],
   "source": [
    "figs_heart_gradients = []\n",
    "for i in range(10):\n",
    "    fig, ax = plt.subplots(subplot_kw={\"projection\": \"3d\"}, figsize=(5, 5), dpi=300)\n",
    "    ax.scatter(coords[1][:, 0] + 0.5, coords[1][:, 1] + 0.5, coords[1][:, 2] + 0.5, c=np.sign(matrix[1][i, i]) * gradients[1][mapping[1][i]], alpha=0.5, cmap='coolwarm', edgecolor='None', s=75)\n",
    "    ax.set_xlim([0, 1])\n",
    "    ax.set_ylim([0, 1])\n",
    "    ax.set_zlim([0, 1])\n",
    "    ax.set_axis_off()\n",
    "    plt.tight_layout(pad=0)\n",
    "    figs_heart_gradients.append(figure_to_array(fig))\n",
    "    plt.close()"
   ]
  },
  {
   "cell_type": "code",
   "execution_count": null,
   "id": "edbde1a8-8179-44a6-909a-c6a97751723a",
   "metadata": {},
   "outputs": [],
   "source": [
    "plt.imshow(figs_heart_gradients[0])\n",
    "plt.axis('off')\n",
    "plt.show()"
   ]
  },
  {
   "cell_type": "code",
   "execution_count": null,
   "id": "9ea21597-801a-48d3-b157-0ecd30db0e16",
   "metadata": {},
   "outputs": [],
   "source": [
    "figs_heart_eigenmodes = []\n",
    "for i in range(10):\n",
    "    fig, ax = plt.subplots(subplot_kw={\"projection\": \"3d\"}, figsize=(5, 5), dpi=300)\n",
    "    ax.scatter(vertices[:, 0], vertices[:, 1], vertices[:, 2], c=eigenmodes.T[i+1], alpha=0.5, cmap='coolwarm', edgecolor='None')\n",
    "    ax.set_xlim([0, 1])\n",
    "    ax.set_ylim([0, 1])\n",
    "    ax.set_zlim([0, 1])\n",
    "    ax.set_axis_off()\n",
    "    plt.tight_layout(pad=0)\n",
    "    figs_heart_eigenmodes.append(figure_to_array(fig))\n",
    "    plt.close()"
   ]
  },
  {
   "cell_type": "code",
   "execution_count": null,
   "id": "9fa006f6-0ab3-447b-b280-74ea09ece2d8",
   "metadata": {},
   "outputs": [],
   "source": [
    "plt.imshow(figs_heart_eigenmodes[0])\n",
    "plt.axis('off')"
   ]
  },
  {
   "cell_type": "markdown",
   "id": "b4bb1fb4-f085-413a-bb5f-0a6bbe519989",
   "metadata": {},
   "source": [
    "#### Torus images"
   ]
  },
  {
   "cell_type": "code",
   "execution_count": null,
   "id": "03f6de71-e3cb-4fac-b642-91366e2ab2b2",
   "metadata": {},
   "outputs": [],
   "source": [
    "vertices = np.load('../Files/vertices_torus.npy').astype('float')\n",
    "eigenmodes = np.load('../Files/eigenmodes_torus.npy')\n",
    "\n",
    "geometry = Geometry(vertices, eigenmodes)\n",
    "geometry.vertices -= np.mean(geometry.vertices, axis=0)"
   ]
  },
  {
   "cell_type": "code",
   "execution_count": null,
   "id": "a4cd834b-db08-41ca-9ce4-786db072fa61",
   "metadata": {},
   "outputs": [],
   "source": [
    "figs_torus_gradients = []\n",
    "for i in range(10):\n",
    "    fig, ax = plt.subplots(subplot_kw={\"projection\": \"3d\"}, figsize=(5, 5), dpi=300)\n",
    "    ax.scatter(coords[2][:, 0] + 0.5, coords[2][:, 1] + 0.5, coords[2][:, 2] + 0.5, c=np.sign(matrix[2][i, i]) * gradients[2][mapping[2][i]], alpha=0.5, cmap='coolwarm', edgecolor='None', s=75)\n",
    "    ax.set_xlim([0, 1])\n",
    "    ax.set_ylim([0, 1])\n",
    "    ax.set_zlim([0, 1])\n",
    "    ax.set_axis_off()\n",
    "    plt.tight_layout(pad=0)\n",
    "    figs_torus_gradients.append(figure_to_array(fig))\n",
    "    plt.close()"
   ]
  },
  {
   "cell_type": "code",
   "execution_count": null,
   "id": "d730523f-a42a-4aec-9a60-64b66724ae44",
   "metadata": {},
   "outputs": [],
   "source": [
    "plt.imshow(figs_torus_gradients[0])\n",
    "plt.axis('off')"
   ]
  },
  {
   "cell_type": "code",
   "execution_count": null,
   "id": "9e71fb72-64c7-4d6f-8a1c-5f9000efdb07",
   "metadata": {},
   "outputs": [],
   "source": [
    "figs_torus_eigenmodes = []\n",
    "for i in range(10):\n",
    "    fig, ax = plt.subplots(subplot_kw={\"projection\": \"3d\"}, figsize=(5, 5), dpi=300)\n",
    "    ax.scatter(vertices[:, 0], vertices[:, 1], vertices[:, 2], c=eigenmodes.T[i+1], alpha=0.5, cmap='coolwarm', edgecolor='None')\n",
    "    ax.set_xlim([0, 1])\n",
    "    ax.set_ylim([0, 1])\n",
    "    ax.set_zlim([0, 1])\n",
    "    ax.set_axis_off()\n",
    "    plt.tight_layout(pad=0)\n",
    "    figs_torus_eigenmodes.append(figure_to_array(fig))\n",
    "    plt.close()"
   ]
  },
  {
   "cell_type": "code",
   "execution_count": null,
   "id": "3cc304bf-e0dc-40ed-9d37-8a926744d3ca",
   "metadata": {},
   "outputs": [],
   "source": [
    "plt.imshow(figs_torus_eigenmodes[0])\n",
    "plt.axis('off')"
   ]
  },
  {
   "cell_type": "markdown",
   "id": "a6602734-6fea-4d2f-933c-9d116f5696c3",
   "metadata": {},
   "source": [
    "#### Cow images"
   ]
  },
  {
   "cell_type": "code",
   "execution_count": null,
   "id": "14cc85c8-a179-4267-9f5c-e7f0dec132a0",
   "metadata": {},
   "outputs": [],
   "source": [
    "vertices = np.load('../Files/vertices_cow.npy').astype('float')\n",
    "eigenmodes = np.load('../Files/eigenmodes_cow.npy')\n",
    "\n",
    "geometry = Geometry(vertices, eigenmodes)\n",
    "geometry.vertices -= np.mean(geometry.vertices, axis=0)"
   ]
  },
  {
   "cell_type": "code",
   "execution_count": null,
   "id": "4525605f-af06-4f2b-b34a-3347e02737e9",
   "metadata": {},
   "outputs": [],
   "source": [
    "figs_cow_gradients = []\n",
    "for i in range(10):\n",
    "    fig, ax = plt.subplots(subplot_kw={\"projection\": \"3d\"}, figsize=(5, 5), dpi=300)\n",
    "    ax.scatter(coords[3][:, 0] + 0.5, coords[3][:, 1] + 0.5, coords[3][:, 2] + 0.5, c=np.sign(matrix[3][i, i]) * gradients[3][mapping[3][i]], alpha=0.5, cmap='coolwarm', edgecolor='None', s=75)\n",
    "    ax.set_xlim([0, 1])\n",
    "    ax.set_ylim([0, 1])\n",
    "    ax.set_zlim([0, 1])\n",
    "    ax.set_axis_off()\n",
    "    ax.view_init(elev=-10, azim=135)\n",
    "    plt.tight_layout(pad=0)\n",
    "    figs_cow_gradients.append(figure_to_array(fig))\n",
    "    plt.close()"
   ]
  },
  {
   "cell_type": "code",
   "execution_count": null,
   "id": "6ff02285-ecca-4f51-a5c3-1e996a2376f1",
   "metadata": {},
   "outputs": [],
   "source": [
    "plt.imshow(figs_cow_gradients[0])\n",
    "plt.axis('off')"
   ]
  },
  {
   "cell_type": "code",
   "execution_count": null,
   "id": "11b8c31d-cb12-43fa-9e3d-016884095cbe",
   "metadata": {},
   "outputs": [],
   "source": [
    "figs_cow_eigenmodes = []\n",
    "for i in range(10):\n",
    "    fig, ax = plt.subplots(subplot_kw={\"projection\": \"3d\"}, figsize=(5, 5), dpi=300)\n",
    "    ax.scatter(vertices[:, 0], vertices[:, 1], vertices[:, 2], c=eigenmodes.T[i+1], alpha=0.5, cmap='coolwarm', edgecolor='None')\n",
    "    ax.set_xlim([0, 1])\n",
    "    ax.set_ylim([0, 1])\n",
    "    ax.set_zlim([0, 1])\n",
    "    ax.set_axis_off()\n",
    "    ax.view_init(elev=-10, azim=135)\n",
    "\n",
    "    plt.tight_layout(pad=0)\n",
    "    figs_cow_eigenmodes.append(figure_to_array(fig))\n",
    "    plt.close()"
   ]
  },
  {
   "cell_type": "markdown",
   "id": "d25ecec4-a38f-46ce-8c30-415521ab2384",
   "metadata": {},
   "source": [
    "#### Rendering multi-panel figure"
   ]
  },
  {
   "cell_type": "code",
   "execution_count": null,
   "id": "b7895850-3417-4c80-a046-b7c269b3c0a4",
   "metadata": {},
   "outputs": [],
   "source": [
    "def zoom_crop(array, factor=2, x_offset=0, y_offset=0):\n",
    "    if factor != 1:\n",
    "        L = array.shape[0]\n",
    "        delta = int((1 - (1 / factor)) * L / 2)\n",
    "        return array[delta+y_offset:-delta+y_offset, delta+x_offset:-delta+x_offset, :]\n",
    "    else:\n",
    "        return array"
   ]
  },
  {
   "cell_type": "code",
   "execution_count": null,
   "id": "de43376b-34bc-49b4-b5a5-96c09ea78a11",
   "metadata": {},
   "outputs": [],
   "source": [
    "fig = PaperFigure(figsize=(7, 9))\n",
    "\n",
    "fig.set_tick_length(2)\n",
    "fig.set_font_size(6)\n",
    "fig.add_background()\n",
    "\n",
    "\n",
    "N_modes = 10\n",
    "w = 5.5 / N_modes\n",
    "ratio = 1\n",
    "pad = 0\n",
    "\n",
    "y = 0\n",
    "for i in range(N_modes):\n",
    "    fig.add_axes('gradients_ellipse{}'.format(i), (i * (w + pad), y), w, w * ratio)\n",
    "    fig.add_axes('modes_ellipse{}'.format(i), (i * (w + pad), y + w * ratio + 0.1), w, w * ratio)\n",
    "\n",
    "y = 2\n",
    "for i in range(N_modes):\n",
    "    fig.add_axes('gradients_heart{}'.format(i), (i * (w + pad), y), w, w * ratio)\n",
    "    fig.add_axes('modes_heart{}'.format(i), (i * (w + pad), y + w * ratio + 0.1), w, w * ratio)\n",
    "\n",
    "y = 4\n",
    "for i in range(N_modes):\n",
    "    fig.add_axes('gradients_torus{}'.format(i), (i * (w + pad), y), w, w * ratio)\n",
    "    fig.add_axes('modes_torus{}'.format(i), (i * (w + pad), y + w * ratio + 0.1), w, w * ratio)\n",
    "\n",
    "y = 6\n",
    "for i in range(N_modes):\n",
    "    fig.add_axes('gradients_cow{}'.format(i), (i * (w + pad), y), w, w * ratio)\n",
    "    fig.add_axes('modes_cow{}'.format(i), (i * (w + pad), y + w * ratio + 0.1), w, w * ratio)\n",
    "\n",
    "fig.add_axes('matrix_ellipse', (6, 0), 1, 1)\n",
    "fig.add_axes('matrix_heart', (6, 2), 1, 1)\n",
    "fig.add_axes('matrix_torus', (6, 4), 1, 1)\n",
    "fig.add_axes('matrix_cow', (6, 6), 1, 1)\n",
    "\n",
    "fig.set_line_thickness(0.6)\n",
    "\n",
    "# --------------------------------------------------------------------------------------------------\n",
    "\n",
    "zoom_factors = [1.75, 1.4, 1.4, 1.75]\n",
    "offsets = [0, 0, 0, 0]\n",
    "figs_gradients = [figs_ellipse_gradients, figs_heart_gradients, figs_torus_gradients, figs_cow_gradients]\n",
    "figs_eigenmodes = [figs_ellipse_eigenmodes, figs_heart_eigenmodes, figs_torus_eigenmodes, figs_cow_eigenmodes]\n",
    "geometries = ['ellipse', 'heart', 'torus', 'cow']\n",
    "\n",
    "for j in range(len(geometries)):\n",
    "\n",
    "    ax = fig.axes[f'matrix_{geometries[j]}']\n",
    "    #ax.imshow(np.abs(matrix[j])[:20, :20], cmap='Reds', vmin=0, vmax=1)\n",
    "    ax.imshow(np.mean(np.abs(matrices[j]), axis=0)[:20, :20], cmap='Reds', vmin=0, vmax=1)\n",
    "    ax.set_xticks([])\n",
    "    ax.set_yticks([])\n",
    "\n",
    "    for i in range(N_modes):\n",
    "        ax = fig.axes[f'gradients_{geometries[j]}{i}']\n",
    "        ax.imshow(zoom_crop(figs_gradients[j][i], factor=zoom_factors[j], x_offset=offsets[j]))\n",
    "        ax.axis('off')\n",
    "    \n",
    "        ax = fig.axes[f'modes_{geometries[j]}{i}']\n",
    "        ax.imshow(zoom_crop(figs_eigenmodes[j][i], factor=zoom_factors[j], x_offset=offsets[j]))\n",
    "        ax.axis('off')\n",
    "\n",
    "fig.show()"
   ]
  },
  {
   "cell_type": "code",
   "execution_count": null,
   "id": "0daff28e-4ec0-4b3b-83d8-d99b937aa8f9",
   "metadata": {},
   "outputs": [],
   "source": [
    "fig.save('../Figures/supp_geometries_incomplete.svg')"
   ]
  },
  {
   "cell_type": "markdown",
   "id": "a0644dad-fecb-412d-a2be-56da949e0de4",
   "metadata": {},
   "source": [
    "#### Manually written values"
   ]
  },
  {
   "cell_type": "code",
   "execution_count": null,
   "id": "c9766eb8-f4a9-42b9-b01f-d7c67956994c",
   "metadata": {},
   "outputs": [],
   "source": [
    "print(np.abs(np.diag(matrix[0]))[:10])"
   ]
  },
  {
   "cell_type": "code",
   "execution_count": null,
   "id": "4e0219e3-0a9b-4283-bb99-0a73a4ebbfad",
   "metadata": {},
   "outputs": [],
   "source": [
    "print(np.abs(np.diag(matrix[1]))[:10])"
   ]
  },
  {
   "cell_type": "code",
   "execution_count": null,
   "id": "5bc4c929-daf9-4124-9cb1-48758e3f3347",
   "metadata": {},
   "outputs": [],
   "source": [
    "print(np.abs(np.diag(matrix[2]))[:10])"
   ]
  },
  {
   "cell_type": "code",
   "execution_count": null,
   "id": "e983cc2a-3149-432c-b372-5fcfb89c44fd",
   "metadata": {},
   "outputs": [],
   "source": [
    "print(np.abs(np.diag(matrix[3]))[:10])"
   ]
  },
  {
   "cell_type": "code",
   "execution_count": null,
   "id": "f5d77e86-78a4-4869-b574-dc72e60538cc",
   "metadata": {},
   "outputs": [],
   "source": []
  }
 ],
 "metadata": {
  "kernelspec": {
   "display_name": "Python 3 (ipykernel)",
   "language": "python",
   "name": "python3"
  },
  "language_info": {
   "codemirror_mode": {
    "name": "ipython",
    "version": 3
   },
   "file_extension": ".py",
   "mimetype": "text/x-python",
   "name": "python",
   "nbconvert_exporter": "python",
   "pygments_lexer": "ipython3",
   "version": "3.9.19"
  }
 },
 "nbformat": 4,
 "nbformat_minor": 5
}
