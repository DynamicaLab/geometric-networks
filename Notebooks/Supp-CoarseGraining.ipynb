{
 "cells": [
  {
   "cell_type": "markdown",
   "id": "33038f5d-3d7a-4ef2-9cf6-3f84ff96b939",
   "metadata": {},
   "source": [
    "# Supplementary - Effect of coarse-graining and individual eigenmode-gradient correlations"
   ]
  },
  {
   "cell_type": "markdown",
   "id": "1e7d7682-982c-458a-aa58-ff6409229c63",
   "metadata": {},
   "source": [
    "Conducts analyses related to Supplementary Figure S8."
   ]
  },
  {
   "cell_type": "code",
   "execution_count": null,
   "id": "aafc3cf9-4232-4bc9-a582-b54cd7be93d7",
   "metadata": {},
   "outputs": [],
   "source": [
    "import sys\n",
    "sys.path.append(\"..\")\n",
    "\n",
    "from main import *\n",
    "from zebrafish import *\n",
    "\n",
    "from scipy.stats import zscore, spearmanr\n",
    "from scipy.stats import percentileofscore\n",
    "from brainsmash.mapgen.base import Base"
   ]
  },
  {
   "cell_type": "markdown",
   "id": "3a296617-de91-44b1-85da-abc2c88fe570",
   "metadata": {},
   "source": [
    "# Setting paths"
   ]
  },
  {
   "cell_type": "code",
   "execution_count": null,
   "id": "35d54487-9792-4732-81b8-402a06509343",
   "metadata": {},
   "outputs": [],
   "source": [
    "atlas_path = '/home/anleg84/Documents/Atlas/Mapzebrain/'\n",
    "\n",
    "atlas = Mapzebrain(atlas_path)\n",
    "mask_tectum = atlas.get_region_mask(22)\n",
    "mask_tectum[:, :, :284] = 0"
   ]
  },
  {
   "cell_type": "code",
   "execution_count": null,
   "id": "f08da5b5-7b25-438b-83fe-1d7699534abc",
   "metadata": {},
   "outputs": [],
   "source": [
    "top_directory = '/media/anleg84/KINGSTON/Datasets/Geometry/Reprocess/'\n",
    "try:\n",
    "    datasets = identify_folders(top_directory, ['920nm'])\n",
    "except:\n",
    "    datasets = None"
   ]
  },
  {
   "cell_type": "markdown",
   "id": "2e643638-7ad1-4e50-bded-7adb557308c4",
   "metadata": {},
   "source": [
    "# Part 1: Varying the number of tectal nodes"
   ]
  },
  {
   "cell_type": "markdown",
   "id": "008ce455-b0ec-4ab5-bfc6-ee2bd8ab6192",
   "metadata": {},
   "source": [
    "Studying the effect of coarse-graining on geometric gradients."
   ]
  },
  {
   "cell_type": "code",
   "execution_count": null,
   "id": "db3cf259-fa82-4f79-9db2-b74120b143d6",
   "metadata": {},
   "outputs": [],
   "source": [
    "N_nodes = [200, 400, 600, 800, 1000]\n",
    "\n",
    "for N in N_nodes:\n",
    "\n",
    "    print(f'Computing geometric mapping for {N} tectal nodes...')\n",
    "\n",
    "    nodes_tectum = np.load(f'../Files/nodes_tectum_right_{N}.npy') * 2  # Pre-computed in Figure6-Meshes.ipynb\n",
    "\n",
    "    # Mapping neurons in tectal nodes\n",
    "    N_in_tectum = []\n",
    "    centroids_tectum = []\n",
    "    for folder in datasets:\n",
    "        data = load_data(folder)\n",
    "        centroids = data['centroids_atlas']\n",
    "        in_tectum = mask_tectum[centroids[:, 2], centroids[:, 1], centroids[:, 0]] > 0\n",
    "        N_in_tectum.append(np.sum(in_tectum))\n",
    "        centroids_tectum.append(centroids[in_tectum])\n",
    "\n",
    "    # Verifying which nodes contain a sufficient amount of neurons across animals\n",
    "    vectors = []\n",
    "    for c in centroids_tectum:\n",
    "        nn, _ = find_nearest_neighbors(centroids_tectum[0], nodes_tectum)\n",
    "        vector = np.zeros((nodes_tectum.shape[0], ))\n",
    "        vector[np.unique(nn)] = 1\n",
    "        vectors.append(vector)\n",
    "    vectors = np.stack(vectors, axis=0)\n",
    "    sampled = (np.sum(vectors > 0, axis=0) >= 0.5 * len(datasets))\n",
    "    nodes_tectum = nodes_tectum[sampled]\n",
    "\n",
    "    # Computing tectal correlation matrices\n",
    "    mask_tectum = atlas.get_region_mask(22)\n",
    "    mask_tectum[:, :, :284] = 0 # Focusing on right hemisphere (x=284 is the saggital midplane)\n",
    "    FC_matrices = []\n",
    "    for i, folder in enumerate(datasets):\n",
    "        data = load_data(folder)\n",
    "        centroids = data['centroids_atlas']\n",
    "        in_tectum = mask_tectum[centroids[:, 2], centroids[:, 1], centroids[:, 0]] > 0\n",
    "        centroids_tectum = centroids[in_tectum]\n",
    "        dff_tectum = data['timeseries'][in_tectum]\n",
    "        dff_tectum = compute_dff_using_minfilter(dff_tectum, window=120, sigma1=3, sigma2=60)\n",
    "        dff_tectum = filter_timeseries(dff_tectum, 2)\n",
    "        nn, _ = find_nearest_neighbors(centroids_tectum, nodes_tectum)\n",
    "        node_timeseries = np.zeros((nodes_tectum.shape[0], dff_tectum.shape[1]))\n",
    "        for i in range(nodes_tectum.shape[0]):\n",
    "            neurons_in_node = (nn == i) # Neurons whose nearest neighbor corresponds to the tectum node i\n",
    "            if np.any(neurons_in_node):\n",
    "                if np.sum(neurons_in_node) == 1:\n",
    "                    node_timeseries[i] = dff_tectum[neurons_in_node]\n",
    "                else:\n",
    "                    node_timeseries[i] = np.mean(dff_tectum[neurons_in_node], axis=0)                         \n",
    "        FC = np.corrcoef(node_timeseries)\n",
    "        FC_matrices.append(FC)\n",
    "    FC_matrices = np.stack(FC_matrices, axis=0)\n",
    "\n",
    "    # Computing average correlation matrix\n",
    "    FC = np.nanmean(FC_matrices[:], axis=0)\n",
    "    FC[np.diag_indices(FC.shape[0])] = 0\n",
    "    order = np.argsort(nodes_tectum[:, 1])\n",
    "\n",
    "    # Plotting correlation matrix\n",
    "    plt.figure(figsize=(5, 5), dpi=150)\n",
    "    plt.imshow(FC[order, :][:, order], vmin=-0.25, vmax=0.25, cmap='coolwarm')\n",
    "    plt.xlabel('Node $j$')\n",
    "    plt.ylabel('Node $i$')\n",
    "    plt.show()\n",
    "\n",
    "    # Computing gradients and comparing with geometric eigenmodes\n",
    "    N_modes = FC.shape[0]\n",
    "    gradients, _ = diffusion_mapping(np.abs(FC), n_components=N_modes)\n",
    "    vertices = np.load('../Files/tectum_vertices_right.npy') * 40\n",
    "    vertices = np.stack([vertices[:, 2], vertices[:, 1], vertices[:, 0]], axis=1)\n",
    "    eigenmodes = np.load('../Files/tectum_eigenmodes_right.npy')[1:]\n",
    "    d = compute_distances(vertices, nodes_tectum)\n",
    "    eigenmodes = eigenmodes[:, np.argmin(d, axis=0)]\n",
    "    mode_similarity, mapping = compute_mode_similarity_matrix(eigenmodes[:30], gradients.T[:30], return_mapping=True)\n",
    "\n",
    "    plt.figure(figsize=(5, 5), dpi=150)\n",
    "    plt.imshow(np.abs(mode_similarity), cmap='Reds', vmin=0.1, vmax=1)\n",
    "    plt.ylabel('Geometric modes')\n",
    "    plt.xlabel('Functional gradients')\n",
    "    plt.show()\n",
    "\n",
    "    np.save(f'../Results/supp_similarity_matrix_{N}nodes.npy', mode_similarity)"
   ]
  },
  {
   "cell_type": "markdown",
   "id": "308d9b23-dd56-4cb1-b853-db53f1164382",
   "metadata": {},
   "source": [
    "Loading results from the previous cell"
   ]
  },
  {
   "cell_type": "code",
   "execution_count": null,
   "id": "6aa29b9e-9a42-4419-b25f-d3aaa8474ed6",
   "metadata": {},
   "outputs": [],
   "source": [
    "matrices = [np.load('../Results/supp_similarity_matrix_200nodes.npy'),\n",
    "            np.load('../Results/supp_similarity_matrix_400nodes.npy'),\n",
    "            np.load('../Results/supp_similarity_matrix_600nodes.npy'),\n",
    "            np.load('../Results/supp_similarity_matrix_800nodes.npy'),\n",
    "            np.load('../Results/supp_similarity_matrix_1000nodes.npy')]\n",
    "\n",
    "matrices = np.stack(matrices)"
   ]
  },
  {
   "cell_type": "code",
   "execution_count": null,
   "id": "9c6627bc-684e-4598-9177-dbe1b81798e0",
   "metadata": {},
   "outputs": [],
   "source": [
    "%matplotlib inline"
   ]
  },
  {
   "cell_type": "markdown",
   "id": "20d39385-0ec7-4095-9693-3d3c159ae50c",
   "metadata": {},
   "source": [
    "Plotting mode correlation matrices"
   ]
  },
  {
   "cell_type": "code",
   "execution_count": null,
   "id": "62f1d1c5-7ab4-4476-b6d7-17bfc8856c4e",
   "metadata": {},
   "outputs": [],
   "source": [
    "fig, ax = plt.subplots(1, 5, figsize=(15, 3))\n",
    "ax[0].imshow(np.abs(matrices[0]), vmin=0, vmax=1, cmap='Reds')\n",
    "ax[1].imshow(np.abs(matrices[1]), vmin=0.1, vmax=1, cmap='Reds')\n",
    "ax[2].imshow(np.abs(matrices[2]), vmin=0.1, vmax=1, cmap='Reds')\n",
    "ax[3].imshow(np.abs(matrices[3]), vmin=0.1, vmax=1, cmap='Reds')\n",
    "ax[4].imshow(np.abs(matrices[4]), vmin=0.1, vmax=1, cmap='Reds')"
   ]
  },
  {
   "cell_type": "markdown",
   "id": "10d12e07-1e2f-4a14-9dc2-e4cc3ee555d2",
   "metadata": {},
   "source": [
    "# Part 2: Single-fish gradients"
   ]
  },
  {
   "cell_type": "code",
   "execution_count": null,
   "id": "ce8c12c3-0683-4610-9a25-847b51599dc4",
   "metadata": {},
   "outputs": [],
   "source": [
    "nodes_tectum = np.load('../Files/nodes_tectum_right_sampled.npy')"
   ]
  },
  {
   "cell_type": "markdown",
   "id": "12871b80-d819-48e9-bf5e-83e587b4e113",
   "metadata": {},
   "source": [
    "#### Computing single-cell and nodal correlations"
   ]
  },
  {
   "cell_type": "code",
   "execution_count": null,
   "id": "2dec281b-d447-4797-9aac-d8e1d6182d89",
   "metadata": {},
   "outputs": [],
   "source": [
    "FC_matrices_cellular, FC_matrices_nodes = [], []\n",
    "cell_coordinates = []\n",
    "\n",
    "for i, folder in tqdm(enumerate(datasets)):\n",
    "    \n",
    "    data = load_data(folder)\n",
    "    \n",
    "    centroids = data['centroids_atlas']\n",
    "    \n",
    "    in_tectum = mask_tectum[centroids[:, 2], centroids[:, 1], centroids[:, 0]] > 0\n",
    "    centroids_tectum = centroids[in_tectum]\n",
    "    dff_tectum = data['timeseries'][in_tectum]\n",
    "    dff_tectum = compute_dff_using_minfilter(dff_tectum, window=120, sigma1=3, sigma2=60)\n",
    "    dff_tectum = filter_timeseries(dff_tectum, 2)\n",
    "\n",
    "    #dff_tectum = spatial_smoothing(dff_tectum, centroids_tectum, sigma=20) # Used for tests\n",
    "\n",
    "    corrs = np.corrcoef(dff_tectum)\n",
    "    corrs[np.diag_indices(corrs.shape[0])] = 0    \n",
    "    FC_matrices_cellular.append(corrs)\n",
    "    cell_coordinates.append(centroids_tectum)\n",
    "\n",
    "    nn, _ = find_nearest_neighbors(centroids_tectum, nodes_tectum)\n",
    "    node_timeseries = np.zeros((nodes_tectum.shape[0], dff_tectum.shape[1]))\n",
    "    for i in range(nodes_tectum.shape[0]):\n",
    "        neurons_in_node = (nn == i) # Neurons whose nearest neighbor corresponds to the tectum node i\n",
    "        if np.any(neurons_in_node):\n",
    "            if np.sum(neurons_in_node) == 1:\n",
    "                node_timeseries[i] = dff_tectum[neurons_in_node]\n",
    "            else:\n",
    "                node_timeseries[i] = np.mean(dff_tectum[neurons_in_node], axis=0)   \n",
    "                \n",
    "    FC = np.corrcoef(node_timeseries)\n",
    "    FC_matrices_nodes.append(FC)"
   ]
  },
  {
   "cell_type": "markdown",
   "id": "f7d5ac12-9cf5-4178-b3e1-853f99130c67",
   "metadata": {},
   "source": [
    "#### Plotting correlation matrices, single-cell resolution"
   ]
  },
  {
   "cell_type": "code",
   "execution_count": null,
   "id": "511821c5-b9f9-4e00-88d0-3bb9d87127da",
   "metadata": {},
   "outputs": [],
   "source": [
    "fig, axes = plt.subplots(2, 6, figsize=(15, 5))\n",
    "\n",
    "for i, ax in enumerate(axes.flatten()):\n",
    "    order = np.argsort(cell_coordinates[i][:, 1])\n",
    "    C = np.copy(FC_matrices_cellular[i])[order, :][:, order]\n",
    "    ax.imshow(C, cmap='coolwarm', vmin=-0.1, vmax=0.1)\n",
    "    ax.set_xticks([])\n",
    "    ax.set_yticks([])\n",
    "    ax.set_title(f'Fish {i+1}')"
   ]
  },
  {
   "cell_type": "markdown",
   "id": "48f04b3d-e891-4527-93c5-85a209441304",
   "metadata": {},
   "source": [
    "#### Plotting correlation matrices, coarse-grained resolution"
   ]
  },
  {
   "cell_type": "code",
   "execution_count": null,
   "id": "855e3c22-9de1-4800-b946-3e830561bfa4",
   "metadata": {},
   "outputs": [],
   "source": [
    "order = np.argsort(nodes_tectum[:, 1])\n",
    "\n",
    "fig, axes = plt.subplots(2, 6, figsize=(15, 5))\n",
    "for i, ax in enumerate(axes.flatten()):\n",
    "    C = np.copy(FC_matrices_nodes[i])[order, :][:, order]\n",
    "    C[np.isnan(C)] = 0\n",
    "    ax.imshow(C, cmap='coolwarm', vmin=-0.25, vmax=0.25)\n",
    "    ax.set_xticks([])\n",
    "    ax.set_yticks([])\n",
    "    ax.set_title(f'Fish {i+1}')"
   ]
  },
  {
   "cell_type": "markdown",
   "id": "4b422e05-bc69-4ddf-9586-0c37002def05",
   "metadata": {},
   "source": [
    "#### Single-fish geometric gradients, coarse-grained"
   ]
  },
  {
   "cell_type": "code",
   "execution_count": null,
   "id": "fe88ad21-35eb-401d-b769-0748a66a852a",
   "metadata": {},
   "outputs": [],
   "source": [
    "similarity_matrices_nodes = []\n",
    "\n",
    "for i in tqdm(range(len(FC_matrices_nodes))):\n",
    "    FC = np.copy(FC_matrices_nodes[i])\n",
    "    excluded = np.where(np.isnan(FC_matrices_nodes[i][0]))[0]\n",
    "    FC = np.delete(np.delete(FC, excluded, axis=0), excluded, axis=1)\n",
    "    #FC[FC < 0] = 0\n",
    "    \n",
    "    gradients, _ = diffusion_mapping(np.abs(normalize(FC)), n_components=100)\n",
    "    \n",
    "    vertices = np.load('../Files/tectum_vertices_right.npy') * 40\n",
    "    vertices = np.stack([vertices[:, 2], vertices[:, 1], vertices[:, 0]], axis=1)\n",
    "    eigenmodes = np.load('../Files/tectum_eigenmodes_right.npy')[1:]\n",
    "    \n",
    "    d = compute_distances(vertices, np.delete(nodes_tectum, excluded, axis=0))\n",
    "    eigenmodes = eigenmodes[:, np.argmin(d, axis=0)]\n",
    "    mode_similarity, mapping = compute_mode_similarity_matrix(eigenmodes[:30], gradients.T[:30], return_mapping=True)\n",
    "\n",
    "    similarity_matrices_nodes.append(mode_similarity)"
   ]
  },
  {
   "cell_type": "code",
   "execution_count": null,
   "id": "50b124b5-fd24-4596-9afc-aa4edd27d097",
   "metadata": {},
   "outputs": [],
   "source": [
    "order = np.argsort(nodes_tectum[:, 1])\n",
    "\n",
    "fig, axes = plt.subplots(2, 6, figsize=(15, 5))\n",
    "for i, ax in enumerate(axes.flatten()):\n",
    "    ax.imshow(similarity_matrices_nodes[i], cmap='Reds', vmin=0, vmax=1)\n",
    "    ax.set_xticks([])\n",
    "    ax.set_yticks([])\n",
    "    ax.set_title(f'Fish {i+1}')"
   ]
  },
  {
   "cell_type": "markdown",
   "id": "cdc39a2f-bfdb-440e-b21d-beed818b136c",
   "metadata": {},
   "source": [
    "# Rendering supplementary figure"
   ]
  },
  {
   "cell_type": "code",
   "execution_count": null,
   "id": "9e0f8753-6f8c-4fb4-9c5a-1d20a48b38ec",
   "metadata": {},
   "outputs": [],
   "source": [
    "fig = PaperFigure(figsize=(7, 7))\n",
    "\n",
    "fig.set_tick_length(1)\n",
    "fig.set_font_size(6)\n",
    "fig.add_background()\n",
    "\n",
    "# Adding axes ----------------------------------------------------------------------------\n",
    "\n",
    "w = 1.2\n",
    "pad = (7 - 5 * w) / 4\n",
    "\n",
    "for i in range(5):\n",
    "    fig.add_axes(f'similarity_matrix{i}', (i * (w + pad), 0), w, w)\n",
    "\n",
    "w = 1\n",
    "pad = (7 - 6 * w) / 5\n",
    "for i in range(6):\n",
    "    fig.add_axes(f'correlations{i}', (i * (w + pad),  1.75), w, w)\n",
    "    fig.add_axes(f'correlations{i+6}', (i * (w + pad),  3), w, w)\n",
    "\n",
    "for i in range(6):\n",
    "    fig.add_axes(f'similarity_fish{i}', (i * (w + pad),  4.5), w, w)\n",
    "    fig.add_axes(f'similarity_fish{i+6}', (i * (w + pad),  5.75), w, w)\n",
    "\n",
    "fig.set_line_thickness(0.5)\n",
    "\n",
    "# Filling axes ---------------------------------------------------------------------------\n",
    "\n",
    "for i in range(5):\n",
    "    ax = fig.axes[f'similarity_matrix{i}']\n",
    "    ax.imshow(np.abs(matrices[i]), vmin=0.1, vmax=1, cmap='Reds')\n",
    "    ax.set_xticks([])\n",
    "    ax.set_yticks([])\n",
    "\n",
    "for i in range(12):\n",
    "    ax = fig.axes[f'correlations{i}']\n",
    "    C = np.copy(FC_matrices_nodes[i])[order, :][:, order]\n",
    "    C[np.isnan(C)] = 0\n",
    "    ax.imshow(C, cmap='coolwarm', vmin=-0.4, vmax=0.4)\n",
    "    ax.set_xticks([])\n",
    "    ax.set_yticks([])\n",
    "\n",
    "for i in range(12):\n",
    "    ax = fig.axes[f'similarity_fish{i}']\n",
    "    ax.imshow(similarity_matrices_nodes[i], cmap='Reds', vmin=0, vmax=1)\n",
    "    ax.set_xticks([])\n",
    "    ax.set_yticks([])\n",
    "\n",
    "fig.save('../Figures/supp_coarsegraining_incomplete.svg')\n",
    "\n",
    "fig.show()"
   ]
  },
  {
   "cell_type": "code",
   "execution_count": null,
   "id": "d2ff759d-7372-4ef4-be11-5b541f9d67be",
   "metadata": {},
   "outputs": [],
   "source": []
  }
 ],
 "metadata": {
  "kernelspec": {
   "display_name": "Python 3 (ipykernel)",
   "language": "python",
   "name": "python3"
  },
  "language_info": {
   "codemirror_mode": {
    "name": "ipython",
    "version": 3
   },
   "file_extension": ".py",
   "mimetype": "text/x-python",
   "name": "python",
   "nbconvert_exporter": "python",
   "pygments_lexer": "ipython3",
   "version": "3.9.19"
  }
 },
 "nbformat": 4,
 "nbformat_minor": 5
}
