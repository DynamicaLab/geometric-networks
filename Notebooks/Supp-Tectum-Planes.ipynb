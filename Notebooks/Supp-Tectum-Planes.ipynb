{
 "cells": [
  {
   "cell_type": "markdown",
   "id": "c73bd96e-e7b6-45ce-bae7-3a62f4319444",
   "metadata": {},
   "source": [
    "# Supplementary - Example imaging planes"
   ]
  },
  {
   "cell_type": "markdown",
   "id": "1530d82e-fe47-4959-a6d6-0722328e1403",
   "metadata": {},
   "source": [
    "Supplementary Figure S7."
   ]
  },
  {
   "cell_type": "code",
   "execution_count": null,
   "id": "0cb39607-7eda-4154-9966-63523ddec9f0",
   "metadata": {},
   "outputs": [],
   "source": [
    "import sys\n",
    "sys.path.append(\"..\")\n",
    "\n",
    "from main import *\n",
    "from zebrafish import *\n",
    "\n",
    "from scipy.stats import zscore, spearmanr\n",
    "from scipy.stats import percentileofscore\n",
    "from brainsmash.mapgen.base import Base"
   ]
  },
  {
   "cell_type": "markdown",
   "id": "f648bf31-69c2-48be-9586-465c05e941d8",
   "metadata": {},
   "source": [
    "# Setting paths"
   ]
  },
  {
   "cell_type": "code",
   "execution_count": null,
   "id": "fde10811-3387-458d-8230-597a8d64bee1",
   "metadata": {},
   "outputs": [],
   "source": [
    "atlas_path = '/home/anleg84/Documents/Atlas/Mapzebrain/'\n",
    "\n",
    "atlas = Mapzebrain(atlas_path)\n",
    "mask_tectum = atlas.get_region_mask(22)\n",
    "mask_tectum[:, :, :284] = 0\n",
    "\n",
    "top_directory = '/media/anleg84/KINGSTON/Geometry/Reprocess/'\n",
    "try:\n",
    "    datasets = identify_folders(top_directory, ['920nm'])\n",
    "except:\n",
    "    datasets = None"
   ]
  },
  {
   "cell_type": "markdown",
   "id": "a3798670-44b6-4450-877f-073c585f004c",
   "metadata": {},
   "source": [
    "# Plotting neuronal ROIs on microscopy images"
   ]
  },
  {
   "cell_type": "markdown",
   "id": "6b6df24b-0923-42d8-b9aa-24d99ada9bfd",
   "metadata": {},
   "source": [
    "One example image from one animal."
   ]
  },
  {
   "cell_type": "code",
   "execution_count": null,
   "id": "b5295bb8-1b3b-4de7-a593-d3c6acb1aa78",
   "metadata": {},
   "outputs": [],
   "source": [
    "from matplotlib.colors import ListedColormap"
   ]
  },
  {
   "cell_type": "code",
   "execution_count": null,
   "id": "cc6b9286-8552-410e-8416-540fa944c3dd",
   "metadata": {},
   "outputs": [],
   "source": [
    "folder = datasets[0]\n",
    "\n",
    "data = load_data(folder)"
   ]
  },
  {
   "cell_type": "code",
   "execution_count": null,
   "id": "76b90bc2-a5ac-4574-9cd2-bad0391cbb6d",
   "metadata": {},
   "outputs": [],
   "source": [
    "plane = 3\n",
    "\n",
    "in_tectum = data['region_labels'][:, 22][data['centroids'][:, 2] == plane]    \n",
    "frame = data['average_frames'][plane]\n",
    "masks = np.copy(data['masks'][plane])\n",
    "for i in range(len(in_tectum)):\n",
    "    if not in_tectum[i]:\n",
    "        masks[masks == (i + 1)] = 0\n",
    "N_rois = len(np.unique(masks)) - 1\n",
    "colors = generate_n_colors(10) * int(((int(N_rois) / 10) + 1))\n",
    "colors = ['None'] + colors\n",
    "cmap = ListedColormap(colors)"
   ]
  },
  {
   "cell_type": "code",
   "execution_count": null,
   "id": "83f19159-1a59-4b36-8e5e-b08ed524df24",
   "metadata": {},
   "outputs": [],
   "source": [
    "%matplotlib inline"
   ]
  },
  {
   "cell_type": "code",
   "execution_count": null,
   "id": "f430127b-7740-48f5-ba8a-046abc36d63b",
   "metadata": {},
   "outputs": [],
   "source": [
    "plt.figure(figsize=(15, 10), dpi=300)\n",
    "plt.imshow(frame, cmap='gray', vmax=15000)\n",
    "plt.imshow(masks, cmap=cmap, alpha=0.35)"
   ]
  },
  {
   "cell_type": "markdown",
   "id": "d4b866b9-dcf6-4281-81e0-bdc5034033a7",
   "metadata": {},
   "source": [
    "# Rendering figure"
   ]
  },
  {
   "cell_type": "code",
   "execution_count": null,
   "id": "b881a77f-9303-4e3c-8bf4-512c8e5b26a7",
   "metadata": {},
   "outputs": [],
   "source": [
    "folder = datasets[1]\n",
    "\n",
    "data = load_data(folder)"
   ]
  },
  {
   "cell_type": "code",
   "execution_count": null,
   "id": "e44e99a9-ecca-4aef-9001-639d8eabc404",
   "metadata": {},
   "outputs": [],
   "source": [
    "fig = PaperFigure(figsize=(7, 7), dpi=600)\n",
    "\n",
    "fig.set_tick_length(2)\n",
    "fig.set_font_size(6)\n",
    "fig.add_background()\n",
    "\n",
    "ratio = frame.shape[1] / frame.shape[0]\n",
    "w = 7 / 3\n",
    "h = w / ratio\n",
    "\n",
    "fig.add_axes('plane1', (0 * w, 0 * h), w, h)\n",
    "fig.add_axes('plane2', (1 * w, 0 * h), w, h)\n",
    "fig.add_axes('plane3', (2 * w, 0 * h), w, h)\n",
    "fig.add_axes('plane4', (0 * w, 1 * h), w, h)\n",
    "fig.add_axes('plane5', (1 * w, 1 * h), w, h)\n",
    "fig.add_axes('plane6', (2 * w, 1 * h), w, h)\n",
    "fig.add_axes('plane7', (0 * w, 2 * h), w, h)\n",
    "fig.add_axes('plane8', (1 * w, 2 * h), w, h)\n",
    "fig.add_axes('plane9', (2 * w, 2 * h), w, h)\n",
    "fig.add_axes('plane10', (0 * w, 3 * h), w, h)\n",
    "fig.add_axes('plane11', (1 * w, 3 * h), w, h)\n",
    "fig.add_axes('plane12', (2 * w, 3 * h), w, h)\n",
    "fig.add_axes('plane13', (0 * w, 4 * h), w, h)\n",
    "fig.add_axes('plane14', (1 * w, 4 * h), w, h)\n",
    "fig.add_axes('plane15', (2 * w, 4 * h), w, h)\n",
    "\n",
    "fig.set_line_thickness(0.6)\n",
    "\n",
    "# --------------------------------------------------------------------------------------------------\n",
    "\n",
    "for i in range(15):\n",
    "\n",
    "    in_tectum = data['region_labels'][:, 22][data['centroids'][:, 2] == i]    \n",
    "    frame = data['average_frames'][i]\n",
    "    masks = np.copy(data['masks'][i])\n",
    "    for j in range(len(in_tectum)):\n",
    "        if not in_tectum[j]:\n",
    "            masks[masks == (j + 1)] = 0\n",
    "    N_rois = len(np.unique(masks)) - 1\n",
    "    colors = generate_n_colors(10) * int(((int(N_rois) / 10) + 1))\n",
    "    np.random.shuffle(colors)\n",
    "    colors = ['None'] + colors\n",
    "    cmap = ListedColormap(colors)\n",
    "    print(N_rois) # Printing the number of segmented neurons to manually annotate the frames later\n",
    "\n",
    "    ax = fig.axes[f'plane{i+1}']\n",
    "    ax.imshow(frame, cmap='gray', vmax=25000)\n",
    "    ax.imshow(masks, cmap=cmap, alpha=0.5, interpolation='None')\n",
    "    ax.set_xticks([])\n",
    "    ax.set_yticks([])\n",
    "\n",
    "fig.show()"
   ]
  },
  {
   "cell_type": "code",
   "execution_count": null,
   "id": "d430e63e-2ae8-455f-b13f-e549dbdab5c7",
   "metadata": {},
   "outputs": [],
   "source": [
    "fig.save('../Figures/supp_imagingplanes_incomplete.svg')"
   ]
  },
  {
   "cell_type": "code",
   "execution_count": null,
   "id": "8b1f5fdc-ec4f-4bea-ad45-185ab5f9a786",
   "metadata": {},
   "outputs": [],
   "source": [
    "np.sum(data['region_labels'][:, 22])"
   ]
  },
  {
   "cell_type": "code",
   "execution_count": null,
   "id": "26609bc6-cd13-4763-be69-e20a5b222c40",
   "metadata": {},
   "outputs": [],
   "source": []
  }
 ],
 "metadata": {
  "kernelspec": {
   "display_name": "Python 3 (ipykernel)",
   "language": "python",
   "name": "python3"
  },
  "language_info": {
   "codemirror_mode": {
    "name": "ipython",
    "version": 3
   },
   "file_extension": ".py",
   "mimetype": "text/x-python",
   "name": "python",
   "nbconvert_exporter": "python",
   "pygments_lexer": "ipython3",
   "version": "3.9.19"
  }
 },
 "nbformat": 4,
 "nbformat_minor": 5
}
