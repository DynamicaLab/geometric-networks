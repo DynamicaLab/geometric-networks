{
 "cells": [
  {
   "cell_type": "markdown",
   "id": "ee5e3dde-7656-45d7-a58d-211baeef8c7b",
   "metadata": {},
   "source": [
    "# Figure 2 - Analysis"
   ]
  },
  {
   "cell_type": "code",
   "execution_count": null,
   "id": "7230c890-accb-4159-b972-70ae4daa462f",
   "metadata": {},
   "outputs": [],
   "source": [
    "import sys\n",
    "sys.path.append(\"..\")\n",
    "\n",
    "from main import *\n",
    "\n",
    "import matplotlib.pyplot as plt\n",
    "from scipy.stats import pearsonr, spearmanr\n",
    "\n",
    "plt.rcParams['font.size'] = 12\n",
    "\n",
    "if torch.cuda.is_available():  \n",
    "    device = \"cuda:0\" \n",
    "else:  \n",
    "    device = \"cpu\" \n",
    "print(device)"
   ]
  },
  {
   "cell_type": "markdown",
   "id": "649585fc-db5d-454a-9a9e-6214eaea5316",
   "metadata": {},
   "source": [
    "#### Loading data"
   ]
  },
  {
   "cell_type": "code",
   "execution_count": null,
   "id": "6cf8549d-5180-450b-9a4d-f870215a344e",
   "metadata": {},
   "outputs": [],
   "source": [
    "vertices = np.load('../Files/vertices_ellipse.npy').astype('float')\n",
    "order = np.argsort(vertices[:, 2])\n",
    "vertices = vertices[order]\n",
    "eigenmodes = np.load('../Files/eigenmodes_ellipse.npy')[order]"
   ]
  },
  {
   "cell_type": "markdown",
   "id": "68fd6af4-1f33-4646-869f-dbb595caad60",
   "metadata": {},
   "source": [
    "# Evaluating the effect of connectivity radius $h$"
   ]
  },
  {
   "cell_type": "markdown",
   "id": "ef5f5bba-3e98-4147-8633-c015c8b7fb42",
   "metadata": {},
   "source": [
    "Simulations were conducted externally on a computer cluster (`Compute Canada`) and the results are loaded here for analysis. See the script in the `ComputeCanada/kernel_size/` folder for a code example."
   ]
  },
  {
   "cell_type": "code",
   "execution_count": null,
   "id": "cdcba065-5fd9-48b5-bc25-38c06cfac68b",
   "metadata": {},
   "outputs": [],
   "source": [
    "scores_per_h = np.load('../Results/scores_per_h_2500.npy') # 50 h values, 10 simulations per h value"
   ]
  },
  {
   "cell_type": "code",
   "execution_count": null,
   "id": "ad345a9d-56b8-4199-b5b4-e5689a7aea83",
   "metadata": {},
   "outputs": [],
   "source": [
    "h_values = np.linspace(0.025, 1, 50)\n",
    "\n",
    "print(h_values[np.argmax(np.mean(scores_per_h, axis=1))])"
   ]
  },
  {
   "cell_type": "markdown",
   "id": "ac68db2b-853e-455d-8d0d-a18b351e0ea7",
   "metadata": {},
   "source": [
    "Plotting the average correlation between eigenmodes and gradients for varying $h$ values."
   ]
  },
  {
   "cell_type": "code",
   "execution_count": null,
   "id": "eae9f3b9-b454-4d92-8b5c-3cde595849e9",
   "metadata": {},
   "outputs": [],
   "source": [
    "fig, ax = plt.subplots(figsize=(5, 5))\n",
    "ax.plot(h_values, np.mean(scores_per_h, axis=1), color='red', linewidth=2)\n",
    "for i in range(scores_per_h.shape[1]):\n",
    "    ax.scatter(h_values, scores_per_h[:, i], color='black', s=5)\n",
    "\n",
    "ax.spines[['top', 'right']].set_visible(False)\n",
    "plt.ylabel('Average $|r|$ (50 modes)')\n",
    "plt.xlabel('$h$')\n",
    "#plt.xlim([0, 0.25])"
   ]
  },
  {
   "cell_type": "markdown",
   "id": "8fe1724c-102c-45c5-a593-7f4d9c5a58d2",
   "metadata": {},
   "source": [
    "### Fitting curves"
   ]
  },
  {
   "cell_type": "markdown",
   "id": "844ce6f3-f4b6-4d4d-aaa5-1c069587b878",
   "metadata": {},
   "source": [
    "Fitting an exponential function in the decaying part of the previous average curve."
   ]
  },
  {
   "cell_type": "code",
   "execution_count": null,
   "id": "66ca334e-d0f7-46d2-b4f6-998623b47564",
   "metadata": {},
   "outputs": [],
   "source": [
    "from scipy.optimize import curve_fit\n",
    "\n",
    "def model(x, a, b, c):\n",
    "    return (a / (x ** b)) + c"
   ]
  },
  {
   "cell_type": "code",
   "execution_count": null,
   "id": "f6cb0b7b-a06e-4fb5-878e-da52e534b8e7",
   "metadata": {},
   "outputs": [],
   "source": [
    "i = 6\n",
    "x = h_values[i:]\n",
    "y = np.mean(scores_per_h, axis=1)[i:]\n",
    "\n",
    "initial_guess = [0, 2, 0.05]\n",
    "params, _ = curve_fit(model, x, y, p0=initial_guess, maxfev=5000)\n",
    "\n",
    "fig, ax = plt.subplots(figsize=(5, 5))\n",
    "for i in range(10):\n",
    "    plt.scatter(x, y, color='black', alpha=0.5)\n",
    "plt.plot(x, model(x, params[0], params[1], params[2]), color='red', alpha=1, linewidth=2)\n",
    "ax.spines[['top', 'right']].set_visible(False)\n",
    "plt.xlabel('$h$')\n",
    "plt.ylabel('Reconstruction quality')\n",
    "plt.show()\n",
    "\n",
    "print(params)"
   ]
  },
  {
   "cell_type": "markdown",
   "id": "3e790014-a51b-46df-85f6-35e36ea2d8e5",
   "metadata": {},
   "source": [
    "#### Estimating exponent from bootstrap sampling"
   ]
  },
  {
   "cell_type": "markdown",
   "id": "e0875472-eb4a-4c51-99ba-d8cbaa1fa46e",
   "metadata": {},
   "source": [
    "Randomly selecting individual simulations for each $h$ value, then computing exponents across a certain range of arbitrary cutoff points."
   ]
  },
  {
   "cell_type": "code",
   "execution_count": null,
   "id": "0ad7c1f8-c100-4120-8461-3a7d1adbcda0",
   "metadata": {},
   "outputs": [],
   "source": [
    "params_all = []\n",
    "\n",
    "for _ in tqdm(range(10000)):\n",
    "\n",
    "    # Randomly subsampling\n",
    "    ids = np.random.uniform(0, scores_per_h.shape[1], (scores_per_h.shape[0], )).astype('int')\n",
    "    scores = []\n",
    "    for j, i in enumerate(ids):\n",
    "        scores.append(scores_per_h[j, i])\n",
    "\n",
    "    # Fitting for different cutoff points\n",
    "    params = []\n",
    "    for i in range(7, 10): # Different cutoff points\n",
    "        x = h_values[i:]\n",
    "        y = scores[i:]\n",
    "        initial_guess = [0, 3, 0.05]\n",
    "        p, _ = curve_fit(model, x, y, p0=initial_guess, maxfev=5000)\n",
    "        params.append(p)\n",
    "\n",
    "    params_all += params\n",
    "\n",
    "params = np.stack(params_all, axis=0)"
   ]
  },
  {
   "cell_type": "markdown",
   "id": "3cbe01aa-8e7e-4d9d-b9e0-4a3e4d665ce5",
   "metadata": {},
   "source": [
    "Average exponent:"
   ]
  },
  {
   "cell_type": "code",
   "execution_count": null,
   "id": "c22552cd-21a0-42eb-8463-a9c2303e40c0",
   "metadata": {},
   "outputs": [],
   "source": [
    "np.mean(params, axis=0)[1]"
   ]
  },
  {
   "cell_type": "code",
   "execution_count": null,
   "id": "082ff39f-3344-4518-9420-697de4c7244e",
   "metadata": {},
   "outputs": [],
   "source": [
    "plt.hist(params[:, 1], bins=30)\n",
    "plt.show()"
   ]
  },
  {
   "cell_type": "code",
   "execution_count": null,
   "id": "a192bea1-8653-47ba-87c0-6f5f0629fb4f",
   "metadata": {},
   "outputs": [],
   "source": [
    "np.save('../Results/exponents_distribution.npy', params)"
   ]
  },
  {
   "cell_type": "markdown",
   "id": "a91c0522-b6fd-466b-bec2-005c6bbdfb61",
   "metadata": {},
   "source": [
    "#### Plotting all exponentials"
   ]
  },
  {
   "cell_type": "code",
   "execution_count": null,
   "id": "2e29d92d-a8be-4aa5-b6df-bd6e20d897e2",
   "metadata": {},
   "outputs": [],
   "source": [
    "fig, ax = plt.subplots(figsize=(5, 5))\n",
    "for i in range(scores_per_h.shape[1]):\n",
    "    ax.scatter(h_values[7:], scores_per_h[7:, i], color='black', s=5)\n",
    "\n",
    "x = h_values[7:]\n",
    "for p in params[:100]:\n",
    "    plt.plot(x, model(x, p[0], p[1], p[2]), color='red', alpha=0.1, linewidth=1)\n",
    "plt.xlim([0.12, 0.6])\n",
    "\n",
    "\n",
    "ax.spines[['top', 'right']].set_visible(False)\n",
    "plt.ylabel('Average $|r|$ (50 modes)')\n",
    "plt.xlabel('$h$')\n",
    "#plt.xlim([0, 0.25])"
   ]
  },
  {
   "cell_type": "markdown",
   "id": "94b68041-758c-4dad-9532-a28aa43bf613",
   "metadata": {},
   "source": [
    "# Edge-swapping"
   ]
  },
  {
   "cell_type": "markdown",
   "id": "a8841a1b-9d30-4ed1-8c45-6faefec7cf8f",
   "metadata": {},
   "source": [
    "#### Analyzing mode correlations vs # of edge swaps"
   ]
  },
  {
   "cell_type": "markdown",
   "id": "8abe43c3-d5f6-4d58-af2b-41df626ad79d",
   "metadata": {},
   "source": [
    "Again, results were obtained externally on a computer cluster. See the code in the `ComputeCanada/edge_swapping/` folder."
   ]
  },
  {
   "cell_type": "code",
   "execution_count": null,
   "id": "eb391c0b-b540-4cc3-bfe5-afb4458a8f33",
   "metadata": {},
   "outputs": [],
   "source": [
    "D_mean = np.load('../ComputeCanada/edge_swapping/avg_d_per_rho_swaps.npy') # Average connection length after swaps\n",
    "mode_similarities = np.load('../ComputeCanada/edge_swapping/mode_correlations_per_rho_swaps.npy') # Eigenmode-gradient correlations after edge swaps\n",
    "\n",
    "fractions = np.linspace(0, 0.99, 36, endpoint=True)\n",
    "\n",
    "scores = np.zeros((mode_similarities.shape[0], mode_similarities.shape[1]))\n",
    "for i in range(mode_similarities.shape[0]):\n",
    "    for j in range(mode_similarities.shape[1]):\n",
    "        scores[i, j] = np.mean(np.abs(np.diag(mode_similarities[i, j])))"
   ]
  },
  {
   "cell_type": "markdown",
   "id": "35b7e178-749a-4b0b-a25a-6df3c0e25c27",
   "metadata": {},
   "source": [
    "#### Number of edge swaps vs average connection length"
   ]
  },
  {
   "cell_type": "code",
   "execution_count": null,
   "id": "30ef1ac0-ca0d-4220-bdfb-33bb86f4e5f3",
   "metadata": {},
   "outputs": [],
   "source": [
    "fig, ax = plt.subplots(figsize=(5, 5))\n",
    "\n",
    "ax.plot(fractions, np.mean(D_mean, axis=1), color='red', linewidth=2)\n",
    "for i in range(D_mean.shape[1]):\n",
    "    ax.scatter(fractions, D_mean[:, i], color='black', s=5)\n",
    "\n",
    "ax.spines[['top', 'right']].set_visible(False)\n",
    "plt.ylabel('Average $d$')\n",
    "plt.xlabel('Fraction of edge swaps')\n",
    "#plt.xlim([0, 0.25])"
   ]
  },
  {
   "cell_type": "markdown",
   "id": "b7d8b860-c5e2-4a0d-9889-4ff04ecf44c2",
   "metadata": {},
   "source": [
    "#### Eigenmode-gradient correlations following edge swaps"
   ]
  },
  {
   "cell_type": "code",
   "execution_count": null,
   "id": "6d8b91b6-b0e9-4cde-b8c2-94bf27717f8c",
   "metadata": {},
   "outputs": [],
   "source": [
    "fig, ax = plt.subplots(figsize=(5, 5))\n",
    "\n",
    "ax.plot(fractions, np.mean(scores, axis=1), color='red', linewidth=2)\n",
    "for i in range(scores.shape[1]):\n",
    "    ax.scatter(fractions, scores[:, i], color='black', s=5)\n",
    "\n",
    "ax.spines[['top', 'right']].set_visible(False)\n",
    "plt.xlabel('Fraction of edges swapped')\n",
    "plt.ylabel('Mode correspondence')\n",
    "#plt.xlim([0, 0.25])"
   ]
  },
  {
   "cell_type": "markdown",
   "id": "931dfe81-96df-4f7c-9e2e-0bd18b266d80",
   "metadata": {},
   "source": [
    "#### Comparison with $h$ variation"
   ]
  },
  {
   "cell_type": "markdown",
   "id": "8c76df68-243a-470d-ad36-abe6fdcc51f3",
   "metadata": {},
   "source": [
    "Measuring average distance for different $h$ values and using these distances to compare with edge swapping."
   ]
  },
  {
   "cell_type": "code",
   "execution_count": null,
   "id": "71feadcb-c194-464d-9abc-0dc33c10473a",
   "metadata": {},
   "outputs": [],
   "source": [
    "N = 2500\n",
    "N_runs = 10\n",
    "\n",
    "avg_distance = []\n",
    "for h in tqdm(h_values):\n",
    "\n",
    "    avg_distance_per_run = []\n",
    "    \n",
    "    for _ in range(N_runs):\n",
    "    \n",
    "        random_ids = [1] * N + [0] * (vertices.shape[0] - N)\n",
    "        np.random.shuffle(random_ids)\n",
    "        coords = vertices[np.array(random_ids) == 1] \n",
    "        d = compute_distances(coords, coords)\n",
    "        avg_distance_per_run.append(np.mean(d[d <= h]))\n",
    "\n",
    "    avg_distance.append(avg_distance_per_run)\n",
    "    \n",
    "avg_distance = np.stack(avg_distance)"
   ]
  },
  {
   "cell_type": "markdown",
   "id": "cde04520-edaa-4550-8b4d-8ff7bfed2851",
   "metadata": {},
   "source": [
    "Plotting the gradient-eigenmode correlations for $h$ expansion (red) and edge swapping (blue)"
   ]
  },
  {
   "cell_type": "code",
   "execution_count": null,
   "id": "ba192fcd-f800-4911-91c7-038f236e6e21",
   "metadata": {},
   "outputs": [],
   "source": [
    "blue = np.array([66, 135, 245]) / 255"
   ]
  },
  {
   "cell_type": "code",
   "execution_count": null,
   "id": "b5c0ed82-8b57-45a5-a54c-0d7526af3955",
   "metadata": {},
   "outputs": [],
   "source": [
    "fig, ax = plt.subplots(figsize=(5, 5))\n",
    "\n",
    "#for i in range(scores_per_h.shape[1]):\n",
    "#    ax.scatter(h_values[5:], scores_per_h[5:, i], color='red', alpha=0.25, edgecolor='None')\n",
    "#ax.plot(h_values[5:], np.mean(scores_per_h[5:], axis=1), color='red', linewidth=3)\n",
    "\n",
    "for i in range(scores_per_h.shape[1]):\n",
    "    ax.scatter(np.mean(avg_distance, axis=1), scores_per_h[:, i], color='red', alpha=0.25, edgecolor='None')\n",
    "ax.plot(np.mean(avg_distance, axis=1), np.mean(scores_per_h, axis=1), color='red', linewidth=3)\n",
    "\n",
    "for i in range(scores.shape[1]):\n",
    "    ax.scatter(D_mean[:, i], scores[:, i], color=0.75 * blue, alpha=0.25, edgecolor='None')\n",
    "ax.plot(np.mean(D_mean, axis=1), np.mean(scores, axis=1), color=0.75 * blue, linewidth=3)\n",
    "ax.scatter(np.mean(D_mean, axis=1), np.mean(scores, axis=1), color=0.75 * blue)\n",
    "\n",
    "\n",
    "ax.spines[['top', 'right']].set_visible(False)\n",
    "plt.xlabel('Mean $d$')\n",
    "plt.ylabel('Mode correspondence')\n",
    "#plt.xlim([0.11, 0.34])"
   ]
  },
  {
   "cell_type": "code",
   "execution_count": null,
   "id": "914c7a7e-1ffc-4586-bfee-ff338e7cac03",
   "metadata": {},
   "outputs": [],
   "source": [
    "np.save('../Results/figure2_avg_distance.npy', np.mean(avg_distance, axis=1))"
   ]
  },
  {
   "cell_type": "code",
   "execution_count": null,
   "id": "efdddd80-2937-459b-9d1f-1043565f39bc",
   "metadata": {},
   "outputs": [],
   "source": []
  }
 ],
 "metadata": {
  "kernelspec": {
   "display_name": "Python 3 (ipykernel)",
   "language": "python",
   "name": "python3"
  },
  "language_info": {
   "codemirror_mode": {
    "name": "ipython",
    "version": 3
   },
   "file_extension": ".py",
   "mimetype": "text/x-python",
   "name": "python",
   "nbconvert_exporter": "python",
   "pygments_lexer": "ipython3",
   "version": "3.9.19"
  }
 },
 "nbformat": 4,
 "nbformat_minor": 5
}
