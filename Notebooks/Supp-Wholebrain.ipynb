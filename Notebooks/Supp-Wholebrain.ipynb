{
 "cells": [
  {
   "cell_type": "markdown",
   "id": "8e5627cd-040d-46f3-861c-01b3c2adfff0",
   "metadata": {},
   "source": [
    "# Supplementary - Whole-brain gradients and eigenmodes analysis"
   ]
  },
  {
   "cell_type": "markdown",
   "id": "21b64083-d786-44a6-9a99-fee075fa26be",
   "metadata": {},
   "source": [
    "Related to Supplementary Figure S11."
   ]
  },
  {
   "cell_type": "code",
   "execution_count": null,
   "id": "c7746c6c-0e16-4fc0-8f3e-ff41515e3405",
   "metadata": {},
   "outputs": [],
   "source": [
    "import sys\n",
    "sys.path.append(\"..\")\n",
    "\n",
    "from main import *\n",
    "from zebrafish import *\n",
    "\n",
    "from scipy.stats import zscore, spearmanr\n",
    "from scipy.stats import percentileofscore\n",
    "from brainsmash.mapgen.base import Base"
   ]
  },
  {
   "cell_type": "markdown",
   "id": "19cd8c50-efae-4841-953a-c5eef410bbe7",
   "metadata": {},
   "source": [
    "# Loading whole-brain data"
   ]
  },
  {
   "cell_type": "code",
   "execution_count": null,
   "id": "a4965dd9-eb6d-4a08-b1e7-f4878c601d48",
   "metadata": {},
   "outputs": [],
   "source": [
    "# Loading whole-brain functional data\n",
    "nodes = np.load('../Files/PaperNetworks/centroids_hires.npy')\n",
    "FC = np.load('../Files/PaperNetworks/FC_hires_spontaneous.npy')\n",
    "FC_stim = np.load('../Files/PaperNetworks/FC_hires_stim.npy')\n",
    "\n",
    "# Loading whole-brain eigenmodes\n",
    "eigenmodes = np.load('../Files/zebrafish_wholebrain_eigenmodes_single.npy')\n",
    "vertices = np.load('../Files/zebrafish_wholebrain_vertices_single.npy')"
   ]
  },
  {
   "cell_type": "code",
   "execution_count": null,
   "id": "5be5024a-f97c-41b8-8b24-eb19425ed06c",
   "metadata": {},
   "outputs": [],
   "source": [
    "plt.imshow(FC)"
   ]
  },
  {
   "cell_type": "markdown",
   "id": "91205592-7901-4990-a66f-d40317c11cbd",
   "metadata": {},
   "source": [
    "# Correlation vs distance relationship"
   ]
  },
  {
   "cell_type": "code",
   "execution_count": null,
   "id": "2de13a6e-1afa-4e38-881b-8a93df3bd4fa",
   "metadata": {},
   "outputs": [],
   "source": [
    "d = compute_distances(nodes, nodes)\n",
    "R = FC.shape[0]\n",
    "d = (1 / 3) * (d[:R, :R] + d[R:, R:] + d[:R, R:])"
   ]
  },
  {
   "cell_type": "code",
   "execution_count": null,
   "id": "fc98e413-fdd5-4385-ba61-19d892031980",
   "metadata": {},
   "outputs": [],
   "source": [
    "%matplotlib inline"
   ]
  },
  {
   "cell_type": "code",
   "execution_count": null,
   "id": "44730bee-1bb1-412d-99a0-45b81f3156e7",
   "metadata": {},
   "outputs": [],
   "source": [
    "triangle = np.triu_indices(FC.shape[0], 1)"
   ]
  },
  {
   "cell_type": "code",
   "execution_count": null,
   "id": "7fc5c9d7-3a58-4349-9c08-4c7312f671d2",
   "metadata": {},
   "outputs": [],
   "source": [
    "fig, ax = plt.subplots(figsize=(5, 5), dpi=150)\n",
    "ax.scatter(d[triangle], FC[triangle], alpha=0.1, color='black', edgecolor=None, s=1, rasterized=True)\n",
    "ax.set_xlabel('Distance (microns)')\n",
    "ax.set_ylabel('Correlation')\n",
    "ax.spines[['top', 'right']].set_visible(False)\n"
   ]
  },
  {
   "cell_type": "code",
   "execution_count": null,
   "id": "9cc69b5f-0557-4acc-af47-e651d91e463d",
   "metadata": {},
   "outputs": [],
   "source": [
    "spearmanr(d[triangle], FC[triangle])"
   ]
  },
  {
   "cell_type": "code",
   "execution_count": null,
   "id": "9789cd2d-6655-4a15-a46f-20911cc21fbb",
   "metadata": {},
   "outputs": [],
   "source": [
    "d_values = d[triangle]\n",
    "FC_values = FC[triangle]"
   ]
  },
  {
   "cell_type": "markdown",
   "id": "a0d470b7-cb6c-493e-a427-1a5521a31d22",
   "metadata": {},
   "source": [
    "# Gradients & eigenmodes"
   ]
  },
  {
   "cell_type": "code",
   "execution_count": null,
   "id": "0579d365-d54b-429d-942a-dfc659592b74",
   "metadata": {},
   "outputs": [],
   "source": [
    "N_modes = FC.shape[0]\n",
    "gradients, _ = diffusion_mapping(np.abs(FC), n_components=N_modes)"
   ]
  },
  {
   "cell_type": "code",
   "execution_count": null,
   "id": "ae7baf40-b0e2-4605-b7f8-6060cc1bed8d",
   "metadata": {},
   "outputs": [],
   "source": [
    "d = compute_distances(vertices, nodes[:FC.shape[0]])\n",
    "eigenmodes_ = eigenmodes[:, np.argmin(d, axis=0)]"
   ]
  },
  {
   "cell_type": "code",
   "execution_count": null,
   "id": "f780be51-d2e5-49f0-82ca-76e757f93bfb",
   "metadata": {},
   "outputs": [],
   "source": [
    "mode_similarity, mapping = compute_mode_similarity_matrix(eigenmodes_[1:31], gradients.T[:30], return_mapping=True)"
   ]
  },
  {
   "cell_type": "code",
   "execution_count": null,
   "id": "29ff789c-697a-415c-92db-ee4f31efa27b",
   "metadata": {},
   "outputs": [],
   "source": [
    "plt.figure(figsize=(5, 5), dpi=150)\n",
    "\n",
    "plt.imshow(np.abs(mode_similarity), cmap='Reds', vmin=0.1, vmax=0.75)\n",
    "plt.ylabel('Geometric modes')\n",
    "plt.xlabel('Functional gradients')"
   ]
  },
  {
   "cell_type": "markdown",
   "id": "5a1e1412-3840-45e7-bee5-fe389bd7468d",
   "metadata": {},
   "source": [
    "# Spatial statistics"
   ]
  },
  {
   "cell_type": "code",
   "execution_count": null,
   "id": "6e4b0cf4-9b45-4c0e-92af-1f8ae3e4ec86",
   "metadata": {},
   "outputs": [],
   "source": [
    "def shuffle_vector_brainsmash(vector, distances, resample=True, n_iters=1):\n",
    "    base = Base(x=vector, D=distances, resample=resample)\n",
    "    surrogate = base(n=n_iters)\n",
    "    return surrogate\n",
    "\n",
    "def shuffle_vectors_brainsmash(vectors, distances, resample=True):\n",
    "    shuffled_vectors = []\n",
    "    for v in vectors:\n",
    "        base = Base(x=v, D=distances, resample=resample)\n",
    "        surrogate = base(n=1)\n",
    "        shuffled_vectors.append(surrogate)\n",
    "    return np.array(shuffled_vectors)"
   ]
  },
  {
   "cell_type": "code",
   "execution_count": null,
   "id": "9d10f4ab-b1d2-426a-a433-b7d8662cd308",
   "metadata": {},
   "outputs": [],
   "source": [
    "empirical_score = np.mean(np.abs(np.diag(mode_similarity))[:30])\n",
    "print(empirical_score)"
   ]
  },
  {
   "cell_type": "code",
   "execution_count": null,
   "id": "b12ba8c3-7dea-4091-87ba-fec175bbb62c",
   "metadata": {},
   "outputs": [],
   "source": [
    "modes1, modes2 = eigenmodes_[1:31], gradients.T[:30]\n",
    "d = compute_distances(nodes[:FC.shape[0]], nodes[:FC.shape[0]])"
   ]
  },
  {
   "cell_type": "code",
   "execution_count": null,
   "id": "7f5d5285-ee7a-4dee-ad2f-13a138dd26ab",
   "metadata": {},
   "outputs": [],
   "source": [
    "null_similarity_matrices = []\n",
    "\n",
    "for _ in tqdm(range(1000)):\n",
    "    \n",
    "    shuffled_modes1 = shuffle_vectors_brainsmash(modes1, d, resample=False)\n",
    "    corrs_null = compute_mode_similarity_matrix(shuffled_modes1, modes2, return_mapping=False)\n",
    "    null_similarity_matrices.append(corrs_null)\n",
    "\n",
    "null_similarity_matrices = np.stack(null_similarity_matrices, axis=0)"
   ]
  },
  {
   "cell_type": "code",
   "execution_count": null,
   "id": "9256cad9-f6ad-4bfd-9e2a-178b69b7d7fe",
   "metadata": {},
   "outputs": [],
   "source": [
    "np.save('../Results/null_similarity_wholebrain.npy', null_similarity_matrices)"
   ]
  },
  {
   "cell_type": "markdown",
   "id": "a58dbc74-a759-47e1-95b1-425da7242f35",
   "metadata": {},
   "source": [
    "#### Loading and computing stats"
   ]
  },
  {
   "cell_type": "code",
   "execution_count": null,
   "id": "5c7d748a-0294-465b-a48f-52b6845b278a",
   "metadata": {},
   "outputs": [],
   "source": [
    "null_similarity_matrices = np.load('../Results/null_similarity_wholebrain.npy')"
   ]
  },
  {
   "cell_type": "code",
   "execution_count": null,
   "id": "348af443-81a4-43bd-b8e0-98db98fa801c",
   "metadata": {},
   "outputs": [],
   "source": [
    "plt.figure(figsize=(5, 5), dpi=150)\n",
    "\n",
    "plt.imshow(np.abs(null_similarity_matrices[5]), cmap='Reds', vmin=0.1, vmax=0.75)\n",
    "plt.ylabel('Geometric modes')\n",
    "plt.xlabel('Functional gradients')"
   ]
  },
  {
   "cell_type": "code",
   "execution_count": null,
   "id": "da66d82c-87d6-4ba3-968c-68028f6b6b49",
   "metadata": {},
   "outputs": [],
   "source": [
    "null_scores = []\n",
    "for m in null_similarity_matrices:\n",
    "    null_scores.append(np.mean(np.abs(np.diag(m))[:30]))"
   ]
  },
  {
   "cell_type": "code",
   "execution_count": null,
   "id": "ef846526-bee6-4394-b702-62575a22c3a6",
   "metadata": {},
   "outputs": [],
   "source": [
    "percentileofscore(null_scores, empirical_score)"
   ]
  },
  {
   "cell_type": "markdown",
   "id": "28630c03-5dc0-4a50-a966-41c12e8cb55d",
   "metadata": {},
   "source": [
    "# Plotting eigenmodes and gradients"
   ]
  },
  {
   "cell_type": "markdown",
   "id": "56fac727-fe0d-4042-bd36-5c127b11ff86",
   "metadata": {},
   "source": [
    "Pre-rendering the 3D scatter plots of whole-brain eigenmodes and gradients in RGB arrays to facilitate the multipanel figure later."
   ]
  },
  {
   "cell_type": "code",
   "execution_count": null,
   "id": "9ccc1fff-726c-4633-9096-cd5cebe0775b",
   "metadata": {},
   "outputs": [],
   "source": [
    "i = 0\n",
    "fig, ax = plt.subplots(subplot_kw={\"projection\": \"3d\"}, figsize=(2, 2), dpi=600)\n",
    "ax.scatter(nodes[:, 0], nodes[:, 1], -nodes[:, 2], c=np.sign(mode_similarity[i, i]) * double(gradients[:, mapping[i]]), alpha=0.75, cmap='coolwarm', s=2, edgecolor='None')\n",
    "ax.set_axis_off()\n",
    "#ax.set_ylim(ax.get_ylim()[::-1])\n",
    "#ax.set_zlim(ax.get_zlim()[::-1])\n",
    "ax.set_xlim([0, 1000])\n",
    "ax.set_ylim([0, 1000])\n",
    "ax.set_zlim([0, 1000])\n",
    "ax.view_init(elev=40, azim=-140)\n",
    "plt.show()\n",
    "\n",
    "    "
   ]
  },
  {
   "cell_type": "code",
   "execution_count": null,
   "id": "6349ead5-7342-4c3d-8b0c-0f73ce5f5274",
   "metadata": {},
   "outputs": [],
   "source": [
    "figures_gradients = []\n",
    "\n",
    "for i in range(30):\n",
    "    fig, ax = plt.subplots(subplot_kw={\"projection\": \"3d\"}, figsize=(2, 2), dpi=600)\n",
    "    ax.scatter(nodes[:, 0], nodes[:, 1], -nodes[:, 2], c=np.sign(mode_similarity[i, i]) * double(gradients[:, mapping[i]]), alpha=0.75, cmap='coolwarm', s=2, edgecolor='None')\n",
    "    ax.set_axis_off()\n",
    "    #ax.set_ylim(ax.get_ylim()[::-1])\n",
    "    #ax.set_zlim(ax.get_zlim()[::-1])\n",
    "    ax.set_xlim([0, 1000])\n",
    "    ax.set_ylim([0, 1000])\n",
    "    ax.set_zlim([0, 1000])\n",
    "    ax.view_init(elev=40, azim=-140)\n",
    "    #plt.show()\n",
    "    \n",
    "    fig_array = figure_to_array(fig)\n",
    "    figures_gradients.append(fig_array[720:1050, 375:790])\n",
    "    plt.close()"
   ]
  },
  {
   "cell_type": "code",
   "execution_count": null,
   "id": "e722c236-067b-44c7-bcde-5117a6569845",
   "metadata": {},
   "outputs": [],
   "source": [
    "plt.imshow(figures_gradients[0])"
   ]
  },
  {
   "cell_type": "code",
   "execution_count": null,
   "id": "e04be862-2b1b-4c34-be44-ff19b1eca7f8",
   "metadata": {},
   "outputs": [],
   "source": [
    "figures_eigenmodes = []\n",
    "\n",
    "for i in range(10):\n",
    "    fig, ax = plt.subplots(subplot_kw={\"projection\": \"3d\"}, figsize=(2, 2), dpi=600)\n",
    "    ax.scatter(nodes[:, 0], nodes[:, 1], -nodes[:, 2], c=double(eigenmodes_[i+1]), alpha=0.75, cmap='coolwarm', s=2, edgecolor='None')\n",
    "    ax.set_axis_off()\n",
    "    #ax.set_ylim(ax.get_ylim()[::-1])\n",
    "    #ax.set_zlim(ax.get_zlim()[::-1])\n",
    "    ax.set_xlim([0, 1000])\n",
    "    ax.set_ylim([0, 1000])\n",
    "    ax.set_zlim([0, 1000])\n",
    "    ax.view_init(elev=40, azim=-140)\n",
    "    #plt.show()\n",
    "\n",
    "    \n",
    "    fig_array = figure_to_array(fig)\n",
    "    figures_eigenmodes.append(fig_array[720:1050, 375:790])\n",
    "    plt.close()"
   ]
  },
  {
   "cell_type": "code",
   "execution_count": null,
   "id": "a5add6f8-b0cf-496c-88d3-9c78b6416b7e",
   "metadata": {},
   "outputs": [],
   "source": [
    "plt.imshow(figures_eigenmodes[0])"
   ]
  },
  {
   "cell_type": "markdown",
   "id": "3b2d5c84-3eb0-4d44-885d-9304695666e4",
   "metadata": {},
   "source": [
    "# Rendering figure"
   ]
  },
  {
   "cell_type": "code",
   "execution_count": null,
   "id": "32a44961-f05b-4582-b376-3d265647b658",
   "metadata": {},
   "outputs": [],
   "source": [
    "density = compute_scatter_density(d_values, FC_values)"
   ]
  },
  {
   "cell_type": "code",
   "execution_count": null,
   "id": "2abd3552-5e04-417b-b4f0-f0e6018a58c3",
   "metadata": {},
   "outputs": [],
   "source": [
    "fig = PaperFigure(figsize=(7, 4.5), dpi=300)\n",
    "\n",
    "fig.set_tick_length(1)\n",
    "fig.set_font_size(6)\n",
    "fig.add_background()\n",
    "\n",
    "# Adding axes ----------------------------------------------------------------------------\n",
    "\n",
    "w = 1.5\n",
    "fig.add_axes('correlations', (3, 0), w, w)\n",
    "fig.add_axes('scatter', (5.5, 0), w, w)\n",
    "\n",
    "N_modes = 7\n",
    "w = 5 / N_modes\n",
    "for i in range(N_modes):\n",
    "    fig.add_axes(f'eigenmode{i}', (i * w, 2), w, w)\n",
    "    fig.add_axes(f'gradient{i}', (i * w, 2 + w), w, w)\n",
    "\n",
    "fig.add_axes('mapping', (5.5, 2), 1.5, 1.5)\n",
    "\n",
    "fig.set_line_thickness(0.5)\n",
    "\n",
    "# Filling content ------------------------------------------------------------------------\n",
    "\n",
    "ax = fig.axes['correlations']\n",
    "ax.imshow(FC, cmap='coolwarm', vmin=-0.5, vmax=0.5)\n",
    "ax.set_xticks([])\n",
    "ax.set_yticks([])\n",
    "\n",
    "ax = fig.axes['scatter']\n",
    "#ax.scatter(d_values, FC_values, s=0.25, edgecolor=None, alpha=0.1, color='black')\n",
    "o = np.argsort(density)\n",
    "v = np.max(density)\n",
    "ax.scatter(d_values[o], FC_values[o], edgecolor=None, c=density[o], cmap='coolwarm', s=1, alpha=0.1, vmin=-1.25 * v, vmax=v, rasterized=True)\n",
    "#ax.set_xticks([0, 275])\n",
    "ax.set_xlim([0, 800])\n",
    "ax.set_ylim([-0.25, 1.0])\n",
    "#ax.set_yticks([0, 0.6])\n",
    "ax.spines[['top', 'right']].set_visible(False)\n",
    "\n",
    "for i in range(N_modes):\n",
    "    ax = fig.axes[f'eigenmode{i}']\n",
    "    ax.imshow(figures_eigenmodes[i], aspect='auto')\n",
    "    ax.axis('off')\n",
    "\n",
    "for i in range(N_modes):\n",
    "    ax = fig.axes[f'gradient{i}']\n",
    "    ax.imshow(figures_gradients[mapping[i]], aspect='auto')\n",
    "    ax.axis('off')\n",
    "\n",
    "ax = fig.axes['mapping']\n",
    "ax.imshow(np.abs(mode_similarity), cmap='Reds', vmin=0.1, vmax=0.75)\n",
    "ax.set_xticks([])\n",
    "ax.set_yticks([])\n",
    "\n",
    "fig.show()"
   ]
  },
  {
   "cell_type": "code",
   "execution_count": null,
   "id": "6ee26f4a-4a6e-441c-bf1e-15ab93887e11",
   "metadata": {},
   "outputs": [],
   "source": [
    "fig.save('../Figures/supp_wholebrain_incomplete.svg')"
   ]
  },
  {
   "cell_type": "markdown",
   "id": "3bf943ac-918f-4612-966a-125a7b170ad6",
   "metadata": {},
   "source": [
    "#### Manually annotated values"
   ]
  },
  {
   "cell_type": "markdown",
   "id": "4c1aba50-ee50-4bfd-8191-1f9ad7ef19da",
   "metadata": {},
   "source": [
    "Ordering of gradients"
   ]
  },
  {
   "cell_type": "code",
   "execution_count": null,
   "id": "124d29f9-68a6-42fe-8837-be84716417b2",
   "metadata": {},
   "outputs": [],
   "source": [
    "print(mapping)"
   ]
  },
  {
   "cell_type": "code",
   "execution_count": null,
   "id": "ed0ec6dc-c0ff-4a81-8642-5abb87cd7834",
   "metadata": {},
   "outputs": [],
   "source": []
  }
 ],
 "metadata": {
  "kernelspec": {
   "display_name": "Python 3 (ipykernel)",
   "language": "python",
   "name": "python3"
  },
  "language_info": {
   "codemirror_mode": {
    "name": "ipython",
    "version": 3
   },
   "file_extension": ".py",
   "mimetype": "text/x-python",
   "name": "python",
   "nbconvert_exporter": "python",
   "pygments_lexer": "ipython3",
   "version": "3.9.19"
  }
 },
 "nbformat": 4,
 "nbformat_minor": 5
}
