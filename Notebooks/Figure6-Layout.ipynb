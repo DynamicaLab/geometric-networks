{
 "cells": [
  {
   "cell_type": "markdown",
   "id": "831d2a54-0dc4-4f0a-8fec-cb2b458c8099",
   "metadata": {},
   "source": [
    "# Figure 6 - Layout"
   ]
  },
  {
   "cell_type": "code",
   "execution_count": null,
   "id": "afca3730-8523-424e-886e-104719ff2add",
   "metadata": {},
   "outputs": [],
   "source": [
    "import sys\n",
    "sys.path.append(\"..\")\n",
    "\n",
    "from main import *\n",
    "from zebrafish import *\n",
    "from visualization import *\n",
    "\n",
    "from scipy.stats import zscore"
   ]
  },
  {
   "cell_type": "markdown",
   "id": "12f4fb68-a4f2-46b4-9152-af0b48de84e6",
   "metadata": {},
   "source": [
    "# Loading data for figure"
   ]
  },
  {
   "cell_type": "code",
   "execution_count": null,
   "id": "9974282a-3a6b-4efb-ae6b-1a63520c6e6e",
   "metadata": {},
   "outputs": [],
   "source": [
    "planes = np.load('../Results/figure6_imaging_planes.npy')\n",
    "timeseries = np.load('../Results/figure6_timeseries.npy')\n",
    "\n",
    "d_values, FC_values = np.load('../Results/figure6_scatter_distance.npy')\n",
    "FC_matrix = np.load('../Results/figure6_tectum_correlations.npy')\n",
    "density = compute_scatter_density(d_values, FC_values)\n",
    "\n",
    "tectal_gradients = np.load('../Results/figure6_tectal_gradients.npy')\n",
    "tectal_eigenmodes = np.load('../Results/figure6_tectal_eigenmodes.npy')\n",
    "mode_similarity = np.load('../Results/figure6_similarity_matrix.npy')\n",
    "mapping = np.load('../Results/figure6_mode_mapping.npy')"
   ]
  },
  {
   "cell_type": "markdown",
   "id": "d902b950-bc77-4965-a1d7-2a257199de29",
   "metadata": {},
   "source": [
    "# Making figure layout"
   ]
  },
  {
   "cell_type": "code",
   "execution_count": null,
   "id": "211dc4c9-ef41-4c34-a3c0-7d9fd9b8ab9f",
   "metadata": {},
   "outputs": [],
   "source": [
    "cmap = make_cmap([[0, 0, 0], [0, 1, 0], [1, 1, 1]], [0, 0.5, 1.0])"
   ]
  },
  {
   "cell_type": "code",
   "execution_count": null,
   "id": "d7be17fe-1a45-46f3-bdae-b4336b20eeb8",
   "metadata": {},
   "outputs": [],
   "source": [
    "fig = PaperFigure(figsize=(7, 7))\n",
    "\n",
    "fig.set_tick_length(1)\n",
    "fig.set_font_size(6)\n",
    "fig.add_background()\n",
    "\n",
    "# Adding axes ----------------------------------------------------------------------------\n",
    "\n",
    "fig.add_axes('tectum', (3, 0), 3 * 0.7, 1.5)\n",
    "fig.add_axes('timeseries', (5.8, 0), 1.5, 3.5)\n",
    "\n",
    "fig.add_axes('correlations', (1.5, 2), 1.5, 1.5)\n",
    "fig.add_axes('scatter', ((3 + 3 * 0.7) - 1.5, 2), 1.5, 1.5)\n",
    "\n",
    "fig.add_axes('mapping', (5.5, 4), 1.5, 1.5)\n",
    "\n",
    "N_modes = 7\n",
    "w = 5 / N_modes\n",
    "for i in range(N_modes):\n",
    "    fig.add_axes(f'eigenmode{i}', (i * w, 4), w, w)\n",
    "    fig.add_axes(f'gradient{i}', (i * w, 4 + w), w, w)\n",
    "\n",
    "fig.set_line_thickness(0.5)\n",
    "\n",
    "ax = fig.axes['tectum']\n",
    "ax.imshow(planes[5], aspect='auto', cmap='gray', vmin=1000, vmax=15000)\n",
    "ax.set_xlim([90, 915])\n",
    "ax.axis('off')\n",
    "\n",
    "ax = fig.axes['timeseries']\n",
    "ax.imshow(zscore(timeseries[:, 200:], axis=1), cmap='binary', vmin=0, vmax=1, aspect='auto')\n",
    "ax.axis('off')\n",
    "\n",
    "cmap = make_cmap([[1, 1, 1], [1, 0, 0]], [0, 1])\n",
    "ax = fig.axes['correlations']\n",
    "ax.imshow(FC_matrix, vmin=-0.25, vmax=0.25, cmap='coolwarm')\n",
    "\n",
    "ax = fig.axes['scatter']\n",
    "#ax.scatter(d_values, FC_values, s=0.25, edgecolor=None, alpha=0.1, color='black')\n",
    "o = np.argsort(density)\n",
    "v = np.max(density)\n",
    "ax.scatter(d_values[o], FC_values[o], edgecolor=None, c=density[o], cmap='coolwarm', s=1, alpha=0.1, vmin=-1.25 * v, vmax=v, rasterized=True)\n",
    "ax.set_xticks([0, 275])\n",
    "ax.set_xlim([0, 275])\n",
    "ax.set_ylim([-0.1, 0.6])\n",
    "ax.set_yticks([0, 0.6])\n",
    "ax.spines[['top', 'right']].set_visible(False)\n",
    "\n",
    "ax = fig.axes['mapping']\n",
    "ax.imshow(np.abs(mode_similarity), cmap='Reds', vmin=0.1, vmax=0.75)\n",
    "ax.set_xticks([])\n",
    "ax.set_yticks([])\n",
    "\n",
    "for i in range(N_modes):\n",
    "    ax = fig.axes[f'eigenmode{i}']\n",
    "    ax.imshow(tectal_eigenmodes[i], aspect='auto')\n",
    "    ax.axis('off')\n",
    "\n",
    "for i in range(N_modes):\n",
    "    ax = fig.axes[f'gradient{i}']\n",
    "    ax.imshow(tectal_gradients[mapping[i]], aspect='auto')\n",
    "    ax.axis('off')\n",
    "\n",
    "fig.show()"
   ]
  },
  {
   "cell_type": "code",
   "execution_count": null,
   "id": "ecff8286-c802-4f3c-b999-0e4d322e6f86",
   "metadata": {},
   "outputs": [],
   "source": [
    "fig.save('../Figures/figure6_incomplete.svg')"
   ]
  },
  {
   "cell_type": "markdown",
   "id": "ebd8459d-43f5-4fc9-a39e-e25d81559827",
   "metadata": {},
   "source": [
    "# Manually written numbers"
   ]
  },
  {
   "cell_type": "code",
   "execution_count": null,
   "id": "84ebfafc-39aa-4d00-a54d-cfc235c83fcd",
   "metadata": {},
   "outputs": [],
   "source": [
    "mapping"
   ]
  },
  {
   "cell_type": "code",
   "execution_count": null,
   "id": "3cc251db-40d9-4e0c-9098-c463bc377d0d",
   "metadata": {},
   "outputs": [],
   "source": [
    "timeseries.shape"
   ]
  },
  {
   "cell_type": "code",
   "execution_count": null,
   "id": "1867beeb-0254-4830-85f8-a6fd9bf33b6f",
   "metadata": {},
   "outputs": [],
   "source": []
  }
 ],
 "metadata": {
  "kernelspec": {
   "display_name": "Python 3 (ipykernel)",
   "language": "python",
   "name": "python3"
  },
  "language_info": {
   "codemirror_mode": {
    "name": "ipython",
    "version": 3
   },
   "file_extension": ".py",
   "mimetype": "text/x-python",
   "name": "python",
   "nbconvert_exporter": "python",
   "pygments_lexer": "ipython3",
   "version": "3.9.19"
  }
 },
 "nbformat": 4,
 "nbformat_minor": 5
}
