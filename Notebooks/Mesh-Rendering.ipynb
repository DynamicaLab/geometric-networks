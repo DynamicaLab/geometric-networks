{
 "cells": [
  {
   "cell_type": "markdown",
   "id": "d27a1c7b-130f-4f5f-a957-d337c8e93cf1",
   "metadata": {},
   "source": [
    "# Meshing different geometries"
   ]
  },
  {
   "cell_type": "code",
   "execution_count": null,
   "id": "14fa742f-d4f2-44b5-aee9-5a672ea8babd",
   "metadata": {},
   "outputs": [],
   "source": [
    "import sys\n",
    "sys.path.append(\"..\")\n",
    "\n",
    "import numpy as np\n",
    "import lapy\n",
    "from lapy import TetMesh, Solver, TriaMesh\n",
    "import matplotlib.pyplot as plt\n",
    "import numpy as np\n",
    "import skimage.measure\n",
    "import pygalmesh\n",
    "import meshio\n",
    "from scipy.ndimage import zoom\n",
    "import os"
   ]
  },
  {
   "cell_type": "markdown",
   "id": "6ee3e5b9-aa14-4be8-be38-acdd2b4f3b7a",
   "metadata": {},
   "source": [
    "See https://github.com/meshpro/pygalmesh for examples and documentation on 3D mesh rendering."
   ]
  },
  {
   "cell_type": "markdown",
   "id": "b721c031-548e-4795-a0e6-fe6a0a221971",
   "metadata": {},
   "source": [
    "# Geometry #1: Ellipsoid"
   ]
  },
  {
   "cell_type": "markdown",
   "id": "fba7ec1d-f398-4a55-9905-51ce6c0c4ba5",
   "metadata": {},
   "source": [
    "#### Step 1: Rendering mesh"
   ]
  },
  {
   "cell_type": "code",
   "execution_count": null,
   "id": "9904fc5e-affa-4d24-9414-38d08b6454c0",
   "metadata": {},
   "outputs": [],
   "source": [
    "class Ellipsoid(pygalmesh.DomainBase):\n",
    "    def __init__(self, a, b, c):\n",
    "        super().__init__()\n",
    "        self.a = a\n",
    "        self.b = b\n",
    "        self.c = c\n",
    "\n",
    "    def eval(self, x):\n",
    "        # Equation of the ellipsoid: (x/a)^2 + (y/b)^2 + (z/c)^2 - 1\n",
    "        return (x[0] / self.a) ** 2 + (x[1] / self.b) ** 2 + (x[2] / self.c) ** 2 - 1\n",
    "\n",
    "    def get_bounding_sphere_squared_radius(self):\n",
    "        # The bounding sphere radius is the largest axis length.\n",
    "        return max(self.a, self.b, self.c) ** 2"
   ]
  },
  {
   "cell_type": "code",
   "execution_count": null,
   "id": "225a1753-186d-494f-b125-16302c253e1e",
   "metadata": {},
   "outputs": [],
   "source": [
    "function = Ellipsoid(0.5, 0.5, 1)\n",
    "mesh = pygalmesh.generate_mesh(function, max_cell_circumradius=0.0295)\n",
    "\n",
    "mesh.write(\"../Files/ellipse.vtk\")"
   ]
  },
  {
   "cell_type": "markdown",
   "id": "1d02039c-3cdf-49af-acd3-d30c0c6cde64",
   "metadata": {},
   "source": [
    "#### Step 2: Loading mesh and generating tetrahedra"
   ]
  },
  {
   "cell_type": "code",
   "execution_count": null,
   "id": "df67002b-a734-4381-a079-53e83dec7977",
   "metadata": {},
   "outputs": [],
   "source": [
    "mesh = meshio.read('../Files/ellipse.vtk')\n",
    "\n",
    "vertices = mesh.points\n",
    "tetrahedra = mesh.cells_dict['tetra']\n",
    "\n",
    "tet_mesh = TetMesh(vertices, tetrahedra)\n",
    "print(vertices.shape)"
   ]
  },
  {
   "cell_type": "markdown",
   "id": "4a49bbe5-1548-4267-b953-45ca253730d9",
   "metadata": {},
   "source": [
    "#### Step 3: Solving eigenmodes"
   ]
  },
  {
   "cell_type": "markdown",
   "id": "3dd65ea7-7b89-489e-8728-779a41aaad84",
   "metadata": {},
   "source": [
    "Solving 100 eigenmodes."
   ]
  },
  {
   "cell_type": "code",
   "execution_count": null,
   "id": "2319efc4-f2a6-42a6-ae7a-b6fa5f26a402",
   "metadata": {},
   "outputs": [],
   "source": [
    "solver = Solver(tet_mesh)\n",
    "eigenvalues, eigenvectors = solver.eigs(k=101)\n",
    "\n",
    "# Squeezing vertex coordinates in arbitrary [0, 1] interval (major axis length of volume = 1)\n",
    "vertices -= np.min(vertices) \n",
    "vertices /= np.max(vertices)"
   ]
  },
  {
   "cell_type": "code",
   "execution_count": null,
   "id": "9bb2b6e7-32fe-4e65-9640-cba30a609ba3",
   "metadata": {},
   "outputs": [],
   "source": [
    "print(eigenvectors.shape)"
   ]
  },
  {
   "cell_type": "markdown",
   "id": "7079ead6-1213-4827-9c47-ac91dd754a7a",
   "metadata": {},
   "source": [
    "Visualizing eigenmodes."
   ]
  },
  {
   "cell_type": "code",
   "execution_count": null,
   "id": "b58a8758-f5f5-4b93-b6b9-ed902b5875a3",
   "metadata": {},
   "outputs": [],
   "source": [
    "fig, axes = plt.subplots(4, 5, subplot_kw={\"projection\": \"3d\"}, figsize=(10, 10), dpi=150)\n",
    "\n",
    "for i in range(20):\n",
    "    ax = axes.flatten()[i]\n",
    "    ax.scatter(vertices[:, 0], vertices[:, 1], vertices[:, 2], c=eigenvectors[:, i+1], alpha=0.5, cmap='coolwarm')\n",
    "    ax.set_xlim([0, 1])\n",
    "    ax.set_ylim([0, 1])\n",
    "    ax.set_zlim([0, 1])\n",
    "    ax.set_axis_off()\n",
    "\n",
    "plt.tight_layout(pad=0)\n",
    "#plt.savefig('Figures/eigenhearts.png')\n",
    "plt.show()"
   ]
  },
  {
   "cell_type": "code",
   "execution_count": null,
   "id": "22e8bc0b-4642-4eb4-bc45-91220e4c4909",
   "metadata": {},
   "outputs": [],
   "source": [
    "np.save('../Files/vertices_ellipse.npy', vertices)\n",
    "np.save('../Files/eigenmodes_ellipse.npy', eigenvectors)"
   ]
  },
  {
   "cell_type": "markdown",
   "id": "cb572836-30eb-418c-8e77-f4f628216f10",
   "metadata": {},
   "source": [
    "# Geometry #2: Heart"
   ]
  },
  {
   "cell_type": "markdown",
   "id": "55bb64e6-7f97-4380-95dc-c565c03f872a",
   "metadata": {},
   "source": [
    "#### Step 1: Rendering mesh"
   ]
  },
  {
   "cell_type": "markdown",
   "id": "4fd2f74a-78aa-4366-8f70-48f212322dd6",
   "metadata": {},
   "source": [
    "This one is based on a mathematical function."
   ]
  },
  {
   "cell_type": "code",
   "execution_count": null,
   "id": "65e945e5-f342-49de-b730-8cdcad759fb1",
   "metadata": {},
   "outputs": [],
   "source": [
    "class Heart(pygalmesh.DomainBase):\n",
    "    def __init__(self):\n",
    "        super().__init__()\n",
    "\n",
    "    def eval(self, x):\n",
    "        return (\n",
    "            (x[0] ** 2 + 9.0 / 4.0 * x[1] ** 2 + x[2] ** 2 - 1) ** 3\n",
    "            - x[0] ** 2 * x[2] ** 3\n",
    "            - 9.0 / 80.0 * x[1] ** 2 * x[2] ** 3\n",
    "        )\n",
    "\n",
    "    def get_bounding_sphere_squared_radius(self):\n",
    "        return 10.0"
   ]
  },
  {
   "cell_type": "code",
   "execution_count": null,
   "id": "22271043-3df7-4886-9169-6e8840aa8b20",
   "metadata": {},
   "outputs": [],
   "source": [
    "function = Heart()\n",
    "mesh = pygalmesh.generate_mesh(function, max_cell_circumradius=0.0435)"
   ]
  },
  {
   "cell_type": "code",
   "execution_count": null,
   "id": "6bb2d989-ce4c-4f48-af66-9eee9b80bdcd",
   "metadata": {},
   "outputs": [],
   "source": [
    "mesh.write(\"../Files/heart.vtk\")"
   ]
  },
  {
   "cell_type": "markdown",
   "id": "29f6f05e-b9dc-4fae-81a4-e4434b9f4c9f",
   "metadata": {},
   "source": [
    "#### Step 2: Loading mesh and generating tetrahedra"
   ]
  },
  {
   "cell_type": "code",
   "execution_count": null,
   "id": "c21ba090-7e8f-4786-8526-f8e6a2d7334c",
   "metadata": {},
   "outputs": [],
   "source": [
    "mesh = meshio.read('../Files/heart.vtk')\n",
    "\n",
    "vertices = mesh.points\n",
    "tetrahedra = mesh.cells_dict['tetra']\n",
    "\n",
    "tet_mesh = TetMesh(vertices, tetrahedra)\n",
    "print(vertices.shape)"
   ]
  },
  {
   "cell_type": "markdown",
   "id": "03e5b2eb-26a8-43f0-884a-a2b5ec5248fc",
   "metadata": {},
   "source": [
    "#### Step 3: Solving eigenmodes"
   ]
  },
  {
   "cell_type": "markdown",
   "id": "912b883e-39a6-4369-8c75-d3fb4a83b514",
   "metadata": {},
   "source": [
    "Solving 100 eigenmodes."
   ]
  },
  {
   "cell_type": "code",
   "execution_count": null,
   "id": "16d37ab4-1061-4df1-8b79-2669d0c769d5",
   "metadata": {},
   "outputs": [],
   "source": [
    "solver = Solver(tet_mesh)\n",
    "eigenvalues, eigenvectors = solver.eigs(k=101)\n",
    "\n",
    "# Squeezing vertex coordinates in arbitrary [0, 1] interval (major axis length of volume = 1)\n",
    "vertices -= np.min(vertices) \n",
    "vertices /= np.max(vertices)"
   ]
  },
  {
   "cell_type": "markdown",
   "id": "6fa4e7cc-73c8-41e3-84cc-92143e22bf0c",
   "metadata": {},
   "source": [
    "Visualizing eigenmodes."
   ]
  },
  {
   "cell_type": "code",
   "execution_count": null,
   "id": "753c928d-2105-41af-b19e-52cd52275c17",
   "metadata": {},
   "outputs": [],
   "source": [
    "fig, axes = plt.subplots(4, 5, subplot_kw={\"projection\": \"3d\"}, figsize=(10, 10), dpi=150)\n",
    "\n",
    "for i in range(20):\n",
    "    ax = axes.flatten()[i]\n",
    "    ax.scatter(vertices[:, 0], vertices[:, 1], vertices[:, 2], c=eigenvectors[:, i+1], alpha=0.5, cmap='coolwarm')\n",
    "    ax.set_xlim([0, 1])\n",
    "    ax.set_ylim([0, 1])\n",
    "    ax.set_zlim([0, 1])\n",
    "    ax.set_axis_off()\n",
    "\n",
    "plt.tight_layout(pad=0)\n",
    "#plt.savefig('Figures/eigenhearts.png')\n",
    "plt.show()"
   ]
  },
  {
   "cell_type": "markdown",
   "id": "de95c2d5-e9a4-401f-8c94-83a588e08a25",
   "metadata": {},
   "source": [
    "Saving eigenmodes."
   ]
  },
  {
   "cell_type": "code",
   "execution_count": null,
   "id": "3c79c50b-8433-484a-a53a-44454f55febe",
   "metadata": {},
   "outputs": [],
   "source": [
    "np.save('../Files/vertices_heart.npy', vertices)\n",
    "np.save('../Files/eigenmodes_heart.npy', eigenvectors)"
   ]
  },
  {
   "cell_type": "markdown",
   "id": "bc7c79fd-540a-4a76-9727-388b9922ca03",
   "metadata": {},
   "source": [
    "# Geometry #3: Torus"
   ]
  },
  {
   "cell_type": "code",
   "execution_count": null,
   "id": "6a07ac0d-bcee-4312-9f88-92eca94214b7",
   "metadata": {},
   "outputs": [],
   "source": [
    "class Torus(pygalmesh.DomainBase):\n",
    "    \n",
    "    def __init__(self, R, r):\n",
    "        super().__init__()\n",
    "        self.R = R  # Major radius (distance from the center of the hole to the center of the tube)\n",
    "        self.r = r  # Minor radius (radius of the tube)\n",
    "\n",
    "    def eval(self, x):\n",
    "        # Torus equation: ((sqrt(x^2 + y^2) - R)^2 + z^2 - r^2)\n",
    "        # Using (x[0] for x, x[1] for y, x[2] for z):\n",
    "        sq_dist_xy = x[0] ** 2 + x[1] ** 2\n",
    "        return ((sq_dist_xy - self.R ** 2) ** 2 + 4 * self.R ** 2 * x[2] ** 2 - 4 * self.R ** 2 * self.r ** 2)\n",
    "\n",
    "    def get_bounding_sphere_squared_radius(self):\n",
    "        # The bounding sphere radius is the major radius plus the minor radius\n",
    "        return (self.R + self.r) ** 2"
   ]
  },
  {
   "cell_type": "code",
   "execution_count": null,
   "id": "6e6f3875-ad11-41dc-910b-61abc229edc8",
   "metadata": {},
   "outputs": [],
   "source": [
    "torus = Torus(R=3, r=1)\n",
    "mesh = pygalmesh.generate_mesh(torus, max_cell_circumradius=0.115)\n",
    "\n",
    "mesh.write(\"../Files/torus.vtk\")"
   ]
  },
  {
   "cell_type": "markdown",
   "id": "8b60121b-fb75-4cac-bcf1-fa65240156da",
   "metadata": {},
   "source": [
    "#### Step 2: Loading mesh and generating tetrahedra"
   ]
  },
  {
   "cell_type": "code",
   "execution_count": null,
   "id": "586c3b99-81ab-481f-98cf-d81e7f229984",
   "metadata": {},
   "outputs": [],
   "source": [
    "mesh = meshio.read('../Files/torus.vtk')\n",
    "\n",
    "vertices = mesh.points\n",
    "tetrahedra = mesh.cells_dict['tetra']\n",
    "\n",
    "tet_mesh = TetMesh(vertices, tetrahedra)\n",
    "print(vertices.shape)"
   ]
  },
  {
   "cell_type": "markdown",
   "id": "e90372fc-e692-421c-b02f-f608e8215a1e",
   "metadata": {},
   "source": [
    "#### Step 3: Solving eigenmodes"
   ]
  },
  {
   "cell_type": "markdown",
   "id": "5117dc6a-d7d8-4c9e-984c-f838b2561e79",
   "metadata": {},
   "source": [
    "Solving 100 eigenmodes."
   ]
  },
  {
   "cell_type": "code",
   "execution_count": null,
   "id": "1d31a1eb-0897-4870-b511-c33553518597",
   "metadata": {},
   "outputs": [],
   "source": [
    "solver = Solver(tet_mesh)\n",
    "eigenvalues, eigenvectors = solver.eigs(k=101)\n",
    "\n",
    "# Squeezing vertex coordinates in arbitrary [0, 1] interval (major axis length of volume = 1)\n",
    "vertices -= np.min(vertices) \n",
    "vertices /= np.max(vertices)"
   ]
  },
  {
   "cell_type": "code",
   "execution_count": null,
   "id": "b8d57a12-a3f3-46ff-b277-c66f20a9609a",
   "metadata": {},
   "outputs": [],
   "source": [
    "print(eigenvectors.shape)"
   ]
  },
  {
   "cell_type": "markdown",
   "id": "d0116e98-ffe3-48ff-90f1-aa985f2f2ca4",
   "metadata": {},
   "source": [
    "Visualizing eigenmodes."
   ]
  },
  {
   "cell_type": "code",
   "execution_count": null,
   "id": "55f8c239-a494-4cd0-a41d-c87e74ad750e",
   "metadata": {},
   "outputs": [],
   "source": [
    "fig, axes = plt.subplots(4, 5, subplot_kw={\"projection\": \"3d\"}, figsize=(10, 10), dpi=150)\n",
    "\n",
    "for i in range(20):\n",
    "    ax = axes.flatten()[i]\n",
    "    ax.scatter(vertices[:, 0], vertices[:, 1], vertices[:, 2], c=eigenvectors[:, i+1], alpha=0.5, cmap='coolwarm')\n",
    "    ax.set_xlim([0, 1])\n",
    "    ax.set_ylim([0, 1])\n",
    "    ax.set_zlim([0, 1])\n",
    "    ax.set_axis_off()\n",
    "\n",
    "plt.tight_layout(pad=0)\n",
    "#plt.savefig('Figures/eigenhearts.png')\n",
    "plt.show()"
   ]
  },
  {
   "cell_type": "code",
   "execution_count": null,
   "id": "36af1d70-766e-4ae6-ad39-aa3b631f8642",
   "metadata": {},
   "outputs": [],
   "source": [
    "np.save('../Files/vertices_torus.npy', vertices)\n",
    "np.save('../Files/eigenmodes_torus.npy', eigenvectors)"
   ]
  },
  {
   "cell_type": "markdown",
   "id": "074277c1-3069-4d85-9a2d-b8f239ba3ed2",
   "metadata": {},
   "source": [
    "# Geometry #4: Cow"
   ]
  },
  {
   "cell_type": "code",
   "execution_count": null,
   "id": "1786a9e7-d518-48d5-a3ff-289a1cb167e5",
   "metadata": {},
   "outputs": [],
   "source": [
    "mesh = pygalmesh.generate_volume_mesh_from_surface_mesh(\n",
    "    \"../Files/cow.obj\",\n",
    "    max_cell_circumradius=0.08,\n",
    "    reorient=True\n",
    ")"
   ]
  },
  {
   "cell_type": "code",
   "execution_count": null,
   "id": "2e3e1a2a-2685-4b82-ab32-3287af83dc78",
   "metadata": {},
   "outputs": [],
   "source": [
    "#mesh = meshio.read('Files/cow.obj')\n",
    "\n",
    "vertices = mesh.points\n",
    "cells = mesh.cells_dict['tetra']\n",
    "\n",
    "tet_mesh = TetMesh(vertices, cells)\n",
    "print(vertices.shape)\n",
    "\n",
    "vertices -= np.min(vertices) \n",
    "vertices /= np.max(vertices)"
   ]
  },
  {
   "cell_type": "markdown",
   "id": "dbd93418-3a2e-47a9-91f2-7fba4ef9b0fc",
   "metadata": {},
   "source": [
    "#### Step 2: Solving eigenmodes"
   ]
  },
  {
   "cell_type": "markdown",
   "id": "a64d988d-8a6a-4d24-85ca-b0f96cdcc054",
   "metadata": {},
   "source": [
    "Solving 100 eigenmodes."
   ]
  },
  {
   "cell_type": "code",
   "execution_count": null,
   "id": "2637d9c7-589b-4477-bcc7-80c8ee4be157",
   "metadata": {},
   "outputs": [],
   "source": [
    "solver = Solver(tet_mesh)\n",
    "eigenvalues, eigenvectors = solver.eigs(k=101)"
   ]
  },
  {
   "cell_type": "code",
   "execution_count": null,
   "id": "24276ac9-d8d8-41ce-8d1d-55579f2d32b7",
   "metadata": {},
   "outputs": [],
   "source": [
    "print(eigenvectors.shape)"
   ]
  },
  {
   "cell_type": "code",
   "execution_count": null,
   "id": "33174b0c-4da6-4f44-b37c-a7319576507b",
   "metadata": {},
   "outputs": [],
   "source": [
    "vertices = np.stack([vertices[:, 2], vertices[:, 0], vertices[:, 1]], axis=1)"
   ]
  },
  {
   "cell_type": "code",
   "execution_count": null,
   "id": "ff9bb06e-3f6e-44c6-880e-b30ab7bb8b10",
   "metadata": {},
   "outputs": [],
   "source": [
    "fig, axes = plt.subplots(4, 5, subplot_kw={\"projection\": \"3d\"}, figsize=(10, 10), dpi=150)\n",
    "\n",
    "for i in range(20):\n",
    "    ax = axes.flatten()[i]\n",
    "    ax.scatter(vertices[::2, 0], vertices[::2, 1], vertices[::2, 2], c=eigenvectors[::2, i+1], alpha=0.5, cmap='coolwarm')\n",
    "    ax.set_xlim([0, 1])\n",
    "    ax.set_ylim([0, 1])\n",
    "    ax.set_zlim([0, 1])\n",
    "    #ax.set_ylabel('Y')\n",
    "    #ax.set_xlabel('X')\n",
    "    ax.set_axis_off()\n",
    "    ax.view_init(elev=-10, azim=135)\n",
    "\n",
    "plt.tight_layout(pad=0)\n",
    "#plt.savefig('Figures/eigenhearts.png')\n",
    "plt.show()"
   ]
  },
  {
   "cell_type": "code",
   "execution_count": null,
   "id": "7bfe31fc-bc83-472d-8a4d-2fe1b070e318",
   "metadata": {},
   "outputs": [],
   "source": [
    "np.save('../Files/vertices_cow.npy', vertices)\n",
    "np.save('../Files/eigenmodes_cow.npy', eigenvectors)"
   ]
  },
  {
   "cell_type": "markdown",
   "id": "09758fa7-6638-4679-98e8-016f96b8de49",
   "metadata": {},
   "source": [
    "# Alternative approach to render the ellipsoid"
   ]
  },
  {
   "cell_type": "markdown",
   "id": "2ca01812-bf56-4c9c-bc7d-e07d13847dc4",
   "metadata": {},
   "source": [
    "#### Step 1: Rendering mesh"
   ]
  },
  {
   "cell_type": "markdown",
   "id": "3af87d2a-f42f-4f52-a09b-0f7a0e33ee91",
   "metadata": {},
   "source": [
    "Rendering a binary sphere in a (100, 100, 100)-sized array, then downscaling axes by different factors to get an ellipse. Suffers a bit from the discretization inherent to the 3D stack before converting the volume into continuous mesh coordinates."
   ]
  },
  {
   "cell_type": "code",
   "execution_count": null,
   "id": "afa0921d-aa1c-4dca-adfe-c606d19ef15b",
   "metadata": {},
   "outputs": [],
   "source": [
    "L = 100\n",
    "r = 0.75\n",
    "\n",
    "x_ = np.linspace(-1.0, 1.0, L)\n",
    "y_ = np.linspace(-1.0, 1.0, L)\n",
    "z_ = np.linspace(-1.0, 1.0, L)\n",
    "x, y, z = np.meshgrid(x_, y_, z_)\n",
    "\n",
    "vol = np.empty((L, L, L), dtype=np.uint8)\n",
    "idx = x ** 2 + y ** 2 + z ** 2 < r ** 2\n",
    "vol[idx] = 1\n",
    "vol[~idx] = 0"
   ]
  },
  {
   "cell_type": "code",
   "execution_count": null,
   "id": "6b50efc3-89f1-43ad-b17a-9bbc05f38aef",
   "metadata": {},
   "outputs": [],
   "source": [
    "vol = zoom(vol, (1/2, 1/2, 2/2), order=1) # Downsampling by different factors in each axis"
   ]
  },
  {
   "cell_type": "markdown",
   "id": "8745cc8b-1330-465e-acaf-d7906eebd729",
   "metadata": {},
   "source": [
    "Generating mesh."
   ]
  },
  {
   "cell_type": "code",
   "execution_count": null,
   "id": "f1dd3217-d9ef-4551-a2e4-556ae56bb34d",
   "metadata": {},
   "outputs": [],
   "source": [
    "voxel_size = (0.1, 0.1, 0.1)\n",
    "\n",
    "mesh = pygalmesh.generate_from_array(\n",
    "    vol, voxel_size, max_facet_distance=0.25, max_cell_circumradius=0.125\n",
    ")\n",
    "\n",
    "mesh.write(\"../Files/ellipse.vtk\")"
   ]
  },
  {
   "cell_type": "markdown",
   "id": "cfc33215-619c-40d5-b538-b126e5fc1aa7",
   "metadata": {},
   "source": [
    "#### Step 2: Loading mesh and generating tetrahedra"
   ]
  },
  {
   "cell_type": "code",
   "execution_count": null,
   "id": "0f14310d-b72e-45b8-a0ff-da26ef640820",
   "metadata": {},
   "outputs": [],
   "source": [
    "mesh = meshio.read('../Files/ellipse.vtk')\n",
    "\n",
    "vertices = mesh.points\n",
    "tetrahedra = mesh.cells_dict['tetra']\n",
    "\n",
    "tet_mesh = TetMesh(vertices, tetrahedra)\n",
    "print(vertices.shape)"
   ]
  },
  {
   "cell_type": "markdown",
   "id": "b2dbc2c4-3015-49dc-9d83-9a302672077f",
   "metadata": {},
   "source": [
    "#### Step 3: Solving eigenmodes"
   ]
  },
  {
   "cell_type": "code",
   "execution_count": null,
   "id": "0a50abdd-2f31-4f25-bb4e-de3a01ca667d",
   "metadata": {},
   "outputs": [],
   "source": [
    "solver = Solver(tet_mesh)\n",
    "eigenvalues, eigenvectors = solver.eigs(k=101)\n",
    "\n",
    "# Squeezing vertex coordinates in arbitrary [0, 1] interval (major axis length of volume = 1)\n",
    "vertices -= np.min(vertices) \n",
    "vertices /= np.max(vertices)"
   ]
  },
  {
   "cell_type": "markdown",
   "id": "e1c26f57-7bfc-4ea1-b098-c4a980cd05d1",
   "metadata": {},
   "source": [
    "Displaying eigenmodes."
   ]
  },
  {
   "cell_type": "code",
   "execution_count": null,
   "id": "ce45a1a6-affa-4bbb-a199-b54f3aa46592",
   "metadata": {},
   "outputs": [],
   "source": [
    "cut_volume = False\n",
    "if cut_volume:\n",
    "    cut = (vertices[:, 0] < 0.25) | (vertices[:, 2] < 0.5)\n",
    "else:\n",
    "    cut = vertices[:, 0] > -1   # Always true\n",
    "\n",
    "fig, axes = plt.subplots(4, 5, subplot_kw={\"projection\": \"3d\"}, figsize=(10, 10), dpi=150)\n",
    "\n",
    "for i in range(20):\n",
    "    ax = axes.flatten()[i]\n",
    "    ax.scatter(vertices[cut, 0] + 0.25, vertices[cut, 1] + 0.25, vertices[cut, 2], c=eigenvectors[cut, i + 1], alpha=0.5, cmap='coolwarm')\n",
    "    ax.set_xlim([0, 1])\n",
    "    ax.set_ylim([0, 1])\n",
    "    ax.set_zlim([0, 1])\n",
    "    ax.set_axis_off()\n",
    "    # ax.set_frame_on(False) # Older version of Matplotlib\n",
    "\n",
    "plt.tight_layout(pad=0)\n",
    "#plt.savefig('eigenhearts.png')\n",
    "plt.show()"
   ]
  },
  {
   "cell_type": "code",
   "execution_count": null,
   "id": "90c0ea04-b3b9-477e-843c-7a670dc4b7ae",
   "metadata": {},
   "outputs": [],
   "source": [
    "np.save('../Files/vertices_ellipse.npy', vertices)\n",
    "np.save('../Files/eigenmodes_ellipse.npy', eigenvectors)"
   ]
  },
  {
   "cell_type": "code",
   "execution_count": null,
   "id": "65fb0699-6865-4919-8459-e7f7de0218ef",
   "metadata": {},
   "outputs": [],
   "source": []
  }
 ],
 "metadata": {
  "kernelspec": {
   "display_name": "Python 3 (ipykernel)",
   "language": "python",
   "name": "python3"
  },
  "language_info": {
   "codemirror_mode": {
    "name": "ipython",
    "version": 3
   },
   "file_extension": ".py",
   "mimetype": "text/x-python",
   "name": "python",
   "nbconvert_exporter": "python",
   "pygments_lexer": "ipython3",
   "version": "3.9.19"
  }
 },
 "nbformat": 4,
 "nbformat_minor": 5
}
