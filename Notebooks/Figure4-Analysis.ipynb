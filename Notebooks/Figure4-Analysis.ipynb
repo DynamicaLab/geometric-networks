{
 "cells": [
  {
   "cell_type": "markdown",
   "id": "1f27f223-4afb-4e70-9c5e-86bf43798e36",
   "metadata": {},
   "source": [
    "# Figure 4 - Analysis"
   ]
  },
  {
   "cell_type": "code",
   "execution_count": null,
   "id": "920960c7-5396-42fd-bb40-583f0f5e6837",
   "metadata": {},
   "outputs": [],
   "source": [
    "import sys\n",
    "sys.path.append(\"..\")\n",
    "\n",
    "from main import *\n",
    "from visualization import *\n",
    "\n",
    "import matplotlib.pyplot as plt\n",
    "from brainspace.gradient.embedding import DiffusionMaps\n",
    "from scipy.stats import pearsonr, spearmanr\n",
    "from scipy.stats import zscore\n",
    "from matplotlib.colors import LogNorm\n",
    "\n",
    "plt.rcParams['font.size'] = 6\n",
    "\n",
    "if torch.cuda.is_available():  \n",
    "    device = \"cuda:0\" \n",
    "else:  \n",
    "    device = \"cpu\" \n",
    "print(device)"
   ]
  },
  {
   "cell_type": "markdown",
   "id": "93a6eaac-750d-45f8-bcbc-9c4bd4777276",
   "metadata": {},
   "source": [
    "# Part 1: Filtering noise in ellipse geometry"
   ]
  },
  {
   "cell_type": "code",
   "execution_count": null,
   "id": "131d511c-f5d6-4b0f-9a67-f8acd2321e78",
   "metadata": {},
   "outputs": [],
   "source": [
    "N = 2500 # Number of nodes\n",
    "sigma = 0.05 # Filtering kernel width"
   ]
  },
  {
   "cell_type": "code",
   "execution_count": null,
   "id": "620e7677-f008-49ba-836d-96bfb96becb3",
   "metadata": {},
   "outputs": [],
   "source": [
    "vertices = np.load('../Files/vertices_ellipse.npy').astype('float')\n",
    "\n",
    "order = np.argsort(vertices[:, 2]) # Ordering vertices along z-axis for more structured matrices\n",
    "vertices = vertices[order]\n",
    "eigenmodes = np.load('../Files/eigenmodes_ellipse.npy')[order]\n",
    "\n",
    "random_ids = [1] * N + [0] * (vertices.shape[0] - N)\n",
    "np.random.shuffle(random_ids)\n",
    "coords = vertices[np.array(random_ids) == 1] # Node coordinates are taken randomly from 3D mesh vertices"
   ]
  },
  {
   "cell_type": "markdown",
   "id": "835f50d2-849e-433f-808d-14ef47780bcb",
   "metadata": {},
   "source": [
    "Generating random timeseries and smoothing them spatially."
   ]
  },
  {
   "cell_type": "code",
   "execution_count": null,
   "id": "5d8e9e04-bea1-46f2-ae53-edbece34dff2",
   "metadata": {},
   "outputs": [],
   "source": [
    "timeseries = np.random.normal(0, 1, (N, 10000))\n",
    "for i in range(timeseries.shape[0]):\n",
    "    timeseries[i] = timeseries[i]\n",
    "timeseries = zscore(timeseries, axis=1)"
   ]
  },
  {
   "cell_type": "code",
   "execution_count": null,
   "id": "44543fa1-149c-480c-91e1-79be7e2382b9",
   "metadata": {},
   "outputs": [],
   "source": [
    "timeseries_smoothed = zscore(spatial_smoothing(timeseries, coords, sigma=sigma), axis=1)"
   ]
  },
  {
   "cell_type": "code",
   "execution_count": null,
   "id": "bf0ecfcf-f99f-4496-8e73-89c5af9fba7f",
   "metadata": {},
   "outputs": [],
   "source": [
    "plt.figure(figsize=(10, 4))\n",
    "plt.imshow(timeseries[:, :1000], cmap='magma', aspect='auto', vmin=-1, vmax=2)"
   ]
  },
  {
   "cell_type": "code",
   "execution_count": null,
   "id": "2c412e7c-5eb7-435c-b178-25ea7052c8b3",
   "metadata": {},
   "outputs": [],
   "source": [
    "plt.figure(figsize=(10, 4))\n",
    "plt.imshow(timeseries_smoothed[:, :1000], cmap='magma', aspect='auto', vmin=-1, vmax=2)"
   ]
  },
  {
   "cell_type": "markdown",
   "id": "97990483-9fd0-4de9-b3a3-ec1fbf3c5e6c",
   "metadata": {},
   "source": [
    "Computing correlations"
   ]
  },
  {
   "cell_type": "code",
   "execution_count": null,
   "id": "d2108630-be0d-4eb4-af77-19255b816178",
   "metadata": {},
   "outputs": [],
   "source": [
    "C = torch.corrcoef(torch.tensor(timeseries)).numpy()\n",
    "C_smoothed = torch.corrcoef(torch.tensor(timeseries_smoothed)).numpy()"
   ]
  },
  {
   "cell_type": "code",
   "execution_count": null,
   "id": "a551d235-b499-4311-beac-569c7814ee1c",
   "metadata": {},
   "outputs": [],
   "source": [
    "fig, ax = plt.subplots(1, 2, figsize=(12, 6))\n",
    "ax[0].imshow(np.abs(C) + 1, cmap='magma', norm=LogNorm())\n",
    "ax[1].imshow(np.abs(C_smoothed) + 1, cmap='magma', norm=LogNorm())"
   ]
  },
  {
   "cell_type": "markdown",
   "id": "c0061329-c75a-4f8e-9984-994d99bc6930",
   "metadata": {},
   "source": [
    "Computing geometric mode correspondence"
   ]
  },
  {
   "cell_type": "code",
   "execution_count": null,
   "id": "0fc8d700-6eea-4c5b-bbaa-cb92397bb2ca",
   "metadata": {},
   "outputs": [],
   "source": [
    "N_modes = 50\n",
    "\n",
    "map = DiffusionMaps(n_components=N_modes)\n",
    "modes1 = map.fit_transform(np.abs(C)).T\n",
    "\n",
    "map = DiffusionMaps(n_components=N_modes, alpha=0)\n",
    "modes2 = map.fit_transform(np.abs(C_smoothed)).T"
   ]
  },
  {
   "cell_type": "code",
   "execution_count": null,
   "id": "54a2a479-206b-4d8e-89d4-4f1067d88795",
   "metadata": {},
   "outputs": [],
   "source": [
    "modes_geometric = eigenmodes[np.array(random_ids) == 1, :].T # Subsampling vertices, where network nodes are located\n",
    "modes_geometric = modes_geometric[1:, :] # Excluding first mode (artifact)"
   ]
  },
  {
   "cell_type": "code",
   "execution_count": null,
   "id": "c3899703-782f-40ce-a143-09d5c2323690",
   "metadata": {},
   "outputs": [],
   "source": [
    "corrs1, mapping1 = compute_mode_similarity_matrix(modes_geometric[:modes1.shape[0]], modes1, return_mapping=True)"
   ]
  },
  {
   "cell_type": "code",
   "execution_count": null,
   "id": "0020d8c2-455a-4455-9f27-fcbcbc792f1d",
   "metadata": {},
   "outputs": [],
   "source": [
    "fig, ax = plt.subplots(figsize=(5, 5))\n",
    "cax = plt.imshow(np.abs(corrs1), cmap='Reds', vmin=0, vmax=1)\n",
    "plt.xlabel('Functional modes')\n",
    "plt.ylabel('Geometric modes')\n",
    "#cbar = fig.colorbar(cax, ax=ax, fraction=0.04, pad=0.02)\n",
    "plt.colorbar(cax, ax=ax, fraction=0.045, pad=0.02)\n",
    "#plt.savefig('heart_modes_comparison.png')"
   ]
  },
  {
   "cell_type": "code",
   "execution_count": null,
   "id": "48e35fa8-5196-432b-b9f8-2262fc4bfe6c",
   "metadata": {},
   "outputs": [],
   "source": [
    "corrs2, mapping2 = compute_mode_similarity_matrix(modes_geometric[:modes2.shape[0]], modes2, return_mapping=True)"
   ]
  },
  {
   "cell_type": "code",
   "execution_count": null,
   "id": "c0b8b1c9-875a-4e33-b54a-31346f2cefc6",
   "metadata": {},
   "outputs": [],
   "source": [
    "fig, ax = plt.subplots(figsize=(5, 5))\n",
    "cax = plt.imshow(np.abs(corrs2), cmap='Reds', vmin=0, vmax=1)\n",
    "plt.xlabel('Functional modes')\n",
    "plt.ylabel('Geometric modes')\n",
    "#cbar = fig.colorbar(cax, ax=ax, fraction=0.04, pad=0.02)\n",
    "plt.colorbar(cax, ax=ax, fraction=0.045, pad=0.02)\n",
    "#plt.savefig('heart_modes_comparison.png')"
   ]
  },
  {
   "cell_type": "markdown",
   "id": "44f38535-7c66-469a-aca0-ff914597dfc9",
   "metadata": {},
   "source": [
    "Saving results for figure later."
   ]
  },
  {
   "cell_type": "code",
   "execution_count": null,
   "id": "05860a60-5531-4c53-b116-c62ac64886d9",
   "metadata": {},
   "outputs": [],
   "source": [
    "np.save('../Results/figure4_ellipse_coords.npy', coords)\n",
    "np.save('../Results/figure4_timeseries_noise.npy',timeseries)\n",
    "np.save('../Results/figure4_timeseries_smoothed.npy',timeseries_smoothed)\n",
    "np.save('../Results/figure4_correlations_noise.npy', C)\n",
    "np.save('../Results/figure4_correlations_smoothed.npy', C_smoothed)\n",
    "np.save('../Results/figure4_mode_mapping_noise.npy', corrs1)\n",
    "np.save('../Results/figure4_mode_mapping_smoothed.npy', corrs2)"
   ]
  },
  {
   "cell_type": "markdown",
   "id": "ac23cfbb-7940-4ff5-a569-a20ea1e50755",
   "metadata": {},
   "source": [
    "# Plotting and saving 3D gradients for figure"
   ]
  },
  {
   "cell_type": "code",
   "execution_count": null,
   "id": "2898be8e-6684-47c8-9daf-519db3d1effc",
   "metadata": {},
   "outputs": [],
   "source": [
    "%matplotlib inline"
   ]
  },
  {
   "cell_type": "code",
   "execution_count": null,
   "id": "3734ac64-75fd-43ae-882e-542fde98e223",
   "metadata": {},
   "outputs": [],
   "source": [
    "figs_noise, figs_smooth = [], []"
   ]
  },
  {
   "cell_type": "markdown",
   "id": "f8933217-dab3-4646-9024-a3a93dee3909",
   "metadata": {},
   "source": [
    "Gray ellipse nodes"
   ]
  },
  {
   "cell_type": "code",
   "execution_count": null,
   "id": "9ef6bce6-ea31-493d-9370-c628f29fd9c9",
   "metadata": {},
   "outputs": [],
   "source": [
    "%matplotlib inline"
   ]
  },
  {
   "cell_type": "code",
   "execution_count": null,
   "id": "fc40b3f1-90f8-45cf-8ad0-b8343c5bfdbe",
   "metadata": {},
   "outputs": [],
   "source": [
    "fig, ax = plt.subplots(subplot_kw={\"projection\": \"3d\"}, figsize=(5, 5), dpi=300)\n",
    "\n",
    "ax.scatter(coords[:, 0], coords[:, 1], coords[:, 2], color=[0.5, 0.5, 0.5], s=5, alpha=0.2, edgecolor='None', zorder=-10)\n",
    "ax.set_xlim([-0.25, 0.75])\n",
    "ax.set_ylim([-0.25, 0.75])\n",
    "ax.set_zlim([0, 1])\n",
    "    \n",
    "ax.set_axis_off()\n",
    "\n",
    "plt.tight_layout(pad=0)\n",
    "\n",
    "fig_array = figure_to_array(fig)[375:1050, 475:1000]\n",
    "\n",
    "plt.close()"
   ]
  },
  {
   "cell_type": "markdown",
   "id": "6e605bb1-a517-4cdb-8e18-d8e51ee0fde6",
   "metadata": {},
   "source": [
    "Colorized gradients"
   ]
  },
  {
   "cell_type": "code",
   "execution_count": null,
   "id": "00e845ab-8296-4e12-bcf9-95738d097517",
   "metadata": {},
   "outputs": [],
   "source": [
    "for i in range(7):\n",
    "    fig, ax = plt.subplots(subplot_kw={\"projection\": \"3d\"}, figsize=(5, 5), dpi=300)\n",
    "    ax.scatter(coords[:, 0], coords[:, 1], coords[:, 2], c=np.sign(corrs1[i, i]) * modes1[mapping1[i]], alpha=0.5, cmap='coolwarm', edgecolor='None')\n",
    "    ax.set_xlim([-0.25, 0.75])\n",
    "    ax.set_ylim([-0.25, 0.75])\n",
    "    ax.set_zlim([0, 1])\n",
    "    ax.set_axis_off()\n",
    "    plt.tight_layout(pad=0)\n",
    "    figs_noise.append(figure_to_array(fig)[375:1050, 475:1000])\n",
    "    plt.close()\n",
    "\n",
    "for i in range(7):\n",
    "    fig, ax = plt.subplots(subplot_kw={\"projection\": \"3d\"}, figsize=(5, 5), dpi=300)\n",
    "    ax.scatter(coords[:, 0], coords[:, 1], coords[:, 2], c=np.sign(corrs2[i, i]) * modes2[mapping2[i]], alpha=0.5, cmap='coolwarm', edgecolor='None')\n",
    "    ax.set_xlim([-0.25, 0.75])\n",
    "    ax.set_ylim([-0.25, 0.75])\n",
    "    ax.set_zlim([0, 1])\n",
    "    ax.set_axis_off()\n",
    "    plt.tight_layout(pad=0)\n",
    "    figs_smooth.append(figure_to_array(fig)[375:1050, 475:1000])\n",
    "    plt.close()"
   ]
  },
  {
   "cell_type": "code",
   "execution_count": null,
   "id": "76ea1be7-b3cb-42dd-a9d7-902c2b6ca704",
   "metadata": {},
   "outputs": [],
   "source": [
    "np.save('../Results/figure4_ellipse_image.npy', fig_array)\n",
    "np.save('../Results/figure4_gradients_images_noise.npy',figs_noise)\n",
    "np.save('../Results/figure4_gradients_images_smoothed.npy', figs_smooth)"
   ]
  },
  {
   "cell_type": "markdown",
   "id": "00b20310-67d9-4670-8082-e99647467c7b",
   "metadata": {},
   "source": [
    "# Part 2: Varying filtering kernel"
   ]
  },
  {
   "cell_type": "code",
   "execution_count": null,
   "id": "24e8e937-1783-4adb-9084-cde51fc07159",
   "metadata": {},
   "outputs": [],
   "source": [
    "N = 2500 # Number of nodes\n",
    "sigma = 0.05 # Filtering kernel width\n",
    "\n",
    "random_ids = [1] * N + [0] * (vertices.shape[0] - N)\n",
    "np.random.shuffle(random_ids)\n",
    "coords = vertices[np.array(random_ids) == 1] # Node coordinates are taken randomly from 3D mesh vertices\n",
    "modes_geometric = eigenmodes[np.array(random_ids) == 1, :].T # Subsampling vertices, where network nodes are located\n",
    "modes_geometric = modes_geometric[1:, :] # Excluding first mode (artifact)\n",
    "\n",
    "timeseries = np.random.normal(0, 1, (N, 10000))\n",
    "for i in range(timeseries.shape[0]):\n",
    "    timeseries[i] = timeseries[i]\n",
    "timeseries = zscore(timeseries, axis=1)\n",
    "timeseries_smoothed = zscore(spatial_smoothing(timeseries, coords, sigma=sigma), axis=1)\n",
    "\n",
    "C = torch.corrcoef(torch.tensor(timeseries)).numpy()\n",
    "C_smoothed = torch.corrcoef(torch.tensor(timeseries_smoothed)).numpy()\n",
    "\n",
    "N_modes = 50\n",
    "embedding = DiffusionMaps(n_components=N_modes)\n",
    "modes1 = embedding.fit_transform(np.abs(C)).T\n",
    "embedding = DiffusionMaps(n_components=N_modes, alpha=0)\n",
    "modes2 = embedding.fit_transform(np.abs(C_smoothed)).T\n",
    "\n",
    "corrs1, mapping1 = compute_mode_similarity_matrix(modes1, modes_geometric, return_mapping=True)\n",
    "corrs2, mapping2 = compute_mode_similarity_matrix(modes2, modes_geometric, return_mapping=True)"
   ]
  },
  {
   "cell_type": "code",
   "execution_count": null,
   "id": "70b11c40-7bfc-45e8-b727-b604bd474536",
   "metadata": {},
   "outputs": [],
   "source": [
    "d = compute_distances(coords, coords)\n",
    "C_theoretical = np.exp(-(d ** 2) / (4 * sigma ** 2))"
   ]
  },
  {
   "cell_type": "code",
   "execution_count": null,
   "id": "bdac74fb-16f0-4378-8a10-8d0aad826ddd",
   "metadata": {},
   "outputs": [],
   "source": [
    "fig, ax = plt.subplots(1, 2, figsize=(12, 6))\n",
    "ax[0].imshow(np.abs(C_smoothed) + 1, cmap='magma', norm=LogNorm())\n",
    "ax[1].imshow(np.abs(C_theoretical) + 1, cmap='magma', norm=LogNorm())"
   ]
  },
  {
   "cell_type": "code",
   "execution_count": null,
   "id": "a4c3f14f-9965-4792-a828-2e130d03fe75",
   "metadata": {},
   "outputs": [],
   "source": [
    "triangle = np.triu_indices(C_smoothed.shape[0], 1)"
   ]
  },
  {
   "cell_type": "code",
   "execution_count": null,
   "id": "8203a827-cde3-45d7-ac61-a0792c1f6bc3",
   "metadata": {},
   "outputs": [],
   "source": [
    "pearsonr(C_smoothed[triangle], C_theoretical[triangle])"
   ]
  },
  {
   "cell_type": "code",
   "execution_count": null,
   "id": "b5f34128-0999-48ee-84e3-e034cd7ff106",
   "metadata": {},
   "outputs": [],
   "source": [
    "d_bins = np.linspace(0, 0.4, 61)"
   ]
  },
  {
   "cell_type": "code",
   "execution_count": null,
   "id": "0253acb5-1df3-44e0-816f-6e4831845b31",
   "metadata": {},
   "outputs": [],
   "source": [
    "corrs_real, corrs_theoretical = [], []\n",
    "for i in range(len(d_bins) - 1):\n",
    "    condition1 = d >= d_bins[i]\n",
    "    condition2 = d < d_bins[i + 1]\n",
    "    corrs_real.append(np.mean(C_smoothed[condition1 & condition2]))\n",
    "    corrs_theoretical.append(np.mean(C_theoretical[condition1 & condition2]))"
   ]
  },
  {
   "cell_type": "code",
   "execution_count": null,
   "id": "fec30189-7fe4-44f6-8f9a-959a2800c8b2",
   "metadata": {},
   "outputs": [],
   "source": [
    "plt.plot(d_bins[:-1], corrs_real)\n",
    "plt.plot(d_bins[:-1], corrs_theoretical)"
   ]
  },
  {
   "cell_type": "code",
   "execution_count": null,
   "id": "c8802067-f940-49f3-b77c-732dca50433e",
   "metadata": {},
   "outputs": [],
   "source": [
    "np.save('../Results/figure4_corrmatrix_smoothed.npy', C_smoothed)\n",
    "np.save('../Results/figure4_corrmatrix_theoretical.npy', C_theoretical)\n",
    "np.save('../Results/figure4_corr_decay_real.npy', corrs_real)\n",
    "np.save('../Results/figure4_corr_decay_theoretical.npy', corrs_theoretical)"
   ]
  },
  {
   "cell_type": "markdown",
   "id": "a1ac3b5b-ca54-48fd-a167-deae3504008a",
   "metadata": {},
   "source": [
    "# Plotting and saving 3D eigenmodes at various filter widths"
   ]
  },
  {
   "cell_type": "code",
   "execution_count": null,
   "id": "cfd6341b-8b5c-4732-8289-6f3022103ec6",
   "metadata": {},
   "outputs": [],
   "source": [
    "from visualization import *"
   ]
  },
  {
   "cell_type": "code",
   "execution_count": null,
   "id": "7f60606f-1420-4741-bb12-51e8a03a1701",
   "metadata": {},
   "outputs": [],
   "source": [
    "def run_simulation(N=2500, sigma=0.05, N_modes=50, T=10000):\n",
    "    \n",
    "    random_ids = [1] * N + [0] * (vertices.shape[0] - N)\n",
    "    np.random.shuffle(random_ids)\n",
    "    coords = vertices[np.array(random_ids) == 1] # Node coordinates are taken randomly from 3D mesh vertices\n",
    "    modes_geometric = eigenmodes[np.array(random_ids) == 1, :].T # Subsampling vertices, where network nodes are located\n",
    "    modes_geometric = modes_geometric[1:, :] # Excluding first mode (artifact)\n",
    "    \n",
    "    timeseries = np.random.normal(0, 1, (N, T))\n",
    "    timeseries = zscore(timeseries, axis=1)\n",
    "    timeseries_smoothed = zscore(spatial_smoothing(timeseries, coords, sigma=sigma), axis=1)\n",
    "    \n",
    "    C_smoothed = torch.corrcoef(torch.tensor(timeseries_smoothed)).numpy()\n",
    "    \n",
    "    embedding = DiffusionMaps(n_components=N_modes, alpha=0)\n",
    "    gradients = embedding.fit_transform(np.abs(C_smoothed)).T\n",
    "    \n",
    "    mode_similarity, mapping = compute_mode_similarity_matrix(gradients, modes_geometric, return_mapping=True)\n",
    "\n",
    "    return coords, mode_similarity, gradients, mapping"
   ]
  },
  {
   "cell_type": "code",
   "execution_count": null,
   "id": "59f057ad-96c7-4c8b-a8e6-bcc32201a484",
   "metadata": {
    "scrolled": true
   },
   "outputs": [],
   "source": [
    "sigma_values = [1e-10, 0.01, 0.02, 0.03, 0.04, 0.05, 0.25]\n",
    "\n",
    "figures, corrs = [], []\n",
    "\n",
    "for sigma in sigma_values:\n",
    "    \n",
    "    coords, corrs_, modes, mapping = run_simulation(sigma=sigma)\n",
    "\n",
    "    i = 0\n",
    "    v = np.percentile(np.abs(modes[mapping[i]]), 95)\n",
    "    fig, ax = plt.subplots(subplot_kw={\"projection\": \"3d\"}, figsize=(5, 5), dpi=300)\n",
    "    ax.scatter(coords[:, 0], coords[:, 1], coords[:, 2], c=np.sign(corrs_[i, i]) * modes[mapping[i]], alpha=0.5, cmap='coolwarm', edgecolor='None', vmin=-v, vmax=v)\n",
    "    ax.set_xlim([-0.25, 0.75])\n",
    "    ax.set_ylim([-0.25, 0.75])\n",
    "    ax.set_zlim([0, 1])\n",
    "    ax.set_axis_off()\n",
    "    plt.tight_layout(pad=0)\n",
    "    fig_array = figure_to_array(fig)[375:1050, 475:1000]\n",
    "    \n",
    "    figures.append(fig_array)\n",
    "    corrs.append(corrs_)"
   ]
  },
  {
   "cell_type": "code",
   "execution_count": null,
   "id": "a5b4a65b-9ca6-4578-8499-963cfc338288",
   "metadata": {},
   "outputs": [],
   "source": [
    "np.save('../Results/figure4_mode_figures.npy', np.stack(figures))\n",
    "np.save('../Results/figure4_corrs_lowsigma.npy', np.stack(corrs))"
   ]
  },
  {
   "cell_type": "markdown",
   "id": "165c65b4-512c-45d5-a0ff-db646e9000a2",
   "metadata": {},
   "source": [
    "# Computing eigenmode-gradient correlations at varying filtering kernel widths"
   ]
  },
  {
   "cell_type": "code",
   "execution_count": null,
   "id": "e579051f-338d-4461-a242-c59cc2e24d37",
   "metadata": {},
   "outputs": [],
   "source": [
    "sigma_values = np.linspace(0.01, 1.0, 100) # Linear sweep"
   ]
  },
  {
   "cell_type": "code",
   "execution_count": null,
   "id": "8ad334d6-2384-404c-b58d-a98b1df46de2",
   "metadata": {},
   "outputs": [],
   "source": [
    "vertices = np.load('../Files/vertices_ellipse2.npy').astype('float')\n",
    "\n",
    "order = np.argsort(vertices[:, 2]) # Ordering vertices along z-axis for more structured matrices\n",
    "vertices = vertices[order]\n",
    "eigenmodes = np.load('../Files/eigenmodes_ellipse2.npy')[order]\n",
    "\n",
    "random_ids = [1] * N + [0] * (vertices.shape[0] - N)\n",
    "np.random.shuffle(random_ids)\n",
    "coords = vertices[np.array(random_ids) == 1] # Node coordinates are taken randomly from 3D mesh vertices"
   ]
  },
  {
   "cell_type": "code",
   "execution_count": null,
   "id": "f4e37154-1940-4803-af0b-dd6879969085",
   "metadata": {},
   "outputs": [],
   "source": [
    "N = 3000\n",
    "N_modes = 50\n",
    "N_runs = 10\n",
    "\n",
    "corrs_per_sigma = []\n",
    "\n",
    "for sigma in tqdm(sigma_values):\n",
    "    \n",
    "    corrs_per_run = []\n",
    "    \n",
    "    for _ in range(N_runs):\n",
    "        \n",
    "        random_ids = [1] * N + [0] * (vertices.shape[0] - N)\n",
    "        np.random.shuffle(random_ids)\n",
    "        coords = vertices[np.array(random_ids) == 1] # Node coordinates are taken randomly from 3D mesh vertices\n",
    "        \n",
    "        timeseries = np.random.normal(0, 1, (N, 2500))\n",
    "        timeseries_smoothed = zscore(spatial_smoothing(timeseries, coords, sigma=sigma), axis=1)\n",
    "        \n",
    "        C_smoothed = torch.corrcoef(torch.tensor(timeseries_smoothed)).numpy()\n",
    "                \n",
    "        embedding = DiffusionMaps(n_components=N_modes)\n",
    "        gradients = embedding.fit_transform(np.abs(C_smoothed)).T\n",
    "        \n",
    "        modes_geometric = eigenmodes[np.array(random_ids) == 1, :].T # Subsampling vertices, where network nodes are located\n",
    "        modes_geometric = modes_geometric[1:, :] # Excluding first mode (artifact)\n",
    "        \n",
    "        corrs, mapping = compute_mode_similarity_matrix(gradients, modes_geometric, return_mapping=True)\n",
    "\n",
    "        corrs_per_run.append(corrs)\n",
    "\n",
    "    corrs_per_sigma.append(np.stack(corrs_per_run, axis=0))\n",
    "\n",
    "corrs_per_sigma = np.stack(corrs_per_sigma, axis=0)"
   ]
  },
  {
   "cell_type": "code",
   "execution_count": null,
   "id": "8b664be7-51a6-4f06-b4c6-f292b9ba2912",
   "metadata": {},
   "outputs": [],
   "source": [
    "avg_corrs_per_sigma = np.mean(np.abs(corrs_per_sigma), axis=1)\n",
    "\n",
    "avg_corrs = []\n",
    "for c in avg_corrs_per_sigma:\n",
    "    avg_corrs.append(np.mean(np.abs(np.diag(c))))"
   ]
  },
  {
   "cell_type": "code",
   "execution_count": null,
   "id": "aad57ed9-0bbd-4abe-94e7-deb721581b3d",
   "metadata": {},
   "outputs": [],
   "source": [
    "plt.plot(sigma_values, avg_corrs)"
   ]
  },
  {
   "cell_type": "code",
   "execution_count": null,
   "id": "f98fd7cc-d7e6-47d1-8378-119c59e7b0e6",
   "metadata": {},
   "outputs": [],
   "source": [
    "np.save('../Results/figure4_smoothing_corrs_per_sigma_zoom_2.npy', corrs_per_sigma)"
   ]
  },
  {
   "cell_type": "markdown",
   "id": "e62b4cc3-746a-4906-a266-d5f30ae26566",
   "metadata": {},
   "source": [
    "# Figure layout"
   ]
  },
  {
   "cell_type": "code",
   "execution_count": null,
   "id": "dc881c25-7300-4f6c-9fcb-e5ee685c1c50",
   "metadata": {},
   "outputs": [],
   "source": [
    "from visualization import *"
   ]
  },
  {
   "cell_type": "code",
   "execution_count": null,
   "id": "9da4a8e6-814a-4a9f-aca4-a9b716af0e98",
   "metadata": {},
   "outputs": [],
   "source": [
    "fig = PaperFigure(figsize=(7, 7))\n",
    "\n",
    "fig.set_tick_length(2)\n",
    "fig.set_font_size(6)\n",
    "fig.add_background()\n",
    "\n",
    "ratio = fig_array.shape[0] / fig_array.shape[1]\n",
    "h = 2 \n",
    "w = h / ratio\n",
    "pad = 0.35\n",
    "fig.add_axes('ellipse', (0, 0), w, h)\n",
    "fig.add_axes('noise1', (0.4, 0.4), 0.7, 0.25)\n",
    "fig.add_axes('noise2', (0.4, 1.3), 0.7, 0.25)\n",
    "\n",
    "fig.add_axes('timeseries_noise', (w + pad , 0), 3.5, h / 2.5)\n",
    "fig.add_axes('timeseries_smooth', (w + pad, h - (h / 2.5)), 3.5, h / 2.5)\n",
    "fig.add_axes('corr_noise', (7 - (h / 2.5) , 0), h / 2.5, h / 2.5)\n",
    "fig.add_axes('corr_smooth', (7 - (h / 2.5) , h - (h / 2.5)), h / 2.5, h / 2.5)\n",
    "\n",
    "y = 2.5\n",
    "w = 0.75\n",
    "pad = (5 - 6 * w) / 5\n",
    "for i in range(6):\n",
    "    fig.add_axes('modes_noise{}'.format(i), (i * (w + pad), y), w, w * ratio)\n",
    "\n",
    "for i in range(6):\n",
    "    fig.add_axes('modes_smooth{}'.format(i), (i * (w + pad), y + w * ratio + 0.1), w, w * ratio)\n",
    "\n",
    "w = h / 2.5\n",
    "fig.add_axes('modecorr_noise', (7 - (h / 2.5), y), w, w)\n",
    "fig.add_axes('modecorr_smooth', (7 - (h / 2.5), y + h - w), w, w)\n",
    "\n",
    "fig.set_line_thickness(0.6)\n",
    "\n",
    "# --------------------------------------------------------------------------------------------------\n",
    "\n",
    "ax = fig.axes['ellipse']\n",
    "ax.imshow(fig_array)\n",
    "ax.axis('off')\n",
    "\n",
    "ax = fig.axes['noise1']\n",
    "ax.plot(np.random.normal(0, 1, 50), color='black', linewidth=0.6)\n",
    "ax.axis('off')\n",
    "\n",
    "ax = fig.axes['noise2']\n",
    "ax.plot(np.random.normal(0, 1, 50), color='black', linewidth=0.6)\n",
    "ax.axis('off')\n",
    "\n",
    "ax = fig.axes['timeseries_noise']\n",
    "ax.imshow(timeseries[::3, :1000], aspect='auto', interpolation='None', cmap='coolwarm', vmin=-2.5, vmax=2.5)\n",
    "ax.set_xticks([])\n",
    "ax.set_yticks([])\n",
    "\n",
    "ax = fig.axes['timeseries_smooth']\n",
    "ax.imshow(timeseries_smoothed[::3, :1000], aspect='auto', interpolation='None', cmap='coolwarm', vmin=-2.5, vmax=2.5)\n",
    "ax.set_xticks([])\n",
    "ax.set_yticks([])\n",
    "\n",
    "ax = fig.axes['corr_noise']\n",
    "ax.imshow(np.abs(C)[::3, ::3] + 1, cmap='Reds', norm=LogNorm(), interpolation='None')\n",
    "ax.set_xticks([])\n",
    "ax.set_yticks([])\n",
    "\n",
    "ax = fig.axes['corr_smooth']\n",
    "ax.imshow(np.abs(C_smoothed)[::3, ::3] + 1, cmap='Reds', norm=LogNorm(), interpolation='None')\n",
    "ax.set_xticks([])\n",
    "ax.set_yticks([])\n",
    "\n",
    "for i in range(6):\n",
    "    ax = fig.axes['modes_noise{}'.format(i)]\n",
    "    ax.imshow(figs_noise[i])\n",
    "    ax.axis('off')\n",
    "\n",
    "for i in range(6):\n",
    "    ax = fig.axes['modes_smooth{}'.format(i)]\n",
    "    ax.imshow(figs_smooth[i])\n",
    "    ax.axis('off')\n",
    "\n",
    "ax = fig.axes['modecorr_noise']\n",
    "ax.imshow(np.abs(corrs1), cmap='Reds', vmin=0, vmax=1)\n",
    "ax.set_xticks([])\n",
    "ax.set_yticks([])\n",
    "\n",
    "ax = fig.axes['modecorr_smooth']\n",
    "ax.imshow(np.abs(corrs2), cmap='Reds', vmin=0, vmax=1)\n",
    "ax.set_xticks([])\n",
    "ax.set_yticks([])\n",
    "\n",
    "fig.show()"
   ]
  },
  {
   "cell_type": "code",
   "execution_count": null,
   "id": "2e16361b-5774-441b-871f-7f99a9d79569",
   "metadata": {},
   "outputs": [],
   "source": [
    "fig.save('../Figures/figure4_incomplete.svg')"
   ]
  },
  {
   "cell_type": "code",
   "execution_count": null,
   "id": "03c2c0fa-e133-4973-88c3-0d4cdde2d40c",
   "metadata": {},
   "outputs": [],
   "source": []
  }
 ],
 "metadata": {
  "kernelspec": {
   "display_name": "Python 3 (ipykernel)",
   "language": "python",
   "name": "python3"
  },
  "language_info": {
   "codemirror_mode": {
    "name": "ipython",
    "version": 3
   },
   "file_extension": ".py",
   "mimetype": "text/x-python",
   "name": "python",
   "nbconvert_exporter": "python",
   "pygments_lexer": "ipython3",
   "version": "3.9.19"
  }
 },
 "nbformat": 4,
 "nbformat_minor": 5
}
