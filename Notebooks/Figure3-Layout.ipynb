{
 "cells": [
  {
   "cell_type": "markdown",
   "id": "926da1fa-0848-424c-a4a5-530edc2f5c70",
   "metadata": {},
   "source": [
    "# Figure 3 - Layout"
   ]
  },
  {
   "cell_type": "code",
   "execution_count": null,
   "id": "3d218018-d2b3-4beb-8668-3b9612b50694",
   "metadata": {},
   "outputs": [],
   "source": [
    "import sys\n",
    "sys.path.append(\"..\")\n",
    "\n",
    "from main import *\n",
    "from visualization import *\n",
    "\n",
    "from scipy.signal import find_peaks\n",
    "from scipy.stats import spearmanr"
   ]
  },
  {
   "cell_type": "markdown",
   "id": "90a39fd2-cee0-4f6e-8836-78afa70b82b0",
   "metadata": {},
   "source": [
    "# Loading data for figure"
   ]
  },
  {
   "cell_type": "code",
   "execution_count": null,
   "id": "7815ad90-4367-485e-b2c1-ebdb622804b5",
   "metadata": {},
   "outputs": [],
   "source": [
    "h_values = np.linspace(0.025, 0.6, 100, endpoint=True)\n",
    "correlations_h = np.load('../ComputeCanada/kernel_size/mode_correlations_per_h_2500.npy')\n",
    "\n",
    "avg_correlations_h = np.mean(np.abs(correlations_h), axis=1)\n",
    "\n",
    "diagonals = []\n",
    "for a in avg_correlations_h:\n",
    "    diagonals.append(np.diag(a))\n",
    "diagonals = np.stack(diagonals, axis=1)\n",
    "\n",
    "variograms = np.load('../Results/mode_variograms.npy')\n",
    "wavelengths = np.load('../Results/mode_wavelengths.npy')\n",
    "\n",
    "cutoffs = np.load('../Results/figure3_cutoffs_kernelsize.npy')\n",
    "\n",
    "correlations_swaps = np.load('../ComputeCanada/edge_swapping/mode_correlations_per_rho_swaps.npy')\n",
    "fractions = np.linspace(0, 0.99, 36, endpoint=True)\n",
    "avg_correlations_swaps = np.mean(np.abs(correlations_swaps), axis=1)\n",
    "\n",
    "diagonals_swaps = []\n",
    "for a in avg_correlations_swaps:\n",
    "    diagonals_swaps.append(np.diag(a))\n",
    "diagonals_swaps = np.stack(diagonals_swaps, axis=1)\n",
    "\n",
    "cutoffs_swaps = np.load('../Results/figure3_cutoffs_swaps.npy')\n",
    "\n",
    "profiles_kernelsize = np.load('../Results/figure3_profiles_kernelsize.npy')\n",
    "profiles_aligned_kernelsize = np.load('../Results/figure3_aligned_profiles_kernelsize.npy')\n",
    "profiles_edgeswaps = np.load('../Results/figure3_profiles_edgeswaps.npy')\n",
    "profiles_aligned_edgeswaps = np.load('../Results/figure3_aligned_profiles_edgeswaps.npy')"
   ]
  },
  {
   "cell_type": "markdown",
   "id": "9269e45c-92eb-406d-a18e-421c7ca9c5a9",
   "metadata": {},
   "source": [
    "# Rendering figure"
   ]
  },
  {
   "cell_type": "code",
   "execution_count": null,
   "id": "1d349b56-8bda-4661-ac43-54fc7c728441",
   "metadata": {},
   "outputs": [],
   "source": [
    "red = plt.get_cmap('Reds')(175)\n",
    "blue = plt.get_cmap('Blues')(175)"
   ]
  },
  {
   "cell_type": "code",
   "execution_count": null,
   "id": "d6e57607-0259-4416-a512-ad80f2cbe7ca",
   "metadata": {},
   "outputs": [],
   "source": [
    "fig = PaperFigure(figsize=(3.5, 7))\n",
    "\n",
    "fig.set_tick_length(2)\n",
    "fig.set_font_size(6)\n",
    "fig.add_background()\n",
    "\n",
    "# Setting up axes ----------------------------------------------------------------------------------\n",
    "\n",
    "\n",
    "w = 0.65\n",
    "pad = (3.5 - 5 * w) / 4\n",
    "linepad = 0.5\n",
    "\n",
    "fig.add_axes('corrs1', (0 * (w + pad), 0), w, w)\n",
    "fig.add_axes('corrs2', (1 * (w + pad), 0), w, w)\n",
    "fig.add_axes('corrs3', (2 * (w + pad), 0), w, w)\n",
    "fig.add_axes('corrs4', (3 * (w + pad), 0), w, w)\n",
    "fig.add_axes('corrs5', (4 * (w + pad), 0), w, w)\n",
    "fig.add_axes('mode_decay_h', (0, w + linepad), 2 * w + pad, 1.5 * w)\n",
    "fig.add_axes('scatter_h', (3.5 - (1.5 * w), w + linepad), 1.5 * w, 1.5 * w)\n",
    "\n",
    "fig.add_axes('corrs1_swaps', (0 * (w + pad), 2.5 * w + 2 * linepad), w, w)\n",
    "fig.add_axes('corrs2_swaps', (1 * (w + pad), 2.5 * w + 2 * linepad), w, w)\n",
    "fig.add_axes('corrs3_swaps', (2 * (w + pad), 2.5 * w + 2 * linepad), w, w)\n",
    "fig.add_axes('corrs4_swaps', (3 * (w + pad), 2.5 * w + 2 * linepad), w, w)\n",
    "fig.add_axes('corrs5_swaps', (4 * (w + pad), 2.5 * w + 2 * linepad), w, w)\n",
    "\n",
    "fig.add_axes('mode_decay_swaps', (0,  3.5 * w + 3 * linepad), 2 * w + pad, 1.5 * w)\n",
    "fig.add_axes('scatter_swaps', (3.5 - (1.5 * w),  3.5 * w + 3 * linepad), 1.5 * w, 1.5 * w)\n",
    "\n",
    "y = 5 * w + 4 * linepad\n",
    "w = 0.95\n",
    "pad = (3.5 - 3 * w) / 2\n",
    "fig.add_axes('profiles1', (0 * (w + pad), y), w, w)\n",
    "fig.add_axes('profiles2', (1 * (w + pad), y), w, w)\n",
    "fig.add_axes('profiles3', (2 * (w + pad), y), w, w)\n",
    "\n",
    "fig.set_line_thickness(0.6)\n",
    "\n",
    "# Filling content --------------------------------------------------------------------------\n",
    "\n",
    "matrix_ids = [12, 16, 20, 30, 50]\n",
    "for i in range(5):\n",
    "    ax = fig.axes['corrs{}'.format(i + 1)]\n",
    "    ax.imshow(avg_correlations_h[matrix_ids[i]], cmap='Reds', vmin=0.1, vmax=1)\n",
    "    ax.set_xticks([])\n",
    "    ax.set_yticks([])\n",
    "\n",
    "ax = fig.axes['mode_decay_h']\n",
    "ax.imshow(diagonals, cmap='Reds', aspect='auto', vmin=0, vmax=1)\n",
    "ax.set_xticks([0, 50, 99], [0, 0.3, 0.6])\n",
    "\n",
    "ax = fig.axes['scatter_h']\n",
    "x = np.array(cutoffs[1:])\n",
    "y = np.array(wavelengths[2:51])\n",
    "ax.scatter(x, y, s=1, color='black')\n",
    "ax.spines[['top', 'right']].set_visible(False)\n",
    "a, b = np.polyfit(x, y, deg=1)\n",
    "ax.plot(x, a * x + b, linewidth=1, color='red')\n",
    "ax.set_ylim([0.2, 1.1])\n",
    "\n",
    "matrix_ids_swaps = [0, 4, 8, 12, 16]\n",
    "for i in range(5):\n",
    "    ax = fig.axes['corrs{}_swaps'.format(i + 1)]\n",
    "    ax.imshow(avg_correlations_swaps[matrix_ids_swaps[i]], cmap='Blues', vmin=0.1, vmax=1)\n",
    "    ax.set_xticks([])\n",
    "    ax.set_yticks([])\n",
    "\n",
    "ax = fig.axes['mode_decay_swaps']\n",
    "ax.imshow(diagonals_swaps, cmap='Blues', aspect='auto', vmin=0, vmax=1)\n",
    "ax.set_xticks([0, 17.5, 35], [0, 0.5, 1.0])\n",
    "\n",
    "ax = fig.axes['scatter_swaps']\n",
    "x = cutoffs_swaps[1:]\n",
    "y = np.array(wavelengths[2:51]) # Excluding first trivial eigenmode, and second eigenmode whose wavelength is not properly measured\n",
    "ax.scatter(x, y, s=1, color='black')\n",
    "ax.spines[['top', 'right']].set_visible(False)\n",
    "a_, b = np.polyfit(x, y, deg=1)\n",
    "ax.plot(x, a_ * x + b, linewidth=1, color=blue)\n",
    "#a, b = np.polyfit(cutoffs_swaps, np.array(wavelengths[1:51]), deg=1)\n",
    "#ax.plot(cutoffs_swaps, a * np.array(cutoffs_swaps) + b, linewidth=1, color='red')\n",
    "\n",
    "ax = fig.axes['profiles1']\n",
    "ax.spines[['top', 'right']].set_visible(False)\n",
    "for d in profiles_kernelsize:\n",
    "    ax.plot(h_values, d, color=red, alpha=0.2, linewidth=0.5)\n",
    "ax.set_xlim([np.min(h_values), 0.6])\n",
    "\n",
    "ax = fig.axes['profiles2']\n",
    "ax.spines[['top', 'right']].set_visible(False)\n",
    "for d in profiles_edgeswaps:\n",
    "    ax.plot(fractions, d, color=blue, alpha=0.2, linewidth=0.5)\n",
    "ax.set_xlim([0, 1])\n",
    "ax.set_yticks([])\n",
    "\n",
    "ax = fig.axes['profiles3']\n",
    "ax.spines[['top', 'right']].set_visible(False)\n",
    "for c in profiles_aligned_edgeswaps:\n",
    "    ax.plot(np.linspace(0, 1, len(c)), c, color=blue, linewidth=0.5, alpha=0.2)\n",
    "#ax.plot(np.linspace(0, 1, len(c)), np.nanmean(profiles_aligned_edgeswaps, axis=0), color=blue, linewidth=1, alpha=1)\n",
    "for c in profiles_aligned_kernelsize:\n",
    "    ax.plot(np.linspace(0, 1, len(c)), c, color=red, linewidth=0.5, alpha=0.2)\n",
    "#ax.plot(np.linspace(0, 1, len(c)), np.nanmean(profiles_aligned_kernelsize, axis=0), color=red, linewidth=1, alpha=1)\n",
    "ax.set_yticks([])\n",
    "ax.set_xlim([0, 1])\n",
    "\n",
    "fig.show()"
   ]
  },
  {
   "cell_type": "code",
   "execution_count": null,
   "id": "3fdc35e5-2949-468d-baf0-796ab260306d",
   "metadata": {},
   "outputs": [],
   "source": [
    "fig.save('../Figures/figure3_incomplete.svg')"
   ]
  },
  {
   "cell_type": "markdown",
   "id": "28fcb460-91f9-4ce8-9bcf-37f30169cca7",
   "metadata": {},
   "source": [
    "# Manually annotated values"
   ]
  },
  {
   "cell_type": "markdown",
   "id": "d993e51e-82f0-44ad-b013-6f6b5f99a5be",
   "metadata": {},
   "source": [
    "Printing numbers to manually annotate the figure with."
   ]
  },
  {
   "cell_type": "code",
   "execution_count": null,
   "id": "0a9fb6fa-0304-459a-a717-ce7bd5aa95fb",
   "metadata": {},
   "outputs": [],
   "source": [
    "a"
   ]
  },
  {
   "cell_type": "code",
   "execution_count": null,
   "id": "7463efe4-1925-4c53-b0a2-53417576f9cd",
   "metadata": {},
   "outputs": [],
   "source": [
    "h_values[matrix_ids]"
   ]
  },
  {
   "cell_type": "code",
   "execution_count": null,
   "id": "a50e35f6-8e04-42c2-8076-09b1cf34a24a",
   "metadata": {},
   "outputs": [],
   "source": [
    "pearsonr(cutoffs[1:], 0.5 * np.array(wavelengths[2:51]))[0] ** 2"
   ]
  },
  {
   "cell_type": "code",
   "execution_count": null,
   "id": "01561d69-aade-4ad1-a9a8-c6647de69831",
   "metadata": {},
   "outputs": [],
   "source": [
    "pearsonr(cutoffs_swaps[1:], 0.5 * np.array(wavelengths[2:51]))[0] ** 2"
   ]
  },
  {
   "cell_type": "code",
   "execution_count": null,
   "id": "e9ce909a-68b1-476e-b0b5-48458151d0fa",
   "metadata": {},
   "outputs": [],
   "source": [
    "h_values[15] - h_values[0]"
   ]
  },
  {
   "cell_type": "code",
   "execution_count": null,
   "id": "af4cd229-5bd3-4b6f-9d0c-a449824f9bdc",
   "metadata": {},
   "outputs": [],
   "source": [
    "fractions[15] - fractions[0]"
   ]
  },
  {
   "cell_type": "markdown",
   "id": "96b8f3e7-52cf-4ed4-8860-f8d6e9f89cd2",
   "metadata": {},
   "source": [
    "# Supplementary figure S6: Line profiles"
   ]
  },
  {
   "cell_type": "code",
   "execution_count": null,
   "id": "52ee3126-0331-4d32-8b56-ed7526070228",
   "metadata": {},
   "outputs": [],
   "source": [
    "fig = PaperFigure(figsize=(7, 1.5))\n",
    "\n",
    "fig.set_tick_length(2)\n",
    "fig.set_font_size(6)\n",
    "fig.add_background()\n",
    "\n",
    "# Setting up axes ----------------------------------------------------------------------------------\n",
    "\n",
    "w = 1.75\n",
    "pad = (7 - 3 * w) / 2\n",
    "fig.add_axes('profiles1', (0 * (w + pad), 0), w, 1.25)\n",
    "fig.add_axes('profiles2', (1 * (w + pad), 0), w, 1.25)\n",
    "fig.add_axes('profiles3', (2 * (w + pad), 0), w, 1.25)\n",
    "\n",
    "fig.set_line_thickness(0.6)\n",
    "\n",
    "# Filling content --------------------------------------------------------------------------\n",
    "\n",
    "ax = fig.axes['profiles1']\n",
    "ax.spines[['top', 'right']].set_visible(False)\n",
    "for d in profiles_kernelsize:\n",
    "    ax.plot(h_values, d, color=red, alpha=0.2, linewidth=0.5)\n",
    "ax.set_xlim([np.min(h_values), 0.6])\n",
    "\n",
    "ax = fig.axes['profiles2']\n",
    "ax.spines[['top', 'right']].set_visible(False)\n",
    "for d in profiles_edgeswaps:\n",
    "    ax.plot(fractions, d, color=blue, alpha=0.2, linewidth=0.5)\n",
    "ax.set_xlim([0, 1])\n",
    "#ax.set_yticks([])\n",
    "\n",
    "ax = fig.axes['profiles3']\n",
    "ax.spines[['top', 'right']].set_visible(False)\n",
    "for c in profiles_aligned_edgeswaps:\n",
    "    ax.plot(np.linspace(0, 1, len(c)), c, color=blue, linewidth=0.5, alpha=0.2)\n",
    "#ax.plot(np.linspace(0, 1, len(c)), np.nanmean(profiles_aligned_edgeswaps, axis=0), color=blue, linewidth=1, alpha=1)\n",
    "for c in profiles_aligned_kernelsize:\n",
    "    ax.plot(np.linspace(0, 1, len(c)), c, color=red, linewidth=0.5, alpha=0.2)\n",
    "#ax.plot(np.linspace(0, 1, len(c)), np.nanmean(profiles_aligned_kernelsize, axis=0), color=red, linewidth=1, alpha=1)\n",
    "#ax.set_yticks([])\n",
    "ax.set_xlim([0, 1])\n",
    "\n",
    "fig.show()"
   ]
  },
  {
   "cell_type": "code",
   "execution_count": null,
   "id": "8bcb759f-5136-42ea-ad3e-cef87d6f4828",
   "metadata": {},
   "outputs": [],
   "source": [
    "fig.save('../Figures/supp_lineprofiles_incomplete.svg')"
   ]
  }
 ],
 "metadata": {
  "kernelspec": {
   "display_name": "Python 3 (ipykernel)",
   "language": "python",
   "name": "python3"
  },
  "language_info": {
   "codemirror_mode": {
    "name": "ipython",
    "version": 3
   },
   "file_extension": ".py",
   "mimetype": "text/x-python",
   "name": "python",
   "nbconvert_exporter": "python",
   "pygments_lexer": "ipython3",
   "version": "3.9.19"
  }
 },
 "nbformat": 4,
 "nbformat_minor": 5
}
