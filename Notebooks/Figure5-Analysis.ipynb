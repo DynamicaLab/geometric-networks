{
 "cells": [
  {
   "cell_type": "markdown",
   "id": "6c4a111e-0d08-42c9-b10b-d29ace8f808e",
   "metadata": {},
   "source": [
    "# Figure 5 - Analysis"
   ]
  },
  {
   "cell_type": "code",
   "execution_count": null,
   "id": "cafcb2af-b640-4700-8aa5-33959c3f2a85",
   "metadata": {},
   "outputs": [],
   "source": [
    "import sys\n",
    "sys.path.append(\"..\")\n",
    "\n",
    "from main import *\n",
    "from visualization import *\n",
    "\n",
    "from tqdm import tqdm\n",
    "from scipy.stats import zscore\n",
    "import matplotlib.pyplot as plt"
   ]
  },
  {
   "cell_type": "markdown",
   "id": "98f00b95-3c35-4e27-ad85-ac0a121209ef",
   "metadata": {},
   "source": [
    "# Applying spatial filtering to individual simulations"
   ]
  },
  {
   "cell_type": "code",
   "execution_count": null,
   "id": "1fdb7e39-4cad-41e2-9814-ad9ac7bdf6c1",
   "metadata": {},
   "outputs": [],
   "source": [
    "vertices = np.load('../Files/vertices_ellipse.npy').astype('float')\n",
    "eigenmodes = np.load('../Files/eigenmodes_ellipse.npy')\n",
    "\n",
    "ellipse = Geometry(vertices, eigenmodes)"
   ]
  },
  {
   "cell_type": "markdown",
   "id": "67688afd-7ca5-435b-b0d6-32136c103558",
   "metadata": {},
   "source": [
    "#### $\\sigma=0$"
   ]
  },
  {
   "cell_type": "code",
   "execution_count": null,
   "id": "48448859-ea04-441a-9ea5-711400ff46e5",
   "metadata": {},
   "outputs": [],
   "source": [
    "params = {'N_neurons': 2500,\n",
    "          'h': 0.1,\n",
    "          'g': 3,\n",
    "          'tau': 3,\n",
    "          'dale': False\n",
    "          }\n",
    "\n",
    "np.random.seed(420)\n",
    "simulator = Simulator(ellipse,\n",
    "                      ChaoticRNN,\n",
    "                      params)\n",
    "\n",
    "simulator.integrate(1000, output=False)"
   ]
  },
  {
   "cell_type": "code",
   "execution_count": null,
   "id": "d3efa422-d783-4d56-a5d3-058b4e238f3b",
   "metadata": {},
   "outputs": [],
   "source": [
    "%matplotlib inline\n",
    "simulator.imshow(cmap='hot', vmin=-1, vmax=1)"
   ]
  },
  {
   "cell_type": "code",
   "execution_count": null,
   "id": "77db5509-55e1-49c4-b547-d673b5545262",
   "metadata": {},
   "outputs": [],
   "source": [
    "save = False\n",
    "if save:\n",
    "    np.save('../Results/figure5_timeseries1.npy', simulator.timeseries)"
   ]
  },
  {
   "cell_type": "code",
   "execution_count": null,
   "id": "414435e8-9306-4596-bce9-29ffa63796d7",
   "metadata": {},
   "outputs": [],
   "source": [
    "%matplotlib qt\n",
    "simulator.animate(alpha=0.75,\n",
    "                 cmap='hot',\n",
    "                 vmin=-1,\n",
    "                 vmax=1)"
   ]
  },
  {
   "cell_type": "code",
   "execution_count": null,
   "id": "ef7a25ac-0c7f-4980-835c-b00f38e8342e",
   "metadata": {},
   "outputs": [],
   "source": [
    "C = simulator.compute_average_correlations(n_iters=100, T=1000, smoothing=False)"
   ]
  },
  {
   "cell_type": "code",
   "execution_count": null,
   "id": "2ad97699-f8fa-40e8-a795-ad24364ae297",
   "metadata": {},
   "outputs": [],
   "source": [
    "%matplotlib inline\n",
    "plt.figure(figsize=(5, 5))\n",
    "plt.imshow(C, cmap='Reds', vmin=0.1, vmax=0.2, interpolation=None)"
   ]
  },
  {
   "cell_type": "code",
   "execution_count": null,
   "id": "4d385de7-923a-4202-954c-c76f96963880",
   "metadata": {},
   "outputs": [],
   "source": [
    "save = True\n",
    "if save:\n",
    "    np.save('../Results/figure5_correlations1.npy', C)"
   ]
  },
  {
   "cell_type": "code",
   "execution_count": null,
   "id": "ec269e12-32e0-48e4-aa0d-b46821606b6c",
   "metadata": {},
   "outputs": [],
   "source": [
    "mode_similarity, mapping, functional_gradients = simulator.compute_geometric_mapping(C, N_modes=50, return_gradients=True)"
   ]
  },
  {
   "cell_type": "code",
   "execution_count": null,
   "id": "586c3741-268f-41d0-9a16-7780a918942e",
   "metadata": {},
   "outputs": [],
   "source": [
    "%matplotlib inline\n",
    "fig, ax = plt.subplots(figsize=(5, 5))\n",
    "cax = plt.imshow(np.abs(mode_similarity), cmap='Reds')\n",
    "plt.xlabel('Functional modes')\n",
    "plt.ylabel('Geometric modes')\n",
    "plt.colorbar(cax, ax=ax, fraction=0.045, pad=0.02)"
   ]
  },
  {
   "cell_type": "markdown",
   "id": "267dc9ac-c836-4b33-b9ff-2fae448d05a1",
   "metadata": {},
   "source": [
    "#### $\\sigma=0.025$"
   ]
  },
  {
   "cell_type": "code",
   "execution_count": null,
   "id": "f1330c15-1221-4de6-ba0f-8a9c0c1c3a27",
   "metadata": {},
   "outputs": [],
   "source": [
    "simulator.integrate(4000, output=False)"
   ]
  },
  {
   "cell_type": "code",
   "execution_count": null,
   "id": "edfa019f-259a-4850-9e71-622230a376e5",
   "metadata": {},
   "outputs": [],
   "source": [
    "simulator.timeseries.shape"
   ]
  },
  {
   "cell_type": "code",
   "execution_count": null,
   "id": "7abc4a7e-c816-4d89-adbb-0dad70cf061c",
   "metadata": {},
   "outputs": [],
   "source": [
    "simulator.timeseries = zscore(spatial_smoothing(simulator.timeseries, simulator.coordinates, sigma=0.025), axis=1)"
   ]
  },
  {
   "cell_type": "code",
   "execution_count": null,
   "id": "0430dccd-c51d-402a-84b1-3e3e9d400754",
   "metadata": {},
   "outputs": [],
   "source": [
    "%matplotlib inline\n",
    "simulator.imshow(cmap='hot', vmin=-1, vmax=1)"
   ]
  },
  {
   "cell_type": "code",
   "execution_count": null,
   "id": "2adbcc14-610f-4ac8-9c53-4a5ba5c66710",
   "metadata": {},
   "outputs": [],
   "source": [
    "save = True\n",
    "if save:\n",
    "    np.save('../Results/figure5_timeseries2.npy', simulator.timeseries)"
   ]
  },
  {
   "cell_type": "code",
   "execution_count": null,
   "id": "22f714a7-4c41-4440-b9ff-c7401e85ff90",
   "metadata": {},
   "outputs": [],
   "source": [
    "%matplotlib qt\n",
    "simulator.animate(alpha=0.75,\n",
    "                 cmap='hot',\n",
    "                 vmin=-1,\n",
    "                 vmax=1)"
   ]
  },
  {
   "cell_type": "code",
   "execution_count": null,
   "id": "6efc4363-f5a1-45cc-816c-2c417010c21e",
   "metadata": {},
   "outputs": [],
   "source": [
    "C = simulator.compute_average_correlations(n_iters=100, T=1000, smoothing=True, sigma=0.025)"
   ]
  },
  {
   "cell_type": "code",
   "execution_count": null,
   "id": "50ba50fb-b61e-44d5-8b15-0fd4fbce264a",
   "metadata": {},
   "outputs": [],
   "source": [
    "save = True\n",
    "if save:\n",
    "    np.save('../Results/figure5_correlations2.npy', C)"
   ]
  },
  {
   "cell_type": "code",
   "execution_count": null,
   "id": "f76a5bc9-7d25-4d37-a001-69bfa1925596",
   "metadata": {},
   "outputs": [],
   "source": [
    "%matplotlib inline\n",
    "plt.figure(figsize=(5, 5))\n",
    "plt.imshow(C, cmap='Reds', vmin=0.1, vmax=0.2, interpolation=None)"
   ]
  },
  {
   "cell_type": "code",
   "execution_count": null,
   "id": "51059712-0489-4adb-a549-5868201a1a60",
   "metadata": {},
   "outputs": [],
   "source": [
    "mode_similarity, mapping, functional_gradients = simulator.compute_geometric_mapping(C, N_modes=50, return_gradients=True)"
   ]
  },
  {
   "cell_type": "code",
   "execution_count": null,
   "id": "6ee4cffa-6fa8-411a-9f7b-878ae6bf41f2",
   "metadata": {},
   "outputs": [],
   "source": [
    "%matplotlib inline\n",
    "fig, ax = plt.subplots(figsize=(5, 5))\n",
    "cax = plt.imshow(np.abs(mode_similarity), cmap='Reds')\n",
    "plt.xlabel('Functional modes')\n",
    "plt.ylabel('Geometric modes')\n",
    "plt.colorbar(cax, ax=ax, fraction=0.045, pad=0.02)"
   ]
  },
  {
   "cell_type": "markdown",
   "id": "53c84cbc-7dd1-4965-b10c-c97d73218692",
   "metadata": {},
   "source": [
    "#### $\\sigma=0.05$"
   ]
  },
  {
   "cell_type": "code",
   "execution_count": null,
   "id": "7c05a09b-b086-4b9e-b94a-6fb74505aedc",
   "metadata": {},
   "outputs": [],
   "source": [
    "simulator.integrate(1000, output=False)"
   ]
  },
  {
   "cell_type": "code",
   "execution_count": null,
   "id": "b56073e8-c4a2-465e-9925-e4076965a679",
   "metadata": {},
   "outputs": [],
   "source": [
    "simulator.timeseries = zscore(spatial_smoothing(simulator.timeseries, simulator.coordinates, sigma=0.05), axis=1)"
   ]
  },
  {
   "cell_type": "code",
   "execution_count": null,
   "id": "e0a0bddb-03e8-4b3e-8a4b-dec9bc1e0a21",
   "metadata": {},
   "outputs": [],
   "source": [
    "%matplotlib inline\n",
    "simulator.imshow(cmap='hot', vmin=-1, vmax=1)"
   ]
  },
  {
   "cell_type": "code",
   "execution_count": null,
   "id": "412b73e1-8651-488a-9623-a190d64a7090",
   "metadata": {},
   "outputs": [],
   "source": [
    "save = True\n",
    "if save:\n",
    "    np.save('../Results/figure5_timeseries3.npy', simulator.timeseries)"
   ]
  },
  {
   "cell_type": "code",
   "execution_count": null,
   "id": "a28bf5e7-6380-4971-8c8a-a9314f3f9187",
   "metadata": {},
   "outputs": [],
   "source": [
    "%matplotlib qt\n",
    "simulator.animate(alpha=0.75,\n",
    "                 cmap='hot',\n",
    "                 vmin=-1,\n",
    "                 vmax=1)"
   ]
  },
  {
   "cell_type": "code",
   "execution_count": null,
   "id": "73d8f5ec-5630-4bfd-8e79-36410f24174c",
   "metadata": {},
   "outputs": [],
   "source": [
    "C = simulator.compute_average_correlations(n_iters=100, T=1000, smoothing=True, sigma=0.05)"
   ]
  },
  {
   "cell_type": "code",
   "execution_count": null,
   "id": "1e0de509-0d26-489b-a477-223309c9b7a0",
   "metadata": {},
   "outputs": [],
   "source": [
    "%matplotlib inline\n",
    "plt.figure(figsize=(5, 5))\n",
    "plt.imshow(C, cmap='Reds', vmin=0.1, vmax=0.2, interpolation=None)"
   ]
  },
  {
   "cell_type": "code",
   "execution_count": null,
   "id": "0be01a20-76bd-449d-9e66-ea845448fded",
   "metadata": {},
   "outputs": [],
   "source": [
    "save = True\n",
    "if save:\n",
    "    np.save('../Results/figure5_correlations3.npy', C)"
   ]
  },
  {
   "cell_type": "code",
   "execution_count": null,
   "id": "9592d2b8-4f09-4e39-ac81-0b07ba59795b",
   "metadata": {},
   "outputs": [],
   "source": [
    "mode_similarity, mapping, functional_gradients = simulator.compute_geometric_mapping(C, N_modes=50, return_gradients=True)"
   ]
  },
  {
   "cell_type": "code",
   "execution_count": null,
   "id": "190293da-e2a8-415a-b9a8-b8252bb73506",
   "metadata": {},
   "outputs": [],
   "source": [
    "%matplotlib inline\n",
    "fig, ax = plt.subplots(figsize=(5, 5))\n",
    "cax = plt.imshow(np.abs(mode_similarity), cmap='Reds')\n",
    "plt.xlabel('Functional modes')\n",
    "plt.ylabel('Geometric modes')\n",
    "plt.colorbar(cax, ax=ax, fraction=0.045, pad=0.02)"
   ]
  },
  {
   "cell_type": "markdown",
   "id": "5081c092-4942-4244-bccc-8f11566d426b",
   "metadata": {},
   "source": [
    "#### $\\sigma=0.1$"
   ]
  },
  {
   "cell_type": "code",
   "execution_count": null,
   "id": "6cf32cb4-d680-4f94-a455-87f54f05060e",
   "metadata": {},
   "outputs": [],
   "source": [
    "simulator.integrate(1000, output=False)"
   ]
  },
  {
   "cell_type": "code",
   "execution_count": null,
   "id": "91903747-9cc5-44da-a7f0-a54ff074189a",
   "metadata": {},
   "outputs": [],
   "source": [
    "simulator.timeseries = zscore(spatial_smoothing(simulator.timeseries, simulator.coordinates, sigma=0.1), axis=1)"
   ]
  },
  {
   "cell_type": "code",
   "execution_count": null,
   "id": "7a6d021e-178b-4502-9ee8-7668aeb8d5c1",
   "metadata": {},
   "outputs": [],
   "source": [
    "%matplotlib inline\n",
    "simulator.imshow(cmap='hot', vmin=-1, vmax=1)"
   ]
  },
  {
   "cell_type": "code",
   "execution_count": null,
   "id": "e75cec6f-87ac-4e33-9eea-7e4c0f6fc941",
   "metadata": {},
   "outputs": [],
   "source": [
    "save = False\n",
    "if save:\n",
    "    np.save('../Results/figure5_timeseries4.npy', simulator.timeseries)"
   ]
  },
  {
   "cell_type": "code",
   "execution_count": null,
   "id": "a4c68df5-d3bc-41a0-8e65-18a2a8405c4c",
   "metadata": {},
   "outputs": [],
   "source": [
    "%matplotlib qt\n",
    "simulator.animate(alpha=0.75,\n",
    "                 cmap='hot',\n",
    "                 vmin=-1,\n",
    "                 vmax=1)"
   ]
  },
  {
   "cell_type": "code",
   "execution_count": null,
   "id": "e9eba2c5-853d-40d3-9015-f3d6732b21f7",
   "metadata": {},
   "outputs": [],
   "source": [
    "C = simulator.compute_average_correlations(n_iters=100, T=1000, smoothing=True, sigma=0.1)"
   ]
  },
  {
   "cell_type": "code",
   "execution_count": null,
   "id": "2525ac3b-4d67-4594-b2e6-765b27205022",
   "metadata": {},
   "outputs": [],
   "source": [
    "%matplotlib inline\n",
    "plt.figure(figsize=(5, 5))\n",
    "plt.imshow(C, cmap='Reds')"
   ]
  },
  {
   "cell_type": "code",
   "execution_count": null,
   "id": "019ef574-a7b5-444e-ac66-f471a4813134",
   "metadata": {},
   "outputs": [],
   "source": [
    "save = True\n",
    "if save:\n",
    "    np.save('../Results/figure5_correlations4.npy', C)"
   ]
  },
  {
   "cell_type": "code",
   "execution_count": null,
   "id": "2fe5286f-ccc6-4ded-9f41-a3a4b66224f7",
   "metadata": {},
   "outputs": [],
   "source": [
    "mode_similarity, mapping, functional_gradients = simulator.compute_geometric_mapping(C, N_modes=50, return_gradients=True)"
   ]
  },
  {
   "cell_type": "code",
   "execution_count": null,
   "id": "4e1fcf26-b4f4-40d6-aa72-9c3be24e45be",
   "metadata": {},
   "outputs": [],
   "source": [
    "%matplotlib inline\n",
    "fig, ax = plt.subplots(figsize=(5, 5))\n",
    "cax = plt.imshow(np.abs(mode_similarity), cmap='Reds')\n",
    "plt.xlabel('Functional modes')\n",
    "plt.ylabel('Geometric modes')\n",
    "plt.colorbar(cax, ax=ax, fraction=0.045, pad=0.02)"
   ]
  },
  {
   "cell_type": "markdown",
   "id": "8394d15e-fb39-4f2f-9d28-ffe1a5bfeaa3",
   "metadata": {},
   "source": [
    "# Combined effects of $h$ and $\\sigma$ - Parameter sweep"
   ]
  },
  {
   "cell_type": "markdown",
   "id": "1b16ba94-b8fb-4725-92f3-b5de3bb3b369",
   "metadata": {},
   "source": [
    "The code was run on Compute Canada for roughly 24 hours. It is located in the `ComputeCanada/filtering/` folder."
   ]
  },
  {
   "cell_type": "code",
   "execution_count": null,
   "id": "f9e2441b-5710-4da1-9f24-1add2ca078da",
   "metadata": {},
   "outputs": [],
   "source": [
    "corrs = np.load('../ComputeCanada/filtering/mode_correlations_h_and_sigma.npy')"
   ]
  },
  {
   "cell_type": "code",
   "execution_count": null,
   "id": "273f2eb6-a80e-4208-8957-746911e2f4ea",
   "metadata": {},
   "outputs": [],
   "source": [
    "grid = np.zeros((20, 20))\n",
    "\n",
    "for i in range(grid.shape[0]):\n",
    "    for j in range(grid.shape[1]):\n",
    "        values = []\n",
    "        for k in range(10):\n",
    "            diag = np.diag(corrs[i, j, k])\n",
    "            values.append(np.mean(np.abs(diag)[:20]))\n",
    "        grid[i, j] = np.mean(values)"
   ]
  },
  {
   "cell_type": "code",
   "execution_count": null,
   "id": "09ab07fc-6797-4f46-873b-9f9a037282ac",
   "metadata": {},
   "outputs": [],
   "source": [
    "sigma_values = np.linspace(0, 0.1, 20, endpoint=True)"
   ]
  },
  {
   "cell_type": "code",
   "execution_count": null,
   "id": "17aa7587-ecd5-4791-92f1-72dab7be6a77",
   "metadata": {},
   "outputs": [],
   "source": [
    "fig, ax = plt.subplots(figsize=(5, 5))\n",
    "plt.imshow(grid, cmap='Reds')\n",
    "ax.set_yticks([0, 9.5, 19], [0, 0.3, 0.6])\n",
    "ax.set_xticks([0, 9.5, 19], [0, 0.05, 0.1])\n",
    "ax.set_ylabel('Neighborhood size $h$')\n",
    "ax.set_xlabel('Filtering kernel size $\\sigma$')\n",
    "plt.colorbar()"
   ]
  },
  {
   "cell_type": "code",
   "execution_count": null,
   "id": "a27b5171-d085-490e-adec-124c0602d3fa",
   "metadata": {},
   "outputs": [],
   "source": [
    "from visualization import *\n",
    "from scipy.ndimage import gaussian_filter1d"
   ]
  },
  {
   "cell_type": "code",
   "execution_count": null,
   "id": "00c72597-4225-4126-9c4a-e8e512dfdfd7",
   "metadata": {},
   "outputs": [],
   "source": [
    "colors = color_gradient([1,0,0], [0,0,0], 20)\n",
    "\n",
    "for i in range(20):\n",
    "    plt.plot(grid[i, :], color=colors[i])"
   ]
  },
  {
   "cell_type": "markdown",
   "id": "bae166ef-09c4-4ae7-b5c7-984ccf1edeaa",
   "metadata": {},
   "source": [
    "#### Plotting matrices at key points along the array"
   ]
  },
  {
   "cell_type": "code",
   "execution_count": null,
   "id": "350bedd4-c09b-48a6-b30f-fc0b3a90433a",
   "metadata": {},
   "outputs": [],
   "source": [
    "matrix = np.mean(np.abs(corrs[0, 0]), axis=0)"
   ]
  },
  {
   "cell_type": "code",
   "execution_count": null,
   "id": "037d2e5b-8df9-434e-899c-397af20ecb66",
   "metadata": {},
   "outputs": [],
   "source": [
    "%matplotlib inline\n",
    "fig, ax = plt.subplots(figsize=(5, 5))\n",
    "cax = plt.imshow(matrix, cmap='Reds', vmin=0, vmax=0.9)\n",
    "plt.xlabel('Functional modes')\n",
    "plt.ylabel('Geometric modes')\n",
    "plt.colorbar(cax, ax=ax, fraction=0.045, pad=0.02)"
   ]
  },
  {
   "cell_type": "code",
   "execution_count": null,
   "id": "377c0b8d-684f-4c28-8a6c-bea0de2c59d0",
   "metadata": {},
   "outputs": [],
   "source": [
    "np.save('../Results/figure5_mode_similarity1.npy', matrix)"
   ]
  },
  {
   "cell_type": "code",
   "execution_count": null,
   "id": "9ce79977-0d16-4cfc-b452-458a4e822dfa",
   "metadata": {},
   "outputs": [],
   "source": [
    "matrix = np.mean(np.abs(corrs[0, 7]), axis=0)"
   ]
  },
  {
   "cell_type": "code",
   "execution_count": null,
   "id": "ee853ff9-1059-41a9-a182-bd1458274466",
   "metadata": {},
   "outputs": [],
   "source": [
    "%matplotlib inline\n",
    "fig, ax = plt.subplots(figsize=(5, 5))\n",
    "cax = plt.imshow(matrix, cmap='Reds', vmin=0, vmax=0.9)\n",
    "plt.xlabel('Functional modes')\n",
    "plt.ylabel('Geometric modes')\n",
    "plt.colorbar(cax, ax=ax, fraction=0.045, pad=0.02)"
   ]
  },
  {
   "cell_type": "code",
   "execution_count": null,
   "id": "c5c5ab0b-0991-4533-953c-de72ae7dc622",
   "metadata": {},
   "outputs": [],
   "source": [
    "np.save('../Results/figure5_mode_similarity2.npy', matrix)"
   ]
  },
  {
   "cell_type": "code",
   "execution_count": null,
   "id": "7233ca18-2c06-4abf-b7c3-78e4f5bb25d9",
   "metadata": {},
   "outputs": [],
   "source": [
    "matrix = np.mean(np.abs(corrs[0, -1]), axis=0)"
   ]
  },
  {
   "cell_type": "code",
   "execution_count": null,
   "id": "1fa93b49-9f85-42bf-8d53-54af94050ecd",
   "metadata": {},
   "outputs": [],
   "source": [
    "%matplotlib inline\n",
    "fig, ax = plt.subplots(figsize=(5, 5))\n",
    "cax = plt.imshow(matrix, cmap='Reds', vmin=0, vmax=0.9)\n",
    "plt.xlabel('Functional modes')\n",
    "plt.ylabel('Geometric modes')\n",
    "plt.colorbar(cax, ax=ax, fraction=0.045, pad=0.02)"
   ]
  },
  {
   "cell_type": "code",
   "execution_count": null,
   "id": "81b886d3-156e-4361-a643-ee39e6402120",
   "metadata": {},
   "outputs": [],
   "source": [
    "np.save('../Results/figure5_mode_similarity3.npy', matrix)"
   ]
  },
  {
   "cell_type": "code",
   "execution_count": null,
   "id": "b5283860-0f46-4a38-baf4-5ac45fffba5a",
   "metadata": {},
   "outputs": [],
   "source": []
  }
 ],
 "metadata": {
  "kernelspec": {
   "display_name": "Python 3 (ipykernel)",
   "language": "python",
   "name": "python3"
  },
  "language_info": {
   "codemirror_mode": {
    "name": "ipython",
    "version": 3
   },
   "file_extension": ".py",
   "mimetype": "text/x-python",
   "name": "python",
   "nbconvert_exporter": "python",
   "pygments_lexer": "ipython3",
   "version": "3.9.19"
  }
 },
 "nbformat": 4,
 "nbformat_minor": 5
}
