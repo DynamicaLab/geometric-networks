{
 "cells": [
  {
   "cell_type": "markdown",
   "id": "7ab273f6-f28a-4968-bfa8-1f9514a6cf27",
   "metadata": {},
   "source": [
    "# Supplementary - Spatial filtering applied to calcium imaging data"
   ]
  },
  {
   "cell_type": "markdown",
   "id": "e5954f94-92d0-4852-8f81-5d65a66ae963",
   "metadata": {},
   "source": [
    "Conducts analyses related to Supplementary Figure S12."
   ]
  },
  {
   "cell_type": "code",
   "execution_count": null,
   "id": "0cb39607-7eda-4154-9966-63523ddec9f0",
   "metadata": {},
   "outputs": [],
   "source": [
    "import sys\n",
    "sys.path.append(\"..\")\n",
    "\n",
    "from main import *\n",
    "from zebrafish import *\n",
    "\n",
    "from scipy.stats import zscore, spearmanr\n",
    "from scipy.stats import percentileofscore\n",
    "from brainsmash.mapgen.base import Base"
   ]
  },
  {
   "cell_type": "markdown",
   "id": "f648bf31-69c2-48be-9586-465c05e941d8",
   "metadata": {},
   "source": [
    "# Setting paths"
   ]
  },
  {
   "cell_type": "code",
   "execution_count": null,
   "id": "fde10811-3387-458d-8230-597a8d64bee1",
   "metadata": {},
   "outputs": [],
   "source": [
    "atlas_path = '/home/anleg84/Documents/Atlas/Mapzebrain/'\n",
    "atlas = Mapzebrain(atlas_path)\n",
    "\n",
    "top_directory = '/media/anleg84/KINGSTON1/Datasets/Geometry/'\n",
    "datasets = identify_folders(top_directory, ['920nm'])"
   ]
  },
  {
   "cell_type": "code",
   "execution_count": null,
   "id": "9eec919e-4905-44be-b8b0-ecbfaacaff57",
   "metadata": {},
   "outputs": [],
   "source": [
    "mask_tectum = atlas.get_region_mask(22)\n",
    "mask_tectum[:, :, :284] = 0 # Focusing on right hemisphere (x=284 is the saggital midplane)\n",
    "nodes_tectum = np.load('../Files/nodes_tectum_right_sampled.npy')"
   ]
  },
  {
   "cell_type": "markdown",
   "id": "8b840448-d8a6-4da2-83f7-ae94099a9a78",
   "metadata": {},
   "source": [
    "# Computing eigenmode-gradient correlations with spatial filtering"
   ]
  },
  {
   "cell_type": "markdown",
   "id": "fa033375-3fac-4ee1-b572-9cd2e0475354",
   "metadata": {},
   "source": [
    "### Part 1: Optic tectum"
   ]
  },
  {
   "cell_type": "markdown",
   "id": "d8410a9f-88bc-448f-b9d6-cabdce3e2d62",
   "metadata": {},
   "source": [
    "Here, we sweep the $\\sigma$ parameter for spatial filtering applied to calcium imaging data from the optic tectum. For each $\\sigma$ value, FC matrices from 12 larvae are computed. First, individual fish data is loaded, detrended, slightly gaussian filtered temporally, and spatially filtered at the level of individual neuron coordinates. Then, the neurons are mapped to tectal nodes using nearest neighbors, the fluorescence signals are averaged per node, and a correlation (FC) matrix is computed for pairwise correlations of node signals. FC matrices are finally stacked and averaged, the group-averaged gradients are calculated, and compared with tectal eigenmodes computed beforehand in another notebook."
   ]
  },
  {
   "cell_type": "code",
   "execution_count": null,
   "id": "c28a4430-0196-4e1b-a915-30efce8e2e7d",
   "metadata": {},
   "outputs": [],
   "source": [
    "sigma_values = np.linspace(0, 50, 26, endpoint=True)"
   ]
  },
  {
   "cell_type": "code",
   "execution_count": null,
   "id": "8f0bb563-da9f-4be5-81e8-4ca385d238fc",
   "metadata": {},
   "outputs": [],
   "source": [
    "mode_similarity_matrices_tectum = []\n",
    "correlation_matrices_tectum = []\n",
    "\n",
    "for sigma in tqdm(sigma_values):\n",
    "\n",
    "    # Loading data and computing tectal correlations\n",
    "    FC_matrices = []\n",
    "    for i, folder in enumerate(datasets):\n",
    "\n",
    "        # Loading data and detrending calcium time series\n",
    "        data = load_data(folder)\n",
    "        centroids = data['centroids_atlas']\n",
    "        in_tectum = mask_tectum[centroids[:, 2], centroids[:, 1], centroids[:, 0]] > 0\n",
    "        centroids_tectum = centroids[in_tectum]\n",
    "        dff_tectum = data['timeseries'][in_tectum]\n",
    "        dff_tectum = compute_dff_using_minfilter(dff_tectum, window=120, sigma1=3, sigma2=60)\n",
    "        dff_tectum = filter_timeseries(dff_tectum, 2)\n",
    "\n",
    "        # Spatial filtering\n",
    "        if sigma > 0:\n",
    "            dff_tectum = spatial_smoothing(dff_tectum, centroids_tectum, sigma=sigma)\n",
    "\n",
    "        # Mapping neurons to tectal nodes\n",
    "        nn, _ = find_nearest_neighbors(centroids_tectum, nodes_tectum)\n",
    "        node_timeseries = np.zeros((nodes_tectum.shape[0], dff_tectum.shape[1]))\n",
    "        for i in range(nodes_tectum.shape[0]):\n",
    "            neurons_in_node = (nn == i) # Neurons whose nearest neighbor corresponds to the tectum node i\n",
    "            if np.any(neurons_in_node):\n",
    "                if np.sum(neurons_in_node) == 1:\n",
    "                    node_timeseries[i] = dff_tectum[neurons_in_node]\n",
    "                else:\n",
    "                    node_timeseries[i] = np.mean(dff_tectum[neurons_in_node], axis=0)       \n",
    "        FC = np.corrcoef(node_timeseries)\n",
    "        FC_matrices.append(FC)\n",
    "        \n",
    "    FC_matrices = np.stack(FC_matrices, axis=0)\n",
    "    \n",
    "    # Computing tectal gradients\n",
    "    FC = np.nanmean(FC_matrices, axis=0)\n",
    "    FC[np.diag_indices(FC.shape[0])] = 0\n",
    "    N_modes = FC.shape[0]\n",
    "    gradients, _ = diffusion_mapping(np.abs(FC), n_components=N_modes)\n",
    "    \n",
    "    # Correlation gradients with eigenmodes\n",
    "    vertices = np.load('../Files/tectum_vertices_right.npy') * 40\n",
    "    vertices = np.stack([vertices[:, 2], vertices[:, 1], vertices[:, 0]], axis=1)\n",
    "    eigenmodes = np.load('../Files/tectum_eigenmodes_right.npy')[1:]\n",
    "    d = compute_distances(vertices, nodes_tectum)\n",
    "    eigenmodes_ = eigenmodes[:, np.argmin(d, axis=0)]\n",
    "    mode_similarity, _ = compute_mode_similarity_matrix(eigenmodes_[:30], gradients.T[:30], return_mapping=True)\n",
    "\n",
    "    mode_similarity_matrices_tectum.append(mode_similarity)\n",
    "    correlation_matrices_tectum.append(FC)"
   ]
  },
  {
   "cell_type": "code",
   "execution_count": null,
   "id": "7a3562a4-e6f9-4ce5-ab5c-d9e3a573f3bc",
   "metadata": {},
   "outputs": [],
   "source": [
    "scores = []\n",
    "for m in mode_similarity_matrices:\n",
    "    scores.append(np.mean(np.abs(np.diag(m))[:10]))"
   ]
  },
  {
   "cell_type": "code",
   "execution_count": null,
   "id": "62054a49-e227-40f7-a444-9b01107aa24d",
   "metadata": {},
   "outputs": [],
   "source": [
    "np.save('../Results/supp_smoothing_corrs_tectum.npy', correlation_matrices_tectum)\n",
    "np.save('../Results/supp_smoothing_mode_similarity_tectum.npy', mode_similarity_matrices_tectum)"
   ]
  },
  {
   "cell_type": "markdown",
   "id": "d17883a5-3b01-44ab-a1be-daf96b349f15",
   "metadata": {},
   "source": [
    "### Part 2: Whole-brain"
   ]
  },
  {
   "cell_type": "markdown",
   "id": "448dfde6-dd2e-4a94-8502-1d2a94ddb889",
   "metadata": {},
   "source": [
    "Similar to the cells above, we sweep the $\\sigma$ parameter for spatial filtering applied to calcium imaging data from the whole brain. For each $\\sigma$ value, FC matrices from 22 larvae are computed. First, individual fish data is loaded, detrended, and slightly gaussian filtered temporally. Then, neurons are mapped to network nodes located throughout the brain, and the node-averaged activity is spatially filtered. This slight difference is due to the large memory requirements of calculating pairwise distances over ~50,000 neurons. In practice, filtering over neuron coordinates vs node coordinates (that is, before vs after coarse-graining activity) yields virtually identical results. Following the coarse-graining and filtering, FC matrices are finally computed, stacked and averaged, the group-averaged gradients are calculated, and compared with whole-brain eigenmodes computed beforehand in another notebook."
   ]
  },
  {
   "cell_type": "code",
   "execution_count": null,
   "id": "2cd54c80-abed-448d-854e-a71949ca4fd2",
   "metadata": {},
   "outputs": [],
   "source": [
    "top_directory = '/media/anleg84/KINGSTON/Datasets/Networks2024/'\n",
    "datasets = get_datasets(top_directory, ['920nm', 'wholebrain'])\n",
    "region_centroids_hires = np.load('../Files/PaperNetworks/centroids_hires.npy')"
   ]
  },
  {
   "cell_type": "code",
   "execution_count": null,
   "id": "74799598-5660-4c61-ab4b-19735fe177ac",
   "metadata": {},
   "outputs": [],
   "source": [
    "N_regions = int(region_centroids_hires.shape[0] / 2)"
   ]
  },
  {
   "cell_type": "code",
   "execution_count": null,
   "id": "18702f0c-ac58-4178-8dfe-537449012ca9",
   "metadata": {},
   "outputs": [],
   "source": [
    "sigma_values = np.linspace(0, 200, 21, endpoint=True)"
   ]
  },
  {
   "cell_type": "code",
   "execution_count": null,
   "id": "9b615efa-989a-469d-8431-b5df0c3592eb",
   "metadata": {},
   "outputs": [],
   "source": [
    "mode_similarity_matrices_wholebrain = []\n",
    "correlation_matrices_wholebrain = []\n",
    "\n",
    "for sigma in tqdm(sigma_values):\n",
    "    \n",
    "    with warnings.catch_warnings():\n",
    "        warnings.simplefilter(\"ignore\")\n",
    "    \n",
    "        matrices = []\n",
    "        for folder in datasets:\n",
    "        \n",
    "            if any(identify_files(folder, ['motor.npy'])):\n",
    "\n",
    "                # Loading data and detrending calcium activity\n",
    "                data = load_data(folder)\n",
    "                region_labels = data['region_labels']\n",
    "                region_labels[:, 10] = 0\n",
    "                in_brain = np.sum(region_labels, axis=1) > 0\n",
    "                centroids = data['centroids_atlas'][in_brain] # Excluding neurons outside the brain\n",
    "                dff = np.load(folder + 'dff.npy')[in_brain][:, :600] # Selecting first 10 minutes without stimulation\n",
    "\n",
    "                # Mapping neurons to network nodes\n",
    "                NN, _ = find_nearest_neighbors(centroids, region_centroids_hires)\n",
    "                N_neurons, N_dark, N_motor = [], [], []\n",
    "                region_series = np.zeros((N_regions * 2, dff.shape[1]))\n",
    "                for i in range(N_regions * 2):\n",
    "                    c = centroids[NN == i]\n",
    "                    if np.any(c):\n",
    "                        region_series[i] = gaussian_filter1d(np.mean(dff[NN == i], axis=0), 2)\n",
    "    \n",
    "                if sigma > 0:\n",
    "                    region_series = spatial_smoothing(region_series, region_centroids_hires, sigma=sigma)\n",
    "                        \n",
    "                region_series = 0.5 * (region_series[:N_regions] + region_series[N_regions:]) # Averaging across both hemispheres\n",
    "                matrix = np.corrcoef(region_series)\n",
    "                matrices.append(matrix)\n",
    "\n",
    "    FC = np.nanmean(np.stack(matrices), axis=0)\n",
    "    FC[np.isnan(FC)] = 0\n",
    "    excluded_hi = np.where(np.sum(FC, axis=0) == 0)[0]\n",
    "    FC = np.delete(np.delete(FC, excluded_hi, axis=0), excluded_hi, axis=1)\n",
    "    FC[np.diag_indices(FC.shape[0])] = 0\n",
    "\n",
    "    eigenmodes = np.load('../Files/zebrafish_wholebrain_eigenmodes_single.npy')\n",
    "    vertices = np.load('../Files/zebrafish_wholebrain_vertices_single.npy')\n",
    "    nodes = region_centroids_hires\n",
    "    N_modes = FC.shape[0]\n",
    "    gradients, _ = diffusion_mapping(np.abs(FC), n_components=N_modes)\n",
    "    d = compute_distances(vertices, nodes[:FC.shape[0]])\n",
    "    eigenmodes_ = eigenmodes[:, np.argmin(d, axis=0)]\n",
    "    mode_similarity, mapping = compute_mode_similarity_matrix(eigenmodes_[1:31], gradients.T[:30], return_mapping=True)\n",
    "\n",
    "    mode_similarity_matrices_wholebrain.append(mode_similarity)\n",
    "    correlation_matrices_wholebrain.append(FC)"
   ]
  },
  {
   "cell_type": "code",
   "execution_count": null,
   "id": "07096763-732d-4acb-8739-ede9b86e1154",
   "metadata": {},
   "outputs": [],
   "source": [
    "plt.figure(figsize=(5, 5), dpi=150)\n",
    "\n",
    "plt.imshow(np.abs(mode_similarity_matrices_wholebrain[0]), cmap='Reds', vmin=0.1, vmax=0.75)\n",
    "plt.ylabel('Geometric modes')\n",
    "plt.xlabel('Functional gradients')"
   ]
  },
  {
   "cell_type": "code",
   "execution_count": null,
   "id": "43a0d455-eabe-4a93-85fd-4a394847b663",
   "metadata": {},
   "outputs": [],
   "source": [
    "np.save('../Results/supp_smoothing_corrs_wholebrain.npy', correlation_matrices_wholebrain)\n",
    "np.save('../Results/supp_smoothing_mode_similarity_wholebrain.npy', mode_similarity_matrices_wholebrain)"
   ]
  },
  {
   "cell_type": "markdown",
   "id": "4a75fdfe-3579-4cbd-a1e8-80355755894a",
   "metadata": {},
   "source": [
    "# Plotting results"
   ]
  },
  {
   "cell_type": "markdown",
   "id": "bb6e867a-f1e1-4ae2-85ff-1288709011ce",
   "metadata": {},
   "source": [
    "Now we load the results from above and plot them."
   ]
  },
  {
   "cell_type": "code",
   "execution_count": null,
   "id": "f19ffb65-16ca-4fb2-8df6-7ce855e6c524",
   "metadata": {},
   "outputs": [],
   "source": [
    "correlation_matrices_tectum = np.load('../Results/supp_smoothing_corrs_tectum.npy')\n",
    "mode_similarity_matrices_tectum = np.load('../Results/supp_smoothing_mode_similarity_tectum.npy')\n",
    "correlation_matrices_wholebrain = np.load('../Results/supp_smoothing_corrs_wholebrain.npy')\n",
    "mode_similarity_matrices_wholebrain = np.load('../Results/supp_smoothing_mode_similarity_wholebrain.npy')\n",
    "order = np.argsort(nodes_tectum[:, 1])"
   ]
  },
  {
   "cell_type": "code",
   "execution_count": null,
   "id": "bb400d8c-e593-41b5-9ad4-1d616223207c",
   "metadata": {},
   "outputs": [],
   "source": [
    "n_modes = 50\n",
    "\n",
    "scores_tectum = []\n",
    "for m in mode_similarity_matrices_tectum:\n",
    "    scores_tectum.append(np.mean(np.diag(np.abs(m))[:n_modes]))\n",
    "\n",
    "scores_wholebrain = []\n",
    "for m in mode_similarity_matrices_wholebrain:\n",
    "    scores_wholebrain.append(np.mean(np.diag(np.abs(m))[:n_modes]))\n",
    "\n",
    "sigma_values_tectum = np.linspace(0, 50, 26, endpoint=True)\n",
    "sigma_values_wholebrain = np.linspace(0, 200, 21, endpoint=True)"
   ]
  },
  {
   "cell_type": "code",
   "execution_count": null,
   "id": "002b192b-e69f-4375-941d-7e7c0410eff0",
   "metadata": {},
   "outputs": [],
   "source": [
    "plt.plot(sigma_values_tectum, gaussian_filter1d(scores_tectum, 1))\n",
    "plt.plot(sigma_values_wholebrain, gaussian_filter1d(scores_wholebrain, 1))"
   ]
  },
  {
   "cell_type": "markdown",
   "id": "09d59f8d-c8e6-441b-b9a4-7e33a3bfbbac",
   "metadata": {},
   "source": [
    "Measuring at what $\\sigma$ value the peak geometric correlations are obtained."
   ]
  },
  {
   "cell_type": "code",
   "execution_count": null,
   "id": "2341be6e-5d70-4e30-a817-8efa5d9a54f8",
   "metadata": {},
   "outputs": [],
   "source": [
    "sigma_tectum = np.linspace(0, 50, 26, endpoint=True)\n",
    "sigma_tectum[np.argmax(gaussian_filter1d(scores_tectum, 1))]"
   ]
  },
  {
   "cell_type": "code",
   "execution_count": null,
   "id": "fd7ca80c-ed4a-4ca2-8388-82f37f1f2a83",
   "metadata": {},
   "outputs": [],
   "source": [
    "sigma_wholebrain = np.linspace(0, 200, 21, endpoint=True)\n",
    "sigma_wholebrain[np.argmax(gaussian_filter1d(scores_wholebrain, 1))]"
   ]
  },
  {
   "cell_type": "markdown",
   "id": "36e7792c-5b03-48b8-b452-e88db8b361e7",
   "metadata": {},
   "source": [
    "# Measuring the effect of filtering on the cutoff point in tectum"
   ]
  },
  {
   "cell_type": "markdown",
   "id": "a3f6441d-9b65-4125-8824-414c03f2f320",
   "metadata": {},
   "source": [
    "Now we evaluate how spatial filtering influences the cutoff point in the geometric eigenmodes."
   ]
  },
  {
   "cell_type": "markdown",
   "id": "c4716dca-6d84-4181-996f-96a27646444f",
   "metadata": {},
   "source": [
    "#### Measuring eigenmode cutoff points from elbow curves"
   ]
  },
  {
   "cell_type": "code",
   "execution_count": null,
   "id": "59e12b70-e8a0-4b24-b0b3-be3c617e3c50",
   "metadata": {},
   "outputs": [],
   "source": [
    "from scipy.optimize import curve_fit\n",
    "\n",
    "mode_similarity_matrices = np.load('../Results/supp_smoothing_mode_similarity_tectum.npy')\n",
    "wavelengths = np.load('../Results/wavelengths_tectum.npy')\n",
    "\n",
    "cutoffs = []\n",
    "for i in range(mode_similarity_matrices.shape[0]):\n",
    "    \n",
    "    diagonal = np.abs(np.diag(mode_similarity_matrices[i]))\n",
    "\n",
    "    x = np.arange(len(diagonal))\n",
    "    y = diagonal\n",
    "    initial_guess = [20, -1, 0]\n",
    "    params, _ = curve_fit(piecewise_linear, x, y, p0=initial_guess)\n",
    "    cutoff = int(np.round(params[0]))\n",
    "\n",
    "    cutoffs.append(cutoff)"
   ]
  },
  {
   "cell_type": "markdown",
   "id": "c9157516-e1ad-46d2-b9a2-3224376f7e6f",
   "metadata": {},
   "source": [
    "#### Translating cutoff points into connectivity radii"
   ]
  },
  {
   "cell_type": "code",
   "execution_count": null,
   "id": "45f1807d-461b-44cd-a52f-0c68b7f15b3d",
   "metadata": {},
   "outputs": [],
   "source": [
    "x = np.load('../Results/supp_tectum_cutoff_x2.npy')\n",
    "y = np.load('../Results/supp_tectum_cutoff_y2.npy')\n",
    "\n",
    "(a, b), CI_a, CI_b = linear_regression_with_confidence_interval(x, y, n_iter=100000)"
   ]
  },
  {
   "cell_type": "code",
   "execution_count": null,
   "id": "3054e5fd-1cae-46f8-95e6-92d2dc79f33c",
   "metadata": {},
   "outputs": [],
   "source": [
    "predicted_radii = (wavelengths[cutoffs] - b) / a\n",
    "print(predicted_radii)"
   ]
  },
  {
   "cell_type": "code",
   "execution_count": null,
   "id": "59d7902e-6ff8-4502-9afe-37171599010f",
   "metadata": {},
   "outputs": [],
   "source": [
    "radii_upper = (wavelengths[cutoffs] - CI_b[0]) / CI_a[0]\n",
    "radii_lower = (wavelengths[cutoffs] - CI_b[1]) / CI_a[1]"
   ]
  },
  {
   "cell_type": "markdown",
   "id": "ab684142-9dba-4c9c-b65d-033700d72b2c",
   "metadata": {},
   "source": [
    "# Rendering figure"
   ]
  },
  {
   "cell_type": "code",
   "execution_count": null,
   "id": "0543e226-c555-4d8d-a939-d970be5f5f31",
   "metadata": {},
   "outputs": [],
   "source": [
    "fig = PaperFigure(figsize=(7, 2), dpi=300)\n",
    "\n",
    "fig.set_tick_length(1)\n",
    "fig.set_font_size(6)\n",
    "fig.add_background()\n",
    "\n",
    "# Adding axes ----------------------------------------------------------------------------\n",
    "\n",
    "w = 0.75\n",
    "pad = (4 - 5 * w) / 2\n",
    "for i in range(3):\n",
    "    fig.add_axes(f'corr_tectum{i}', (i * (w + pad), 0), w, w)\n",
    "    fig.add_axes(f'corr_wholebrain{i}', (i * (w + pad), w + pad), w, w)\n",
    "\n",
    "fig.add_axes('curves', (3.25, 0), 1.5, 1.5)\n",
    "fig.add_axes('radii', (5.5, 0), 1.5, 1.5)\n",
    "\n",
    "fig.set_line_thickness(0.5)\n",
    "\n",
    "# Filling content ------------------------------------------------------------------------\n",
    "\n",
    "for i in range(3):\n",
    "    ax = fig.axes[f'corr_tectum{i}']\n",
    "    ax.imshow(correlation_matrices_tectum[int(2*i)][order, :][:, order], cmap='Reds', vmin=0, vmax=0.5)\n",
    "    ax.set_xticks([])\n",
    "    ax.set_yticks([])\n",
    "\n",
    "for i in range(3):\n",
    "    ax = fig.axes[f'corr_wholebrain{i}']\n",
    "    ax.imshow(correlation_matrices_wholebrain[int(2*i)], cmap='Reds', vmin=0, vmax=1)\n",
    "    ax.set_xticks([])\n",
    "    ax.set_yticks([])\n",
    "\n",
    "ax = fig.axes['curves']\n",
    "ax.plot(sigma_values_tectum, gaussian_filter1d(scores_tectum, 1), color='red', linewidth=0.75)\n",
    "ax.plot(sigma_values_wholebrain, gaussian_filter1d(scores_wholebrain, 1), color='black', linewidth=0.75)\n",
    "ax.set_xlim([0, 200])\n",
    "ax.spines[['top', 'right']].set_visible(False)\n",
    "\n",
    "ax = fig.axes['radii']\n",
    "ax.plot(sigma_values_tectum, predicted_radii, color='black', linewidth=0.75)\n",
    "ax.axhspan(radii_upper[0], radii_lower[0], facecolor='red', edgecolor='None', alpha=0.2, zorder=-10)\n",
    "ax.set_ylim([52 - 20, 52 + 20])\n",
    "ax.spines[['top', 'right']].set_visible(False)\n",
    "ax.set_xlim([0, np.max(sigma_values_tectum)])\n",
    "\n",
    "fig.save('../Figures/supp_smoothing_incomplete.svg')\n",
    "\n",
    "fig.show()"
   ]
  },
  {
   "cell_type": "markdown",
   "id": "3ba36681-cd47-4e6b-bb58-a2040052a5ec",
   "metadata": {},
   "source": [
    "### Printing manually annotated values"
   ]
  },
  {
   "cell_type": "code",
   "execution_count": null,
   "id": "20e6437d-ace9-4183-94be-d53558c592cf",
   "metadata": {},
   "outputs": [],
   "source": [
    "np.mean(predicted_radii)"
   ]
  },
  {
   "cell_type": "code",
   "execution_count": null,
   "id": "ae0aebe1-e2d8-4874-97da-7c19c62a2734",
   "metadata": {},
   "outputs": [],
   "source": [
    "np.std(predicted_radii)"
   ]
  },
  {
   "cell_type": "code",
   "execution_count": null,
   "id": "f998da2e-69c9-4b4a-bd72-c22fc498cc4c",
   "metadata": {},
   "outputs": [],
   "source": [
    "sigma_values_wholebrain"
   ]
  },
  {
   "cell_type": "code",
   "execution_count": null,
   "id": "1b42aca0-3942-473a-bfd7-ef4f88369c18",
   "metadata": {},
   "outputs": [],
   "source": [
    "sigma_values_tectum"
   ]
  },
  {
   "cell_type": "code",
   "execution_count": null,
   "id": "a3140797-b8b8-4893-ad76-62306c126574",
   "metadata": {},
   "outputs": [],
   "source": []
  }
 ],
 "metadata": {
  "kernelspec": {
   "display_name": "Python 3 (ipykernel)",
   "language": "python",
   "name": "python3"
  },
  "language_info": {
   "codemirror_mode": {
    "name": "ipython",
    "version": 3
   },
   "file_extension": ".py",
   "mimetype": "text/x-python",
   "name": "python",
   "nbconvert_exporter": "python",
   "pygments_lexer": "ipython3",
   "version": "3.9.19"
  }
 },
 "nbformat": 4,
 "nbformat_minor": 5
}
