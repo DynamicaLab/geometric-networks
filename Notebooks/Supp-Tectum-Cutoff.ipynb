{
 "cells": [
  {
   "cell_type": "markdown",
   "id": "ec9d920b-94e0-49bb-a4a4-3ccbdcf91d9e",
   "metadata": {},
   "source": [
    "# Supplementary - Cutoff point in tectal geometry"
   ]
  },
  {
   "cell_type": "markdown",
   "id": "3b4c4e16-aa12-4b0e-8e45-22dbb369c58b",
   "metadata": {},
   "source": [
    "Conducts analyses related to Supplementary Figure S10."
   ]
  },
  {
   "cell_type": "code",
   "execution_count": null,
   "id": "0e81fc6b-1a23-47ef-adaf-3df54e25a738",
   "metadata": {},
   "outputs": [],
   "source": [
    "import sys\n",
    "sys.path.append(\"..\")\n",
    "\n",
    "from main import *\n",
    "\n",
    "# Torch stuff\n",
    "if torch.cuda.is_available():\n",
    "    device = \"cuda:0\"\n",
    "else:\n",
    "    device = \"cpu\"\n",
    "print(device)"
   ]
  },
  {
   "cell_type": "markdown",
   "id": "326f4675-5e53-4b32-bc29-b8610c8e40f3",
   "metadata": {},
   "source": [
    "# Part 1: Demo of simulation in tectum geometry"
   ]
  },
  {
   "cell_type": "code",
   "execution_count": null,
   "id": "4eb56468-ae75-45fb-b1fc-fd0f3ce560ab",
   "metadata": {},
   "outputs": [],
   "source": [
    "# Loading data\n",
    "vertices = np.load('../Files/tectum_vertices_right.npy') * 40\n",
    "vertices = np.stack([vertices[:, 2], vertices[:, 1], vertices[:, 0]], axis=1)\n",
    "vertices /= np.max(vertices)\n",
    "vertices -= np.mean(vertices, axis=0)\n",
    "eigenmodes = np.load('../Files/tectum_eigenmodes_right.npy')[1:]\n",
    "tectum = Geometry(vertices, eigenmodes.T)"
   ]
  },
  {
   "cell_type": "code",
   "execution_count": null,
   "id": "0e70ac38-e06d-4058-a780-e012d67c9417",
   "metadata": {},
   "outputs": [],
   "source": [
    "# Dynamical parameters\n",
    "params = {'N_neurons': 1500,\n",
    "          'h': 0.1,\n",
    "          'g': 3,\n",
    "          'tau': 3,\n",
    "          'dale': False\n",
    "          }"
   ]
  },
  {
   "cell_type": "code",
   "execution_count": null,
   "id": "38b03687-34cd-4892-8dcb-c04d8df941ac",
   "metadata": {},
   "outputs": [],
   "source": [
    "simulator = Simulator(tectum,\n",
    "                      ChaoticRNN,\n",
    "                      params)\n",
    "\n",
    "simulator.integrate(1000, output=False)"
   ]
  },
  {
   "cell_type": "code",
   "execution_count": null,
   "id": "718092fc-bf43-4c7d-a2e5-7c95564aaadd",
   "metadata": {},
   "outputs": [],
   "source": [
    "%matplotlib inline\n",
    "simulator.imshow(vmin=0, vmax=1)"
   ]
  },
  {
   "cell_type": "code",
   "execution_count": null,
   "id": "9b3c3874-3519-4ddc-9258-d717f58b3d40",
   "metadata": {},
   "outputs": [],
   "source": [
    "%matplotlib qt\n",
    "simulator.animate(alpha=0.75,\n",
    "                  cmap='hot',\n",
    "                  vmax=1.5)"
   ]
  },
  {
   "cell_type": "markdown",
   "id": "89a8bfd5-27ca-458b-b99c-204a96aa6366",
   "metadata": {},
   "source": [
    "# Part 2: Sweep of $h$ values in tectal geometry to establish linear relationship"
   ]
  },
  {
   "cell_type": "code",
   "execution_count": null,
   "id": "3e38a1ee-716a-4d1e-a5df-22b7deb2cb4e",
   "metadata": {},
   "outputs": [],
   "source": [
    "from scipy.ndimage import gaussian_filter1d\n",
    "\n",
    "def filter_matrix_rows(matrix, sigma=1):\n",
    "    if sigma != 0:\n",
    "        filtered = np.copy(matrix)\n",
    "        for i in range(filtered.shape[0]):\n",
    "            filtered[i] = gaussian_filter1d(filtered[i], sigma=sigma)\n",
    "        return filtered\n",
    "    else:\n",
    "        return matrix\n",
    "\n",
    "\n",
    "def identify_mode_cutoff_points(diagonals_matrix, sigma=0):\n",
    "\n",
    "    matrix = filter_matrix_rows(diagonals_matrix, sigma=sigma)\n",
    "    \n",
    "    h_cutoff_array, r_cutoff_array = [], []    \n",
    "    for element in matrix:\n",
    "        diff_array = []\n",
    "        for i in range(1, len(matrix[0] + 1)):\n",
    "            diff = element[i] - element[i - 1]\n",
    "            diff_array.append(diff)\n",
    "        max_diff = min(diff_array)\n",
    "        cutoff_index = diff_array.index(max_diff)\n",
    "        while diff_array[cutoff_index - 1] > 0 and diff_array[cutoff_index - 1] > 0:\n",
    "            diff_array[cutoff_index] = 0\n",
    "            max_diff = min(diff_array)\n",
    "            cutoff_index = diff_array.index(max_diff)\n",
    "        h_cutoff_array.append(cutoff_index)\n",
    "        r_cutoff_array.append((element[cutoff_index] + element[cutoff_index + 1]) / 2)\n",
    "\n",
    "    return np.array(h_cutoff_array), np.array(r_cutoff_array)"
   ]
  },
  {
   "cell_type": "markdown",
   "id": "7428ba04-dd11-4c6d-b1f3-4f199509c495",
   "metadata": {},
   "source": [
    "Results were computed prior on Compute Canada (a few hours of simulations). See code example in the `ComputeCanada/kernel_size_tectum/` folder."
   ]
  },
  {
   "cell_type": "code",
   "execution_count": null,
   "id": "34aef3ee-0291-4f59-8c74-3da4dae30f04",
   "metadata": {},
   "outputs": [],
   "source": [
    "%matplotlib inline"
   ]
  },
  {
   "cell_type": "code",
   "execution_count": null,
   "id": "19869535-c82d-4dba-aa24-a64f6b27cc35",
   "metadata": {},
   "outputs": [],
   "source": [
    "correlations = np.load('../ComputeCanada/kernel_size_tectum/mode_correlations_per_h_2500.npy')"
   ]
  },
  {
   "cell_type": "code",
   "execution_count": null,
   "id": "5fb18d9c-c1f1-46a4-82bf-324c29a922d6",
   "metadata": {},
   "outputs": [],
   "source": [
    "avg_correlations = np.mean(np.abs(correlations), axis=1)\n",
    "\n",
    "diagonals = []\n",
    "for m in avg_correlations:\n",
    "    diagonals.append(np.diag(m))\n",
    "diagonals = np.stack(diagonals, axis=1)"
   ]
  },
  {
   "cell_type": "markdown",
   "id": "24dbe734-b916-49fd-b3ee-1a8ef62e32a2",
   "metadata": {},
   "source": [
    "Plotting matrix diagonals, analogous to Figure 3**b**."
   ]
  },
  {
   "cell_type": "code",
   "execution_count": null,
   "id": "3f667424-2161-45dc-8299-2f3850b50a67",
   "metadata": {},
   "outputs": [],
   "source": [
    "plt.imshow(diagonals)"
   ]
  },
  {
   "cell_type": "markdown",
   "id": "75fb378c-1cc9-44a7-859a-3003465cd2c6",
   "metadata": {},
   "source": [
    "Evaluating linear relationship"
   ]
  },
  {
   "cell_type": "code",
   "execution_count": null,
   "id": "4b81411c-c304-4c6e-b018-4b4af94b2dc2",
   "metadata": {},
   "outputs": [],
   "source": [
    "h_values = np.linspace(1, 200, 100, endpoint=True)\n",
    "wavelengths = np.load('../Results/wavelengths_tectum.npy')\n",
    "\n",
    "h_cutoffs, _ = identify_mode_cutoff_points(diagonals, sigma=1)\n",
    "h_cutoffs = h_values[h_cutoffs]"
   ]
  },
  {
   "cell_type": "code",
   "execution_count": null,
   "id": "3c63d002-a49a-47c8-b87b-fa388c34ea10",
   "metadata": {},
   "outputs": [],
   "source": [
    "x = h_cutoffs[1:]\n",
    "y = np.array(wavelengths[1:50])"
   ]
  },
  {
   "cell_type": "code",
   "execution_count": null,
   "id": "a97d330f-1161-4fe7-94aa-86381cf80d7b",
   "metadata": {},
   "outputs": [],
   "source": [
    "(a, b), CI_a, CI_b = linear_regression_with_confidence_interval(x, y)\n",
    "lower, upper = get_linear_bounds(x, CI_a, CI_b)"
   ]
  },
  {
   "cell_type": "code",
   "execution_count": null,
   "id": "cb0f15c2-d10c-446f-baaf-5a81abeedd88",
   "metadata": {},
   "outputs": [],
   "source": [
    "fig, ax = plt.subplots(figsize=(2, 2), dpi=300)\n",
    "ax.scatter(x, y, s=2, color='black')\n",
    "ax.spines[['top', 'right']].set_visible(False)\n",
    "ax.plot(x, a * x + b, linewidth=1, color='red')\n",
    "ax.fill_between(x, lower, upper, color='red', edgecolor='None', alpha=0.1)\n",
    "ax.set_xlabel('$h$ cutoff')\n",
    "ax.set_ylabel('Mode wavelength')"
   ]
  },
  {
   "cell_type": "code",
   "execution_count": null,
   "id": "045f74a6-06c1-46bf-98cb-30557dda2213",
   "metadata": {},
   "outputs": [],
   "source": [
    "np.save('../Results/supp_tectum_cutoff_x1.npy', x)\n",
    "np.save('../Results/supp_tectum_cutoff_y1.npy', y)"
   ]
  },
  {
   "cell_type": "code",
   "execution_count": null,
   "id": "01fd4b41-8a83-4b96-ab58-a0f18a348c0b",
   "metadata": {},
   "outputs": [],
   "source": [
    "print(a, b)"
   ]
  },
  {
   "cell_type": "markdown",
   "id": "b9f40e0a-9ad1-43ed-89e9-f8d1cea63eda",
   "metadata": {},
   "source": [
    "# Part 3: Alternate linear relationship from piecewise linear fits"
   ]
  },
  {
   "cell_type": "code",
   "execution_count": null,
   "id": "a94ca53d-b526-403d-b478-02a211108e6f",
   "metadata": {},
   "outputs": [],
   "source": [
    "from scipy.optimize import curve_fit"
   ]
  },
  {
   "cell_type": "markdown",
   "id": "86b19513-0d99-41f7-afde-7ad1183eda94",
   "metadata": {},
   "source": [
    "Excluding the early and late phases of the $h$ sweep in the curve fit to avoid 1. the dynamical onset phase, where the network is too sparse to sustain dynamics, and  2. the overextended connectivity radius $h$ where eigenmode-gradient correlations are mostly zero, even though the radius keeps increasing."
   ]
  },
  {
   "cell_type": "code",
   "execution_count": null,
   "id": "e0c7ac76-cf45-4524-8bf1-c331943e8f5a",
   "metadata": {},
   "outputs": [],
   "source": [
    "i1, i2 = 20, 80 "
   ]
  },
  {
   "cell_type": "code",
   "execution_count": null,
   "id": "c7343bc5-452e-4889-8774-983806980335",
   "metadata": {},
   "outputs": [],
   "source": [
    "cutoffs = []\n",
    "\n",
    "for i in range(i1, i2):\n",
    "    \n",
    "    diagonal = np.diag(avg_correlations[i])\n",
    "\n",
    "    x = np.arange(len(diagonal))\n",
    "    y = diagonal\n",
    "    initial_guess = [30, -1, 0]\n",
    "    params, _ = curve_fit(piecewise_linear, x, y, p0=initial_guess)\n",
    "    cutoff = int(np.round(params[0]))\n",
    "\n",
    "    cutoffs.append(cutoff)"
   ]
  },
  {
   "cell_type": "code",
   "execution_count": null,
   "id": "0e681e51-b370-4eb8-9c98-f754b2b2900d",
   "metadata": {},
   "outputs": [],
   "source": [
    "%matplotlib inline"
   ]
  },
  {
   "cell_type": "code",
   "execution_count": null,
   "id": "95117bb0-59e9-48c5-a800-06ad43f6240e",
   "metadata": {},
   "outputs": [],
   "source": [
    "plt.plot(cutoffs)"
   ]
  },
  {
   "cell_type": "code",
   "execution_count": null,
   "id": "72b74c0a-1589-4820-9713-84ae0da9920f",
   "metadata": {},
   "outputs": [],
   "source": [
    "cutoff_wavelengths = wavelengths[:][np.array(cutoffs)]"
   ]
  },
  {
   "cell_type": "code",
   "execution_count": null,
   "id": "7486823e-0240-46be-8917-9e5fe2bb1ab0",
   "metadata": {},
   "outputs": [],
   "source": [
    "y = cutoff_wavelengths\n",
    "x = h_values[i1:i2]"
   ]
  },
  {
   "cell_type": "code",
   "execution_count": null,
   "id": "42fb49ba-89c6-46a6-be84-69a6f7d26846",
   "metadata": {},
   "outputs": [],
   "source": [
    "(a, b), CI_a, CI_b = linear_regression_with_confidence_interval(x, y)\n",
    "lower, upper = get_linear_bounds(x, CI_a, CI_b)"
   ]
  },
  {
   "cell_type": "code",
   "execution_count": null,
   "id": "125df470-2be3-409a-87f4-e957bd118f5e",
   "metadata": {},
   "outputs": [],
   "source": [
    "fig, ax = plt.subplots(figsize=(2, 2), dpi=300)\n",
    "ax.scatter(x, y, s=2, color='black')\n",
    "ax.spines[['top', 'right']].set_visible(False)\n",
    "ax.plot(x, a * x + b, linewidth=1, color='red')\n",
    "ax.fill_between(x, lower, upper, color='red', edgecolor='None', alpha=0.1)\n",
    "ax.set_xlabel('$h$ cutoff')\n",
    "ax.set_ylabel('Mode wavelength')"
   ]
  },
  {
   "cell_type": "code",
   "execution_count": null,
   "id": "dfc2840b-49c4-4a6a-a285-cd14acebec02",
   "metadata": {},
   "outputs": [],
   "source": [
    "pearsonr(x, y)[0] ** 2"
   ]
  },
  {
   "cell_type": "code",
   "execution_count": null,
   "id": "a6f853d7-a33b-4fbc-af2d-ff0364865c55",
   "metadata": {},
   "outputs": [],
   "source": [
    "print(a, b)"
   ]
  },
  {
   "cell_type": "code",
   "execution_count": null,
   "id": "58f32158-fb38-49e9-8951-4838ea6dd922",
   "metadata": {},
   "outputs": [],
   "source": [
    "np.save('../Results/supp_tectum_cutoff_x2.npy', x)\n",
    "np.save('../Results/supp_tectum_cutoff_y2.npy', y)"
   ]
  },
  {
   "cell_type": "markdown",
   "id": "5afd2aa9-4422-47fa-8592-0c51d9ce776b",
   "metadata": {},
   "source": [
    "# Rendering figure"
   ]
  },
  {
   "cell_type": "code",
   "execution_count": null,
   "id": "4be150e8-5e24-4e32-8f7d-c6d8e67bbb34",
   "metadata": {},
   "outputs": [],
   "source": [
    "from visualization import *"
   ]
  },
  {
   "cell_type": "code",
   "execution_count": null,
   "id": "b34d3e3d-20f6-420a-90b1-2010736522ca",
   "metadata": {},
   "outputs": [],
   "source": [
    "fig = PaperFigure(figsize=(7, 1.5), dpi=600)\n",
    "\n",
    "fig.set_tick_length(1)\n",
    "fig.set_font_size(6)\n",
    "fig.add_background()\n",
    "\n",
    "# Adding panels -------------------------------\n",
    "\n",
    "\n",
    "fig.add_axes('linear1', (0, 0), 1.25, 1.25)\n",
    "fig.add_axes('linear2', (1.75, 0), 1.25, 1.25)\n",
    "\n",
    "fig.set_line_thickness(0.6)\n",
    "\n",
    "# Content -------------------------------------\n",
    "\n",
    "ax = fig.axes['linear1']\n",
    "x = np.load('../Results/supp_tectum_cutoff_x1.npy')\n",
    "y = np.load('../Results/supp_tectum_cutoff_y1.npy')\n",
    "(a, b), CI_a, CI_b = linear_regression_with_confidence_interval(x, y)\n",
    "lower, upper = get_linear_bounds(x, CI_a, CI_b)\n",
    "ax.scatter(x, y, color='black', edgecolor='None', s=5)\n",
    "ax.plot(x, a * x + b, linewidth=1, color='red')\n",
    "ax.fill_between(x, lower, upper, color='red', edgecolor='None', alpha=0.1)\n",
    "ax.spines[['top', 'right']].set_visible(False)\n",
    "print(pearsonr(x, y)[0] ** 2)\n",
    "print(a, b)\n",
    "print(CI_a)\n",
    "print(CI_b)\n",
    "\n",
    "print('\\n')\n",
    "\n",
    "ax = fig.axes['linear2']\n",
    "x = np.load('../Results/supp_tectum_cutoff_x2.npy')\n",
    "y = np.load('../Results/supp_tectum_cutoff_y2.npy')\n",
    "(a, b), CI_a, CI_b = linear_regression_with_confidence_interval(x, y)\n",
    "lower, upper = get_linear_bounds(x, CI_a, CI_b)\n",
    "ax.scatter(x, y, color='black', edgecolor='None', s=5)\n",
    "ax.plot(x, a * x + b, linewidth=1, color='red')\n",
    "ax.fill_between(x, lower, upper, color='red', edgecolor='None', alpha=0.1)\n",
    "ax.spines[['top', 'right']].set_visible(False)\n",
    "print(pearsonr(x, y)[0] ** 2)\n",
    "print(a, b)\n",
    "print(CI_a)\n",
    "print(CI_b)\n",
    "\n",
    "# Displaying ----------------------------------\n",
    "\n",
    "fig.save('../Figures/supp_tectum_cutoff_incomplete.svg')\n",
    "fig.show()"
   ]
  },
  {
   "cell_type": "code",
   "execution_count": null,
   "id": "e694c8e5-9da7-4520-99c4-9cef7e3205fa",
   "metadata": {},
   "outputs": [],
   "source": []
  }
 ],
 "metadata": {
  "kernelspec": {
   "display_name": "Python 3 (ipykernel)",
   "language": "python",
   "name": "python3"
  },
  "language_info": {
   "codemirror_mode": {
    "name": "ipython",
    "version": 3
   },
   "file_extension": ".py",
   "mimetype": "text/x-python",
   "name": "python",
   "nbconvert_exporter": "python",
   "pygments_lexer": "ipython3",
   "version": "3.9.19"
  }
 },
 "nbformat": 4,
 "nbformat_minor": 5
}
