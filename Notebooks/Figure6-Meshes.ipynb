{
 "cells": [
  {
   "cell_type": "markdown",
   "id": "b5499c9a-7784-42ab-8439-cfa33956d80f",
   "metadata": {},
   "source": [
    "DONE"
   ]
  },
  {
   "cell_type": "markdown",
   "id": "cc3341e4-a07f-450e-b7f0-fc9a8c416076",
   "metadata": {},
   "source": [
    "# Volumetric meshes of zebrafish brain geometry"
   ]
  },
  {
   "cell_type": "code",
   "execution_count": null,
   "id": "23f3169a-bfff-408f-9842-81696d385866",
   "metadata": {},
   "outputs": [],
   "source": [
    "import sys\n",
    "sys.path.append(\"..\")\n",
    "\n",
    "from main import *\n",
    "from visualization import *\n",
    "\n",
    "import numpy as np\n",
    "import lapy\n",
    "from lapy import TetMesh, Solver, TriaMesh\n",
    "import matplotlib.pyplot as plt\n",
    "import numpy as np\n",
    "import skimage.measure\n",
    "import pygalmesh\n",
    "import meshio\n",
    "from scipy.ndimage import zoom\n",
    "import os"
   ]
  },
  {
   "cell_type": "markdown",
   "id": "43885bdf-48f9-4a7f-820e-e4c00182c049",
   "metadata": {},
   "source": [
    "# 1. Generating optic tectum meshes"
   ]
  },
  {
   "cell_type": "code",
   "execution_count": null,
   "id": "abdbe96a-8fc5-4ce3-91b9-1ad9489d337d",
   "metadata": {},
   "outputs": [],
   "source": [
    "from scipy.sparse import load_npz\n",
    "from scipy.ndimage import gaussian_filter, zoom"
   ]
  },
  {
   "cell_type": "code",
   "execution_count": null,
   "id": "966044fa-eeda-48ce-8402-b090d69d59a3",
   "metadata": {},
   "outputs": [],
   "source": [
    "masks = load_npz('/home/anleg84/Documents/Atlas/Mapzebrain/' + 'region_masks.npz') # Binary region masks of the mapZebrain atlas"
   ]
  },
  {
   "cell_type": "code",
   "execution_count": null,
   "id": "a7f42672-2453-4458-a9f1-0dfbd1131bf4",
   "metadata": {},
   "outputs": [],
   "source": [
    "region_id = 22 # Region id of the tectum periventricular layer\n",
    "\n",
    "mask_full = np.flip(np.reshape(masks[:, region_id].toarray(), [359, 974, 597], order='C'), axis=0)\n",
    "mask_left = np.copy(mask_full)\n",
    "mask_left[:, :, 284:] = 0 \n",
    "mask_right = np.copy(mask_full)\n",
    "mask_right[:, :, :284] = 0"
   ]
  },
  {
   "cell_type": "markdown",
   "id": "d52d2550-1550-404e-8405-5d073764dabc",
   "metadata": {},
   "source": [
    "#### Meshing left hemisphere"
   ]
  },
  {
   "cell_type": "code",
   "execution_count": null,
   "id": "d7303b56-7f28-4668-a269-1cbcf86f59b7",
   "metadata": {},
   "outputs": [],
   "source": [
    "vol = zoom(mask_left, (0.25, 0.25, 0.25), order=1).astype('bool').astype('uint16') # Downscaling for speed, then upscaling"
   ]
  },
  {
   "cell_type": "code",
   "execution_count": null,
   "id": "f0132e9d-04b6-43f7-a2f5-579ceeddbd9e",
   "metadata": {},
   "outputs": [],
   "source": [
    "voxel_size = (0.1, 0.1, 0.1)\n",
    "\n",
    "mesh = pygalmesh.generate_from_array(\n",
    "    vol, voxel_size, max_facet_distance=0.1, max_cell_circumradius=0.1\n",
    ")\n",
    "\n",
    "mesh.write(\"../Files/tectum_left.vtk\")"
   ]
  },
  {
   "cell_type": "markdown",
   "id": "a14b60e4-6e5f-4841-af54-3acfa1809b8d",
   "metadata": {},
   "source": [
    "#### Meshing right hemisphere"
   ]
  },
  {
   "cell_type": "code",
   "execution_count": null,
   "id": "8a6ed5f2-9e76-44a2-b43e-0f086e6f8166",
   "metadata": {},
   "outputs": [],
   "source": [
    "vol = zoom(mask_right, (0.25, 0.25, 0.25), order=1).astype('bool').astype('uint16')"
   ]
  },
  {
   "cell_type": "code",
   "execution_count": null,
   "id": "7262ea61-c944-4b97-9248-7fc0a7e3641d",
   "metadata": {},
   "outputs": [],
   "source": [
    "voxel_size = (0.1, 0.1, 0.1)\n",
    "\n",
    "mesh = pygalmesh.generate_from_array(\n",
    "    vol, voxel_size, max_facet_distance=0.1, max_cell_circumradius=0.1\n",
    ")\n",
    "\n",
    "mesh.write(\"../Files/tectum_right.vtk\")"
   ]
  },
  {
   "cell_type": "markdown",
   "id": "296768a4-1818-4317-8480-7dcf731a5823",
   "metadata": {},
   "source": [
    "#### Meshing both hemispheres"
   ]
  },
  {
   "cell_type": "code",
   "execution_count": null,
   "id": "4ee6df64-71cc-4eb4-818a-b6a932fcb08a",
   "metadata": {},
   "outputs": [],
   "source": [
    "smoothed = gaussian_filter(mask_full, (10, 10, 10))"
   ]
  },
  {
   "cell_type": "code",
   "execution_count": null,
   "id": "5c49db57-e8a8-4a2a-a0dc-f21844058dce",
   "metadata": {},
   "outputs": [],
   "source": [
    "np.sum(smoothed > 111)"
   ]
  },
  {
   "cell_type": "code",
   "execution_count": null,
   "id": "e7bd4a11-2c8d-498c-9e52-952dd04406dc",
   "metadata": {},
   "outputs": [],
   "source": [
    "np.sum(mask_full > 0)"
   ]
  },
  {
   "cell_type": "code",
   "execution_count": null,
   "id": "ae68ebeb-eae6-4320-a6ec-7c7d95b75ef8",
   "metadata": {},
   "outputs": [],
   "source": [
    "vol = zoom(smoothed > 111, (0.25, 0.25, 0.25), order=0).astype('bool').astype('uint16')"
   ]
  },
  {
   "cell_type": "code",
   "execution_count": null,
   "id": "b6bab1ec-e0a3-4a15-9a91-7ebfbc28480f",
   "metadata": {},
   "outputs": [],
   "source": [
    "voxel_size = (0.1, 0.1, 0.1)\n",
    "\n",
    "mesh = pygalmesh.generate_from_array(\n",
    "    vol, voxel_size, max_facet_distance=0.1, max_cell_circumradius=0.1\n",
    ")\n",
    "\n",
    "mesh.write(\"../Files/tectum_full.vtk\")"
   ]
  },
  {
   "cell_type": "markdown",
   "id": "a18048f5-fcf8-4a55-ba2b-724b853c4768",
   "metadata": {},
   "source": [
    "# 2. Computing tectal eigenmodes"
   ]
  },
  {
   "cell_type": "markdown",
   "id": "0ac25c78-dcf2-4dc9-8493-d710466fbf1d",
   "metadata": {},
   "source": [
    "#### Left tectum"
   ]
  },
  {
   "cell_type": "code",
   "execution_count": null,
   "id": "bfcd0cbe-17d2-44d8-bcfe-75dad5188eb4",
   "metadata": {},
   "outputs": [],
   "source": [
    "mesh = meshio.read('../Files/tectum_left.vtk')\n",
    "\n",
    "vertices = mesh.points\n",
    "tetrahedra = mesh.cells_dict['tetra']\n",
    "\n",
    "tet_mesh = TetMesh(vertices, tetrahedra)\n",
    "print(vertices.shape)"
   ]
  },
  {
   "cell_type": "code",
   "execution_count": null,
   "id": "92fadc73-a21a-4b3b-9c38-6045a2c5f758",
   "metadata": {},
   "outputs": [],
   "source": [
    "solver = Solver(tet_mesh)\n",
    "eigenvalues, eigenvectors = solver.eigs(k=100)"
   ]
  },
  {
   "cell_type": "markdown",
   "id": "86a02d4e-98e0-443a-8095-2eae25c37b1b",
   "metadata": {},
   "source": [
    "Plotting eigenmodes."
   ]
  },
  {
   "cell_type": "code",
   "execution_count": null,
   "id": "c57e75f2-0dbe-4283-9bb8-97bf28ce4baf",
   "metadata": {},
   "outputs": [],
   "source": [
    "fig, axes = plt.subplots(4, 5, subplot_kw={\"projection\": \"3d\"}, figsize=(5, 5), dpi=150)\n",
    "\n",
    "for i in range(20):\n",
    "    ax = axes.flatten()[i]\n",
    "    ax.scatter(vertices[:, 0], vertices[:, 1], vertices[:, 2], c=eigenvectors[:, i+1], alpha=0.5, cmap='coolwarm')\n",
    "    #ax.set_xlim([0, 1])\n",
    "    #ax.set_ylim([0, 1])\n",
    "    #ax.set_zlim([0, 1])\n",
    "    ax.set_axis_off()\n",
    "    # ax.set_frame_on(False) # Older version of Matplotlib\n",
    "\n",
    "plt.tight_layout(pad=0)\n",
    "plt.show()"
   ]
  },
  {
   "cell_type": "code",
   "execution_count": null,
   "id": "344f3e0f-0d90-4da7-aa3a-668edb78bc02",
   "metadata": {},
   "outputs": [],
   "source": [
    "np.save('../Files/tectum_vertices_left.npy', vertices)\n",
    "np.save('../Files/tectum_eigenmodes_left.npy', eigenvectors.T)"
   ]
  },
  {
   "cell_type": "markdown",
   "id": "ac17bce0-5ad2-4f2d-9503-0e91a924b1b8",
   "metadata": {},
   "source": [
    "#### Right tectum"
   ]
  },
  {
   "cell_type": "code",
   "execution_count": null,
   "id": "63490ebf-76c6-421f-89b4-c981f12b327f",
   "metadata": {},
   "outputs": [],
   "source": [
    "mesh = meshio.read('../Files/tectum_right.vtk')\n",
    "\n",
    "vertices = mesh.points\n",
    "tetrahedra = mesh.cells_dict['tetra']\n",
    "\n",
    "tet_mesh = TetMesh(vertices, tetrahedra)\n",
    "print(vertices.shape)"
   ]
  },
  {
   "cell_type": "code",
   "execution_count": null,
   "id": "8c5a2424-3aae-499c-8b78-8e999ee60c0e",
   "metadata": {},
   "outputs": [],
   "source": [
    "solver = Solver(tet_mesh)\n",
    "eigenvalues, eigenvectors = solver.eigs(k=100)"
   ]
  },
  {
   "cell_type": "markdown",
   "id": "af13d40a-05bb-40ce-b487-7119b521d7d7",
   "metadata": {},
   "source": [
    "Plotting eigenmodes."
   ]
  },
  {
   "cell_type": "code",
   "execution_count": null,
   "id": "24566be2-7780-45b1-8312-c3c5a70487fd",
   "metadata": {},
   "outputs": [],
   "source": [
    "fig, axes = plt.subplots(4, 5, subplot_kw={\"projection\": \"3d\"}, figsize=(5, 5), dpi=150)\n",
    "\n",
    "for i in range(20):\n",
    "    ax = axes.flatten()[i]\n",
    "    ax.scatter(vertices[:, 2], vertices[:, 1], -vertices[:, 0], c=eigenvectors[:, i + 1], alpha=0.5, cmap='coolwarm')\n",
    "    #ax.set_xlim([0, 1])\n",
    "    #ax.set_ylim([0, 1])\n",
    "    #ax.set_zlim([0, 1])\n",
    "    ax.set_axis_off()\n",
    "    # ax.set_frame_on(False) # Older version of Matplotlib\n",
    "\n",
    "plt.tight_layout(pad=0)\n",
    "plt.show()"
   ]
  },
  {
   "cell_type": "code",
   "execution_count": null,
   "id": "e5d254e9-29ad-473e-98ab-15e641339d3f",
   "metadata": {},
   "outputs": [],
   "source": [
    "np.save('../Files/tectum_vertices_right.npy', vertices)\n",
    "np.save('../Files/tectum_eigenmodes_right.npy', eigenvectors.T)"
   ]
  },
  {
   "cell_type": "markdown",
   "id": "36378a62-490f-497c-82be-15155f7d2a80",
   "metadata": {},
   "source": [
    "#### Full tectum"
   ]
  },
  {
   "cell_type": "code",
   "execution_count": null,
   "id": "bae2aaef-8fed-4bc1-840a-3febd8a82308",
   "metadata": {},
   "outputs": [],
   "source": [
    "mesh = meshio.read('../Files/tectum_full.vtk')\n",
    "\n",
    "vertices = mesh.points\n",
    "tetrahedra = mesh.cells_dict['tetra']\n",
    "\n",
    "tet_mesh = TetMesh(vertices, tetrahedra)\n",
    "print(vertices.shape)"
   ]
  },
  {
   "cell_type": "code",
   "execution_count": null,
   "id": "2beb0902-5eef-47a7-ae2d-3b47833bd50f",
   "metadata": {},
   "outputs": [],
   "source": [
    "solver = Solver(tet_mesh)\n",
    "eigenvalues, eigenvectors = solver.eigs(k=100)"
   ]
  },
  {
   "cell_type": "markdown",
   "id": "6014b088-a7f8-4cde-a55f-6c4d7fbfe58d",
   "metadata": {},
   "source": [
    "Plotting eigenmodes."
   ]
  },
  {
   "cell_type": "code",
   "execution_count": null,
   "id": "d58fc073-98a9-4fe1-a118-fe7e19e7e4f8",
   "metadata": {},
   "outputs": [],
   "source": [
    "fig, axes = plt.subplots(4, 5, subplot_kw={\"projection\": \"3d\"}, figsize=(5, 5), dpi=150)\n",
    "\n",
    "for i in range(20):\n",
    "    ax = axes.flatten()[i]\n",
    "    ax.scatter(vertices[:, 2], vertices[:, 1], -vertices[:, 0], c=eigenvectors[:, i + 1], alpha=0.5, cmap='coolwarm')\n",
    "    #ax.set_xlim([0, 1])\n",
    "    #ax.set_ylim([0, 1])\n",
    "    #ax.set_zlim([0, 1])\n",
    "    ax.set_axis_off()\n",
    "    # ax.set_frame_on(False) # Older version of Matplotlib\n",
    "\n",
    "plt.tight_layout(pad=0)\n",
    "plt.show()"
   ]
  },
  {
   "cell_type": "code",
   "execution_count": null,
   "id": "a3fa5bcc-dd1e-491a-9b9e-021891b5c60e",
   "metadata": {},
   "outputs": [],
   "source": [
    "np.save('../Files/tectum_vertices_full.npy', vertices)\n",
    "np.save('../Files/tectum_eigenmodes_full.npy', eigenvectors.T)"
   ]
  },
  {
   "cell_type": "markdown",
   "id": "349afb9c-4938-4971-b8ce-bad3407d7387",
   "metadata": {},
   "source": [
    "# Computing tectum nodes by fragmenting masks"
   ]
  },
  {
   "cell_type": "code",
   "execution_count": null,
   "id": "6a15dba8-f8b6-47b9-8294-57004b2f66a7",
   "metadata": {},
   "outputs": [],
   "source": [
    "from scipy.sparse import load_npz\n",
    "from scipy.ndimage import gaussian_filter, zoom\n",
    "from sklearn.cluster import KMeans"
   ]
  },
  {
   "cell_type": "code",
   "execution_count": null,
   "id": "35316f55-e5b2-4034-9547-3ad95b1ca2dd",
   "metadata": {},
   "outputs": [],
   "source": [
    "masks = load_npz('/home/anleg84/Documents/Atlas/Mapzebrain/' + 'region_masks.npz')"
   ]
  },
  {
   "cell_type": "code",
   "execution_count": null,
   "id": "e9a762ac-4c68-431d-992a-0e41767d4f4f",
   "metadata": {},
   "outputs": [],
   "source": [
    "region_id = 22\n",
    "\n",
    "mask_full = np.flip(np.reshape(masks[:, region_id].toarray(), [359, 974, 597], order='C'), axis=0)\n",
    "\n",
    "mask_left = np.copy(mask_full)\n",
    "mask_left[:, :, 284:] = 0\n",
    "\n",
    "mask_right = np.copy(mask_full)\n",
    "mask_right[:, :, :284] = 0"
   ]
  },
  {
   "cell_type": "markdown",
   "id": "fb431006-2870-4d1d-ae49-7b1e249e4869",
   "metadata": {},
   "source": [
    "#### Left hemisphere"
   ]
  },
  {
   "cell_type": "code",
   "execution_count": null,
   "id": "07a12888-0eb2-49ea-8865-9f322d7c292a",
   "metadata": {},
   "outputs": [],
   "source": [
    "mask_downsampled = zoom(mask_left, (0.5, 0.5, 0.5), order=1).astype('bool').astype('uint16')"
   ]
  },
  {
   "cell_type": "code",
   "execution_count": null,
   "id": "73b2dc0d-3341-4eff-950f-8d2c2fe6e8b8",
   "metadata": {},
   "outputs": [],
   "source": [
    "i, j, k = np.where(mask_downsampled)\n",
    "voxels = np.stack([k, j, i], axis=1).astype('float')"
   ]
  },
  {
   "cell_type": "code",
   "execution_count": null,
   "id": "08150d96-c705-4651-a370-54e1f7a455f7",
   "metadata": {},
   "outputs": [],
   "source": [
    "n_clusters = 400"
   ]
  },
  {
   "cell_type": "code",
   "execution_count": null,
   "id": "6331f5dc-0d09-404e-8473-b23676753225",
   "metadata": {},
   "outputs": [],
   "source": [
    "kmeans = KMeans(n_clusters=n_clusters).fit(voxels)\n",
    "clusters = kmeans.labels_\n",
    "\n",
    "centroids = []\n",
    "for c in np.unique(clusters):\n",
    "    centroids.append(np.mean(voxels[clusters == c], axis=0))\n",
    "centroids = np.stack(centroids, axis=0)"
   ]
  },
  {
   "cell_type": "code",
   "execution_count": null,
   "id": "f6e826b5-f7c8-4afb-a4cb-942c2efd4cff",
   "metadata": {},
   "outputs": [],
   "source": [
    "nodes_tectum = centroids"
   ]
  },
  {
   "cell_type": "code",
   "execution_count": null,
   "id": "22647539-b736-4cad-9ce3-0496aa651035",
   "metadata": {},
   "outputs": [],
   "source": [
    "np.save('../Files/nodes_tectum_left.npy', nodes_tectum)"
   ]
  },
  {
   "cell_type": "markdown",
   "id": "3bb865f3-c24b-4d5d-a8ae-89446e3360ca",
   "metadata": {},
   "source": [
    "#### Right hemisphere"
   ]
  },
  {
   "cell_type": "code",
   "execution_count": null,
   "id": "bfe1a0b1-2cdf-4e51-9139-dcfa7109e961",
   "metadata": {},
   "outputs": [],
   "source": [
    "mask_downsampled = zoom(mask_right, (0.5, 0.5, 0.5), order=1).astype('bool').astype('uint16')"
   ]
  },
  {
   "cell_type": "code",
   "execution_count": null,
   "id": "5fc8cec0-92d8-4b14-92d7-2f8302bd778b",
   "metadata": {},
   "outputs": [],
   "source": [
    "i, j, k = np.where(mask_downsampled)\n",
    "voxels = np.stack([k, j, i], axis=1).astype('float')"
   ]
  },
  {
   "cell_type": "markdown",
   "id": "198b9ded-0afb-4f29-9eaf-bfb37c5a0905",
   "metadata": {},
   "source": [
    "Here, the commented `n_clusters` reflect the different coarse-graining resolutions used in Supplementary Figure S8**a**."
   ]
  },
  {
   "cell_type": "code",
   "execution_count": null,
   "id": "5bc4ffb0-448e-4a04-8534-18995129cd0b",
   "metadata": {},
   "outputs": [],
   "source": [
    "#n_clusters = 200\n",
    "# n_clusters = 400\n",
    "n_clusters = 800\n",
    "# n_clusters = 800\n",
    "# n_clusters = 1000 "
   ]
  },
  {
   "cell_type": "code",
   "execution_count": null,
   "id": "295f44ed-fc94-4a77-9f4b-0425cbd30462",
   "metadata": {},
   "outputs": [],
   "source": [
    "kmeans = KMeans(n_clusters=n_clusters).fit(voxels)\n",
    "clusters = kmeans.labels_\n",
    "\n",
    "centroids = []\n",
    "for c in np.unique(clusters):\n",
    "    centroids.append(np.mean(voxels[clusters == c], axis=0))\n",
    "centroids = np.stack(centroids, axis=0)"
   ]
  },
  {
   "cell_type": "code",
   "execution_count": null,
   "id": "6619ea31-e12b-4a1c-8874-878ad61853af",
   "metadata": {},
   "outputs": [],
   "source": [
    "nodes_tectum = centroids"
   ]
  },
  {
   "cell_type": "code",
   "execution_count": null,
   "id": "1bdfd902-7dfd-4908-8b78-5af07ab12302",
   "metadata": {},
   "outputs": [],
   "source": [
    "np.save('../Files/nodes_tectum_right_800.npy', nodes_tectum)"
   ]
  },
  {
   "cell_type": "markdown",
   "id": "772bf35e-0d92-44e4-8edd-3c0df78cd8b5",
   "metadata": {},
   "source": [
    "# Generating whole-brain mesh"
   ]
  },
  {
   "cell_type": "markdown",
   "id": "7830aa57-df0f-4f7c-b294-19c4263981ce",
   "metadata": {},
   "source": [
    "#### Both hemispheres"
   ]
  },
  {
   "cell_type": "code",
   "execution_count": null,
   "id": "ecf52863-9be1-4327-81c8-bd8237af211b",
   "metadata": {},
   "outputs": [],
   "source": [
    "mask = np.load('../Files/mask_atlas.npy')"
   ]
  },
  {
   "cell_type": "code",
   "execution_count": null,
   "id": "a0e12045-4200-44c5-9ca3-304e771c78a1",
   "metadata": {},
   "outputs": [],
   "source": [
    "volume = zoom(mask, (0.2, 0.2, 0.2), order=1)\n",
    "\n",
    "voxel_size = (1, 1, 1)\n",
    "\n",
    "mesh = pygalmesh.generate_from_array(\n",
    "    volume, voxel_size, max_facet_distance=2.5, max_cell_circumradius=1.5\n",
    ")\n",
    "\n",
    "mesh.write(\"../Files/mesh_zebrafish_wholebrain.vtk\")"
   ]
  },
  {
   "cell_type": "markdown",
   "id": "303a34f7-4c0c-435b-bd6b-ea7f9909fa5a",
   "metadata": {},
   "source": [
    "#### Single hemisphere"
   ]
  },
  {
   "cell_type": "code",
   "execution_count": null,
   "id": "d840eb9b-84f0-4e04-8cea-9c71beb7ae81",
   "metadata": {},
   "outputs": [],
   "source": [
    "mask[:, :, 284:] = 0\n",
    "volume = zoom(mask, (0.2, 0.2, 0.2), order=1)\n",
    "\n",
    "voxel_size = (1, 1, 1)\n",
    "\n",
    "mesh = pygalmesh.generate_from_array(\n",
    "    volume, voxel_size, max_facet_distance=2.5, max_cell_circumradius=1.5\n",
    ")\n",
    "\n",
    "mesh.write(\"../Files/mesh_zebrafish_wholebrain_single.vtk\")"
   ]
  },
  {
   "cell_type": "markdown",
   "id": "4161bb14-22be-454a-955a-d3433bc6dafe",
   "metadata": {},
   "source": [
    "# Computing whole-brain eigenmodes"
   ]
  },
  {
   "cell_type": "markdown",
   "id": "b80a7041-847c-490d-bb92-4582735f88d2",
   "metadata": {},
   "source": [
    "#### Both hemispheres"
   ]
  },
  {
   "cell_type": "code",
   "execution_count": null,
   "id": "e62aeb8e-48fb-4742-a2b6-caf565047fb6",
   "metadata": {},
   "outputs": [],
   "source": [
    "mesh = meshio.read(\"../Files/mesh_zebrafish_wholebrain.vtk\")\n",
    "\n",
    "vertices = mesh.points\n",
    "tetrahedra = mesh.cells_dict['tetra']\n",
    "\n",
    "tet_mesh = TetMesh(vertices, tetrahedra)\n",
    "print(vertices.shape)"
   ]
  },
  {
   "cell_type": "code",
   "execution_count": null,
   "id": "c0379fcf-ba22-445c-aed7-533cb410058b",
   "metadata": {},
   "outputs": [],
   "source": [
    "solver = Solver(tet_mesh)\n",
    "eigenvalues, eigenmodes = solver.eigs(k=100)"
   ]
  },
  {
   "cell_type": "markdown",
   "id": "82b34a4c-bd5c-4664-a404-6f2114ad5463",
   "metadata": {},
   "source": [
    "Plotting eigenmodes:"
   ]
  },
  {
   "cell_type": "code",
   "execution_count": null,
   "id": "b88e8939-1124-4116-a683-25e1dded8285",
   "metadata": {},
   "outputs": [],
   "source": [
    "fig, axes = plt.subplots(4, 5, subplot_kw={\"projection\": \"3d\"}, figsize=(5, 5), dpi=150)\n",
    "\n",
    "for i in range(20):\n",
    "    ax = axes.flatten()[i]\n",
    "    ax.scatter(vertices[:, 2], vertices[:, 1], -vertices[:, 0], c=eigenmodes[:, i + 1], alpha=0.5, cmap='coolwarm')\n",
    "    #ax.set_xlim([0, 1])\n",
    "    #ax.set_ylim([0, 1])\n",
    "    #ax.set_zlim([0, 1])\n",
    "    ax.set_axis_off()\n",
    "    # ax.set_frame_on(False) # Older version of Matplotlib\n",
    "\n",
    "plt.tight_layout(pad=0)\n",
    "plt.show()"
   ]
  },
  {
   "cell_type": "code",
   "execution_count": null,
   "id": "f1f09126-e654-46dc-b6d7-7c749c0cecfa",
   "metadata": {},
   "outputs": [],
   "source": [
    "np.save('../Files/zebrafish_wholebrain_eigenmodes.npy', eigenmodes.T)\n",
    "np.save('../Files/zebrafish_wholebrain_vertices.npy', np.flip(vertices, axis=1) * 5)"
   ]
  },
  {
   "cell_type": "markdown",
   "id": "78687854-3c48-4ec9-9e1e-c739494c013a",
   "metadata": {},
   "source": [
    "#### Single hemisphere"
   ]
  },
  {
   "cell_type": "code",
   "execution_count": null,
   "id": "f6efa888-50a5-429d-8c3d-f845e3782e7b",
   "metadata": {},
   "outputs": [],
   "source": [
    "mesh = meshio.read(\"../Files/mesh_zebrafish_wholebrain_single.vtk\")\n",
    "\n",
    "vertices = mesh.points\n",
    "tetrahedra = mesh.cells_dict['tetra']\n",
    "\n",
    "tet_mesh = TetMesh(vertices, tetrahedra)\n",
    "print(vertices.shape)"
   ]
  },
  {
   "cell_type": "code",
   "execution_count": null,
   "id": "d897141c-5d51-4b13-9b84-3a655f632a09",
   "metadata": {},
   "outputs": [],
   "source": [
    "solver = Solver(tet_mesh)\n",
    "eigenvalues, eigenmodes = solver.eigs(k=100)"
   ]
  },
  {
   "cell_type": "markdown",
   "id": "40c14fe0-11b4-45ad-8b12-bb77869b07f5",
   "metadata": {},
   "source": [
    "Plotting eigenmodes:"
   ]
  },
  {
   "cell_type": "code",
   "execution_count": null,
   "id": "9a3881d3-be89-4dee-9c6e-2cbe63e6cfee",
   "metadata": {},
   "outputs": [],
   "source": [
    "fig, axes = plt.subplots(4, 5, subplot_kw={\"projection\": \"3d\"}, figsize=(5, 5), dpi=150)\n",
    "\n",
    "for i in range(20):\n",
    "    ax = axes.flatten()[i]\n",
    "    ax.scatter(vertices[:, 2], vertices[:, 1], -vertices[:, 0], c=eigenmodes[:, i + 1], alpha=0.5, cmap='coolwarm')\n",
    "    #ax.set_xlim([0, 1])\n",
    "    #ax.set_ylim([0, 1])\n",
    "    #ax.set_zlim([0, 1])\n",
    "    ax.set_axis_off()\n",
    "    # ax.set_frame_on(False) # Older version of Matplotlib\n",
    "\n",
    "plt.tight_layout(pad=0)\n",
    "plt.show()"
   ]
  },
  {
   "cell_type": "code",
   "execution_count": null,
   "id": "5a97e92a-0d86-4159-9b19-466ceaac9cfb",
   "metadata": {},
   "outputs": [],
   "source": [
    "np.save('../Files/zebrafish_wholebrain_eigenmodes_single.npy', eigenmodes.T)\n",
    "np.save('../Files/zebrafish_wholebrain_vertices_single.npy', np.flip(vertices, axis=1) * 5)"
   ]
  },
  {
   "cell_type": "code",
   "execution_count": null,
   "id": "a2c1afd7-22fc-4207-a8bc-25cb8963a007",
   "metadata": {},
   "outputs": [],
   "source": []
  }
 ],
 "metadata": {
  "kernelspec": {
   "display_name": "Python 3 (ipykernel)",
   "language": "python",
   "name": "python3"
  },
  "language_info": {
   "codemirror_mode": {
    "name": "ipython",
    "version": 3
   },
   "file_extension": ".py",
   "mimetype": "text/x-python",
   "name": "python",
   "nbconvert_exporter": "python",
   "pygments_lexer": "ipython3",
   "version": "3.9.19"
  }
 },
 "nbformat": 4,
 "nbformat_minor": 5
}
