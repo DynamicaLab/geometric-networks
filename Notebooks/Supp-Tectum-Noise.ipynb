{
 "cells": [
  {
   "cell_type": "markdown",
   "id": "efc37f35-495e-42e5-a07c-59ca15acfc62",
   "metadata": {},
   "source": [
    "# Supplementary - Effect of noise on the geometric cutoff point in the optic tectum"
   ]
  },
  {
   "cell_type": "markdown",
   "id": "5a6ceb06-55f4-4d5f-aefb-04c521ae75be",
   "metadata": {},
   "source": [
    "Analyses related to Supplementary Figure S9."
   ]
  },
  {
   "cell_type": "code",
   "execution_count": null,
   "id": "0cb39607-7eda-4154-9966-63523ddec9f0",
   "metadata": {},
   "outputs": [],
   "source": [
    "import sys\n",
    "sys.path.append(\"..\")\n",
    "\n",
    "from main import *\n",
    "from zebrafish import *\n",
    "\n",
    "from scipy.stats import zscore, spearmanr\n",
    "from scipy.stats import percentileofscore\n",
    "from brainsmash.mapgen.base import Base"
   ]
  },
  {
   "cell_type": "markdown",
   "id": "f648bf31-69c2-48be-9586-465c05e941d8",
   "metadata": {},
   "source": [
    "# Setting paths"
   ]
  },
  {
   "cell_type": "code",
   "execution_count": null,
   "id": "fde10811-3387-458d-8230-597a8d64bee1",
   "metadata": {},
   "outputs": [],
   "source": [
    "atlas_path = '/home/anleg84/Documents/Atlas/Mapzebrain/'\n",
    "\n",
    "atlas = Mapzebrain(atlas_path)\n",
    "mask_tectum = atlas.get_region_mask(22)\n",
    "mask_tectum[:, :, :284] = 0\n",
    "\n",
    "top_directory = '/media/anleg84/KINGSTON1/Datasets/Geometry/'\n",
    "\n",
    "datasets = identify_folders(top_directory, ['920nm'])"
   ]
  },
  {
   "cell_type": "markdown",
   "id": "a3798670-44b6-4450-877f-073c585f004c",
   "metadata": {},
   "source": [
    "# Computing eigenmode-gradient correlation with noise"
   ]
  },
  {
   "cell_type": "code",
   "execution_count": null,
   "id": "c56236a4-babf-4eb3-9c02-989c064bbce0",
   "metadata": {},
   "outputs": [],
   "source": [
    "def compute_noise_from_data():\n",
    "    \"\"\"\n",
    "    WARNING: Uses global variables defined outside the function. This function loops over all folders containing calcium imaging data, loading the tectum\n",
    "    neuronal time series and evaluating the standard deviation of each neuron. Returns a list of std vectors from different larvae.\n",
    "    \"\"\"\n",
    "\n",
    "    timeseries_std = []\n",
    "    \n",
    "    for i, folder in enumerate(datasets):\n",
    "    \n",
    "        data = load_data(folder)\n",
    "        centroids = data['centroids_atlas']\n",
    "        in_tectum = mask_tectum[centroids[:, 2], centroids[:, 1], centroids[:, 0]] > 0\n",
    "        dff_tectum = data['timeseries'][in_tectum]\n",
    "        dff_tectum = compute_dff_using_minfilter(dff_tectum, window=120, sigma1=3, sigma2=60)\n",
    "\n",
    "        timeseries_std.append(np.std(dff_tectum, axis=1))\n",
    "\n",
    "    return timeseries_std"
   ]
  },
  {
   "cell_type": "code",
   "execution_count": null,
   "id": "ce51f7ba-151e-481e-acda-714825b18d20",
   "metadata": {},
   "outputs": [],
   "source": [
    "def compute_correlations_from_data(sigma=0, smooth_nodes=False, noise_std=0):\n",
    "    \"\"\"\n",
    "    WARNING: Uses global variables defined outside the function. This function loops over all folders containing calcium imaging data, adds noise\n",
    "    to the time series, then maps neurons to tectal nodes before computing pairwise correlations between nodes. Returns FC matrices.\n",
    "    \"\"\"\n",
    "\n",
    "    FC_matrices = []\n",
    "    \n",
    "    for i, folder in enumerate(datasets):\n",
    "    \n",
    "        data = load_data(folder)\n",
    "        centroids = data['centroids_atlas']\n",
    "        \n",
    "        in_tectum = mask_tectum[centroids[:, 2], centroids[:, 1], centroids[:, 0]] > 0\n",
    "        centroids_tectum = centroids[in_tectum]\n",
    "        dff_tectum = data['timeseries'][in_tectum]\n",
    "        dff_tectum = compute_dff_using_minfilter(dff_tectum, window=120, sigma1=3, sigma2=60)\n",
    "        dff_tectum = dff_tectum + np.random.normal(0, noise_std, dff_tectum.shape)\n",
    "        dff_tectum = filter_timeseries(dff_tectum, 2)\n",
    "\n",
    "        if smooth_nodes == False:\n",
    "            if sigma != 0:\n",
    "                dff_tectum = spatial_smoothing(dff_tectum, centroids_tectum, sigma=sigma)\n",
    "    \n",
    "        nn, _ = find_nearest_neighbors(centroids_tectum, nodes_tectum)\n",
    "        node_timeseries = np.zeros((nodes_tectum.shape[0], dff_tectum.shape[1]))\n",
    "        for i in range(nodes_tectum.shape[0]):\n",
    "            neurons_in_node = (nn == i) # Neurons whose nearest neighbor corresponds to the tectum node i\n",
    "            if np.any(neurons_in_node):\n",
    "                if np.sum(neurons_in_node) == 1:\n",
    "                    node_timeseries[i] = dff_tectum[neurons_in_node]\n",
    "                else:\n",
    "                    node_timeseries[i] = np.mean(dff_tectum[neurons_in_node], axis=0)\n",
    "\n",
    "        if smooth_nodes:\n",
    "            if sigma != 0:\n",
    "                node_timeseries = spatial_smoothing(node_timeseries, nodes_tectum, sigma=sigma)   \n",
    "            \n",
    "        FC = np.corrcoef(node_timeseries)\n",
    "        FC_matrices.append(FC)\n",
    "    \n",
    "    FC_matrices = np.stack(FC_matrices, axis=0)\n",
    "    FC = np.nanmean(FC_matrices[:], axis=0)\n",
    "    FC[np.diag_indices(FC.shape[0])] = 0\n",
    "    \n",
    "    return FC, FC_matrices"
   ]
  },
  {
   "cell_type": "markdown",
   "id": "eb10e2ea-ee0e-4b94-98ca-015009141f4b",
   "metadata": {},
   "source": [
    "#### Evaluating noise level in data"
   ]
  },
  {
   "cell_type": "code",
   "execution_count": null,
   "id": "65da63a0-5d6c-470a-a074-166dabe414ff",
   "metadata": {},
   "outputs": [],
   "source": [
    "timeseries_std = compute_noise_from_data()"
   ]
  },
  {
   "cell_type": "code",
   "execution_count": null,
   "id": "2292b48d-245a-4720-bc71-2fe0cd158061",
   "metadata": {},
   "outputs": [],
   "source": [
    "timeseries_std =  np.concatenate(timeseries_std) # Making one distribution out of all the neurons"
   ]
  },
  {
   "cell_type": "markdown",
   "id": "d0099b24-21c6-4bff-aa94-c2f686f213bf",
   "metadata": {},
   "source": [
    "Plotting std distribution"
   ]
  },
  {
   "cell_type": "code",
   "execution_count": null,
   "id": "9f98c95e-d19c-4b1a-9762-c07ae4a319c0",
   "metadata": {},
   "outputs": [],
   "source": [
    "plt.hist(timeseries_std, bins=30, density=True)\n",
    "plt.xlabel('Fluorescence standard deviation')\n",
    "plt.ylabel('Density')\n",
    "plt.show()"
   ]
  },
  {
   "cell_type": "code",
   "execution_count": null,
   "id": "f9b94e15-1126-4058-b62e-7704ee9ce71c",
   "metadata": {},
   "outputs": [],
   "source": [
    "std = np.mean(timeseries_std)"
   ]
  },
  {
   "cell_type": "markdown",
   "id": "c0ed15b8-6d1c-4e26-95dd-d5058ab3f049",
   "metadata": {},
   "source": [
    "Taking the average standard deviation from all neurons."
   ]
  },
  {
   "cell_type": "markdown",
   "id": "273dbfb8-e329-4725-9391-eb9bd7c8b7d7",
   "metadata": {},
   "source": [
    "#### Computing eigenmode-gradient correlations for various noise levels"
   ]
  },
  {
   "cell_type": "code",
   "execution_count": null,
   "id": "57f9df71-dd25-41de-8e93-d2913930e9df",
   "metadata": {},
   "outputs": [],
   "source": [
    "# Loading tectum mask and nodes\n",
    "mask_tectum = atlas.get_region_mask(22)\n",
    "mask_tectum[:, :, :284] = 0\n",
    "nodes_tectum = np.load('../Files/nodes_tectum_right_sampled.npy')"
   ]
  },
  {
   "cell_type": "code",
   "execution_count": null,
   "id": "a88fd3e0-fb16-4acb-a41c-4c4e2e5720f8",
   "metadata": {},
   "outputs": [],
   "source": [
    "similarity_matrices = []\n",
    "\n",
    "noise_levels = std * np.linspace(0.5, 5, 10, endpoint=True) # Multiples of the average neuronal standard deviation\n",
    "\n",
    "for noise in tqdm(noise_levels):\n",
    "\n",
    "    # Repeating the noise addition process 10 times\n",
    "    similarity_matrices_ = []\n",
    "    for _ in range(10):\n",
    "        C, _ = compute_correlations_from_data(noise_std=noise)\n",
    "    \n",
    "        N_modes = C.shape[0]\n",
    "        gradients, _ = diffusion_mapping(np.abs(C), n_components=N_modes)\n",
    "        \n",
    "        vertices = np.load('../Files/tectum_vertices_right.npy') * 40\n",
    "        vertices = np.stack([vertices[:, 2], vertices[:, 1], vertices[:, 0]], axis=1)\n",
    "        eigenmodes = np.load('../Files/tectum_eigenmodes_right.npy')[1:]\n",
    "    \n",
    "        d = compute_distances(vertices, nodes_tectum)\n",
    "        eigenmodes = eigenmodes[:, np.argmin(d, axis=0)]\n",
    "        gradients, _ = diffusion_mapping(np.abs(C), n_components=C.shape[0])\n",
    "        \n",
    "        mode_similarity = compute_mode_similarity_matrix(eigenmodes[:30], gradients.T[:30])\n",
    "        \n",
    "        similarity_matrices_.append(mode_similarity)\n",
    "\n",
    "    similarity_matrices.append(similarity_matrices_)"
   ]
  },
  {
   "cell_type": "code",
   "execution_count": null,
   "id": "b0fee4a9-2e04-46f5-b266-efa835ae82b0",
   "metadata": {},
   "outputs": [],
   "source": [
    "np.save('../Results/supp_similarity_matrices_noise.npy', similarity_matrices)"
   ]
  },
  {
   "cell_type": "markdown",
   "id": "1a58d7bb-7bf4-4ccf-bae3-d2e02974eaab",
   "metadata": {},
   "source": [
    "Plotting eigenmode-gradient correlation matrices for varying noise levels"
   ]
  },
  {
   "cell_type": "code",
   "execution_count": null,
   "id": "a9deab00-6127-46eb-a57c-5981870cef8e",
   "metadata": {
    "scrolled": true
   },
   "outputs": [],
   "source": [
    "for m in similarity_matrices:\n",
    "    plt.figure(figsize=(5, 5), dpi=150)\n",
    "    plt.imshow(np.abs(m[0]), cmap='Reds', vmin=0.1, vmax=1)\n",
    "    plt.ylabel('Geometric modes')\n",
    "    plt.xlabel('Functional gradients')"
   ]
  },
  {
   "cell_type": "markdown",
   "id": "b10786c5-64d3-4671-873f-96c157c5fc7c",
   "metadata": {},
   "source": [
    "#### Influence of noise on the average eigenmode-gradient correlations"
   ]
  },
  {
   "cell_type": "code",
   "execution_count": null,
   "id": "4234b2fe-ce93-42ef-9b12-02fde70bf38f",
   "metadata": {},
   "outputs": [],
   "source": [
    "similarity_matrices = np.load('../Results/supp_similarity_matrices_noise.npy')\n",
    "\n",
    "noise_levels = std * np.linspace(0.5, 5, 10, endpoint=True)"
   ]
  },
  {
   "cell_type": "code",
   "execution_count": null,
   "id": "3d791378-a90f-4e95-bc7f-5e9202fea776",
   "metadata": {},
   "outputs": [],
   "source": [
    "r_curve = []\n",
    "for m in similarity_matrices:\n",
    "    r_curve_ = []\n",
    "    for m_ in m:\n",
    "        r_curve_.append(np.mean(np.diag(np.abs(m_))))\n",
    "    r_curve.append(r_curve_)\n",
    "r_curve = np.stack(r_curve, axis=1)"
   ]
  },
  {
   "cell_type": "code",
   "execution_count": null,
   "id": "b098e815-2935-4760-a52e-5dbc4dfe851b",
   "metadata": {},
   "outputs": [],
   "source": [
    "plt.imshow(r_curve)"
   ]
  },
  {
   "cell_type": "markdown",
   "id": "1467a0fb-02e8-4c94-9e93-eace17cb594a",
   "metadata": {},
   "source": [
    "Plotting average eigenmode-gradient correlation for various noise levels. Each black dot reflects one replicate of noise addition."
   ]
  },
  {
   "cell_type": "code",
   "execution_count": null,
   "id": "de417f6e-3188-4d14-ba13-8c7a30d09414",
   "metadata": {},
   "outputs": [],
   "source": [
    "plt.plot(noise_levels, np.mean(r_curve, axis=0), color='black')\n",
    "for i in range(r_curve.shape[1]):\n",
    "    r_values = r_curve[:, i]\n",
    "    plt.scatter([noise_levels[i]] * len(r_values), r_values, color='black')\n",
    "\n",
    "plt.axvline(np.mean(timeseries_std))"
   ]
  },
  {
   "cell_type": "markdown",
   "id": "8ec4770d-2435-4025-a0d7-d58999d76fa6",
   "metadata": {},
   "source": [
    "#### Influence of noise on identification of the geometric cutoff point"
   ]
  },
  {
   "cell_type": "code",
   "execution_count": null,
   "id": "c4572063-d86b-41ee-8a99-452ee500eb35",
   "metadata": {},
   "outputs": [],
   "source": [
    "from scipy.optimize import curve_fit\n",
    "\n",
    "def compute_r_squared(y_data, y_model):\n",
    "    ss_res = np.sum((y_data - y_model) ** 2)  # Residual sum of squares\n",
    "    ss_tot = np.sum((y_data - np.mean(y_data)) ** 2)  # Total sum of squares\n",
    "    r_squared = 1 - (ss_res / ss_tot)\n",
    "    return r_squared\n",
    "\n",
    "def piecewise_linear(x, x_break, slope, intercept):\n",
    "    y1 = slope * (x - x_break) + intercept\n",
    "    y2 = intercept\n",
    "    return np.where(x < x_break, y1, y2)\n",
    "\n",
    "def identify_mode_cutoff_from_matrix_diagonal(mode_similarity):\n",
    "    diagonal = np.diag(np.abs(mode_similarity))\n",
    "    x = np.arange(len(diagonal))\n",
    "    y = diagonal\n",
    "    initial_guess = [30, -1, 0]\n",
    "    params, _ = curve_fit(piecewise_linear, x, y, p0=initial_guess)\n",
    "    cutoff = int(np.round(params[0]))\n",
    "    return cutoff"
   ]
  },
  {
   "cell_type": "code",
   "execution_count": null,
   "id": "5ea1d7d9-587e-4a35-8cb1-8492a4cada03",
   "metadata": {},
   "outputs": [],
   "source": [
    "cutoff_points = []\n",
    "for m in similarity_matrices:\n",
    "    cutoff_points_ = []\n",
    "    for m_ in m:\n",
    "        cutoff_points_.append(identify_mode_cutoff_from_matrix_diagonal(m_))\n",
    "    cutoff_points.append(cutoff_points_)\n",
    "cutoff_points = np.stack(cutoff_points, axis=1)"
   ]
  },
  {
   "cell_type": "code",
   "execution_count": null,
   "id": "fa683798-9c93-4e5a-961b-db6d9195c825",
   "metadata": {},
   "outputs": [],
   "source": [
    "wavelengths = np.load('../Results/wavelengths_tectum.npy')"
   ]
  },
  {
   "cell_type": "code",
   "execution_count": null,
   "id": "babbeef5-d121-4bdf-b1d6-ce847d218bda",
   "metadata": {},
   "outputs": [],
   "source": [
    "cutoff_wavelengths = np.zeros(cutoff_points.shape)\n",
    "for i in range(cutoff_points.shape[0]):\n",
    "    for j in range(cutoff_points.shape[1]):\n",
    "        cutoff_wavelengths[i, j] = wavelengths[cutoff_points[i, j]]"
   ]
  },
  {
   "cell_type": "markdown",
   "id": "88225487-f2a3-481f-a9cb-f583e03eedcb",
   "metadata": {},
   "source": [
    "Plotting cutoff wavelengths vs noise level."
   ]
  },
  {
   "cell_type": "code",
   "execution_count": null,
   "id": "7888d57c-e42a-4466-832f-ae96f9cb0fd6",
   "metadata": {},
   "outputs": [],
   "source": [
    "plt.plot(noise_levels, np.mean(cutoff_wavelengths, axis=0))\n",
    "for i in range(cutoff_wavelengths.shape[1]):\n",
    "    values = cutoff_wavelengths[:, i]\n",
    "    plt.scatter([noise_levels[i]] * len(values), values, color='black')"
   ]
  },
  {
   "cell_type": "code",
   "execution_count": null,
   "id": "8ee4f162-0ce2-4c9e-af2e-83087a316dcb",
   "metadata": {},
   "outputs": [],
   "source": [
    "print(np.mean(cutoff_wavelengths[:, :3].flatten()), np.std(cutoff_wavelengths[:, :3].flatten()))"
   ]
  },
  {
   "cell_type": "code",
   "execution_count": null,
   "id": "b46fa62c-f586-452f-ae94-8f9be9750db4",
   "metadata": {},
   "outputs": [],
   "source": [
    "print(np.mean(cutoff_wavelengths.flatten()), np.std(cutoff_wavelengths.flatten()))"
   ]
  },
  {
   "cell_type": "markdown",
   "id": "0f725ba9-5ddb-4ee1-a704-1f9d285a1fee",
   "metadata": {},
   "source": [
    "Verifying over which range the change in cutoff point is non significant."
   ]
  },
  {
   "cell_type": "code",
   "execution_count": null,
   "id": "a9c7b9e3-ce16-44e4-b9d8-191339d19af2",
   "metadata": {},
   "outputs": [],
   "source": [
    "for i in range(3, 10):\n",
    "    print(f'Number of points: {i}')\n",
    "    data = []\n",
    "    for j in range(i):\n",
    "        data.append(cutoff_wavelengths[:, j])\n",
    "    groups_ANOVA_Tukey(data)"
   ]
  },
  {
   "cell_type": "markdown",
   "id": "94119bd0-31a3-4e11-911a-e9b9b57a1a69",
   "metadata": {},
   "source": [
    "Observing no group-wise difference in cutoff wavelengths for the first 6 levels of noise added to the data (3 standard deviations)."
   ]
  },
  {
   "cell_type": "markdown",
   "id": "6e8409b7-c376-4db1-9d0e-37b286db7812",
   "metadata": {},
   "source": [
    "# Rendering figure"
   ]
  },
  {
   "cell_type": "code",
   "execution_count": null,
   "id": "7fbd7db2-c8ea-4a1c-b0c5-abb1cf4bb8b6",
   "metadata": {},
   "outputs": [],
   "source": [
    "folder = datasets[0]\n",
    "    \n",
    "data = load_data(folder)\n",
    "centroids = data['centroids_atlas']\n",
    "in_tectum = mask_tectum[centroids[:, 2], centroids[:, 1], centroids[:, 0]] > 0\n",
    "dff_tectum = data['timeseries'][in_tectum]\n",
    "dff_tectum = compute_dff_using_minfilter(dff_tectum, window=120, sigma1=3, sigma2=60)\n",
    "order = np.flip(np.argsort(autocorr_timeseries(dff_tectum))) # Sorting neurons based on autocorrelation to find nice signals\n",
    "\n",
    "framerate = 1 / 2.004490057729\n",
    "t = np.arange(1200) * framerate\n",
    "\n",
    "mode_similarity = np.load('../Results/figure7_similarity_matrix.npy')\n",
    "r_empirical = np.mean(np.diag(np.abs(mode_similarity)))\n",
    "cutoff_empirical = identify_mode_cutoff_from_matrix_diagonal(mode_similarity)"
   ]
  },
  {
   "cell_type": "code",
   "execution_count": null,
   "id": "1bd7ffba-6c55-4a6d-92f8-b6eb860adc73",
   "metadata": {},
   "outputs": [],
   "source": [
    "fig = PaperFigure(figsize=(7, 1.5), dpi=600)\n",
    "\n",
    "fig.set_tick_length(1)\n",
    "fig.set_font_size(6)\n",
    "fig.add_background()\n",
    "\n",
    "# Adding panels -------------------------------\n",
    "\n",
    "for i in range(5):\n",
    "    fig.add_axes(f'timeseries_{i}', (0, i * 0.25), 3, 0.25)\n",
    "fig.add_axes('r_curve', (3.75, 0), 1.25, 1.25)\n",
    "fig.add_axes('wavelengths', (7 - 1.25, 0), 1.25, 1.25)\n",
    "\n",
    "fig.set_line_thickness(0.6)\n",
    "\n",
    "# Content -------------------------------------\n",
    "\n",
    "# Plotting example time series\n",
    "nice_timeseries = [14, 17,26, 36, 39, 55]\n",
    "for i in range(5):\n",
    "    ax = fig.axes[f'timeseries_{i}']\n",
    "    ax.plot(t, dff_tectum[order[nice_timeseries[i]]], color='black', linewidth=0.25)\n",
    "    noise = np.random.normal(0, 1 * std, (dff_tectum.shape[1], ))\n",
    "    ax.plot(t, dff_tectum[order[nice_timeseries[i]]] + noise, color='orange', linewidth=0.25, zorder=-10)\n",
    "    noise = np.random.normal(0, 3 * std, (dff_tectum.shape[1], ))\n",
    "    ax.plot(t, dff_tectum[order[nice_timeseries[i]]] + noise, color='red', linewidth=0.25, zorder=-20)\n",
    "\n",
    "    #ax.spines[['top', 'right']].set_visible(False)\n",
    "    ax.set_xlim([0, t[-1]])\n",
    "    ax.set_ylim([-5, 5])\n",
    "    ax.axis('off')\n",
    "\n",
    "# Plotting geometry-function |r| vs noise level\n",
    "ax = fig.axes['r_curve']\n",
    "ax.plot(np.concatenate([[0], noise_levels / std]), np.concatenate([[r_empirical], np.mean(r_curve, axis=0)]), color='red', linewidth=1)\n",
    "for i in range(r_curve.shape[1]):\n",
    "    r_values = r_curve[:, i]\n",
    "    ax.scatter([noise_levels[i] / std] * len(r_values), r_values, color='black', s=2, edgecolor='None')\n",
    "ax.spines[['top', 'right']].set_visible(False)\n",
    "ax.set_xticks([0, 1, 2, 3, 4, 5])\n",
    "ax.set_xlim([0, 5.2])\n",
    "\n",
    "# Plotting cutoff wavelength vs noise level\n",
    "ax = fig.axes['wavelengths']\n",
    "ax.plot(np.concatenate([[0], noise_levels / std]), np.concatenate([[wavelengths[cutoff_empirical]], np.mean(cutoff_wavelengths, axis=0)]), color='red', linewidth=1)\n",
    "for i in range(cutoff_wavelengths.shape[1]):\n",
    "    values = cutoff_wavelengths[:, i]\n",
    "    ax.scatter([noise_levels[i] / std] * len(values), values, color='black', edgecolor='None', s=2)\n",
    "ax.spines[['top', 'right']].set_visible(False)\n",
    "ax.set_xticks([0, 1, 2, 3, 4, 5])\n",
    "ax.set_xlim([0, 5.2])\n",
    "\n",
    "# Displaying ----------------------------------\n",
    "\n",
    "fig.save('../Figures/supp_noise_incomplete.svg')\n",
    "fig.show()"
   ]
  },
  {
   "cell_type": "markdown",
   "id": "416b6b25-8450-4a23-9f38-b253837351f0",
   "metadata": {},
   "source": [
    "#### Manually indicated values"
   ]
  },
  {
   "cell_type": "code",
   "execution_count": null,
   "id": "f423975a-58b0-4aca-b786-bd21ab5fb0ad",
   "metadata": {},
   "outputs": [],
   "source": [
    "np.mean(cutoff_wavelengths[:, :6])"
   ]
  },
  {
   "cell_type": "code",
   "execution_count": null,
   "id": "c384152d-c739-4670-8e71-dcff09db026f",
   "metadata": {},
   "outputs": [],
   "source": [
    "np.std(cutoff_wavelengths[:, :6])"
   ]
  },
  {
   "cell_type": "markdown",
   "id": "bbd73456-79fe-4238-83e7-9fdf5128b1c3",
   "metadata": {},
   "source": [
    "True cutoff wavelength"
   ]
  },
  {
   "cell_type": "code",
   "execution_count": null,
   "id": "e237a5c5-2fe5-4dd5-9792-08b800942322",
   "metadata": {},
   "outputs": [],
   "source": [
    "wavelengths[cutoff_empirical]"
   ]
  },
  {
   "cell_type": "code",
   "execution_count": null,
   "id": "b1ff3eaf-6b5d-45d0-9f5f-24bddc3657f0",
   "metadata": {},
   "outputs": [],
   "source": [
    "cutoff_empirical"
   ]
  },
  {
   "cell_type": "code",
   "execution_count": null,
   "id": "a3f90746-3aba-458d-a2d3-451246e83025",
   "metadata": {},
   "outputs": [],
   "source": []
  }
 ],
 "metadata": {
  "kernelspec": {
   "display_name": "Python 3 (ipykernel)",
   "language": "python",
   "name": "python3"
  },
  "language_info": {
   "codemirror_mode": {
    "name": "ipython",
    "version": 3
   },
   "file_extension": ".py",
   "mimetype": "text/x-python",
   "name": "python",
   "nbconvert_exporter": "python",
   "pygments_lexer": "ipython3",
   "version": "3.9.19"
  }
 },
 "nbformat": 4,
 "nbformat_minor": 5
}
