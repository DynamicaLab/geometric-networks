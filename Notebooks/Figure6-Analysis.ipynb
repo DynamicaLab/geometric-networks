{
 "cells": [
  {
   "cell_type": "markdown",
   "id": "ad55475b-fa5a-43f9-bf86-d26f559f0fc8",
   "metadata": {},
   "source": [
    "# Figure 6 - Analysis"
   ]
  },
  {
   "cell_type": "code",
   "execution_count": null,
   "id": "5639354c-7e56-4206-bbf2-7f54e9cdfbd1",
   "metadata": {},
   "outputs": [],
   "source": [
    "import sys\n",
    "sys.path.append(\"..\")\n",
    "\n",
    "from main import *\n",
    "from zebrafish import *\n",
    "\n",
    "from scipy.stats import zscore, spearmanr\n",
    "from scipy.stats import percentileofscore\n",
    "from brainsmash.mapgen.base import Base"
   ]
  },
  {
   "cell_type": "markdown",
   "id": "6442517e-1c3f-43fe-90b2-0cca9e5742b5",
   "metadata": {},
   "source": [
    "# Setting paths"
   ]
  },
  {
   "cell_type": "code",
   "execution_count": null,
   "id": "4caabc12-e8ba-4c2c-9f02-ddcb910ae581",
   "metadata": {},
   "outputs": [],
   "source": [
    "atlas_path = '/home/anleg84/Documents/Atlas/Mapzebrain/'\n",
    "\n",
    "atlas = Mapzebrain(atlas_path)\n",
    "mask_tectum = atlas.get_region_mask(22)\n",
    "mask_tectum[:, :, :284] = 0"
   ]
  },
  {
   "cell_type": "code",
   "execution_count": null,
   "id": "92350b82-768d-4f92-b208-c52ac8797bd7",
   "metadata": {},
   "outputs": [],
   "source": [
    "top_directory = '/media/anleg84/KINGSTON/Datasets/Geometry/'\n",
    "try:\n",
    "    datasets = identify_folders(top_directory, ['920nm'])\n",
    "except:\n",
    "    datasets = None"
   ]
  },
  {
   "cell_type": "markdown",
   "id": "107c34a5-2609-4622-b072-0853727d9ce8",
   "metadata": {},
   "source": [
    "# Validating which tectum nodes contain cells"
   ]
  },
  {
   "cell_type": "markdown",
   "id": "b40e0a80-ccc0-4a04-89c7-73ca51e5ac8c",
   "metadata": {},
   "source": [
    "Anatomical nodes within the optic tectum were computed beforehand in the `Figure6-Meshes.ipynb` notebook. Here we verify which anatomical positions within the tectum were appropriately sampled by the multiplane imaging across animals. Any nodes with poor sampling (that is, no imaged cells in at least 50% of animals) are excluded."
   ]
  },
  {
   "cell_type": "code",
   "execution_count": null,
   "id": "4f3c015c-18fe-4c8d-a538-00fd27880ac7",
   "metadata": {},
   "outputs": [],
   "source": [
    "compute = True\n",
    "nodes_tectum = np.load('../Files/nodes_tectum_right_400.npy') * 2\n",
    "\n",
    "if compute:\n",
    "\n",
    "    N_in_tectum = []\n",
    "    centroids_tectum = []\n",
    "    \n",
    "    for folder in tqdm(datasets):\n",
    "        \n",
    "        data = load_data(folder)\n",
    "        centroids = data['centroids_atlas']\n",
    "        in_tectum = mask_tectum[centroids[:, 2], centroids[:, 1], centroids[:, 0]] > 0\n",
    "        \n",
    "        N_in_tectum.append(np.sum(in_tectum))\n",
    "        centroids_tectum.append(centroids[in_tectum])\n",
    "    \n",
    "    vectors = []\n",
    "    for c in centroids_tectum:\n",
    "        nn, _ = find_nearest_neighbors(centroids_tectum[0], nodes_tectum)\n",
    "        vector = np.zeros((nodes_tectum.shape[0], ))\n",
    "        vector[np.unique(nn)] = 1\n",
    "        vectors.append(vector)\n",
    "    vectors = np.stack(vectors, axis=0)\n",
    "    \n",
    "    sampled = (np.sum(vectors > 0, axis=0) >= 0.5 * len(datasets)) # At least 1 neuron in 50% of animals\n",
    "    \n",
    "    np.save('../Files/nodes_tectum_right_sampled.npy', nodes_tectum[sampled])"
   ]
  },
  {
   "cell_type": "markdown",
   "id": "df2ddfda-0914-42a7-acff-78c03790f20d",
   "metadata": {},
   "source": [
    "# Computing tectal FC"
   ]
  },
  {
   "cell_type": "code",
   "execution_count": null,
   "id": "55379b47-d9f3-4855-8031-6eee7c1c41e2",
   "metadata": {},
   "outputs": [],
   "source": [
    "mask_tectum = atlas.get_region_mask(22)\n",
    "mask_tectum[:, :, :284] = 0 # Focusing on right hemisphere (x=284 is the saggital midplane)\n",
    "\n",
    "nodes_tectum = np.load('../Files/nodes_tectum_right_sampled.npy')\n",
    "print(nodes_tectum.shape)"
   ]
  },
  {
   "cell_type": "code",
   "execution_count": null,
   "id": "7442c13e-24e5-4bf4-8232-edb246ed9762",
   "metadata": {},
   "outputs": [],
   "source": [
    "N_neurons_in_tectum = []\n",
    "N_neurons_per_node = []"
   ]
  },
  {
   "cell_type": "markdown",
   "id": "31e19bb1-9eb8-479b-9ff0-ce5907c2ee4d",
   "metadata": {},
   "source": [
    "Here we load the time series from each animal, detrend and temporally filter them, map the neurons to tectal nodes, and finally compute pairwise correlations of node time series."
   ]
  },
  {
   "cell_type": "code",
   "execution_count": null,
   "id": "cd9e5d49-7d4d-421e-8ba1-9692e3dc9b06",
   "metadata": {},
   "outputs": [],
   "source": [
    "FC_matrices = []\n",
    "\n",
    "for i, folder in tqdm(enumerate(datasets)):\n",
    "    \n",
    "    data = load_data(folder)\n",
    "    \n",
    "    centroids = data['centroids_atlas']\n",
    "    \n",
    "    in_tectum = mask_tectum[centroids[:, 2], centroids[:, 1], centroids[:, 0]] > 0\n",
    "    centroids_tectum = centroids[in_tectum]\n",
    "    dff_tectum = data['timeseries'][in_tectum]\n",
    "    dff_tectum = compute_dff_using_minfilter(dff_tectum, window=120, sigma1=3, sigma2=60)\n",
    "    dff_tectum = filter_timeseries(dff_tectum, 2) # 1 second gaussian filter to reduce noise and improve correlations\n",
    "    N_neurons_in_tectum.append(dff_tectum.shape[0])\n",
    "\n",
    "    # Mapping neurons to tectal nodes\n",
    "    nn, _ = find_nearest_neighbors(centroids_tectum, nodes_tectum)\n",
    "    node_timeseries = np.zeros((nodes_tectum.shape[0], dff_tectum.shape[1]))\n",
    "    for i in range(nodes_tectum.shape[0]):\n",
    "        neurons_in_node = (nn == i) # Neurons whose nearest neighbor corresponds to the tectum node i\n",
    "        N_neurons_per_node.append(np.sum(neurons_in_node))\n",
    "        if np.any(neurons_in_node):\n",
    "            if np.sum(neurons_in_node) == 1:\n",
    "                node_timeseries[i] = dff_tectum[neurons_in_node]\n",
    "            else:\n",
    "                node_timeseries[i] = np.mean(dff_tectum[neurons_in_node], axis=0)\n",
    "\n",
    "    # Computing correlations\n",
    "    FC = np.corrcoef(node_timeseries)\n",
    "    FC_matrices.append(FC)\n",
    "\n",
    "FC_matrices = np.stack(FC_matrices, axis=0)"
   ]
  },
  {
   "cell_type": "markdown",
   "id": "d99663ea-048d-4bc0-9f9b-20553b6a8dc8",
   "metadata": {},
   "source": [
    "Printing the number of neurons in the right tectal hemisphere:"
   ]
  },
  {
   "cell_type": "code",
   "execution_count": null,
   "id": "1b7758e8-e774-4edc-a91b-2646860b8464",
   "metadata": {},
   "outputs": [],
   "source": [
    "print(np.mean(N_neurons_in_tectum), '+/-', np.std(N_neurons_in_tectum))"
   ]
  },
  {
   "cell_type": "markdown",
   "id": "5c69108d-aa0d-4ce8-9b00-48a8ccf7b259",
   "metadata": {},
   "source": [
    "Printing the number of neurons per tectum node:"
   ]
  },
  {
   "cell_type": "code",
   "execution_count": null,
   "id": "9a39c407-d1cf-4517-9a73-d1eab268c4b8",
   "metadata": {},
   "outputs": [],
   "source": [
    "print(np.mean(N_neurons_per_node), '+/-', np.std(N_neurons_per_node))"
   ]
  },
  {
   "cell_type": "markdown",
   "id": "c76dfcc9-31a4-4a08-ad7c-265d2d9bf96e",
   "metadata": {},
   "source": [
    "# FC vs distance"
   ]
  },
  {
   "cell_type": "markdown",
   "id": "904387f4-644c-4159-b5f1-893526b42842",
   "metadata": {},
   "source": [
    "Computing the correlation-distance relationship from the average FC matrix."
   ]
  },
  {
   "cell_type": "code",
   "execution_count": null,
   "id": "540c3cab-4bf9-4f5a-8a0f-87680b4192c1",
   "metadata": {},
   "outputs": [],
   "source": [
    "FC = np.nanmean(FC_matrices[:], axis=0)\n",
    "#FC = FC_matrices[9]\n",
    "FC[np.diag_indices(FC.shape[0])] = 0\n",
    "triangle = np.triu_indices(FC.shape[0], 1)"
   ]
  },
  {
   "cell_type": "code",
   "execution_count": null,
   "id": "7f30cb1e-69a1-42d5-82e8-82e51163e729",
   "metadata": {},
   "outputs": [],
   "source": [
    "d = compute_distances(nodes_tectum, nodes_tectum)"
   ]
  },
  {
   "cell_type": "code",
   "execution_count": null,
   "id": "b0cf5a64-c337-4b67-a407-9bb8dda8f123",
   "metadata": {},
   "outputs": [],
   "source": [
    "fig, ax = plt.subplots(figsize=(5, 5), dpi=150)\n",
    "ax.scatter(d[triangle], FC[triangle], alpha=0.1, color='black', edgecolor=None, s=1, rasterized=True)\n",
    "ax.set_xlabel('Distance (microns)')\n",
    "ax.set_ylabel('Correlation')\n",
    "ax.spines[['top', 'right']].set_visible(False)"
   ]
  },
  {
   "cell_type": "code",
   "execution_count": null,
   "id": "67b466d9-4126-42b5-8a48-1e84992e5a99",
   "metadata": {},
   "outputs": [],
   "source": [
    "np.save('../Results/figure6_scatter_distance.npy', np.stack([d[triangle], FC[triangle]], axis=0))"
   ]
  },
  {
   "cell_type": "code",
   "execution_count": null,
   "id": "50a17c76-3830-4340-9b97-9186784d6a0c",
   "metadata": {},
   "outputs": [],
   "source": [
    "spearmanr(d[triangle], FC[triangle])[0]"
   ]
  },
  {
   "cell_type": "markdown",
   "id": "aee78f72-1692-41a7-964b-c7c8420ad39d",
   "metadata": {},
   "source": [
    "# Tectal correlations"
   ]
  },
  {
   "cell_type": "code",
   "execution_count": null,
   "id": "8b6b34ef-d8aa-4774-bf77-65731d9181fa",
   "metadata": {},
   "outputs": [],
   "source": [
    "order = np.argsort(nodes_tectum[:, 1])"
   ]
  },
  {
   "cell_type": "code",
   "execution_count": null,
   "id": "25901662-2072-4e11-b511-5d25f5568b65",
   "metadata": {},
   "outputs": [],
   "source": [
    "plt.figure(figsize=(5, 5), dpi=150)\n",
    "plt.imshow(FC[order, :][:, order], vmin=-0.25, vmax=0.25, cmap='coolwarm')\n",
    "plt.xlabel('Node $j$')\n",
    "plt.ylabel('Node $i$')"
   ]
  },
  {
   "cell_type": "code",
   "execution_count": null,
   "id": "7004b826-0d32-4220-bb69-fa9fa8d1a76a",
   "metadata": {},
   "outputs": [],
   "source": [
    "np.save('../Results/figure6_tectum_correlations.npy', FC[order, :][:, order])"
   ]
  },
  {
   "cell_type": "markdown",
   "id": "207f3930-e8ca-42e8-b3e7-b7ac8cbd5361",
   "metadata": {},
   "source": [
    "Plotting tectal nodes on brain atlas."
   ]
  },
  {
   "cell_type": "code",
   "execution_count": null,
   "id": "0aed0f45-0745-45e4-a26a-eaf15446c0d2",
   "metadata": {},
   "outputs": [],
   "source": [
    "plt.figure(figsize=(10, 10))\n",
    "plt.imshow(atlas.XYprojection, cmap='gray')\n",
    "plt.scatter(nodes_tectum[:, 0], nodes_tectum[:, 1], s=5, c=nodes_tectum[:,1], edgecolor=None, cmap='rainbow')\n",
    "plt.axis('off')"
   ]
  },
  {
   "cell_type": "code",
   "execution_count": null,
   "id": "16c5e7a7-65d1-41fb-8b2d-a260926c1fe2",
   "metadata": {},
   "outputs": [],
   "source": [
    "plt.figure(figsize=(10, 10))\n",
    "plt.imshow(atlas.YZprojection, cmap='gray')\n",
    "plt.scatter(359 - nodes_tectum[:, 2], nodes_tectum[:, 1], s=5, c=nodes_tectum[:,1], edgecolor=None, cmap='rainbow')\n",
    "plt.axis('off')"
   ]
  },
  {
   "cell_type": "markdown",
   "id": "8ba7c557-adaa-4cc6-80f1-1a3805f56656",
   "metadata": {},
   "source": [
    "# Computing eigenmode-gradient correlations"
   ]
  },
  {
   "cell_type": "code",
   "execution_count": null,
   "id": "a3cda27c-1337-4cdc-b7f8-9e313d784938",
   "metadata": {},
   "outputs": [],
   "source": [
    "N_modes = FC.shape[0]\n",
    "gradients, _ = diffusion_mapping(np.abs(FC), n_components=N_modes)\n",
    "\n",
    "vertices = np.load('Files/tectum_vertices_right.npy') * 40\n",
    "vertices = np.stack([vertices[:, 2], vertices[:, 1], vertices[:, 0]], axis=1)\n",
    "eigenmodes = np.load('Files/tectum_eigenmodes_right.npy')[1:]"
   ]
  },
  {
   "cell_type": "code",
   "execution_count": null,
   "id": "81b5d006-f667-4ae5-8301-b3c34e35cd0c",
   "metadata": {},
   "outputs": [],
   "source": [
    "d = compute_distances(vertices, nodes_tectum)\n",
    "eigenmodes = eigenmodes[:, np.argmin(d, axis=0)]"
   ]
  },
  {
   "cell_type": "code",
   "execution_count": null,
   "id": "1cf7417c-d46b-4928-a4bc-a63be23944f7",
   "metadata": {},
   "outputs": [],
   "source": [
    "mode_similarity, mapping = compute_mode_similarity_matrix(eigenmodes[:30], gradients.T[:30], return_mapping=True)"
   ]
  },
  {
   "cell_type": "code",
   "execution_count": null,
   "id": "fe480865-f326-4602-bc47-daea2f564d2a",
   "metadata": {},
   "outputs": [],
   "source": [
    "np.mean(np.abs(np.diag(mode_similarity))[:10])"
   ]
  },
  {
   "cell_type": "code",
   "execution_count": null,
   "id": "132d1618-e74d-4bae-864b-259e57e9a82f",
   "metadata": {},
   "outputs": [],
   "source": [
    "np.save('../Results/figure6_similarity_matrix.npy', mode_similarity)\n",
    "np.save('../Results/figure6_mode_mapping.npy', mapping)"
   ]
  },
  {
   "cell_type": "code",
   "execution_count": null,
   "id": "a82a9978-7323-4353-9828-ce9db8611e9c",
   "metadata": {},
   "outputs": [],
   "source": [
    "plt.figure(figsize=(5, 5), dpi=150)\n",
    "\n",
    "plt.imshow(np.abs(mode_similarity), cmap='Reds', vmin=0.1, vmax=1)\n",
    "plt.ylabel('Geometric modes')\n",
    "plt.xlabel('Functional gradients')"
   ]
  },
  {
   "cell_type": "markdown",
   "id": "2c964abf-b65b-4ac5-89a3-01be73f243c0",
   "metadata": {},
   "source": [
    "#### Saving an extended version of the mode similarity matrix"
   ]
  },
  {
   "cell_type": "code",
   "execution_count": null,
   "id": "3744831a-8eb0-4a08-8001-1d712ff6d2b6",
   "metadata": {},
   "outputs": [],
   "source": [
    "mode_similarity_50, mapping_50 = compute_mode_similarity_matrix(eigenmodes[:50], gradients.T[:50], return_mapping=True)"
   ]
  },
  {
   "cell_type": "code",
   "execution_count": null,
   "id": "bf4cd181-5761-42fd-b0e9-1bc8f4bc49e7",
   "metadata": {},
   "outputs": [],
   "source": [
    "np.save('../Results/figure6_similarity_matrix_50.npy', mode_similarity_50)"
   ]
  },
  {
   "cell_type": "markdown",
   "id": "cf1bbb48-519a-4572-b53f-17b6ef6ec8ae",
   "metadata": {},
   "source": [
    "# Saving eigenmode and gradient figures"
   ]
  },
  {
   "cell_type": "markdown",
   "id": "915bd275-d10b-4451-8ef2-7e6bd132c93d",
   "metadata": {},
   "source": [
    "Pre-rendering 3D gradients and eigenmodes in .png format to embed in the multipanel figure later."
   ]
  },
  {
   "cell_type": "code",
   "execution_count": null,
   "id": "5f3b243c-31d3-4cec-b243-62ba1dc64aa9",
   "metadata": {},
   "outputs": [],
   "source": [
    "figures = []\n",
    "\n",
    "for i in range(30):\n",
    "    fig, ax = plt.subplots(subplot_kw={\"projection\": \"3d\"}, figsize=(2, 2), dpi=300)\n",
    "    ax.scatter(nodes_tectum[:, 0], nodes_tectum[:, 1], nodes_tectum[:, 2], c=np.sign(mode_similarity[i, i]) * gradients[:, mapping[i]], alpha=0.75, cmap='coolwarm', s=25, edgecolor='None')\n",
    "    ax.set_axis_off()\n",
    "    ax.set_ylim(ax.get_ylim()[::-1])\n",
    "    ax.set_zlim(ax.get_zlim()[::-1])\n",
    "    ax.view_init(elev=30, azim=55)\n",
    "    #plt.show()\n",
    "\n",
    "    fig_array = figure_to_array(fig)[120:440, 120:500, :]\n",
    "    figures.append(fig_array)\n",
    "    plt.close()"
   ]
  },
  {
   "cell_type": "code",
   "execution_count": null,
   "id": "5f291d3c-b834-4a3c-9086-84469d7d8338",
   "metadata": {},
   "outputs": [],
   "source": [
    "plt.imshow(figures[0])"
   ]
  },
  {
   "cell_type": "code",
   "execution_count": null,
   "id": "972b6577-4e4e-4a89-9b99-2ac23151dfbe",
   "metadata": {},
   "outputs": [],
   "source": [
    "np.save('../Results/figure6_tectal_gradients.npy', np.stack(figures, axis=0))"
   ]
  },
  {
   "cell_type": "code",
   "execution_count": null,
   "id": "97998614-a420-4d55-ad33-b77b4f68251d",
   "metadata": {},
   "outputs": [],
   "source": [
    "vertices = np.load('../Files/tectum_vertices_right.npy') * 40\n",
    "vertices = np.stack([vertices[:, 2], vertices[:, 1], vertices[:, 0]], axis=1)\n",
    "eigenmodes = np.load('../Files/tectum_eigenmodes_right.npy')[1:]"
   ]
  },
  {
   "cell_type": "code",
   "execution_count": null,
   "id": "b934fadd-8fb4-4d8c-ac65-ef8b3f4f0a08",
   "metadata": {},
   "outputs": [],
   "source": [
    "figures = []\n",
    "\n",
    "for i in range(30):\n",
    "    fig, ax = plt.subplots(subplot_kw={\"projection\": \"3d\"}, figsize=(2, 2), dpi=300)\n",
    "    ax.scatter(vertices[:, 0], vertices[:, 1], vertices[:, 2], c=eigenmodes[i], alpha=0.75, cmap='coolwarm', s=25, edgecolor='None')\n",
    "    ax.set_axis_off()\n",
    "    ax.set_ylim(ax.get_ylim()[::-1])\n",
    "    ax.set_zlim(ax.get_zlim()[::-1])\n",
    "    ax.view_init(elev=30, azim=55)\n",
    "    #plt.show()\n",
    "\n",
    "    fig_array = figure_to_array(fig)[120:440, 120:500, :]\n",
    "    figures.append(fig_array)\n",
    "    plt.close()"
   ]
  },
  {
   "cell_type": "code",
   "execution_count": null,
   "id": "07be38d9-5561-4865-9fa2-53e157421ec5",
   "metadata": {},
   "outputs": [],
   "source": [
    "plt.imshow(figures[0])"
   ]
  },
  {
   "cell_type": "code",
   "execution_count": null,
   "id": "e833cf8f-b5aa-4a34-b300-7abd3fb9ba1b",
   "metadata": {},
   "outputs": [],
   "source": [
    "np.save('../Results/figure6_tectal_eigenmodes.npy', np.stack(figures, axis=0))"
   ]
  },
  {
   "cell_type": "markdown",
   "id": "a804badc-7190-453a-a04e-1f4fffc8d9ad",
   "metadata": {},
   "source": [
    "# Null model for spatial statistics"
   ]
  },
  {
   "cell_type": "code",
   "execution_count": null,
   "id": "3f9e36c7-50d0-4f45-9c5c-9973dc35d51a",
   "metadata": {},
   "outputs": [],
   "source": [
    "def shuffle_vector_brainsmash(vector, distances, resample=True, n_iters=1):\n",
    "    base = Base(x=vector, D=distances, resample=resample)\n",
    "    surrogate = base(n=n_iters)\n",
    "    return surrogate\n",
    "\n",
    "def shuffle_vectors_brainsmash(vectors, distances, resample=True):\n",
    "    shuffled_vectors = []\n",
    "    for v in vectors:\n",
    "        base = Base(x=v, D=distances, resample=resample)\n",
    "        surrogate = base(n=1)\n",
    "        shuffled_vectors.append(surrogate)\n",
    "    return np.array(shuffled_vectors)"
   ]
  },
  {
   "cell_type": "code",
   "execution_count": null,
   "id": "baf64db1-12e3-4316-b7a1-c6f37a2addbc",
   "metadata": {},
   "outputs": [],
   "source": [
    "empirical_score = np.mean(np.abs(np.diag(mode_similarity))[:30])\n",
    "print(empirical_score)"
   ]
  },
  {
   "cell_type": "code",
   "execution_count": null,
   "id": "2ac56f7d-ba62-405c-90a5-9f16625ae720",
   "metadata": {},
   "outputs": [],
   "source": [
    "d = compute_distances(nodes_tectum, nodes_tectum)\n",
    "modes1, modes2 = eigenmodes[:30], gradients.T[:30]"
   ]
  },
  {
   "cell_type": "code",
   "execution_count": null,
   "id": "777c7534-f3a3-4439-85b7-8febf5308922",
   "metadata": {},
   "outputs": [],
   "source": [
    "null_similarity_matrices = []\n",
    "\n",
    "for _ in tqdm(range(1000)):\n",
    "    \n",
    "    shuffled_modes1 = shuffle_vectors_brainsmash(modes1, d, resample=False)\n",
    "    corrs_null, mapping = compute_mode_similarity_matrix(shuffled_modes1, modes2, return_mapping=True)\n",
    "    null_similarity_matrices.append(corrs_null)\n",
    "\n",
    "null_similarity_matrices = np.stack(null_similarity_matrices, axis=0)"
   ]
  },
  {
   "cell_type": "code",
   "execution_count": null,
   "id": "2e8cbb95-52c8-46ff-97ee-f567c5c60236",
   "metadata": {},
   "outputs": [],
   "source": [
    "np.save('../Results/null_similarity_scores_tectum.npy', null_similarity_matrices)"
   ]
  },
  {
   "cell_type": "code",
   "execution_count": null,
   "id": "31cfa65b-4824-4c1c-87d1-e0d8d3832d20",
   "metadata": {},
   "outputs": [],
   "source": [
    "null_scores = []\n",
    "for m in null_similarity_matrices:\n",
    "    null_scores.append(np.mean(np.abs(np.diag(m))[:30]))"
   ]
  },
  {
   "cell_type": "code",
   "execution_count": null,
   "id": "e21e7d4a-876d-4130-8785-ff725a9f95a5",
   "metadata": {},
   "outputs": [],
   "source": [
    "print(percentileofscore(null_scores, empirical_score))"
   ]
  },
  {
   "cell_type": "markdown",
   "id": "89b2e624-7ee3-4af7-820a-5cce3b4675d5",
   "metadata": {},
   "source": [
    "Here, we obtain that the empirical score (average eigenmode-gradient correlation) is in the 100th percentile over 1000 permutations, thus $P<0.001$."
   ]
  },
  {
   "cell_type": "code",
   "execution_count": null,
   "id": "4db85aa5-be5c-46c1-9406-b1d5104a0557",
   "metadata": {},
   "outputs": [],
   "source": [
    "plt.imshow(np.abs(null_similarity_matrices[0]), cmap='Reds', vmin=0.1, vmax=0.75)\n",
    "plt.ylabel('Geometric modes')\n",
    "plt.xlabel('Functional gradients')"
   ]
  },
  {
   "cell_type": "markdown",
   "id": "27d96f79-db57-43ac-bf1b-bb61e01f6686",
   "metadata": {},
   "source": [
    "# Extracting neuronal time series from one animal to save for figure"
   ]
  },
  {
   "cell_type": "markdown",
   "id": "d97ccbe4-b793-41a3-abb2-bcf3b04e1498",
   "metadata": {},
   "source": [
    "Uses [Rastermap](https://github.com/MouseLand/rastermap) to sort the neurons and make a nice looking plot."
   ]
  },
  {
   "cell_type": "code",
   "execution_count": null,
   "id": "765d6489-ff12-4b4f-b8eb-dbc78542f5ff",
   "metadata": {},
   "outputs": [],
   "source": [
    "from rastermap import Rastermap\n",
    "\n",
    "def compute_rastermap(timeseries, locality=0.5, time_lag_window=5, return_embedding=False):\n",
    "    model = Rastermap(locality=locality, time_lag_window=time_lag_window).fit(timeseries)\n",
    "    if return_embedding:\n",
    "        return model.embedding\n",
    "    else:\n",
    "        return model.isort"
   ]
  },
  {
   "cell_type": "markdown",
   "id": "4de73b6a-809d-4db4-8e76-50739e252e9a",
   "metadata": {},
   "source": [
    "##### Example planes"
   ]
  },
  {
   "cell_type": "code",
   "execution_count": null,
   "id": "a5a6f6ea-bf1b-40b5-b517-0dec59379b45",
   "metadata": {},
   "outputs": [],
   "source": [
    "data = load_data(datasets[0])\n",
    "planes = data['average_frames']\n",
    "np.save('../Results/figure6_imaging_planes.npy', planes)"
   ]
  },
  {
   "cell_type": "markdown",
   "id": "72b75006-8093-4b1c-ad3b-e100b77f658e",
   "metadata": {},
   "source": [
    "##### Example time series"
   ]
  },
  {
   "cell_type": "code",
   "execution_count": null,
   "id": "7b053b5a-9c1c-4a62-ac71-dff903315056",
   "metadata": {},
   "outputs": [],
   "source": [
    "# Example time series\n",
    "data = load_data(datasets[-3])\n",
    "centroids = data['centroids_atlas']\n",
    "in_tectum = mask_tectum[centroids[:, 2], centroids[:, 1], centroids[:, 0]] > 0\n",
    "centroids_tectum = centroids[in_tectum]\n",
    "dff_tectum = data['timeseries'][in_tectum]\n",
    "dff_tectum = compute_dff_using_minfilter(dff_tectum, window=60, sigma1=1, sigma2=30)\n",
    "dff_tectum = filter_timeseries(dff_tectum, 2)\n",
    "order = compute_rastermap(dff_tectum)\n",
    "dff_tectum = dff_tectum[order]\n",
    "\n",
    "np.save('../Results/figure6_timeseries.npy', dff_tectum)"
   ]
  },
  {
   "cell_type": "code",
   "execution_count": null,
   "id": "555c5cb2-c827-4216-9460-1802fb113222",
   "metadata": {},
   "outputs": [],
   "source": []
  }
 ],
 "metadata": {
  "kernelspec": {
   "display_name": "Python 3 (ipykernel)",
   "language": "python",
   "name": "python3"
  },
  "language_info": {
   "codemirror_mode": {
    "name": "ipython",
    "version": 3
   },
   "file_extension": ".py",
   "mimetype": "text/x-python",
   "name": "python",
   "nbconvert_exporter": "python",
   "pygments_lexer": "ipython3",
   "version": "3.9.19"
  }
 },
 "nbformat": 4,
 "nbformat_minor": 5
}
