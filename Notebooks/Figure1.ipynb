{
 "cells": [
  {
   "cell_type": "markdown",
   "id": "3ccb948c-7d02-4042-9e23-e909449ff61a",
   "metadata": {},
   "source": [
    "# Figure 1 - Analysis"
   ]
  },
  {
   "cell_type": "code",
   "execution_count": null,
   "id": "7230c890-accb-4159-b972-70ae4daa462f",
   "metadata": {},
   "outputs": [],
   "source": [
    "import sys\n",
    "sys.path.append(\"..\")\n",
    "\n",
    "from main import *\n",
    "\n",
    "plt.rcParams['font.size'] = 18"
   ]
  },
  {
   "cell_type": "markdown",
   "id": "3d943d01-e36f-4a62-9e78-1d1455994b76",
   "metadata": {},
   "source": [
    "# Simulating neuronal activity in ellipse geometry"
   ]
  },
  {
   "cell_type": "markdown",
   "id": "3c2311f7-824f-48fd-b2e1-ebde6f82c0c6",
   "metadata": {},
   "source": [
    "First, we run an example simulation of neurons within the ellipsoid geometry."
   ]
  },
  {
   "cell_type": "code",
   "execution_count": null,
   "id": "4a625152-06d9-4085-8b53-54a46bb770f4",
   "metadata": {},
   "outputs": [],
   "source": [
    "%matplotlib inline"
   ]
  },
  {
   "cell_type": "code",
   "execution_count": null,
   "id": "d234c231-ac39-4d1c-8a85-53ec02be3b81",
   "metadata": {},
   "outputs": [],
   "source": [
    "vertices = np.load('../Files/vertices_ellipse2.npy').astype('float')\n",
    "eigenmodes = np.load('../Files/eigenmodes_ellipse2.npy')\n",
    "\n",
    "ellipse = Geometry(vertices, eigenmodes)"
   ]
  },
  {
   "cell_type": "code",
   "execution_count": null,
   "id": "6b10bb89-8dfe-417e-8203-b8cb1717aac6",
   "metadata": {},
   "outputs": [],
   "source": [
    "params = {'N_neurons': 2500,\n",
    "          'h': 0.1,\n",
    "          'g': 5,\n",
    "          'tau': 3,\n",
    "          'dale': False\n",
    "          }\n",
    "\n",
    "np.random.seed(420)\n",
    "simulator = Simulator(ellipse,\n",
    "                      ChaoticRNN,\n",
    "                      params)\n",
    "\n",
    "simulator.integrate(1000, output=False)"
   ]
  },
  {
   "cell_type": "code",
   "execution_count": null,
   "id": "f3f0a50f-3c43-431a-901b-81cc59636e27",
   "metadata": {},
   "outputs": [],
   "source": [
    "%matplotlib inline\n",
    "simulator.plot(spacing=1.5)"
   ]
  },
  {
   "cell_type": "code",
   "execution_count": null,
   "id": "387be11a-6afb-4e64-965d-fa6a807e043c",
   "metadata": {},
   "outputs": [],
   "source": [
    "%matplotlib inline\n",
    "simulator.imshow(vmin=0, vmax=1)"
   ]
  },
  {
   "cell_type": "markdown",
   "id": "5b63d722-fdd4-44e1-994c-af0c9487109a",
   "metadata": {},
   "source": [
    "The animated ellipsoid dynamics can be visualized here (requires `PyQt5`)."
   ]
  },
  {
   "cell_type": "code",
   "execution_count": null,
   "id": "fb3e2e82-fcfe-4a76-a1d4-facdd6147ba5",
   "metadata": {},
   "outputs": [],
   "source": [
    "%matplotlib qt\n",
    "simulator.animate(alpha=0.75,\n",
    "                  cmap='hot',\n",
    "                  vmax=1.5)"
   ]
  },
  {
   "cell_type": "markdown",
   "id": "82e9181f-49d6-406d-99c6-2e1d036b2811",
   "metadata": {},
   "source": [
    "Next, we average the firing rate correlations of neurons over 100 simulations. "
   ]
  },
  {
   "cell_type": "code",
   "execution_count": null,
   "id": "15db3417-7b9a-4cf6-a4e9-1c942ff606c3",
   "metadata": {},
   "outputs": [],
   "source": [
    "C = simulator.compute_average_correlations(n_iters=100, T=1000)"
   ]
  },
  {
   "cell_type": "code",
   "execution_count": null,
   "id": "817ee8f1-c10d-4378-be57-e55610c4ee05",
   "metadata": {},
   "outputs": [],
   "source": [
    "%matplotlib inline\n",
    "plt.figure(figsize=(5, 5))\n",
    "plt.imshow(C, cmap='Reds', vmin=0.1, vmax=0.2, interpolation=None)"
   ]
  },
  {
   "cell_type": "markdown",
   "id": "80c7c6db-26e4-43c0-a6a1-151fbe5233de",
   "metadata": {},
   "source": [
    "Finally, we compute FC gradients and compare them to the geometric eigenmodes of the ellipsoid."
   ]
  },
  {
   "cell_type": "code",
   "execution_count": null,
   "id": "7cd7f4c3-98ad-49d3-9434-5a8f538def65",
   "metadata": {},
   "outputs": [],
   "source": [
    "mode_similarity, mapping, functional_gradients = simulator.compute_geometric_mapping(C, N_modes=20, return_gradients=True)"
   ]
  },
  {
   "cell_type": "code",
   "execution_count": null,
   "id": "3690c3ef-b6cb-44d0-8aa1-f1f675f5d3ed",
   "metadata": {},
   "outputs": [],
   "source": [
    "%matplotlib inline\n",
    "fig, ax = plt.subplots(figsize=(5, 5))\n",
    "cax = plt.imshow(np.abs(mode_similarity), cmap='Reds')\n",
    "plt.xlabel('Functional modes')\n",
    "plt.ylabel('Geometric modes')\n",
    "plt.colorbar(cax, ax=ax, fraction=0.045, pad=0.02)"
   ]
  },
  {
   "cell_type": "markdown",
   "id": "578ad44d-ef6e-4a6d-8ece-a94e5704e349",
   "metadata": {},
   "source": [
    "#### Rotating gradients"
   ]
  },
  {
   "cell_type": "markdown",
   "id": "655374b2-ebb4-4d6c-84b9-f68dda2a4e77",
   "metadata": {},
   "source": [
    "Here, we're rotating the gradients to properly align the different eigengroups (eigenmodes of similar wavelengths with different rotations) with their corresponding eigenmodes, simply for visual purposes. Due to the rotational symmetry of the ellipsoid, along with discretization effects of subsampling coordinates, there is no guarantee that gradients are rotationally aligned with eigenmodes. In practice, however, we avoid using this rotation procedure throughout the rest of the paper as it only marginally improves the eigenmode-gradient correlations, and requires extra computation time. We did it here to obtain a proper alignment for the figure, but similar results may have been obtained simply by reinitializing the random seed and picking one where gradients align nicely with eigenmodes. In other asymmetrical geometries (i.e. heart, cow), this procedure becomes useless."
   ]
  },
  {
   "cell_type": "code",
   "execution_count": null,
   "id": "aedebf11-1538-43a3-8063-8ae131afe79e",
   "metadata": {},
   "outputs": [],
   "source": [
    "coords, mode_similarity = find_optimal_rotation(simulator.geometry, functional_gradients)"
   ]
  },
  {
   "cell_type": "code",
   "execution_count": null,
   "id": "fc796266-abd7-495d-b4d4-a3cf404307ab",
   "metadata": {},
   "outputs": [],
   "source": [
    "%matplotlib inline\n",
    "fig, ax = plt.subplots(figsize=(5, 5))\n",
    "cax = plt.imshow(np.abs(mode_similarity), cmap='Reds')\n",
    "plt.xlabel('Functional modes')\n",
    "plt.ylabel('Geometric modes')\n",
    "plt.colorbar(cax, ax=ax, fraction=0.045, pad=0.02)"
   ]
  },
  {
   "cell_type": "code",
   "execution_count": null,
   "id": "4231b73f-113e-4b0b-9f3d-70fe523ef0f0",
   "metadata": {},
   "outputs": [],
   "source": [
    "save = False\n",
    "if save:\n",
    "    np.save('Files/figure1_timeseries.npy', simulator.timeseries)\n",
    "    np.save('Files/figure1_correlation_matrix.npy', C)\n",
    "    np.save('Files/figure1_mode_similarity.npy', mode_similarity)"
   ]
  },
  {
   "cell_type": "markdown",
   "id": "9262e325-17ec-4037-a4ef-2fc2063d5ed0",
   "metadata": {},
   "source": [
    "# Plotting ellipse with local connections"
   ]
  },
  {
   "cell_type": "markdown",
   "id": "5f107c2e-c738-4977-8d4e-3d2fc2451d56",
   "metadata": {},
   "source": [
    "Generating a `.png` image of locally connected neurons within the ellipsoid for Figure 1**b**. In general, 3D plots are annoying to work with and crop appropriately in multi-panel figures, so we opt to generate high-resolution `.png` images which we incorporate in the figures later."
   ]
  },
  {
   "cell_type": "code",
   "execution_count": null,
   "id": "0149fee8-ff3d-456e-9a7b-25ea400e3b11",
   "metadata": {},
   "outputs": [],
   "source": [
    "%matplotlib inline"
   ]
  },
  {
   "cell_type": "code",
   "execution_count": null,
   "id": "f017905a-194c-492c-8275-c43dc9500669",
   "metadata": {},
   "outputs": [],
   "source": [
    "simulator.coordinates -= np.mean(simulator.coordinates, axis=0)"
   ]
  },
  {
   "cell_type": "code",
   "execution_count": null,
   "id": "cc0be667-65c8-4148-8642-477b4f47156c",
   "metadata": {},
   "outputs": [],
   "source": [
    "W = np.abs(simulator.torch_to_numpy(simulator.dynamics.W))\n",
    "coords = simulator.coordinates\n",
    "coords += 0.5"
   ]
  },
  {
   "cell_type": "code",
   "execution_count": null,
   "id": "6c67b3ef-dfee-454e-9c2c-7a5b0a3f2a29",
   "metadata": {},
   "outputs": [],
   "source": [
    "i = 250\n",
    "\n",
    "neuron1 = 2500 - i\n",
    "targets1 = np.where(W[neuron1] > 0)[0]\n",
    "\n",
    "neuron2 = i\n",
    "targets2 = np.where(W[neuron2] > 0)[0]"
   ]
  },
  {
   "cell_type": "code",
   "execution_count": null,
   "id": "d1041064-425b-465b-8fd8-40806529d124",
   "metadata": {},
   "outputs": [],
   "source": [
    "red = plt.get_cmap('coolwarm')(250)\n",
    "blue = plt.get_cmap('coolwarm')(0)\n",
    "#red = 'red'\n",
    "#blue = 'blue'"
   ]
  },
  {
   "cell_type": "code",
   "execution_count": null,
   "id": "5a6aed1a-b663-422d-83d1-920210992295",
   "metadata": {},
   "outputs": [],
   "source": [
    "fig, ax = plt.subplots(subplot_kw={\"projection\": \"3d\"}, figsize=(5, 5), dpi=300)\n",
    "\n",
    "ax.scatter(coords[:, 0], coords[:, 1], coords[:, 2], color=[0.5, 0.5, 0.5], s=5, alpha=0.2, edgecolor='None', zorder=-10)\n",
    "ax.set_xlim([0, 1])\n",
    "ax.set_ylim([0, 1])\n",
    "ax.set_zlim([0, 1])\n",
    "\n",
    "ax.scatter(coords[neuron1, 0], coords[neuron1, 1], coords[neuron1, 2], color=red, s=25, alpha=1, edgecolor='None')\n",
    "ax.scatter(coords[targets1, 0], coords[targets1, 1], coords[targets1, 2], color=red, s=5, alpha=0.25, edgecolor='None')\n",
    "for target1 in targets1:\n",
    "    x = [coords[neuron1, 0], coords[target1, 0]]\n",
    "    y = [coords[neuron1, 1], coords[target1, 1]]\n",
    "    z = [coords[neuron1, 2], coords[target1, 2]]\n",
    "    ax.plot(x, y, z, color=red, linewidth=0.5, alpha=0.25)\n",
    "\n",
    "ax.scatter(coords[neuron2, 0], coords[neuron2, 1], coords[neuron2, 2], color=blue, s=25, alpha=1, edgecolor='None')\n",
    "ax.scatter(coords[targets2, 0], coords[targets2, 1], coords[targets2, 2], color=blue, s=5, alpha=0.25, edgecolor='None')\n",
    "for target2 in targets2:\n",
    "    x = [coords[neuron2, 0], coords[target2, 0]]\n",
    "    y = [coords[neuron2, 1], coords[target2, 1]]\n",
    "    z = [coords[neuron2, 2], coords[target2, 2]]\n",
    "    ax.plot(x, y, z, color=blue, linewidth=0.5, alpha=0.25)\n",
    "    \n",
    "ax.set_axis_off()\n",
    "\n",
    "plt.tight_layout(pad=0)\n",
    "plt.savefig('Figures/figure1_ellipse.png')\n",
    "plt.show()"
   ]
  },
  {
   "cell_type": "markdown",
   "id": "829fce72-446e-4a84-ae8b-7abf518eb6ab",
   "metadata": {},
   "source": [
    "Note that the random seed might highlight different neurons than what is shown in the paper."
   ]
  },
  {
   "cell_type": "markdown",
   "id": "41c15dd2-6e19-4d6f-a9e1-9957fd4a67be",
   "metadata": {},
   "source": [
    "# Plotting individual gradients"
   ]
  },
  {
   "cell_type": "markdown",
   "id": "80dce1c9-5863-4854-990d-2b933c4314d4",
   "metadata": {},
   "source": [
    "Next, we generate `.png` images of the FC gradients on the ellipse."
   ]
  },
  {
   "cell_type": "code",
   "execution_count": null,
   "id": "a1343811-f745-4c68-92c8-e815ce9e2b06",
   "metadata": {},
   "outputs": [],
   "source": [
    "%matplotlib inline"
   ]
  },
  {
   "cell_type": "code",
   "execution_count": null,
   "id": "31b6a921-8170-4388-a4d8-7b6df2df0ccf",
   "metadata": {
    "scrolled": true
   },
   "outputs": [],
   "source": [
    "for i in range(6):\n",
    "    fig, ax = plt.subplots(subplot_kw={\"projection\": \"3d\"}, figsize=(5, 5), dpi=300)\n",
    "    \n",
    "    ax.scatter(coords[:, 0], coords[:, 1], coords[:, 2], c=np.sign(mode_similarity[i, i]) * functional_gradients[mapping[i]], alpha=0.5, cmap='coolwarm', edgecolor='None')\n",
    "    ax.set_xlim([0, 1])\n",
    "    ax.set_ylim([0, 1])\n",
    "    ax.set_zlim([0, 1])\n",
    "        \n",
    "    ax.set_axis_off()\n",
    "    \n",
    "    plt.tight_layout(pad=0)\n",
    "    plt.savefig('../Figures/figure1_gradient{}.png'.format(i))\n",
    "    plt.show()\n"
   ]
  },
  {
   "cell_type": "markdown",
   "id": "38bf459a-f7be-4b1e-82b5-26657f1987f7",
   "metadata": {},
   "source": [
    "# Plotting individual eigenmodes"
   ]
  },
  {
   "cell_type": "markdown",
   "id": "6e3e2c6f-bce7-486b-ac3c-3f784341d40c",
   "metadata": {},
   "source": [
    "Next, we generate `.png` images of the eigenmodes on the ellipse."
   ]
  },
  {
   "cell_type": "code",
   "execution_count": null,
   "id": "e01707c1-ed3e-4438-bee3-777f81e764f0",
   "metadata": {},
   "outputs": [],
   "source": [
    "%matplotlib inline"
   ]
  },
  {
   "cell_type": "code",
   "execution_count": null,
   "id": "05b469f5-d0ce-4f3f-b783-77fc19a3e02e",
   "metadata": {},
   "outputs": [],
   "source": [
    "vertices -= np.mean(vertices, axis=0)\n",
    "vertices += 0.5"
   ]
  },
  {
   "cell_type": "code",
   "execution_count": null,
   "id": "91f1fb65-6853-4463-98ba-3877977e2738",
   "metadata": {
    "scrolled": true
   },
   "outputs": [],
   "source": [
    "for i in range(6):\n",
    "    fig, ax = plt.subplots(subplot_kw={\"projection\": \"3d\"}, figsize=(5, 5), dpi=300)\n",
    "    \n",
    "    ax.scatter(vertices[:, 0], vertices[:, 1], vertices[:, 2], c=eigenmodes[:, i + 1], alpha=0.5, cmap='coolwarm', edgecolor='None')\n",
    "    ax.set_xlim([0, 1])\n",
    "    ax.set_ylim([0, 1])\n",
    "    ax.set_zlim([0, 1])\n",
    "        \n",
    "    ax.set_axis_off()\n",
    "    \n",
    "    plt.tight_layout(pad=0)\n",
    "    plt.savefig('../Figures/figure1_eigenmodes{}.png'.format(i))\n",
    "    plt.show()"
   ]
  },
  {
   "cell_type": "markdown",
   "id": "91c16ed2-3f81-4f8e-9053-ec2cf670dd10",
   "metadata": {},
   "source": [
    "# Generating Figure 1"
   ]
  },
  {
   "cell_type": "markdown",
   "id": "adae8e39-9fa5-4d99-ab51-308bf6c96f19",
   "metadata": {},
   "source": [
    "Finally, we incorporate all the previous elements to generate Figure 1."
   ]
  },
  {
   "cell_type": "code",
   "execution_count": null,
   "id": "e9e9b779-705f-48ee-8c7d-6eb04c21d3c4",
   "metadata": {},
   "outputs": [],
   "source": [
    "from PIL import Image\n",
    "from visualization import *"
   ]
  },
  {
   "cell_type": "code",
   "execution_count": null,
   "id": "f88f59a3-057e-45be-8adf-630e0aff5b8b",
   "metadata": {},
   "outputs": [],
   "source": [
    "R = np.load('Files/figure1_timeseries.npy')[:, :700] # Truncating for visualization\n",
    "C = np.load('Files/figure1_correlation_matrix.npy')\n",
    "mode_similarity = np.load('Files/figure1_mode_similarity.npy')"
   ]
  },
  {
   "cell_type": "code",
   "execution_count": null,
   "id": "431ab53a-841b-496a-bea9-91985507fe06",
   "metadata": {},
   "outputs": [],
   "source": [
    "fig = PaperFigure(figsize=(7, 5), dpi=600)\n",
    "\n",
    "fig.set_tick_length(1)\n",
    "fig.set_font_size(6)\n",
    "fig.add_background()\n",
    "\n",
    "# Adding panels -------------------------------\n",
    "\n",
    "fig.add_axes('ellipse1', (1.25, 0), 1.125, 1.5)\n",
    "fig.add_axes('timeseries', (2.75, 0), 2.25, 1.5)\n",
    "fig.add_axes('correlations', (5.5, 0), 1.5, 1.5)\n",
    "\n",
    "y = 1.8\n",
    "w = 0.65\n",
    "pad = (5 - 6 * w) / 5\n",
    "ratio = 1.6\n",
    "for i in range(6):\n",
    "    fig.add_axes(f'gradient{i+1}', (i * (w + pad), y), w, ratio * w)\n",
    "    fig.add_axes(f'mode{i+1}', (i * (w + pad), y + ratio * w), w, ratio * w)\n",
    "\n",
    "fig.add_axes('curve', (5.5, y), 1.5, 0.5)\n",
    "fig.add_axes('correlations_modes', (5.5, y + 0.6), 1.5, 1.5)\n",
    "\n",
    "fig.set_line_thickness(0.6)\n",
    "\n",
    "# Content -------------------------------------\n",
    "\n",
    "ax = fig.axes['ellipse1']\n",
    "image = np.array(Image.open('Figures/figure1_ellipse.png'))[:, :, :3]\n",
    "ax.imshow(image, aspect='auto')\n",
    "center = 730\n",
    "ax.set_xlim([center - 250, center + 250])\n",
    "ax.set_ylim([center - 350, center + 300])\n",
    "ax.set_xticks([])\n",
    "ax.set_yticks([])\n",
    "ax.axis('off')\n",
    "\n",
    "ax = fig.axes['timeseries']\n",
    "for i in range(25):\n",
    "    if i == 0:\n",
    "        maxval = np.max(R[i])\n",
    "    if i == 24:\n",
    "        minval = np.min(R[i] - 3 * i)\n",
    "    ax.plot(R[i] - 3 * i, color='black', linewidth=0.4)\n",
    "ax.set_xlim([0, R.shape[1]])\n",
    "ax.set_xticks([])\n",
    "ax.set_yticks([])\n",
    "ax.set_ylim(minval - 0.25, maxval + 0.25)\n",
    "ax.axis('off')\n",
    "\n",
    "ax = fig.axes['correlations']\n",
    "ax.imshow(C, cmap='Reds', vmin=0.05, vmax=0.2)\n",
    "ax.set_xticks([])\n",
    "ax.set_yticks([])\n",
    "\n",
    "ax = fig.axes['curve']\n",
    "y = np.abs(np.diag(mode_similarity))\n",
    "#for i in range(20):\n",
    "#    ax.scatter(i, y[i], color='black', s=2)\n",
    "#    ax.plot([i, i], [0, y[i]], color='black', linewidth=1)\n",
    "x = np.arange(20)\n",
    "ax.bar(x[y > 0.5], y[y > 0.5], color='white', edgecolor='black', linewidth=0.5, width=1)\n",
    "ax.bar(x[y < 0.5], y[y < 0.5], color=[1, 0.75, 0.75], edgecolor='black', linewidth=0.5, width=1)\n",
    "\n",
    "ax.plot([-10, 30], [0.5, 0.5], color='black', linewidth=0.5, linestyle='--')\n",
    "ax.set_xticks([])\n",
    "ax.set_ylim([0, 1.1])\n",
    "ax.spines[['top', 'right']].set_visible(False)\n",
    "ax.set_xlim([-0.5, 19.5])\n",
    "\n",
    "ax = fig.axes['correlations_modes']\n",
    "ax.imshow(np.abs(mode_similarity), cmap='Reds', vmin=0, vmax=1)\n",
    "ax.set_xticks([])\n",
    "ax.set_yticks([])\n",
    "\n",
    "keys = ['gradient1', 'gradient2', 'gradient3', 'gradient4', 'gradient5', 'gradient6']\n",
    "for i, key in enumerate(keys):\n",
    "    ax = fig.axes[key]\n",
    "    image = np.array(Image.open('Figures/figure1_gradient{}.png'.format(i)))[:, :, :3]\n",
    "    ax.imshow(image, aspect='auto')\n",
    "    center = 770\n",
    "    ax.set_xlim([center - 250, center + 250])\n",
    "    ax.set_ylim([center + 400, center - 370])\n",
    "    ax.set_xticks([])\n",
    "    ax.set_yticks([])\n",
    "    ax.axis('off')\n",
    "\n",
    "keys = ['mode1', 'mode2', 'mode3', 'mode4', 'mode5', 'mode6']\n",
    "for i, key in enumerate(keys):\n",
    "    ax = fig.axes[key]\n",
    "    image = np.array(Image.open('Figures/figure1_eigenmodes{}.png'.format(i)))[:, :, :3]\n",
    "    ax.imshow(image, aspect='auto')\n",
    "    center = 770\n",
    "    ax.set_xlim([center - 250, center + 250])\n",
    "    ax.set_ylim([center + 320, center - 450])\n",
    "    ax.set_xticks([])\n",
    "    ax.set_yticks([])\n",
    "    ax.axis('off')\n",
    "\n",
    "# Displaying ----------------------------------\n",
    "\n",
    "fig.show()"
   ]
  },
  {
   "cell_type": "code",
   "execution_count": null,
   "id": "24d2be80-1c20-40c9-8932-172c4270dc7b",
   "metadata": {},
   "outputs": [],
   "source": [
    "fig.save('../Figures/figure1_incomplete.svg')"
   ]
  },
  {
   "cell_type": "markdown",
   "id": "8df05552-066d-4f6f-b35d-534dab7340fe",
   "metadata": {},
   "source": [
    "Labels are manually added in `Inkscape`."
   ]
  }
 ],
 "metadata": {
  "kernelspec": {
   "display_name": "Python 3 (ipykernel)",
   "language": "python",
   "name": "python3"
  },
  "language_info": {
   "codemirror_mode": {
    "name": "ipython",
    "version": 3
   },
   "file_extension": ".py",
   "mimetype": "text/x-python",
   "name": "python",
   "nbconvert_exporter": "python",
   "pygments_lexer": "ipython3",
   "version": "3.9.19"
  }
 },
 "nbformat": 4,
 "nbformat_minor": 5
}
