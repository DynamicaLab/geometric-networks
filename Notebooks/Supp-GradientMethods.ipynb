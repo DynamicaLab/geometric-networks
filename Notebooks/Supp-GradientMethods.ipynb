{
 "cells": [
  {
   "cell_type": "markdown",
   "id": "cfb25edd-6279-48ba-ac96-0a44a597d69d",
   "metadata": {},
   "source": [
    "# Supplementary: Comparing different gradient derivation methods"
   ]
  },
  {
   "cell_type": "markdown",
   "id": "3ea95c18-1784-4738-9336-2864e27d7095",
   "metadata": {},
   "source": [
    "Related to Supplementary Figure S3"
   ]
  },
  {
   "cell_type": "code",
   "execution_count": null,
   "id": "9208c766-4550-47cc-b240-bd08c07aedb8",
   "metadata": {},
   "outputs": [],
   "source": [
    "import sys\n",
    "sys.path.append(\"..\")\n",
    "\n",
    "from main import *\n",
    "\n",
    "from numba import njit\n",
    "\n",
    "if torch.cuda.is_available():  \n",
    "    device = \"cuda:0\" \n",
    "else:  \n",
    "    device = \"cpu\" \n",
    "    \n",
    "print(device)"
   ]
  },
  {
   "cell_type": "code",
   "execution_count": null,
   "id": "696f6076-4867-4879-966d-ed214f10b6fa",
   "metadata": {},
   "outputs": [],
   "source": [
    "from scipy.spatial.distance import pdist, squareform\n",
    "\n",
    "def correlate_timeseries(A, B):\n",
    "    A_mean = A.mean(axis=1, keepdims=True)\n",
    "    B_mean = B.mean(axis=1, keepdims=True)\n",
    "    A_std = A.std(axis=1, keepdims=True)\n",
    "    B_std = B.std(axis=1, keepdims=True)\n",
    "    A_norm = (A - A_mean) / A_std\n",
    "    B_norm = (B - B_mean) / B_std\n",
    "    return (A_norm @ B_norm.T) / A.shape[1]\n",
    "\n",
    "def eta_squared_signals(a, b):\n",
    "    m = (a + b) / 2\n",
    "    M = np.mean(m)\n",
    "    numerator = np.sum(((a - m) ** 2) + ((b - m) ** 2))\n",
    "    denominator = np.sum(((a - M) ** 2) + ((b - M) ** 2))\n",
    "    return 1 - (numerator / denominator)\n",
    "\n",
    "def eta_squared(A):\n",
    "    similarity = np.zeros((A.shape[0], A.shape[0]))\n",
    "    for i in range(similarity.shape[0]):\n",
    "        for j in range(similarity.shape[1]):\n",
    "            similarity[i, j] = eta_squared_signals(A[i], A[j])\n",
    "    return similarity\n",
    "\n",
    "def cosine_similarity(x, normalized=False):\n",
    "    cs = 1 - squareform(pdist(x, metric='cosine'))\n",
    "    if normalized:\n",
    "        ncs = 1 - np.arccos(cs, cs) / np.pi\n",
    "        return ncs\n",
    "    else:\n",
    "        return cs"
   ]
  },
  {
   "cell_type": "markdown",
   "id": "b18c0f62-cd7b-4c0c-8564-4ad5f78d9483",
   "metadata": {},
   "source": [
    "## Method 1: Changing the $\\alpha$ parameter of the Diffusion Eigenmaps method"
   ]
  },
  {
   "cell_type": "code",
   "execution_count": null,
   "id": "84ffec60-ab82-40f0-a192-f23e22b60bc9",
   "metadata": {},
   "outputs": [],
   "source": [
    "vertices = np.load('../Files/vertices_ellipse.npy').astype('float')\n",
    "eigenmodes = np.load('../Files/eigenmodes_ellipse.npy')\n",
    "\n",
    "ellipse = Geometry(vertices, eigenmodes)"
   ]
  },
  {
   "cell_type": "markdown",
   "id": "3ae1168a-df0a-4bf4-9c6c-9a9eff80228e",
   "metadata": {},
   "source": [
    "#### $\\alpha=0$"
   ]
  },
  {
   "cell_type": "code",
   "execution_count": null,
   "id": "044cfed4-400a-4ed1-8271-b21ddfdf407a",
   "metadata": {},
   "outputs": [],
   "source": [
    "params = {'N_neurons': 1500,\n",
    "          'h': 0.1,\n",
    "          'g': 3,\n",
    "          'tau': 3,\n",
    "          'dale': False\n",
    "          }\n",
    "\n",
    "mode_similarity_matrices_alpha0 = []\n",
    "\n",
    "for _ in range(10):\n",
    "\n",
    "    simulator = Simulator(ellipse,\n",
    "                          ChaoticRNN,\n",
    "                          params)\n",
    "    simulator.integrate(1000, output=False)\n",
    "    C = simulator.compute_average_correlations(n_iters=100, T=500)\n",
    "    mode_similarity, _ = simulator.compute_geometric_mapping(C, alpha=0)\n",
    "    mode_similarity_matrices_alpha0.append(mode_similarity)\n",
    "\n",
    "mode_similarity_matrices_alpha0 = np.stack(mode_similarity_matrices_alpha0, axis=0)"
   ]
  },
  {
   "cell_type": "code",
   "execution_count": null,
   "id": "b573b440-ae1a-4496-8d4b-107d3bfa105b",
   "metadata": {},
   "outputs": [],
   "source": [
    "plt.imshow(np.mean(np.abs(mode_similarity_matrices_alpha0), axis=0), cmap='Reds', vmin=0, vmax=1)"
   ]
  },
  {
   "cell_type": "code",
   "execution_count": null,
   "id": "052847f3-5511-4fa5-8f98-1696bfe090ca",
   "metadata": {},
   "outputs": [],
   "source": [
    "np.save('../Results/supp_methods_similarity_alpha0.npy', np.mean(np.abs(mode_similarity_matrices_alpha0), axis=0))"
   ]
  },
  {
   "cell_type": "markdown",
   "id": "e73e3632-f6fb-46bc-896c-dbbcf90a8573",
   "metadata": {},
   "source": [
    "#### $\\alpha=0.5$"
   ]
  },
  {
   "cell_type": "code",
   "execution_count": null,
   "id": "377e535e-9dc8-47ff-9a51-a10fd48f4282",
   "metadata": {},
   "outputs": [],
   "source": [
    "params = {'N_neurons': 1500,\n",
    "          'h': 0.1,\n",
    "          'g': 3,\n",
    "          'tau': 3,\n",
    "          'dale': False\n",
    "          }\n",
    "\n",
    "mode_similarity_matrices_alpha05 = []\n",
    "\n",
    "for _ in range(10):\n",
    "\n",
    "    simulator = Simulator(ellipse,\n",
    "                          ChaoticRNN,\n",
    "                          params)\n",
    "    simulator.integrate(1000, output=False)\n",
    "    C = simulator.compute_average_correlations(n_iters=100, T=500)\n",
    "    mode_similarity, _ = simulator.compute_geometric_mapping(C, alpha=0.5)\n",
    "    mode_similarity_matrices_alpha05.append(mode_similarity)\n",
    "\n",
    "mode_similarity_matrices_alpha05 = np.stack(mode_similarity_matrices_alpha05, axis=0)"
   ]
  },
  {
   "cell_type": "code",
   "execution_count": null,
   "id": "c6ac2b9e-c1e3-4f0e-9f6a-892068c86373",
   "metadata": {},
   "outputs": [],
   "source": [
    "plt.imshow(np.mean(np.abs(mode_similarity_matrices_alpha05), axis=0), cmap='Reds', vmin=0, vmax=1)"
   ]
  },
  {
   "cell_type": "code",
   "execution_count": null,
   "id": "6271c4bd-0f7d-4cc9-947c-6591c4a797d1",
   "metadata": {},
   "outputs": [],
   "source": [
    "np.save('../Results/supp_methods_similarity_alpha05.npy', np.mean(np.abs(mode_similarity_matrices_alpha05), axis=0))"
   ]
  },
  {
   "cell_type": "markdown",
   "id": "2d6eb58f-2a35-49b3-9169-f66f5c35b709",
   "metadata": {},
   "source": [
    "#### $\\alpha=1.0$"
   ]
  },
  {
   "cell_type": "code",
   "execution_count": null,
   "id": "9cec5df4-5435-4d61-817c-062d7f1694e3",
   "metadata": {},
   "outputs": [],
   "source": [
    "params = {'N_neurons': 1500,\n",
    "          'h': 0.1,\n",
    "          'g': 3,\n",
    "          'tau': 3,\n",
    "          'dale': False\n",
    "          }\n",
    "\n",
    "mode_similarity_matrices_alpha1 = []\n",
    "\n",
    "for _ in range(10):\n",
    "\n",
    "    simulator = Simulator(ellipse,\n",
    "                          ChaoticRNN,\n",
    "                          params)\n",
    "    simulator.integrate(1000, output=False)\n",
    "    C = simulator.compute_average_correlations(n_iters=100, T=500)\n",
    "    mode_similarity, _ = simulator.compute_geometric_mapping(C, alpha=1)\n",
    "    mode_similarity_matrices_alpha1.append(mode_similarity)\n",
    "\n",
    "mode_similarity_matrices_alpha1 = np.stack(mode_similarity_matrices_alpha1, axis=0)"
   ]
  },
  {
   "cell_type": "code",
   "execution_count": null,
   "id": "054eb794-bb05-4917-901b-bef87cd6627b",
   "metadata": {},
   "outputs": [],
   "source": [
    "plt.imshow(np.mean(np.abs(mode_similarity_matrices_alpha1), axis=0), cmap='Reds', vmin=0, vmax=1)"
   ]
  },
  {
   "cell_type": "code",
   "execution_count": null,
   "id": "17de2016-7820-403c-933b-4e89fca54017",
   "metadata": {},
   "outputs": [],
   "source": [
    "np.save('../Results/supp_methods_similarity_alpha1.npy', np.mean(np.abs(mode_similarity_matrices_alpha1), axis=0))\n",
    "np.save('../Results/supp_methods_corr_firingrates.npy', C)"
   ]
  },
  {
   "cell_type": "markdown",
   "id": "01b2db77-da0f-48ce-813d-b7c87cbe93bb",
   "metadata": {},
   "source": [
    "## Method 2: Connectopic mapping of internal connectivity profiles"
   ]
  },
  {
   "cell_type": "code",
   "execution_count": null,
   "id": "fe018f74-51e9-4954-8b02-4d7501e87b14",
   "metadata": {},
   "outputs": [],
   "source": [
    "params = {'N_neurons': 1500,\n",
    "          'h': 0.1,\n",
    "          'g': 3,\n",
    "          'tau': 3,\n",
    "          'dale': False\n",
    "          }\n",
    "\n",
    "mode_similarity_matrices_connectopic1 = []\n",
    "\n",
    "for _ in range(10):\n",
    "\n",
    "    simulator = Simulator(ellipse,\n",
    "                          ChaoticRNN,\n",
    "                          params)\n",
    "    matrices = []\n",
    "    for _ in tqdm(range(100)):\n",
    "        simulator.reinitialize_dynamics(new_coordinates=False)\n",
    "        simulator.integrate(500, output=False)\n",
    "        timeseries = simulator.timeseries\n",
    "        C = np.corrcoef(timeseries)\n",
    "        C_sim = np.corrcoef(C)\n",
    "        C_sim[np.diag_indices(C_sim.shape[0])] = 0\n",
    "        matrices.append(C_sim)\n",
    "    matrices = np.stack(matrices, axis=0)\n",
    "    C = np.mean(np.abs(matrices), axis=0)\n",
    "    mode_similarity_connectopic, _ = simulator.compute_geometric_mapping(C, alpha=0.5)\n",
    "    mode_similarity_matrices_connectopic1.append(mode_similarity_connectopic)\n",
    "\n",
    "mode_similarity_matrices_connectopic1 = np.stack(mode_similarity_matrices_connectopic1, axis=0)"
   ]
  },
  {
   "cell_type": "code",
   "execution_count": null,
   "id": "81184d69-68c0-414e-8d9d-3274d9e2cc7a",
   "metadata": {},
   "outputs": [],
   "source": [
    "plt.imshow(np.mean(np.abs(mode_similarity_matrices_connectopic1), axis=0), cmap='Reds', vmin=0, vmax=1)"
   ]
  },
  {
   "cell_type": "code",
   "execution_count": null,
   "id": "ce7f43d3-f4ff-4d0b-b9bc-32bc2f2acc2c",
   "metadata": {},
   "outputs": [],
   "source": [
    "np.save('../Results/supp_methods_similarity_connectopic1.npy', np.mean(np.abs(mode_similarity_matrices_connectopic1), axis=0))\n",
    "np.save('../Results/supp_methods_corr_firingrates_connectopic.npy', np.corrcoef(timeseries))\n",
    "np.save('../Results/supp_methods_profile_similarity.npy', C)"
   ]
  },
  {
   "cell_type": "markdown",
   "id": "8b342f51-016b-4dfa-aa93-fe9ec2be7771",
   "metadata": {},
   "source": [
    "## Method 3: Connectopic mapping of \"external\" connectivity profiles"
   ]
  },
  {
   "cell_type": "code",
   "execution_count": null,
   "id": "3cd223e9-c4b2-48dc-9707-8e7bc9a1f423",
   "metadata": {},
   "outputs": [],
   "source": [
    "class ExternalChaoticRNN:\n",
    "\n",
    "    def __init__(self, coordinates, params, device='cuda:0'):\n",
    "        self.device = device\n",
    "\n",
    "        self.coordinates = coordinates\n",
    "        N = self.coordinates.shape[0]\n",
    "        self.tau = torch.tensor(params['tau']).float().to(device)\n",
    "        self.g = torch.tensor(params['g']).float().to(device)\n",
    "        self.h = params['h']\n",
    "        self.dale = params['dale']\n",
    "\n",
    "        W = generate_connectivity_matrix(coordinates, h=self.h, dale=self.dale)\n",
    "        self.W = torch.tensor(W).float().to(device)\n",
    "\n",
    "        self.x_0 = torch.from_numpy(np.random.uniform(-1, 1, (N, 1))).float().to(device)\n",
    "        self.r_0 = self.phi(self.x_0)\n",
    "        self.X = [self.x_0]\n",
    "        self.R = [self.r_0]\n",
    "\n",
    "    def integrate(self, T, input_timeseries, input_matrix, input_strength=3):\n",
    "        for t in range(T):  # Euler integration scheme\n",
    "            r = self.R[-1]\n",
    "            x = self.X[-1]\n",
    "            dx = (1 / self.tau) * (-x + self.g * torch.matmul(self.W, r) + input_strength * torch.matmul(input_matrix, input_timeseries[:, t:t+1]))\n",
    "            self.X.append(x + dx)\n",
    "            self.R.append(self.phi(self.X[-1]))\n",
    "        return torch.concatenate(self.R, axis=1)\n",
    "\n",
    "    def phi(self, x):\n",
    "        return torch.tanh(x)\n"
   ]
  },
  {
   "cell_type": "code",
   "execution_count": null,
   "id": "3d6f1894-66a3-4837-ae21-f92b70002788",
   "metadata": {},
   "outputs": [],
   "source": [
    "params1 = {'N_neurons': 1500,\n",
    "          'h': 0.1,\n",
    "          'g': 3,\n",
    "          'tau': 3,\n",
    "          'dale': False\n",
    "          }\n",
    "\n",
    "params2 = {'N_neurons': 3000,\n",
    "          'h': 0.1,\n",
    "          'g': 0.5,\n",
    "          'tau': 3,\n",
    "          'dale': False\n",
    "          }\n",
    "\n",
    "ellipse1 = Geometry(vertices, eigenmodes)\n",
    "ellipse2 = Geometry(vertices, eigenmodes)"
   ]
  },
  {
   "cell_type": "code",
   "execution_count": null,
   "id": "e5341336-6a7f-4b32-a6bb-41a8480742b3",
   "metadata": {},
   "outputs": [],
   "source": [
    "mode_similarity_matrices_connectopic2 = []\n",
    "\n",
    "for _ in range(10):\n",
    "\n",
    "    matrices = []\n",
    "    \n",
    "    simulator1 = Simulator(ellipse1,\n",
    "                          ChaoticRNN,\n",
    "                          params1)\n",
    "    \n",
    "    for _ in tqdm(range(100)):\n",
    "        \n",
    "        simulator1.reinitialize_dynamics(new_coordinates=False)\n",
    "        simulator1.integrate(500, output=False)\n",
    "        timeseries1 = simulator1.timeseries\n",
    "        \n",
    "        simulator2 = Simulator(ellipse2,\n",
    "                          ExternalChaoticRNN,\n",
    "                          params2)\n",
    "        input_signals = torch.from_numpy(timeseries1).to(device).float()\n",
    "        input_weights = torch.from_numpy(np.random.normal(0, 1 / np.sqrt(params1['N_neurons']),\n",
    "                                                          (params2['N_neurons'], params1['N_neurons']))).to(device).float()\n",
    "        timeseries2 = Simulator.torch_to_numpy(simulator2.dynamics.integrate(500, input_signals, input_weights))\n",
    "        \n",
    "        correlations = correlate_timeseries(timeseries1, timeseries2)\n",
    "        C_sim = np.corrcoef(correlations)\n",
    "        C_sim[np.diag_indices(C_sim.shape[0])] = 0\n",
    "        matrices.append(C_sim)\n",
    "    \n",
    "    matrices = np.stack(matrices, axis=0)\n",
    "    C = np.mean(np.abs(matrices), axis=0)\n",
    "    mode_similarity_connectopic, _ = simulator1.compute_geometric_mapping(C, alpha=0.5)\n",
    "\n",
    "    mode_similarity_matrices_connectopic2.append(mode_similarity_connectopic)"
   ]
  },
  {
   "cell_type": "code",
   "execution_count": null,
   "id": "80490aab-48da-450b-ad17-16ad97e01fd1",
   "metadata": {},
   "outputs": [],
   "source": [
    "plt.imshow(np.mean(np.abs(mode_similarity_matrices_connectopic2), axis=0), cmap='Reds', vmin=0, vmax=1)"
   ]
  },
  {
   "cell_type": "code",
   "execution_count": null,
   "id": "236e7b8c-22ea-4bf8-975e-3efafe0d7c50",
   "metadata": {},
   "outputs": [],
   "source": [
    "np.save('../Results/supp_methods_similarity_connectopic2.npy', np.mean(np.abs(mode_similarity_matrices_connectopic2), axis=0))\n",
    "np.save('../Results/supp_methods_intersystem_correlations.npy', correlations)\n",
    "np.save('../Results/supp_methods_profile_similarity2.npy', C)"
   ]
  },
  {
   "cell_type": "markdown",
   "id": "6ec4489a-1e01-4b6e-a4a8-96ac98e8b3e5",
   "metadata": {},
   "source": [
    "# Loading data for figure"
   ]
  },
  {
   "cell_type": "code",
   "execution_count": null,
   "id": "8cb2b2eb-fccb-4815-a073-e16ec85f6d17",
   "metadata": {},
   "outputs": [],
   "source": [
    "mode_similarity_alpha0 = np.load('../Results/supp_methods_similarity_alpha0.npy')\n",
    "mode_similarity_alpha05 = np.load('../Results/supp_methods_similarity_alpha05.npy')\n",
    "mode_similarity_alpha1 = np.load('../Results/supp_methods_similarity_alpha1.npy')\n",
    "C1 = np.load('../Results/supp_methods_corr_firingrates.npy')\n",
    "\n",
    "mode_similarity_connectopic1 = np.load('../Results/supp_methods_similarity_connectopic1.npy')\n",
    "C2 = np.load('../Results/supp_methods_corr_firingrates_connectopic.npy')\n",
    "C_sim1 = np.load('../Results/supp_methods_profile_similarity.npy')\n",
    "\n",
    "mode_similarity_connectopic2 = np.load('../Results/supp_methods_similarity_connectopic2.npy')\n",
    "corr_intersystem = np.load('../Results/supp_methods_intersystem_correlations.npy')\n",
    "C_sim2 = np.load('../Results/supp_methods_profile_similarity2.npy')"
   ]
  },
  {
   "cell_type": "markdown",
   "id": "a58dad36-83e4-4264-9331-91b0c9e16ec9",
   "metadata": {},
   "source": [
    "# Figure layout"
   ]
  },
  {
   "cell_type": "code",
   "execution_count": null,
   "id": "eb32c798-b46f-489a-8288-3b1a5fd4b904",
   "metadata": {},
   "outputs": [],
   "source": [
    "fig = PaperFigure(figsize=(7, 9), dpi=600)\n",
    "\n",
    "fig.set_tick_length(1)\n",
    "fig.set_font_size(6)\n",
    "fig.add_background()\n",
    "\n",
    "# Adding panels -------------------------------\n",
    "\n",
    "w = 1\n",
    "pad = (5 - 4 * w) / 3\n",
    "fig.add_axes('corr1', (2 + 0 * (w + pad), 0), w, w)\n",
    "fig.add_axes('modesim1', (2 + 1 * (w + pad), 0), w, w)\n",
    "fig.add_axes('modesim2', (2 + 2 * (w + pad), 0), w, w)\n",
    "fig.add_axes('modesim3', (2 + 3 * (w + pad), 0), w, w)\n",
    "\n",
    "fig.add_axes('corr2', (2 + 0 * (w + pad), 1.5), w, w)\n",
    "fig.add_axes('corrsim1', (2 + 1 * (w + pad), 1.5), w, w)\n",
    "fig.add_axes('modesim4', (2 + 2 * (w + pad), 1.5), w, w)\n",
    "\n",
    "fig.add_axes('corrinter', (2 + 0 * (w + pad), 3), 2 * w, w)\n",
    "fig.add_axes('corrsim2', (2 + 2 * (w + pad), 3), w, w)\n",
    "fig.add_axes('modesim5', (2 + 3 * (w + pad), 3), w, w)\n",
    "\n",
    "fig.set_line_thickness(0.5)\n",
    "\n",
    "# Content -------------------------------------\n",
    "\n",
    "ax = fig.axes['corr1']\n",
    "ax.imshow(C1, cmap='Reds', vmin=np.percentile(C, 5), vmax=np.percentile(C, 95))\n",
    "ax.set_xticks([])\n",
    "ax.set_yticks([])\n",
    "\n",
    "print(np.percentile(C, 5), np.percentile(C, 95))\n",
    "\n",
    "ax = fig.axes['modesim1']\n",
    "ax.imshow(mode_similarity_alpha0, cmap='Reds', vmin=0, vmax=1)\n",
    "ax.set_xticks([])\n",
    "ax.set_yticks([])\n",
    "\n",
    "ax = fig.axes['modesim2']\n",
    "ax.imshow(mode_similarity_alpha05, cmap='Reds', vmin=0, vmax=1)\n",
    "ax.set_xticks([])\n",
    "ax.set_yticks([])\n",
    "\n",
    "ax = fig.axes['modesim3']\n",
    "ax.imshow(mode_similarity_alpha1, cmap='Reds', vmin=0, vmax=1)\n",
    "ax.set_xticks([])\n",
    "ax.set_yticks([])\n",
    "\n",
    "ax = fig.axes['corr2']\n",
    "ax.imshow(C1, cmap='Reds', vmin=np.percentile(C1, 5), vmax=np.percentile(C1, 95))\n",
    "ax.set_xticks([])\n",
    "ax.set_yticks([])\n",
    "\n",
    "ax = fig.axes['corrsim1']\n",
    "ax.imshow(C_sim1, cmap='Reds', vmin=np.percentile(C_sim1, 10), vmax=np.percentile(C_sim1, 95))\n",
    "ax.set_xticks([])\n",
    "ax.set_yticks([])\n",
    "\n",
    "print(np.percentile(C_sim1, 10), np.percentile(C_sim1, 95))\n",
    "\n",
    "ax = fig.axes['modesim4']\n",
    "ax.imshow(mode_similarity_connectopic1, cmap='Reds', vmin=0, vmax=1)\n",
    "ax.set_xticks([])\n",
    "ax.set_yticks([])\n",
    "\n",
    "ax = fig.axes['corrinter']\n",
    "ax.imshow(corr_intersystem, vmin=-0.1, vmax=0.1, cmap='coolwarm')\n",
    "ax.set_xticks([])\n",
    "ax.set_yticks([])\n",
    "\n",
    "ax = fig.axes['corrsim2']\n",
    "ax.imshow(C_sim2, cmap='Reds', vmin=np.percentile(C_sim2, 10), vmax=np.percentile(C_sim2, 95))\n",
    "ax.set_xticks([])\n",
    "ax.set_yticks([])\n",
    "\n",
    "print(np.percentile(C_sim2, 10), np.percentile(C_sim2, 95))\n",
    "\n",
    "ax = fig.axes['modesim5']\n",
    "ax.imshow(mode_similarity_connectopic2, cmap='Reds', vmin=0, vmax=1)\n",
    "ax.set_xticks([])\n",
    "ax.set_yticks([])\n",
    "\n",
    "# Displaying ----------------------------------\n",
    "\n",
    "fig.save('../Figures/supp_gradient_methods_incomplete.svg')\n",
    "\n",
    "fig.show()"
   ]
  }
 ],
 "metadata": {
  "kernelspec": {
   "display_name": "Python 3 (ipykernel)",
   "language": "python",
   "name": "python3"
  },
  "language_info": {
   "codemirror_mode": {
    "name": "ipython",
    "version": 3
   },
   "file_extension": ".py",
   "mimetype": "text/x-python",
   "name": "python",
   "nbconvert_exporter": "python",
   "pygments_lexer": "ipython3",
   "version": "3.9.19"
  }
 },
 "nbformat": 4,
 "nbformat_minor": 5
}
