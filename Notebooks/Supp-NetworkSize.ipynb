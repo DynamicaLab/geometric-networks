{
 "cells": [
  {
   "cell_type": "markdown",
   "id": "bdd4d237-62fe-4be9-80b1-464dc577626e",
   "metadata": {},
   "source": [
    "DONE"
   ]
  },
  {
   "cell_type": "code",
   "execution_count": null,
   "id": "f10cda73-d0da-4542-8129-4111ffe15c08",
   "metadata": {},
   "outputs": [],
   "source": [
    "import sys\n",
    "sys.path.append(\"..\")\n",
    "\n",
    "from main import *\n",
    "\n",
    "from scipy.stats import pearsonr, spearmanr\n",
    "from tqdm import tqdm\n",
    "import sys\n",
    "import matplotlib.pyplot as plt\n",
    "from numba import njit\n",
    "from scipy.stats import zscore\n",
    "\n",
    "plt.rcParams['font.size'] = 18\n",
    "\n",
    "if torch.cuda.is_available():  \n",
    "    device = \"cuda:0\" \n",
    "else:  \n",
    "    device = \"cpu\" \n",
    "    \n",
    "print(device)"
   ]
  },
  {
   "cell_type": "markdown",
   "id": "c697927b-ed82-4919-9066-adf7512414f4",
   "metadata": {},
   "source": [
    "# Supplementary - Effect of network size"
   ]
  },
  {
   "cell_type": "markdown",
   "id": "c8936aaa-997b-4a32-bd14-1f3b3d0f3792",
   "metadata": {},
   "source": [
    "Contains analyses related to Supplementary Figure S4"
   ]
  },
  {
   "cell_type": "code",
   "execution_count": null,
   "id": "87d3de79-72a0-40eb-b8ea-2b529a9182f5",
   "metadata": {},
   "outputs": [],
   "source": [
    "vertices = np.load('../Files/vertices_ellipse.npy').astype('float')\n",
    "eigenmodes = np.load('../Files/eigenmodes_ellipse.npy')\n",
    "\n",
    "ellipse = Geometry(vertices, eigenmodes)"
   ]
  },
  {
   "cell_type": "code",
   "execution_count": null,
   "id": "5b1d0d38-8c74-410e-a57d-adb0ecce0c9c",
   "metadata": {},
   "outputs": [],
   "source": [
    "params = {'N_neurons': 10000,\n",
    "          'h': 0.1,\n",
    "          'g': 3,\n",
    "          'tau': 3,\n",
    "          'dale': False\n",
    "          }"
   ]
  },
  {
   "cell_type": "markdown",
   "id": "cf50d646-165c-4f4c-96ad-a77ae281f2e5",
   "metadata": {},
   "source": [
    "#### Averaging eigenmode-gradient correlations for varying network size $N$"
   ]
  },
  {
   "cell_type": "code",
   "execution_count": null,
   "id": "d94bf760-ebd1-451c-8a8a-741ebae35a3f",
   "metadata": {},
   "outputs": [],
   "source": [
    "N_neurons = [10000, 5000, 2500, 1000]\n",
    "N_runs = 10\n",
    "\n",
    "mode_similarity_matrices = []\n",
    "\n",
    "for N in N_neurons:\n",
    "\n",
    "    params['N_neurons'] = N\n",
    "    mode_similarity_matrices_ = []\n",
    "\n",
    "    for _ in range(N_runs):\n",
    "        simulator = Simulator(ellipse, ChaoticRNN, params)\n",
    "        C = simulator.compute_average_correlations(n_iters=100, T=500)\n",
    "        mode_similarity, _ = simulator.compute_geometric_mapping(C, N_modes=50)\n",
    "        mode_similarity_matrices_.append(mode_similarity)\n",
    "\n",
    "    mode_similarity_matrices.append(mode_similarity_matrices_)"
   ]
  },
  {
   "cell_type": "code",
   "execution_count": null,
   "id": "40d01362-56b3-44c3-8da5-f1877997b53b",
   "metadata": {},
   "outputs": [],
   "source": [
    "save = False\n",
    "if save:\n",
    "    np.save('../Results/supp_network_size_matrices.npy', mode_similarity_matrices)"
   ]
  },
  {
   "cell_type": "markdown",
   "id": "0e9530c4-9a77-492b-bdb9-bbdfaf372e59",
   "metadata": {},
   "source": [
    "#### Analyzing results"
   ]
  },
  {
   "cell_type": "code",
   "execution_count": null,
   "id": "618cd3f2-11f1-428a-b770-c6bf4255ae22",
   "metadata": {},
   "outputs": [],
   "source": [
    "mode_similarity_matrices = np.load('../Results/supp_network_size_matrices.npy')"
   ]
  },
  {
   "cell_type": "code",
   "execution_count": null,
   "id": "cbcc00b0-dc28-4742-9cac-7f1d5a6cfba2",
   "metadata": {},
   "outputs": [],
   "source": [
    "scores = np.zeros((mode_similarity_matrices.shape[0], mode_similarity_matrices.shape[1]))\n",
    "\n",
    "for i in range(scores.shape[0]):\n",
    "    for j in range(scores.shape[1]):\n",
    "        scores[i, j] = np.mean(np.abs(np.diag(mode_similarity_matrices[i, j])))"
   ]
  },
  {
   "cell_type": "markdown",
   "id": "c81baf52-0f4a-4724-86ac-bb66af0285e5",
   "metadata": {},
   "source": [
    "Plotting average eigenmode-gradient correlations for multiple simulations and varying $N$"
   ]
  },
  {
   "cell_type": "code",
   "execution_count": null,
   "id": "0599f173-97d7-4504-b2d2-eddf63eac2e3",
   "metadata": {},
   "outputs": [],
   "source": [
    "for i in range(scores.shape[0]):\n",
    "    plt.scatter([4 - i] * scores.shape[1], scores[i], color='black')"
   ]
  },
  {
   "cell_type": "code",
   "execution_count": null,
   "id": "95c902d7-8fb2-44b4-8c21-67bf3d824a37",
   "metadata": {},
   "outputs": [],
   "source": [
    "avg_matrices = np.mean(np.abs(mode_similarity_matrices), axis=1)"
   ]
  },
  {
   "cell_type": "code",
   "execution_count": null,
   "id": "34fe34bf-c093-434c-9bad-c1e122417681",
   "metadata": {},
   "outputs": [],
   "source": [
    "for m in avg_matrices:\n",
    "\n",
    "    plt.imshow(m, cmap='Reds', vmin=0, vmax=1.0)\n",
    "    plt.show()"
   ]
  },
  {
   "cell_type": "markdown",
   "id": "1e178124-3594-4cc8-951c-b3bb9911d027",
   "metadata": {},
   "source": [
    "# Saving images of ellipses"
   ]
  },
  {
   "cell_type": "markdown",
   "id": "1a0ffd0c-36d5-469d-b569-deb0eeba3c87",
   "metadata": {},
   "source": [
    "Rendering .png images of 3D scatter plots of the ellipsoid for the figure later."
   ]
  },
  {
   "cell_type": "code",
   "execution_count": null,
   "id": "747a391c-db3f-4900-8ba4-491318f85dda",
   "metadata": {},
   "outputs": [],
   "source": [
    "coords_list, gradients_list = [], []"
   ]
  },
  {
   "cell_type": "code",
   "execution_count": null,
   "id": "3ea4639e-2dd3-4389-8c7a-d6c295bdaef7",
   "metadata": {},
   "outputs": [],
   "source": [
    "params = {'N_neurons': 2500,\n",
    "          'h': 0.1,\n",
    "          'g': 3,\n",
    "          'tau': 3,\n",
    "          'dale': False\n",
    "          }"
   ]
  },
  {
   "cell_type": "markdown",
   "id": "29cdc1cb-de04-4ce4-a9f2-f495f4a85674",
   "metadata": {},
   "source": [
    "#### 1000 neurons"
   ]
  },
  {
   "cell_type": "code",
   "execution_count": null,
   "id": "7db5d200-7fec-4f74-a62d-cc4de269a125",
   "metadata": {},
   "outputs": [],
   "source": [
    "params['N_neurons'] = 1000\n",
    "\n",
    "simulator = Simulator(ellipse, ChaoticRNN, params)\n",
    "C = simulator.compute_average_correlations(n_iters=100, T=500)\n",
    "_, _, gradients = simulator.compute_geometric_mapping(C, N_modes=50, return_gradients=True)"
   ]
  },
  {
   "cell_type": "code",
   "execution_count": null,
   "id": "9ab87e69-5aaf-4ae2-b2c1-dd5961126584",
   "metadata": {},
   "outputs": [],
   "source": [
    "coords_list.append(np.copy(simulator.coordinates))\n",
    "gradients_list.append(np.copy(gradients[0]))"
   ]
  },
  {
   "cell_type": "markdown",
   "id": "77c3c0db-cd2d-4684-a698-1cef30f1306a",
   "metadata": {},
   "source": [
    "#### 2500 neurons"
   ]
  },
  {
   "cell_type": "code",
   "execution_count": null,
   "id": "e98211b5-e93f-4883-a73f-25b1b34678b0",
   "metadata": {},
   "outputs": [],
   "source": [
    "params['N_neurons'] = 2500\n",
    "\n",
    "simulator = Simulator(ellipse, ChaoticRNN, params)\n",
    "C = simulator.compute_average_correlations(n_iters=100, T=500)\n",
    "_, _, gradients = simulator.compute_geometric_mapping(C, N_modes=50, return_gradients=True)"
   ]
  },
  {
   "cell_type": "code",
   "execution_count": null,
   "id": "a22818f4-e703-4123-a373-dc4c8ab3f79f",
   "metadata": {},
   "outputs": [],
   "source": [
    "coords_list.append(np.copy(simulator.coordinates))\n",
    "gradients_list.append(np.copy(gradients[0]))"
   ]
  },
  {
   "cell_type": "markdown",
   "id": "49f3471d-98e1-4664-a508-aba8b37d047c",
   "metadata": {},
   "source": [
    "#### 5000 neurons"
   ]
  },
  {
   "cell_type": "code",
   "execution_count": null,
   "id": "ebcb57c9-4a41-41ba-bf27-2a712cb93293",
   "metadata": {},
   "outputs": [],
   "source": [
    "params['N_neurons'] = 5000\n",
    "\n",
    "simulator = Simulator(ellipse, ChaoticRNN, params)\n",
    "C = simulator.compute_average_correlations(n_iters=100, T=500)\n",
    "_, _, gradients = simulator.compute_geometric_mapping(C, N_modes=50, return_gradients=True)"
   ]
  },
  {
   "cell_type": "code",
   "execution_count": null,
   "id": "ae87e29b-1f84-4a65-ac9e-218a0f4864d6",
   "metadata": {},
   "outputs": [],
   "source": [
    "coords_list.append(np.copy(simulator.coordinates))\n",
    "gradients_list.append(np.copy(gradients[0]))"
   ]
  },
  {
   "cell_type": "markdown",
   "id": "4054d78f-a11b-493b-a199-9811ba38537a",
   "metadata": {},
   "source": [
    "#### 10000 neurons"
   ]
  },
  {
   "cell_type": "code",
   "execution_count": null,
   "id": "5e99f260-f691-47f7-8830-d6286a7d5d84",
   "metadata": {},
   "outputs": [],
   "source": [
    "params['N_neurons'] = 10000\n",
    "\n",
    "simulator = Simulator(ellipse, ChaoticRNN, params)\n",
    "C = simulator.compute_average_correlations(n_iters=100, T=500)\n",
    "_, _, gradients = simulator.compute_geometric_mapping(C, N_modes=50, return_gradients=True)"
   ]
  },
  {
   "cell_type": "code",
   "execution_count": null,
   "id": "b0970ac9-9e9c-4c01-9d97-e052de20b850",
   "metadata": {},
   "outputs": [],
   "source": [
    "coords_list.append(np.copy(simulator.coordinates))\n",
    "gradients_list.append(np.copy(gradients[0]))"
   ]
  },
  {
   "cell_type": "markdown",
   "id": "d8bf9854-a9c5-49ef-9218-2e3da1cf551b",
   "metadata": {},
   "source": [
    "#### Rendering figures"
   ]
  },
  {
   "cell_type": "code",
   "execution_count": null,
   "id": "94b2bc38-e416-4aa7-b388-b014805cf829",
   "metadata": {},
   "outputs": [],
   "source": [
    "figures_list = []\n",
    "signs = [1, 1, -1, -1]\n",
    "\n",
    "for i in range(len(coords_list)):\n",
    "\n",
    "    coords = coords_list[i]\n",
    "    gradient = gradients_list[i]\n",
    "\n",
    "    fig, ax = plt.subplots(subplot_kw={\"projection\": \"3d\"}, figsize=(5, 5), dpi=300)\n",
    "    ax.scatter(coords[:, 0] + 0.5, coords[:, 1] + 0.5, coords[:, 2] + 0.5, c=signs[i] * gradient, alpha=0.5, cmap='coolwarm', edgecolor='None', s=25)\n",
    "    ax.set_xlim([0, 1])\n",
    "    ax.set_ylim([0, 1])\n",
    "    ax.set_zlim([0, 1])\n",
    "    ax.set_axis_off()\n",
    "    plt.tight_layout(pad=0)\n",
    "    figures_list.append(figure_to_array(fig))\n",
    "    plt.show()"
   ]
  },
  {
   "cell_type": "code",
   "execution_count": null,
   "id": "05069a36-ffb7-449d-b388-bfb77ae84145",
   "metadata": {},
   "outputs": [],
   "source": [
    "np.save('Results/supp_network_size_figures_ellipse.npy', figures_list)"
   ]
  },
  {
   "cell_type": "markdown",
   "id": "4f02f0d2-7eed-4a70-856d-a3cda3d56e9e",
   "metadata": {},
   "source": [
    "# Rendering supplementary figure"
   ]
  },
  {
   "cell_type": "code",
   "execution_count": null,
   "id": "3d7ec4aa-1676-43e9-ab00-14e17a3ea5e5",
   "metadata": {},
   "outputs": [],
   "source": [
    "from visualization import *\n",
    "\n",
    "def zoom_crop(array, factor=2, x_offset=0, y_offset=0):\n",
    "    if factor != 1:\n",
    "        L = array.shape[0]\n",
    "        delta = int((1 - (1 / factor)) * L / 2)\n",
    "        return array[delta+y_offset:-delta+y_offset, delta+x_offset:-delta+x_offset, :]\n",
    "    else:\n",
    "        return array"
   ]
  },
  {
   "cell_type": "code",
   "execution_count": null,
   "id": "e8f74752-8c00-4890-8ab2-c9f6996a95ef",
   "metadata": {},
   "outputs": [],
   "source": [
    "mode_similarity_matrices = np.load('../Results/supp_network_size_matrices.npy')\n",
    "\n",
    "matrices = []\n",
    "for i in range(mode_similarity_matrices.shape[0]):\n",
    "    matrices.append(np.mean(np.abs(mode_similarity_matrices[i]), axis=0))\n",
    "\n",
    "scores = np.zeros((mode_similarity_matrices.shape[0], mode_similarity_matrices.shape[1]))\n",
    "for i in range(scores.shape[0]):\n",
    "    for j in range(scores.shape[1]):\n",
    "        scores[i, j] = np.mean(np.abs(np.diag(mode_similarity_matrices[i, j])))\n",
    "scores = np.flip(scores, axis=0)  \n",
    "\n",
    "figures = np.load('../Results/supp_network_size_figures_ellipse.npy')"
   ]
  },
  {
   "cell_type": "code",
   "execution_count": null,
   "id": "73d971e7-10e5-4c81-8ef3-2e42831ee144",
   "metadata": {},
   "outputs": [],
   "source": [
    "fig = PaperFigure(figsize=(7, 3))\n",
    "\n",
    "fig.set_tick_length(2)\n",
    "fig.set_font_size(6)\n",
    "fig.add_background()\n",
    "\n",
    "w = 0\n",
    "\n",
    "# Setting up axes ----------------------------------------------------------------------------------\n",
    "\n",
    "fig.add_axes('boxplot', (0, 0), 1, 1.75)\n",
    "\n",
    "w = 1.1\n",
    "x = 1.5\n",
    "pad = ((7 - x) - 4 * w) / 3\n",
    "\n",
    "for i in range(4):\n",
    "    fig.add_axes(f'matrix{i}', (x + i * (w + pad), 0), w, w)\n",
    "\n",
    "for i in range(4):\n",
    "    fig.add_axes(f'ellipse{i}', (x + i * (w + pad), w + pad/2), w, (4/3) * w)\n",
    "\n",
    "fig.set_line_thickness(0.5)\n",
    "\n",
    "# Filling axes -------------------------------------------------------------------------------------\n",
    "\n",
    "for i in range(4):\n",
    "    ax = fig.axes[f'matrix{i}']\n",
    "    ax.imshow(matrices[3-i], cmap='Reds', vmin=0, vmax=1)\n",
    "    ax.set_xticks([])\n",
    "    ax.set_yticks([])\n",
    "    \n",
    "center = (760, 735)\n",
    "dx, dy = 300, 400\n",
    "for i in range(4):\n",
    "    ax = fig.axes[f'ellipse{i}']\n",
    "    ax.imshow(figures[i][center[1]-dy:center[1]+dy, center[0]-dx:center[0]+dx])\n",
    "    ax.axis('off')\n",
    "\n",
    "colors = color_gradient([0, 0, 0], plt.get_cmap('Reds')(200)[:3], 4)\n",
    "ax = fig.axes['boxplot']\n",
    "for i in range(4):\n",
    "    ax.scatter(np.random.uniform(i-0.1, i+0.1, len(scores[i])), scores[i], color=colors[i], edgecolor='None', s=5, alpha=0.5)\n",
    "    bp = ax.boxplot(scores[i], positions=[i], patch_artist=True, widths=0.4, whis=[5, 95])\n",
    "    set_boxplot_color(bp, colors[i], marker='None', linewidth=0.75)\n",
    "ax.set_xlim([-0.5, 4])\n",
    "ax.set_ylim([0.4, 0.7])\n",
    "ax.set_xticks([])\n",
    "ax.spines[['top', 'right']].set_visible(False)\n",
    "\n",
    "fig.show()"
   ]
  },
  {
   "cell_type": "code",
   "execution_count": null,
   "id": "d1d8417c-695a-4d38-9fcc-09b2e36a6703",
   "metadata": {},
   "outputs": [],
   "source": [
    "fig.save('../Figures/supp_network_size_incomplete.svg')"
   ]
  },
  {
   "cell_type": "markdown",
   "id": "7846ba47-4080-434b-a691-bea8a434b9bd",
   "metadata": {},
   "source": [
    "#### Statistics"
   ]
  },
  {
   "cell_type": "code",
   "execution_count": null,
   "id": "90f6d191-c99e-468f-8dcf-36a5e4410fe5",
   "metadata": {},
   "outputs": [],
   "source": [
    "scores_list = []\n",
    "for i in range(scores.shape[0]):\n",
    "    scores_list.append(scores[i])"
   ]
  },
  {
   "cell_type": "code",
   "execution_count": null,
   "id": "867cc981-793a-45de-b32b-c6b69f18a8a0",
   "metadata": {},
   "outputs": [],
   "source": [
    "groups_ANOVA_Tukey(scores_list)"
   ]
  }
 ],
 "metadata": {
  "kernelspec": {
   "display_name": "Python 3 (ipykernel)",
   "language": "python",
   "name": "python3"
  },
  "language_info": {
   "codemirror_mode": {
    "name": "ipython",
    "version": 3
   },
   "file_extension": ".py",
   "mimetype": "text/x-python",
   "name": "python",
   "nbconvert_exporter": "python",
   "pygments_lexer": "ipython3",
   "version": "3.9.19"
  }
 },
 "nbformat": 4,
 "nbformat_minor": 5
}
